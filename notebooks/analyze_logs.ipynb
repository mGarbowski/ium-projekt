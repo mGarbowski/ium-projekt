{
 "cells": [
  {
   "metadata": {},
   "cell_type": "markdown",
   "source": [
    "# Analiza eksperymentu A/B na podstawie logów\n",
    "\n",
    "* Logi z serwisu zawierają dla każdej predykcji\n",
    "  * id użytkownika\n",
    "  * użyty model\n",
    "  * id listingu\n",
    "  * wartość predykcji\n",
    "  * parametry wywołania\n",
    "* Na podstawie id oferty wyszukujemy rzeczywistą ocenę w zbiorze testowym\n",
    "\n",
    "## Opis eksperymentu\n",
    "* Na podstawie zbioru testowego wysyłamy zapytania do serwisu predykcyjnego\n",
    "* Zbieramy logi z serwisu\n",
    "* Na podstawie błędu kwadratowego predykcji porównujemy jakość modeli"
   ],
   "id": "30aff5f3778b763c"
  },
  {
   "metadata": {
    "collapsed": true,
    "ExecuteTime": {
     "end_time": "2025-05-20T12:39:18.046254Z",
     "start_time": "2025-05-20T12:39:18.041816Z"
    }
   },
   "cell_type": "code",
   "source": [
    "import json\n",
    "import re\n",
    "\n",
    "import matplotlib.pyplot as plt\n",
    "import pandas as pd\n",
    "from scipy.stats import ttest_rel\n",
    "\n",
    "TEST_SET = \"../data/processed/test_set.csv\"\n",
    "LOG_FILE = \"../data/service.log\"\n",
    "BASE_MODEL_NAME = \"RandomBaseModel\"\n",
    "NEW_MODEL_NAME = \"LinearRegressionModel\""
   ],
   "id": "initial_id",
   "outputs": [],
   "execution_count": 1
  },
  {
   "metadata": {},
   "cell_type": "markdown",
   "source": "## Przetwarzanie logów",
   "id": "64eff83a1282febb"
  },
  {
   "metadata": {
    "ExecuteTime": {
     "end_time": "2025-05-20T12:39:18.529122Z",
     "start_time": "2025-05-20T12:39:18.179566Z"
    }
   },
   "cell_type": "code",
   "source": [
    "regex = re.compile(\n",
    "    r\"user (?P<user_id>[a-f0-9\\-]+), given listing (?P<listing_id>\\d+), using model (?P<model_name>\\w+): (?P<prediction>[0-9.]+)\")\n",
    "regex = re.compile(\n",
    "    r\"Predicted (?P<prediction>[0-9.]+) for user (?P<user_id>[a-f0-9\\-]+), using model (?P<model_name>\\w+), given params: (?P<params>\\{.*\\})\")\n",
    "\n",
    "\n",
    "def parse_log_line(log_line: str):\n",
    "    log_line = log_line.strip()\n",
    "    parsed = re.search(regex, log_line).groupdict()\n",
    "    params_dict = json.loads(parsed[\"params\"])\n",
    "    parsed.pop(\"params\")\n",
    "    for key, val in params_dict.items():\n",
    "        parsed[key] = val\n",
    "\n",
    "    return parsed\n",
    "\n",
    "\n",
    "with open(LOG_FILE) as f:\n",
    "    logs = pd.DataFrame([\n",
    "        parse_log_line(line)\n",
    "        for line in f\n",
    "        if \"PredictionService\" in line\n",
    "    ])"
   ],
   "id": "7a38b2fbe59150eb",
   "outputs": [],
   "execution_count": 2
  },
  {
   "metadata": {
    "ExecuteTime": {
     "end_time": "2025-05-20T12:39:18.566669Z",
     "start_time": "2025-05-20T12:39:18.547109Z"
    }
   },
   "cell_type": "code",
   "source": [
    "logs = logs.loc[:, [\"prediction\", \"model_name\", \"id\"]]\n",
    "logs.loc[:, \"id\"] = logs[\"id\"].astype(int)\n",
    "logs[\"prediction\"] = pd.to_numeric(logs[\"prediction\"])"
   ],
   "id": "a7d98992a876a4b8",
   "outputs": [],
   "execution_count": 3
  },
  {
   "metadata": {
    "ExecuteTime": {
     "end_time": "2025-05-20T12:39:18.685438Z",
     "start_time": "2025-05-20T12:39:18.594498Z"
    }
   },
   "cell_type": "code",
   "source": [
    "test_set = pd.read_csv(TEST_SET)\n",
    "test_set = test_set[[\"id\", \"avg_rating\"]]\n",
    "test_set.rename(columns={\"avg_rating\": \"real_rating\"}, inplace=True)"
   ],
   "id": "8abf9d0a9b059df7",
   "outputs": [],
   "execution_count": 4
  },
  {
   "metadata": {
    "ExecuteTime": {
     "end_time": "2025-05-20T12:39:18.707170Z",
     "start_time": "2025-05-20T12:39:18.699024Z"
    }
   },
   "cell_type": "code",
   "source": [
    "logs = logs.merge(test_set, on=\"id\", how=\"left\")\n",
    "logs[\"squared_error\"] = ((logs[\"prediction\"] - logs[\"real_rating\"]) ** 2)"
   ],
   "id": "7c2161310968512e",
   "outputs": [],
   "execution_count": 5
  },
  {
   "metadata": {
    "ExecuteTime": {
     "end_time": "2025-05-20T12:39:18.765325Z",
     "start_time": "2025-05-20T12:39:18.753338Z"
    }
   },
   "cell_type": "code",
   "source": "logs",
   "id": "71be7be1e7e3ee0a",
   "outputs": [
    {
     "data": {
      "text/plain": [
       "      prediction             model_name                   id  real_rating  \\\n",
       "0       4.965645        RandomBaseModel  1047164111839138424     4.880000   \n",
       "1       4.926718        RandomBaseModel             24793153     4.785714   \n",
       "2       4.422799        RandomBaseModel              9768263     4.900000   \n",
       "3       4.307121        RandomBaseModel             28806732     4.657143   \n",
       "4       4.958246        RandomBaseModel  1111366155764122467     5.000000   \n",
       "...          ...                    ...                  ...          ...   \n",
       "6441    4.879663  LinearRegressionModel             21792976     4.858571   \n",
       "6442    4.842772  LinearRegressionModel   801274651309945760     4.845714   \n",
       "6443    4.769043  LinearRegressionModel             53988226     4.457143   \n",
       "6444    4.853051  LinearRegressionModel   826746525558682800     5.000000   \n",
       "6445    4.835117  LinearRegressionModel             16487175     4.778571   \n",
       "\n",
       "      squared_error  \n",
       "0          0.007335  \n",
       "1          0.019882  \n",
       "2          0.227721  \n",
       "3          0.122515  \n",
       "4          0.001743  \n",
       "...             ...  \n",
       "6441       0.000445  \n",
       "6442       0.000009  \n",
       "6443       0.097282  \n",
       "6444       0.021594  \n",
       "6445       0.003197  \n",
       "\n",
       "[6446 rows x 5 columns]"
      ],
      "text/html": [
       "<div>\n",
       "<style scoped>\n",
       "    .dataframe tbody tr th:only-of-type {\n",
       "        vertical-align: middle;\n",
       "    }\n",
       "\n",
       "    .dataframe tbody tr th {\n",
       "        vertical-align: top;\n",
       "    }\n",
       "\n",
       "    .dataframe thead th {\n",
       "        text-align: right;\n",
       "    }\n",
       "</style>\n",
       "<table border=\"1\" class=\"dataframe\">\n",
       "  <thead>\n",
       "    <tr style=\"text-align: right;\">\n",
       "      <th></th>\n",
       "      <th>prediction</th>\n",
       "      <th>model_name</th>\n",
       "      <th>id</th>\n",
       "      <th>real_rating</th>\n",
       "      <th>squared_error</th>\n",
       "    </tr>\n",
       "  </thead>\n",
       "  <tbody>\n",
       "    <tr>\n",
       "      <th>0</th>\n",
       "      <td>4.965645</td>\n",
       "      <td>RandomBaseModel</td>\n",
       "      <td>1047164111839138424</td>\n",
       "      <td>4.880000</td>\n",
       "      <td>0.007335</td>\n",
       "    </tr>\n",
       "    <tr>\n",
       "      <th>1</th>\n",
       "      <td>4.926718</td>\n",
       "      <td>RandomBaseModel</td>\n",
       "      <td>24793153</td>\n",
       "      <td>4.785714</td>\n",
       "      <td>0.019882</td>\n",
       "    </tr>\n",
       "    <tr>\n",
       "      <th>2</th>\n",
       "      <td>4.422799</td>\n",
       "      <td>RandomBaseModel</td>\n",
       "      <td>9768263</td>\n",
       "      <td>4.900000</td>\n",
       "      <td>0.227721</td>\n",
       "    </tr>\n",
       "    <tr>\n",
       "      <th>3</th>\n",
       "      <td>4.307121</td>\n",
       "      <td>RandomBaseModel</td>\n",
       "      <td>28806732</td>\n",
       "      <td>4.657143</td>\n",
       "      <td>0.122515</td>\n",
       "    </tr>\n",
       "    <tr>\n",
       "      <th>4</th>\n",
       "      <td>4.958246</td>\n",
       "      <td>RandomBaseModel</td>\n",
       "      <td>1111366155764122467</td>\n",
       "      <td>5.000000</td>\n",
       "      <td>0.001743</td>\n",
       "    </tr>\n",
       "    <tr>\n",
       "      <th>...</th>\n",
       "      <td>...</td>\n",
       "      <td>...</td>\n",
       "      <td>...</td>\n",
       "      <td>...</td>\n",
       "      <td>...</td>\n",
       "    </tr>\n",
       "    <tr>\n",
       "      <th>6441</th>\n",
       "      <td>4.879663</td>\n",
       "      <td>LinearRegressionModel</td>\n",
       "      <td>21792976</td>\n",
       "      <td>4.858571</td>\n",
       "      <td>0.000445</td>\n",
       "    </tr>\n",
       "    <tr>\n",
       "      <th>6442</th>\n",
       "      <td>4.842772</td>\n",
       "      <td>LinearRegressionModel</td>\n",
       "      <td>801274651309945760</td>\n",
       "      <td>4.845714</td>\n",
       "      <td>0.000009</td>\n",
       "    </tr>\n",
       "    <tr>\n",
       "      <th>6443</th>\n",
       "      <td>4.769043</td>\n",
       "      <td>LinearRegressionModel</td>\n",
       "      <td>53988226</td>\n",
       "      <td>4.457143</td>\n",
       "      <td>0.097282</td>\n",
       "    </tr>\n",
       "    <tr>\n",
       "      <th>6444</th>\n",
       "      <td>4.853051</td>\n",
       "      <td>LinearRegressionModel</td>\n",
       "      <td>826746525558682800</td>\n",
       "      <td>5.000000</td>\n",
       "      <td>0.021594</td>\n",
       "    </tr>\n",
       "    <tr>\n",
       "      <th>6445</th>\n",
       "      <td>4.835117</td>\n",
       "      <td>LinearRegressionModel</td>\n",
       "      <td>16487175</td>\n",
       "      <td>4.778571</td>\n",
       "      <td>0.003197</td>\n",
       "    </tr>\n",
       "  </tbody>\n",
       "</table>\n",
       "<p>6446 rows × 5 columns</p>\n",
       "</div>"
      ]
     },
     "execution_count": 6,
     "metadata": {},
     "output_type": "execute_result"
    }
   ],
   "execution_count": 6
  },
  {
   "metadata": {
    "ExecuteTime": {
     "end_time": "2025-05-20T12:39:18.848944Z",
     "start_time": "2025-05-20T12:39:18.843803Z"
    }
   },
   "cell_type": "code",
   "source": [
    "logs_a = logs[logs[\"model_name\"] == NEW_MODEL_NAME]\n",
    "logs_b = logs[logs[\"model_name\"] == BASE_MODEL_NAME]"
   ],
   "id": "6e78a1539d6b9706",
   "outputs": [],
   "execution_count": 7
  },
  {
   "metadata": {},
   "cell_type": "markdown",
   "source": "## Wizualizacja wyników",
   "id": "ed195001b2123c8c"
  },
  {
   "metadata": {
    "ExecuteTime": {
     "end_time": "2025-05-20T12:39:19.113849Z",
     "start_time": "2025-05-20T12:39:18.922784Z"
    }
   },
   "cell_type": "code",
   "source": [
    "plt.bar(x=[\"Nowy model\", \"Model bazowy\"], height=[len(logs_a), len(logs_b)])\n",
    "plt.title(\"Liczba predykcji\")\n",
    "plt.show()"
   ],
   "id": "99dd2ce923f08323",
   "outputs": [
    {
     "data": {
      "text/plain": [
       "<Figure size 640x480 with 1 Axes>"
      ],
      "image/png": "[encoded data removed]"
     },
     "metadata": {},
     "output_type": "display_data"
    }
   ],
   "execution_count": 8
  },
  {
   "metadata": {
    "ExecuteTime": {
     "end_time": "2025-05-20T12:39:19.655568Z",
     "start_time": "2025-05-20T12:39:19.284767Z"
    }
   },
   "cell_type": "code",
   "source": [
    "plt.hist(logs_a[\"prediction\"].astype(float), bins=50, alpha=0.5, label=\"Nowy model\")\n",
    "plt.hist(logs_b[\"prediction\"].astype(float), bins=50, alpha=0.5, label=\"Model bazowy\")\n",
    "plt.hist(logs_a[\"real_rating\"].astype(float), bins=50, alpha=0.2, label=\"Rzeczywiste oceny\")\n",
    "plt.legend()\n",
    "plt.title(\"Rozkłady predykcji\")\n",
    "plt.show()"
   ],
   "id": "6afc30148c30aebb",
   "outputs": [
    {
     "data": {
      "text/plain": [
       "<Figure size 640x480 with 1 Axes>"
      ],
      "image/png": "[encoded data removed]"
     },
     "metadata": {},
     "output_type": "display_data"
    }
   ],
   "execution_count": 9
  },
  {
   "metadata": {
    "ExecuteTime": {
     "end_time": "2025-05-20T12:39:19.910326Z",
     "start_time": "2025-05-20T12:39:19.684438Z"
    }
   },
   "cell_type": "code",
   "source": [
    "plt.hist(logs_a[\"squared_error\"], bins=50, alpha=0.5, label=\"Nowy model\")\n",
    "plt.hist(logs_b[\"squared_error\"], bins=50, alpha=0.5, label=\"Model bazowy\")\n",
    "plt.legend()\n",
    "plt.title(\"Błąd predykcji\")\n",
    "plt.show()"
   ],
   "id": "fdc0d0305e6632bd",
   "outputs": [
    {
     "data": {
      "text/plain": [
       "<Figure size 640x480 with 1 Axes>"
      ],
      "image/png": "[encoded data removed]"
     },
     "metadata": {},
     "output_type": "display_data"
    }
   ],
   "execution_count": 10
  },
  {
   "metadata": {},
   "cell_type": "markdown",
   "source": [
    "## Test statystyczny\n",
    "\n",
    "### Hipotezy\n",
    "\n",
    "* $H_0$: Nowy model (A) nie jest lepszy od modelu bazowego (B)\n",
    "* $H_1$: Nowy model (A) jest lepszy od modelu bazowego (B)\n",
    "* Porównujemy błędy średniokeadratowego - mniejszy błąd oznacza lepszy model\n",
    "\n",
    "$$ H_0: err_A \\ge err_B $$\n",
    "\n",
    "$$ H_1: err_A < err_B $$\n",
    "\n",
    "### Test\n",
    "* Wykorzystamy test t-Studenta dla dwóch prób\n",
    "* Przyjmujemy poziom istotności $\\alpha = 0.05$\n",
    "* P-wartość oznacza prawdopodobieństwo obserwacji wyników, w świecie, w którym hipoteza zerowa jest prawdziwa.\n",
    "* Jeśli p-wartość jest mniejsza od poziomu istotności, to odrzucamy hipotezę zerową."
   ],
   "id": "6d2414532d6bd7f8"
  },
  {
   "metadata": {
    "ExecuteTime": {
     "end_time": "2025-05-20T12:39:38.183339Z",
     "start_time": "2025-05-20T12:39:38.174475Z"
    }
   },
   "cell_type": "code",
   "source": [
    "alpha = 0.05\n",
    "t_stat, p_value = ttest_rel(logs_a[\"squared_error\"], logs_b[\"squared_error\"])\n",
    "print(f\"Alpha: {alpha}\")\n",
    "print(f\"t-statistic: {t_stat:.4f}\")\n",
    "print(f\"p-value: {p_value:.4f}\")\n",
    "\n",
    "if p_value < alpha:\n",
    "    print(\"Reject H0, p<alpha, new model is better\")\n",
    "else:\n",
    "    print(\"Fail to reject H0, p>=alpha, new model is not better\")"
   ],
   "id": "e6c469fc87c49b56",
   "outputs": [
    {
     "name": "stdout",
     "output_type": "stream",
     "text": [
      "Alpha: 0.05\n",
      "t-statistic: -18.0454\n",
      "p-value: 0.0000\n",
      "Reject H0, p<alpha, new model is better\n"
     ]
    }
   ],
   "execution_count": 12
  },
  {
   "metadata": {},
   "cell_type": "markdown",
   "source": "Ponieważ $p \\ll \\alpha$, odrzucamy hipotezę zerową i przyjmujemy, że nowy model jest lepszy od modelu bazowego.",
   "id": "74890612de54a48d"
  }
 ],
 "metadata": {
  "kernelspec": {
   "display_name": "Python 3",
   "language": "python",
   "name": "python3"
  },
  "language_info": {
   "codemirror_mode": {
    "name": "ipython",
    "version": 2
   },
   "file_extension": ".py",
   "mimetype": "text/x-python",
   "name": "python",
   "nbconvert_exporter": "python",
   "pygments_lexer": "ipython2",
   "version": "2.7.6"
  }
 },
 "nbformat": 4,
 "nbformat_minor": 5
}
