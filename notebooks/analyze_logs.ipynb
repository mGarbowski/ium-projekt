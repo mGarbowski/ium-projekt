{
 "cells": [
  {
   "metadata": {},
   "cell_type": "markdown",
   "source": [
    "# Analiza eksperymentu A/B na podstawie logów\n",
    "\n",
    "* Logi z serwisu zawierają dla każdej predykcji\n",
    "  * id użytkownika\n",
    "  * użyty model\n",
    "  * id listingu\n",
    "  * wartość predykcji\n",
    "  * parametry wywołania\n",
    "* Na podstawie id oferty wyszukujemy rzeczywistą ocenę w zbiorze testowym\n",
    "\n",
    "## Opis eksperymentu\n",
    "* Na podstawie zbioru testowego wysyłamy zapytania do serwisu predykcyjnego\n",
    "* Zbieramy logi z serwisu\n",
    "* Na podstawie błędu kwadratowego predykcji porównujemy jakość modeli"
   ],
   "id": "30aff5f3778b763c"
  },
  {
   "metadata": {
    "collapsed": true,
    "ExecuteTime": {
     "end_time": "2025-05-20T13:19:09.198045Z",
     "start_time": "2025-05-20T13:19:09.195396Z"
    }
   },
   "cell_type": "code",
   "source": [
    "import json\n",
    "import re\n",
    "\n",
    "import matplotlib.pyplot as plt\n",
    "import pandas as pd\n",
    "from scipy.stats import ttest_rel\n",
    "\n",
    "EXPERIMENT_SET = \"../data/processed/experiment_set.csv\"\n",
    "LOG_FILE = \"../data/service.log\"\n",
    "BASE_MODEL_NAME = \"RandomBaseModel\"\n",
    "NEW_MODEL_NAME = \"LinearRegressionModel\""
   ],
   "id": "initial_id",
   "outputs": [],
   "execution_count": 1
  },
  {
   "metadata": {},
   "cell_type": "markdown",
   "source": "## Przetwarzanie logów",
   "id": "64eff83a1282febb"
  },
  {
   "metadata": {
    "ExecuteTime": {
     "end_time": "2025-05-20T13:19:09.395022Z",
     "start_time": "2025-05-20T13:19:09.321763Z"
    }
   },
   "cell_type": "code",
   "source": [
    "regex = re.compile(\n",
    "    r\"Predicted (?P<prediction>[0-9.]+) for user (?P<user_id>[a-f0-9\\-]+), using model (?P<model_name>\\w+), given params: (?P<params>\\{.*\\})\")\n",
    "\n",
    "\n",
    "def parse_log_line(log_line: str):\n",
    "    log_line = log_line.strip()\n",
    "    parsed = re.search(regex, log_line).groupdict()\n",
    "    params_dict = json.loads(parsed[\"params\"])\n",
    "    parsed.pop(\"params\")\n",
    "    for key, val in params_dict.items():\n",
    "        parsed[key] = val\n",
    "\n",
    "    return parsed\n",
    "\n",
    "\n",
    "with open(LOG_FILE) as f:\n",
    "    logs = pd.DataFrame([\n",
    "        parse_log_line(line)\n",
    "        for line in f\n",
    "        if \"PredictionService\" in line\n",
    "    ])"
   ],
   "id": "7a38b2fbe59150eb",
   "outputs": [],
   "execution_count": 2
  },
  {
   "metadata": {
    "ExecuteTime": {
     "end_time": "2025-05-20T13:19:09.418392Z",
     "start_time": "2025-05-20T13:19:09.410982Z"
    }
   },
   "cell_type": "code",
   "source": [
    "logs = logs.loc[:, [\"prediction\", \"model_name\", \"id\"]]\n",
    "logs.loc[:, \"id\"] = logs[\"id\"].astype(int)\n",
    "logs[\"prediction\"] = pd.to_numeric(logs[\"prediction\"])"
   ],
   "id": "a7d98992a876a4b8",
   "outputs": [],
   "execution_count": 3
  },
  {
   "metadata": {
    "ExecuteTime": {
     "end_time": "2025-05-20T13:19:09.496713Z",
     "start_time": "2025-05-20T13:19:09.466389Z"
    }
   },
   "cell_type": "code",
   "source": [
    "test_set = pd.read_csv(EXPERIMENT_SET)\n",
    "test_set = test_set[[\"id\", \"avg_rating\"]]\n",
    "test_set.rename(columns={\"avg_rating\": \"real_rating\"}, inplace=True)"
   ],
   "id": "8abf9d0a9b059df7",
   "outputs": [],
   "execution_count": 4
  },
  {
   "metadata": {
    "ExecuteTime": {
     "end_time": "2025-05-20T13:19:09.544813Z",
     "start_time": "2025-05-20T13:19:09.535226Z"
    }
   },
   "cell_type": "code",
   "source": [
    "logs = logs.merge(test_set, on=\"id\", how=\"left\")\n",
    "logs[\"squared_error\"] = ((logs[\"prediction\"] - logs[\"real_rating\"]) ** 2)"
   ],
   "id": "7c2161310968512e",
   "outputs": [],
   "execution_count": 5
  },
  {
   "metadata": {
    "ExecuteTime": {
     "end_time": "2025-05-20T13:19:09.604919Z",
     "start_time": "2025-05-20T13:19:09.594003Z"
    }
   },
   "cell_type": "code",
   "source": "logs",
   "id": "71be7be1e7e3ee0a",
   "outputs": [
    {
     "data": {
      "text/plain": [
       "      prediction             model_name                   id  real_rating  \\\n",
       "0       4.569796        RandomBaseModel             45736361     4.974286   \n",
       "1       4.809988        RandomBaseModel             16245894     4.801429   \n",
       "2       4.645126        RandomBaseModel             53288372     4.847143   \n",
       "3       4.331700        RandomBaseModel             35991083     4.865714   \n",
       "4       4.405404        RandomBaseModel             21689254     4.878571   \n",
       "...          ...                    ...                  ...          ...   \n",
       "1283    5.000000  LinearRegressionModel  1035493789735740124     4.924286   \n",
       "1284    5.000000  LinearRegressionModel   598351785185079269     4.324286   \n",
       "1285    5.000000  LinearRegressionModel              2201228     4.708571   \n",
       "1286    5.000000  LinearRegressionModel              3070635     4.781429   \n",
       "1287    5.000000  LinearRegressionModel  1091905691449377431     4.797143   \n",
       "\n",
       "      squared_error  \n",
       "0          0.163612  \n",
       "1          0.000073  \n",
       "2          0.040811  \n",
       "3          0.285172  \n",
       "4          0.223887  \n",
       "...             ...  \n",
       "1283       0.005733  \n",
       "1284       0.456590  \n",
       "1285       0.084931  \n",
       "1286       0.047773  \n",
       "1287       0.041151  \n",
       "\n",
       "[1288 rows x 5 columns]"
      ],
      "text/html": [
       "<div>\n",
       "<style scoped>\n",
       "    .dataframe tbody tr th:only-of-type {\n",
       "        vertical-align: middle;\n",
       "    }\n",
       "\n",
       "    .dataframe tbody tr th {\n",
       "        vertical-align: top;\n",
       "    }\n",
       "\n",
       "    .dataframe thead th {\n",
       "        text-align: right;\n",
       "    }\n",
       "</style>\n",
       "<table border=\"1\" class=\"dataframe\">\n",
       "  <thead>\n",
       "    <tr style=\"text-align: right;\">\n",
       "      <th></th>\n",
       "      <th>prediction</th>\n",
       "      <th>model_name</th>\n",
       "      <th>id</th>\n",
       "      <th>real_rating</th>\n",
       "      <th>squared_error</th>\n",
       "    </tr>\n",
       "  </thead>\n",
       "  <tbody>\n",
       "    <tr>\n",
       "      <th>0</th>\n",
       "      <td>4.569796</td>\n",
       "      <td>RandomBaseModel</td>\n",
       "      <td>45736361</td>\n",
       "      <td>4.974286</td>\n",
       "      <td>0.163612</td>\n",
       "    </tr>\n",
       "    <tr>\n",
       "      <th>1</th>\n",
       "      <td>4.809988</td>\n",
       "      <td>RandomBaseModel</td>\n",
       "      <td>16245894</td>\n",
       "      <td>4.801429</td>\n",
       "      <td>0.000073</td>\n",
       "    </tr>\n",
       "    <tr>\n",
       "      <th>2</th>\n",
       "      <td>4.645126</td>\n",
       "      <td>RandomBaseModel</td>\n",
       "      <td>53288372</td>\n",
       "      <td>4.847143</td>\n",
       "      <td>0.040811</td>\n",
       "    </tr>\n",
       "    <tr>\n",
       "      <th>3</th>\n",
       "      <td>4.331700</td>\n",
       "      <td>RandomBaseModel</td>\n",
       "      <td>35991083</td>\n",
       "      <td>4.865714</td>\n",
       "      <td>0.285172</td>\n",
       "    </tr>\n",
       "    <tr>\n",
       "      <th>4</th>\n",
       "      <td>4.405404</td>\n",
       "      <td>RandomBaseModel</td>\n",
       "      <td>21689254</td>\n",
       "      <td>4.878571</td>\n",
       "      <td>0.223887</td>\n",
       "    </tr>\n",
       "    <tr>\n",
       "      <th>...</th>\n",
       "      <td>...</td>\n",
       "      <td>...</td>\n",
       "      <td>...</td>\n",
       "      <td>...</td>\n",
       "      <td>...</td>\n",
       "    </tr>\n",
       "    <tr>\n",
       "      <th>1283</th>\n",
       "      <td>5.000000</td>\n",
       "      <td>LinearRegressionModel</td>\n",
       "      <td>1035493789735740124</td>\n",
       "      <td>4.924286</td>\n",
       "      <td>0.005733</td>\n",
       "    </tr>\n",
       "    <tr>\n",
       "      <th>1284</th>\n",
       "      <td>5.000000</td>\n",
       "      <td>LinearRegressionModel</td>\n",
       "      <td>598351785185079269</td>\n",
       "      <td>4.324286</td>\n",
       "      <td>0.456590</td>\n",
       "    </tr>\n",
       "    <tr>\n",
       "      <th>1285</th>\n",
       "      <td>5.000000</td>\n",
       "      <td>LinearRegressionModel</td>\n",
       "      <td>2201228</td>\n",
       "      <td>4.708571</td>\n",
       "      <td>0.084931</td>\n",
       "    </tr>\n",
       "    <tr>\n",
       "      <th>1286</th>\n",
       "      <td>5.000000</td>\n",
       "      <td>LinearRegressionModel</td>\n",
       "      <td>3070635</td>\n",
       "      <td>4.781429</td>\n",
       "      <td>0.047773</td>\n",
       "    </tr>\n",
       "    <tr>\n",
       "      <th>1287</th>\n",
       "      <td>5.000000</td>\n",
       "      <td>LinearRegressionModel</td>\n",
       "      <td>1091905691449377431</td>\n",
       "      <td>4.797143</td>\n",
       "      <td>0.041151</td>\n",
       "    </tr>\n",
       "  </tbody>\n",
       "</table>\n",
       "<p>1288 rows × 5 columns</p>\n",
       "</div>"
      ]
     },
     "execution_count": 6,
     "metadata": {},
     "output_type": "execute_result"
    }
   ],
   "execution_count": 6
  },
  {
   "metadata": {
    "ExecuteTime": {
     "end_time": "2025-05-20T13:19:09.726074Z",
     "start_time": "2025-05-20T13:19:09.720504Z"
    }
   },
   "cell_type": "code",
   "source": [
    "logs_a = logs[logs[\"model_name\"] == NEW_MODEL_NAME]\n",
    "logs_b = logs[logs[\"model_name\"] == BASE_MODEL_NAME]"
   ],
   "id": "6e78a1539d6b9706",
   "outputs": [],
   "execution_count": 7
  },
  {
   "metadata": {},
   "cell_type": "markdown",
   "source": "## Wizualizacja wyników",
   "id": "ed195001b2123c8c"
  },
  {
   "metadata": {
    "ExecuteTime": {
     "end_time": "2025-05-20T13:19:10.038037Z",
     "start_time": "2025-05-20T13:19:09.846935Z"
    }
   },
   "cell_type": "code",
   "source": [
    "plt.bar(x=[\"Nowy model\", \"Model bazowy\"], height=[len(logs_a), len(logs_b)])\n",
    "plt.title(\"Liczba predykcji\")\n",
    "plt.show()"
   ],
   "id": "99dd2ce923f08323",
   "outputs": [
    {
     "data": {
      "text/plain": [
       "<Figure size 640x480 with 1 Axes>"
      ],
      "image/png": "[encoded data removed]"
     },
     "metadata": {},
     "output_type": "display_data"
    }
   ],
   "execution_count": 8
  },
  {
   "metadata": {
    "ExecuteTime": {
     "end_time": "2025-05-20T13:20:26.178319Z",
     "start_time": "2025-05-20T13:20:25.930426Z"
    }
   },
   "cell_type": "code",
   "source": [
    "plt.hist(logs_a[\"prediction\"].astype(float), bins=50, alpha=0.5, label=\"Nowy model\")\n",
    "plt.hist(logs_b[\"prediction\"].astype(float), bins=50, alpha=0.5, label=\"Model bazowy\")\n",
    "plt.hist(logs_a[\"real_rating\"].astype(float), bins=50, alpha=0.2, label=\"Rzeczywiste oceny\")\n",
    "plt.legend()\n",
    "plt.title(\"Rozkłady predykcji\")\n",
    "plt.show()"
   ],
   "id": "6afc30148c30aebb",
   "outputs": [
    {
     "data": {
      "text/plain": [
       "<Figure size 640x480 with 1 Axes>"
      ],
      "image/png": "[encoded data removed]"
     },
     "metadata": {},
     "output_type": "display_data"
    }
   ],
   "execution_count": 13
  },
  {
   "metadata": {
    "ExecuteTime": {
     "end_time": "2025-05-20T13:19:10.827210Z",
     "start_time": "2025-05-20T13:19:10.548369Z"
    }
   },
   "cell_type": "code",
   "source": [
    "plt.hist(logs_a[\"squared_error\"], bins=50, alpha=0.5, label=\"Nowy model\")\n",
    "plt.hist(logs_b[\"squared_error\"], bins=50, alpha=0.5, label=\"Model bazowy\")\n",
    "plt.legend()\n",
    "plt.title(\"Błąd predykcji\")\n",
    "plt.show()"
   ],
   "id": "fdc0d0305e6632bd",
   "outputs": [
    {
     "data": {
      "text/plain": [
       "<Figure size 640x480 with 1 Axes>"
      ],
      "image/png": "[encoded data removed]"
     },
     "metadata": {},
     "output_type": "display_data"
    }
   ],
   "execution_count": 10
  },
  {
   "metadata": {},
   "cell_type": "markdown",
   "source": [
    "## Test statystyczny\n",
    "\n",
    "### Hipotezy\n",
    "\n",
    "* $H_0$: Nowy model (A) nie jest lepszy od modelu bazowego (B)\n",
    "* $H_1$: Nowy model (A) jest lepszy od modelu bazowego (B)\n",
    "* Porównujemy błędy średniokeadratowego - mniejszy błąd oznacza lepszy model\n",
    "\n",
    "$$ H_0: err_A \\ge err_B $$\n",
    "\n",
    "$$ H_1: err_A < err_B $$\n",
    "\n",
    "### Test\n",
    "* Wykorzystamy test t-Studenta dla dwóch prób\n",
    "* Przyjmujemy poziom istotności $\\alpha = 0.05$\n",
    "* P-wartość oznacza prawdopodobieństwo obserwacji wyników, w świecie, w którym hipoteza zerowa jest prawdziwa.\n",
    "* Jeśli p-wartość jest mniejsza od poziomu istotności, to odrzucamy hipotezę zerową."
   ],
   "id": "6d2414532d6bd7f8"
  },
  {
   "metadata": {
    "ExecuteTime": {
     "end_time": "2025-05-20T13:19:10.849290Z",
     "start_time": "2025-05-20T13:19:10.844753Z"
    }
   },
   "cell_type": "code",
   "source": [
    "alpha = 0.05\n",
    "t_stat, p_value = ttest_rel(logs_a[\"squared_error\"], logs_b[\"squared_error\"])\n",
    "print(f\"Alpha: {alpha}\")\n",
    "print(f\"t-statistic: {t_stat:.4f}\")\n",
    "print(f\"p-value: {p_value:.4f}\")\n",
    "\n",
    "if p_value < alpha:\n",
    "    print(\"Reject H0, p<alpha, new model is better\")\n",
    "else:\n",
    "    print(\"Fail to reject H0, p>=alpha, new model is not better\")"
   ],
   "id": "e6c469fc87c49b56",
   "outputs": [
    {
     "name": "stdout",
     "output_type": "stream",
     "text": [
      "Alpha: 0.05\n",
      "t-statistic: 4.2954\n",
      "p-value: 0.0000\n",
      "Reject H0, p<alpha, new model is better\n"
     ]
    }
   ],
   "execution_count": 11
  },
  {
   "metadata": {},
   "cell_type": "markdown",
   "source": "Ponieważ $p \\ll \\alpha$, odrzucamy hipotezę zerową i przyjmujemy, że nowy model jest lepszy od modelu bazowego.",
   "id": "74890612de54a48d"
  }
 ],
 "metadata": {
  "kernelspec": {
   "display_name": "Python 3",
   "language": "python",
   "name": "python3"
  },
  "language_info": {
   "codemirror_mode": {
    "name": "ipython",
    "version": 2
   },
   "file_extension": ".py",
   "mimetype": "text/x-python",
   "name": "python",
   "nbconvert_exporter": "python",
   "pygments_lexer": "ipython2",
   "version": "2.7.6"
  }
 },
 "nbformat": 4,
 "nbformat_minor": 5
}
