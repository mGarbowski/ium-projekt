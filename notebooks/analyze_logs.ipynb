{
 "cells": [
  {
   "cell_type": "markdown",
   "id": "30aff5f3778b763c",
   "metadata": {},
   "source": [
    "# Analiza eksperymentu A/B na podstawie logów\n",
    "\n",
    "* Logi z serwisu zawierają dla każdej predykcji\n",
    "  * id użytkownika\n",
    "  * użyty model\n",
    "  * id listingu\n",
    "  * wartość predykcji\n",
    "  * parametry wywołania\n",
    "* Na podstawie id oferty wyszukujemy rzeczywistą ocenę w zbiorze testowym\n",
    "\n",
    "## Opis eksperymentu\n",
    "* Na podstawie zbioru testowego wysyłamy zapytania do serwisu predykcyjnego\n",
    "* Zbieramy logi z serwisu\n",
    "* Na podstawie błędu kwadratowego predykcji porównujemy jakość modeli"
   ]
  },
  {
   "cell_type": "code",
   "id": "initial_id",
   "metadata": {
    "collapsed": true,
    "ExecuteTime": {
     "end_time": "2025-06-02T18:48:43.669613Z",
     "start_time": "2025-06-02T18:48:43.665658Z"
    }
   },
   "source": [
    "import json\n",
    "import re\n",
    "\n",
    "import matplotlib.pyplot as plt\n",
    "import pandas as pd\n",
    "from scipy.stats import ttest_rel\n",
    "\n",
    "EXPERIMENT_SET = \"../data/processed/experiment_set.csv\"\n",
    "LOG_FILE = \"../data/service.log\"\n",
    "BASE_MODEL_NAME = \"RandomBaseModel\"\n",
    "NEW_MODEL_NAME = \"NeuralNetPredictionModel\""
   ],
   "outputs": [],
   "execution_count": 25
  },
  {
   "cell_type": "markdown",
   "id": "64eff83a1282febb",
   "metadata": {},
   "source": [
    "## Przetwarzanie logów"
   ]
  },
  {
   "cell_type": "code",
   "id": "7a38b2fbe59150eb",
   "metadata": {
    "ExecuteTime": {
     "end_time": "2025-06-02T18:48:43.907858Z",
     "start_time": "2025-06-02T18:48:43.690896Z"
    }
   },
   "source": [
    "regex = re.compile(\n",
    "    r\"Predicted (?P<prediction>[0-9.]+) for user (?P<user_id>[a-f0-9\\-]+), using model (?P<model_name>\\w+), given params: (?P<params>\\{.*\\})\")\n",
    "\n",
    "\n",
    "def parse_log_line(log_line: str):\n",
    "    log_line = log_line.strip()\n",
    "    parsed = re.search(regex, log_line).groupdict()\n",
    "    params_dict = json.loads(parsed[\"params\"])\n",
    "    parsed.pop(\"params\")\n",
    "    for key, val in params_dict.items():\n",
    "        parsed[key] = val\n",
    "\n",
    "    return parsed\n",
    "\n",
    "\n",
    "with open(LOG_FILE) as f:\n",
    "    logs = pd.DataFrame([\n",
    "        parse_log_line(line)\n",
    "        for line in f\n",
    "        if \"PredictionService\" in line\n",
    "    ])"
   ],
   "outputs": [],
   "execution_count": 26
  },
  {
   "cell_type": "code",
   "id": "a7d98992a876a4b8",
   "metadata": {
    "ExecuteTime": {
     "end_time": "2025-06-02T18:48:43.986958Z",
     "start_time": "2025-06-02T18:48:43.971091Z"
    }
   },
   "source": [
    "logs = logs.loc[:, [\"prediction\", \"model_name\", \"id\"]]\n",
    "logs.loc[:, \"id\"] = logs[\"id\"].astype(int)\n",
    "logs[\"prediction\"] = pd.to_numeric(logs[\"prediction\"])"
   ],
   "outputs": [],
   "execution_count": 27
  },
  {
   "cell_type": "code",
   "id": "8abf9d0a9b059df7",
   "metadata": {
    "ExecuteTime": {
     "end_time": "2025-06-02T18:48:44.055756Z",
     "start_time": "2025-06-02T18:48:44.024386Z"
    }
   },
   "source": [
    "test_set = pd.read_csv(EXPERIMENT_SET)\n",
    "test_set = test_set[[\"id\", \"avg_rating\"]]\n",
    "test_set.rename(columns={\"avg_rating\": \"real_rating\"}, inplace=True)"
   ],
   "outputs": [],
   "execution_count": 28
  },
  {
   "cell_type": "code",
   "id": "7c2161310968512e",
   "metadata": {
    "ExecuteTime": {
     "end_time": "2025-06-02T18:48:44.112906Z",
     "start_time": "2025-06-02T18:48:44.106104Z"
    }
   },
   "source": [
    "logs = logs.merge(test_set, on=\"id\", how=\"left\")\n",
    "logs[\"squared_error\"] = ((logs[\"prediction\"] - logs[\"real_rating\"]) ** 2)"
   ],
   "outputs": [],
   "execution_count": 29
  },
  {
   "cell_type": "code",
   "id": "71be7be1e7e3ee0a",
   "metadata": {
    "ExecuteTime": {
     "end_time": "2025-06-02T18:48:44.178956Z",
     "start_time": "2025-06-02T18:48:44.168260Z"
    }
   },
   "source": [
    "logs"
   ],
   "outputs": [
    {
     "data": {
      "text/plain": [
       "      prediction                model_name                   id  real_rating  \\\n",
       "0       4.982276           RandomBaseModel  1028233458536518838          NaN   \n",
       "1       4.789342           RandomBaseModel             12053231          NaN   \n",
       "2       4.934319           RandomBaseModel             54035917          NaN   \n",
       "3       4.355471           RandomBaseModel              9993168          NaN   \n",
       "4       4.764409           RandomBaseModel              9655481          NaN   \n",
       "...          ...                       ...                  ...          ...   \n",
       "4277    4.827282  NeuralNetPredictionModel             21812927          NaN   \n",
       "4278    4.833619  NeuralNetPredictionModel             35405882          NaN   \n",
       "4279    4.835393  NeuralNetPredictionModel              8736714          NaN   \n",
       "4280    4.886052  NeuralNetPredictionModel             38892522          NaN   \n",
       "4281    4.831969  NeuralNetPredictionModel  1113019144095403890     4.428571   \n",
       "\n",
       "      squared_error  \n",
       "0               NaN  \n",
       "1               NaN  \n",
       "2               NaN  \n",
       "3               NaN  \n",
       "4               NaN  \n",
       "...             ...  \n",
       "4277            NaN  \n",
       "4278            NaN  \n",
       "4279            NaN  \n",
       "4280            NaN  \n",
       "4281       0.162729  \n",
       "\n",
       "[4282 rows x 5 columns]"
      ],
      "text/html": [
       "<div>\n",
       "<style scoped>\n",
       "    .dataframe tbody tr th:only-of-type {\n",
       "        vertical-align: middle;\n",
       "    }\n",
       "\n",
       "    .dataframe tbody tr th {\n",
       "        vertical-align: top;\n",
       "    }\n",
       "\n",
       "    .dataframe thead th {\n",
       "        text-align: right;\n",
       "    }\n",
       "</style>\n",
       "<table border=\"1\" class=\"dataframe\">\n",
       "  <thead>\n",
       "    <tr style=\"text-align: right;\">\n",
       "      <th></th>\n",
       "      <th>prediction</th>\n",
       "      <th>model_name</th>\n",
       "      <th>id</th>\n",
       "      <th>real_rating</th>\n",
       "      <th>squared_error</th>\n",
       "    </tr>\n",
       "  </thead>\n",
       "  <tbody>\n",
       "    <tr>\n",
       "      <th>0</th>\n",
       "      <td>4.982276</td>\n",
       "      <td>RandomBaseModel</td>\n",
       "      <td>1028233458536518838</td>\n",
       "      <td>NaN</td>\n",
       "      <td>NaN</td>\n",
       "    </tr>\n",
       "    <tr>\n",
       "      <th>1</th>\n",
       "      <td>4.789342</td>\n",
       "      <td>RandomBaseModel</td>\n",
       "      <td>12053231</td>\n",
       "      <td>NaN</td>\n",
       "      <td>NaN</td>\n",
       "    </tr>\n",
       "    <tr>\n",
       "      <th>2</th>\n",
       "      <td>4.934319</td>\n",
       "      <td>RandomBaseModel</td>\n",
       "      <td>54035917</td>\n",
       "      <td>NaN</td>\n",
       "      <td>NaN</td>\n",
       "    </tr>\n",
       "    <tr>\n",
       "      <th>3</th>\n",
       "      <td>4.355471</td>\n",
       "      <td>RandomBaseModel</td>\n",
       "      <td>9993168</td>\n",
       "      <td>NaN</td>\n",
       "      <td>NaN</td>\n",
       "    </tr>\n",
       "    <tr>\n",
       "      <th>4</th>\n",
       "      <td>4.764409</td>\n",
       "      <td>RandomBaseModel</td>\n",
       "      <td>9655481</td>\n",
       "      <td>NaN</td>\n",
       "      <td>NaN</td>\n",
       "    </tr>\n",
       "    <tr>\n",
       "      <th>...</th>\n",
       "      <td>...</td>\n",
       "      <td>...</td>\n",
       "      <td>...</td>\n",
       "      <td>...</td>\n",
       "      <td>...</td>\n",
       "    </tr>\n",
       "    <tr>\n",
       "      <th>4277</th>\n",
       "      <td>4.827282</td>\n",
       "      <td>NeuralNetPredictionModel</td>\n",
       "      <td>21812927</td>\n",
       "      <td>NaN</td>\n",
       "      <td>NaN</td>\n",
       "    </tr>\n",
       "    <tr>\n",
       "      <th>4278</th>\n",
       "      <td>4.833619</td>\n",
       "      <td>NeuralNetPredictionModel</td>\n",
       "      <td>35405882</td>\n",
       "      <td>NaN</td>\n",
       "      <td>NaN</td>\n",
       "    </tr>\n",
       "    <tr>\n",
       "      <th>4279</th>\n",
       "      <td>4.835393</td>\n",
       "      <td>NeuralNetPredictionModel</td>\n",
       "      <td>8736714</td>\n",
       "      <td>NaN</td>\n",
       "      <td>NaN</td>\n",
       "    </tr>\n",
       "    <tr>\n",
       "      <th>4280</th>\n",
       "      <td>4.886052</td>\n",
       "      <td>NeuralNetPredictionModel</td>\n",
       "      <td>38892522</td>\n",
       "      <td>NaN</td>\n",
       "      <td>NaN</td>\n",
       "    </tr>\n",
       "    <tr>\n",
       "      <th>4281</th>\n",
       "      <td>4.831969</td>\n",
       "      <td>NeuralNetPredictionModel</td>\n",
       "      <td>1113019144095403890</td>\n",
       "      <td>4.428571</td>\n",
       "      <td>0.162729</td>\n",
       "    </tr>\n",
       "  </tbody>\n",
       "</table>\n",
       "<p>4282 rows × 5 columns</p>\n",
       "</div>"
      ]
     },
     "execution_count": 30,
     "metadata": {},
     "output_type": "execute_result"
    }
   ],
   "execution_count": 30
  },
  {
   "cell_type": "code",
   "id": "6e78a1539d6b9706",
   "metadata": {
    "ExecuteTime": {
     "end_time": "2025-06-02T18:48:44.276768Z",
     "start_time": "2025-06-02T18:48:44.270794Z"
    }
   },
   "source": [
    "logs_a = logs[logs[\"model_name\"] == NEW_MODEL_NAME]\n",
    "logs_b = logs[logs[\"model_name\"] == BASE_MODEL_NAME]"
   ],
   "outputs": [],
   "execution_count": 31
  },
  {
   "cell_type": "markdown",
   "id": "ed195001b2123c8c",
   "metadata": {},
   "source": [
    "## Wizualizacja wyników"
   ]
  },
  {
   "cell_type": "code",
   "id": "99dd2ce923f08323",
   "metadata": {
    "ExecuteTime": {
     "end_time": "2025-06-02T18:48:44.465219Z",
     "start_time": "2025-06-02T18:48:44.367402Z"
    }
   },
   "source": [
    "plt.bar(x=[\"Nowy model\", \"Model bazowy\"], height=[len(logs_a), len(logs_b)])\n",
    "plt.title(\"Liczba predykcji\")\n",
    "plt.show()"
   ],
   "outputs": [
    {
     "data": {
      "text/plain": [
       "<Figure size 640x480 with 1 Axes>"
      ],
      "image/png": "[encoded data removed]"
     },
     "metadata": {},
     "output_type": "display_data"
    }
   ],
   "execution_count": 32
  },
  {
   "cell_type": "code",
   "id": "6afc30148c30aebb",
   "metadata": {
    "ExecuteTime": {
     "end_time": "2025-06-02T18:52:17.813171Z",
     "start_time": "2025-06-02T18:52:17.677719Z"
    }
   },
   "source": [
    "plt.hist(logs_a[\"prediction\"].astype(float), range=(3.5,5.1), histtype=\"step\", bins=30, alpha=0.5, label=\"Nowy model\")\n",
    "plt.hist(logs_b[\"prediction\"].astype(float), range=(3.5,5.1), histtype=\"step\", bins=30, alpha=0.5, label=\"Model bazowy\")\n",
    "plt.hist(logs_a[\"real_rating\"].astype(float), range=(3.5,5.1), histtype=\"step\", bins=30, alpha=0.2, label=\"Rzeczywiste oceny\")\n",
    "plt.legend()\n",
    "plt.title(\"Rozkłady predykcji\")\n",
    "plt.show()"
   ],
   "outputs": [
    {
     "data": {
      "text/plain": [
       "<Figure size 640x480 with 1 Axes>"
      ],
      "image/png": "[encoded data removed]"
     },
     "metadata": {},
     "output_type": "display_data"
    }
   ],
   "execution_count": 36
  },
  {
   "cell_type": "code",
   "id": "fdc0d0305e6632bd",
   "metadata": {
    "ExecuteTime": {
     "end_time": "2025-06-02T18:52:33.635227Z",
     "start_time": "2025-06-02T18:52:33.420574Z"
    }
   },
   "source": [
    "plt.hist(logs_a[\"squared_error\"], range=(0, 0.2), bins=50, alpha=0.5, label=\"Nowy model\")\n",
    "plt.hist(logs_b[\"squared_error\"], range=(0, 0.2), bins=50, alpha=0.5, label=\"Model bazowy\")\n",
    "plt.legend()\n",
    "plt.title(\"Błąd predykcji\")\n",
    "plt.show()"
   ],
   "outputs": [
    {
     "data": {
      "text/plain": [
       "<Figure size 640x480 with 1 Axes>"
      ],
      "image/png": "[encoded data removed]"
     },
     "metadata": {},
     "output_type": "display_data"
    }
   ],
   "execution_count": 37
  },
  {
   "cell_type": "markdown",
   "id": "6d2414532d6bd7f8",
   "metadata": {},
   "source": [
    "## Test statystyczny\n",
    "\n",
    "### Hipotezy\n",
    "\n",
    "* $H_0$: Nowy model (A) nie jest lepszy od modelu bazowego (B)\n",
    "* $H_1$: Nowy model (A) jest lepszy od modelu bazowego (B)\n",
    "* Porównujemy błędy średniokeadratowego - mniejszy błąd oznacza lepszy model\n",
    "\n",
    "$$ H_0: err_A \\ge err_B $$\n",
    "\n",
    "$$ H_1: err_A < err_B $$\n",
    "\n",
    "### Test\n",
    "* Wykorzystamy test t-Studenta dla dwóch prób\n",
    "* Przyjmujemy poziom istotności $\\alpha = 0.05$\n",
    "* P-wartość oznacza prawdopodobieństwo obserwacji wyników, w świecie, w którym hipoteza zerowa jest prawdziwa.\n",
    "* Jeśli p-wartość jest mniejsza od poziomu istotności, to odrzucamy hipotezę zerową."
   ]
  },
  {
   "cell_type": "code",
   "id": "e6c469fc87c49b56",
   "metadata": {
    "ExecuteTime": {
     "end_time": "2025-06-02T18:48:45.046792Z",
     "start_time": "2025-06-02T18:48:45.041324Z"
    }
   },
   "source": [
    "alpha = 0.05\n",
    "t_stat, p_value = ttest_rel(logs_a[\"squared_error\"], logs_b[\"squared_error\"])\n",
    "print(f\"Alpha: {alpha}\")\n",
    "print(f\"t-statistic: {t_stat:.4f}\")\n",
    "print(f\"p-value: {p_value:.4f}\")\n",
    "\n",
    "if p_value < alpha:\n",
    "    print(\"Reject H0, p<alpha, new model is better\")\n",
    "else:\n",
    "    print(\"Fail to reject H0, p>=alpha, new model is not better\")"
   ],
   "outputs": [
    {
     "name": "stdout",
     "output_type": "stream",
     "text": [
      "Alpha: 0.05\n",
      "t-statistic: nan\n",
      "p-value: nan\n",
      "Fail to reject H0, p>=alpha, new model is not better\n"
     ]
    }
   ],
   "execution_count": 35
  },
  {
   "cell_type": "markdown",
   "id": "74890612de54a48d",
   "metadata": {},
   "source": [
    "Ponieważ $p \\ll \\alpha$, odrzucamy hipotezę zerową i przyjmujemy, że nowy model jest lepszy od modelu bazowego."
   ]
  }
 ],
 "metadata": {
  "kernelspec": {
   "display_name": ".venv",
   "language": "python",
   "name": "python3"
  },
  "language_info": {
   "codemirror_mode": {
    "name": "ipython",
    "version": 3
   },
   "file_extension": ".py",
   "mimetype": "text/x-python",
   "name": "python",
   "nbconvert_exporter": "python",
   "pygments_lexer": "ipython3",
   "version": "3.12.9"
  }
 },
 "nbformat": 4,
 "nbformat_minor": 5
}
