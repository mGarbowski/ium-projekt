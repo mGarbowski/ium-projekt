{
 "cells": [
  {
   "metadata": {},
   "cell_type": "markdown",
   "source": [
    "# Eksploracja danych\n",
    "\n",
    "Wstępny przegląd danych z pierwszej paczki"
   ],
   "id": "b20ed5d9df7c4130"
  },
  {
   "metadata": {
    "ExecuteTime": {
     "end_time": "2025-04-10T15:56:38.918128Z",
     "start_time": "2025-04-10T15:56:38.914272Z"
    }
   },
   "cell_type": "code",
   "source": [
    "import numpy as np\n",
    "import pandas as pd\n",
    "import matplotlib.pyplot as plt\n",
    "%matplotlib inline"
   ],
   "id": "de3f8c8acc704282",
   "outputs": [],
   "execution_count": 356
  },
  {
   "metadata": {
    "ExecuteTime": {
     "end_time": "2025-04-10T15:56:40.642445Z",
     "start_time": "2025-04-10T15:56:38.923270Z"
    }
   },
   "cell_type": "code",
   "source": [
    "calendar = pd.read_csv('../data/calendar.csv')\n",
    "listings = pd.read_csv('../data/listings.csv')\n",
    "reviews = pd.read_csv('../data/reviews.csv')"
   ],
   "id": "53c186648546e7d8",
   "outputs": [],
   "execution_count": 357
  },
  {
   "metadata": {},
   "cell_type": "markdown",
   "source": [
    "## Calendar\n",
    "\n",
    "Wnioski\n",
    "\n",
    "* Adjusted price - tylko brakujące wartości\n",
    "* Dzień tygodnia nie wpływa na liczebność\n",
    "* Więcej niedostępnych niż dostępnych (tego samego rzędu wielkości)\n",
    "* Sporo wartości odstających w cenach\n",
    "  * rozkład typu Gauss z rozciągniętym ogonem\n",
    "* Minimum nights\n",
    "  * najczęściej małe kilka albo 92 (szpilka)\n",
    "  * wartości odstające (piekielnie dużo jak na minimum nocy, pomyłki przy wpisywaniu?)\n",
    "* Maximum nights\n",
    "  * wartości odstające (np. int max)\n",
    "  * często 365 dni\n",
    "* Nie ma wyraźnego trendu w cenach\n",
    "\n"
   ],
   "id": "b893d8119d702def"
  },
  {
   "metadata": {
    "ExecuteTime": {
     "end_time": "2025-04-10T15:56:41.143224Z",
     "start_time": "2025-04-10T15:56:40.645948Z"
    }
   },
   "cell_type": "code",
   "source": "calendar[\"price\"] = calendar[\"price\"].apply(lambda p: float(p.replace(\"$\", \"\").replace(\",\", \"\")))",
   "id": "7423c0e4a22b64d3",
   "outputs": [],
   "execution_count": 358
  },
  {
   "metadata": {
    "ExecuteTime": {
     "end_time": "2025-04-10T15:56:41.331669Z",
     "start_time": "2025-04-10T15:56:41.145827Z"
    }
   },
   "cell_type": "code",
   "source": "calendar.describe()",
   "id": "7df5d3804b6a5772",
   "outputs": [
    {
     "data": {
      "text/plain": [
       "         listing_id         price  adjusted_price  minimum_nights  \\\n",
       "count  1.530937e+06  1.530937e+06             0.0    1.530937e+06   \n",
       "mean   4.181534e+17  1.460950e+02             NaN    4.181798e+01   \n",
       "std    5.077212e+17  3.686472e+02             NaN    5.351443e+01   \n",
       "min    3.176000e+03  0.000000e+00             NaN    1.000000e+00   \n",
       "25%    1.981368e+07  5.300000e+01             NaN    2.000000e+00   \n",
       "50%    4.442589e+07  8.500000e+01             NaN    5.000000e+00   \n",
       "75%    9.511643e+17  1.400000e+02             NaN    9.200000e+01   \n",
       "max    1.315853e+18  1.000000e+04             NaN    1.125000e+03   \n",
       "\n",
       "       maximum_nights  \n",
       "count    1.530937e+06  \n",
       "mean     1.083568e+06  \n",
       "std      4.821147e+07  \n",
       "min      1.000000e+00  \n",
       "25%      1.800000e+02  \n",
       "50%      7.300000e+02  \n",
       "75%      1.125000e+03  \n",
       "max      2.147484e+09  "
      ],
      "text/html": [
       "<div>\n",
       "<style scoped>\n",
       "    .dataframe tbody tr th:only-of-type {\n",
       "        vertical-align: middle;\n",
       "    }\n",
       "\n",
       "    .dataframe tbody tr th {\n",
       "        vertical-align: top;\n",
       "    }\n",
       "\n",
       "    .dataframe thead th {\n",
       "        text-align: right;\n",
       "    }\n",
       "</style>\n",
       "<table border=\"1\" class=\"dataframe\">\n",
       "  <thead>\n",
       "    <tr style=\"text-align: right;\">\n",
       "      <th></th>\n",
       "      <th>listing_id</th>\n",
       "      <th>price</th>\n",
       "      <th>adjusted_price</th>\n",
       "      <th>minimum_nights</th>\n",
       "      <th>maximum_nights</th>\n",
       "    </tr>\n",
       "  </thead>\n",
       "  <tbody>\n",
       "    <tr>\n",
       "      <th>count</th>\n",
       "      <td>1.530937e+06</td>\n",
       "      <td>1.530937e+06</td>\n",
       "      <td>0.0</td>\n",
       "      <td>1.530937e+06</td>\n",
       "      <td>1.530937e+06</td>\n",
       "    </tr>\n",
       "    <tr>\n",
       "      <th>mean</th>\n",
       "      <td>4.181534e+17</td>\n",
       "      <td>1.460950e+02</td>\n",
       "      <td>NaN</td>\n",
       "      <td>4.181798e+01</td>\n",
       "      <td>1.083568e+06</td>\n",
       "    </tr>\n",
       "    <tr>\n",
       "      <th>std</th>\n",
       "      <td>5.077212e+17</td>\n",
       "      <td>3.686472e+02</td>\n",
       "      <td>NaN</td>\n",
       "      <td>5.351443e+01</td>\n",
       "      <td>4.821147e+07</td>\n",
       "    </tr>\n",
       "    <tr>\n",
       "      <th>min</th>\n",
       "      <td>3.176000e+03</td>\n",
       "      <td>0.000000e+00</td>\n",
       "      <td>NaN</td>\n",
       "      <td>1.000000e+00</td>\n",
       "      <td>1.000000e+00</td>\n",
       "    </tr>\n",
       "    <tr>\n",
       "      <th>25%</th>\n",
       "      <td>1.981368e+07</td>\n",
       "      <td>5.300000e+01</td>\n",
       "      <td>NaN</td>\n",
       "      <td>2.000000e+00</td>\n",
       "      <td>1.800000e+02</td>\n",
       "    </tr>\n",
       "    <tr>\n",
       "      <th>50%</th>\n",
       "      <td>4.442589e+07</td>\n",
       "      <td>8.500000e+01</td>\n",
       "      <td>NaN</td>\n",
       "      <td>5.000000e+00</td>\n",
       "      <td>7.300000e+02</td>\n",
       "    </tr>\n",
       "    <tr>\n",
       "      <th>75%</th>\n",
       "      <td>9.511643e+17</td>\n",
       "      <td>1.400000e+02</td>\n",
       "      <td>NaN</td>\n",
       "      <td>9.200000e+01</td>\n",
       "      <td>1.125000e+03</td>\n",
       "    </tr>\n",
       "    <tr>\n",
       "      <th>max</th>\n",
       "      <td>1.315853e+18</td>\n",
       "      <td>1.000000e+04</td>\n",
       "      <td>NaN</td>\n",
       "      <td>1.125000e+03</td>\n",
       "      <td>2.147484e+09</td>\n",
       "    </tr>\n",
       "  </tbody>\n",
       "</table>\n",
       "</div>"
      ]
     },
     "execution_count": 359,
     "metadata": {},
     "output_type": "execute_result"
    }
   ],
   "execution_count": 359
  },
  {
   "metadata": {
    "ExecuteTime": {
     "end_time": "2025-04-10T15:56:41.479867Z",
     "start_time": "2025-04-10T15:56:41.359471Z"
    }
   },
   "cell_type": "code",
   "source": "calendar.info()",
   "id": "8792d3463c79c160",
   "outputs": [
    {
     "name": "stdout",
     "output_type": "stream",
     "text": [
      "<class 'pandas.core.frame.DataFrame'>\n",
      "RangeIndex: 1530937 entries, 0 to 1530936\n",
      "Data columns (total 7 columns):\n",
      " #   Column          Non-Null Count    Dtype  \n",
      "---  ------          --------------    -----  \n",
      " 0   listing_id      1530937 non-null  int64  \n",
      " 1   date            1530937 non-null  object \n",
      " 2   available       1530937 non-null  object \n",
      " 3   price           1530937 non-null  float64\n",
      " 4   adjusted_price  0 non-null        float64\n",
      " 5   minimum_nights  1530937 non-null  int64  \n",
      " 6   maximum_nights  1530937 non-null  int64  \n",
      "dtypes: float64(2), int64(3), object(2)\n",
      "memory usage: 81.8+ MB\n"
     ]
    }
   ],
   "execution_count": 360
  },
  {
   "metadata": {
    "ExecuteTime": {
     "end_time": "2025-04-10T15:56:41.488716Z",
     "start_time": "2025-04-10T15:56:41.482351Z"
    }
   },
   "cell_type": "code",
   "source": "calendar.head()",
   "id": "e530243386e451b4",
   "outputs": [
    {
     "data": {
      "text/plain": [
       "            listing_id        date available  price  adjusted_price  \\\n",
       "0             25934882  2025-07-19         f   25.0             NaN   \n",
       "1             18195157  2025-04-22         f   69.0             NaN   \n",
       "2              6936725  2025-08-23         f   45.0             NaN   \n",
       "3  1144212829079606426  2025-07-17         f   45.0             NaN   \n",
       "4   984806212481376557  2025-01-02         f   40.0             NaN   \n",
       "\n",
       "   minimum_nights  maximum_nights  \n",
       "0              92            1125  \n",
       "1               4              14  \n",
       "2              92            1125  \n",
       "3               2              15  \n",
       "4              92             180  "
      ],
      "text/html": [
       "<div>\n",
       "<style scoped>\n",
       "    .dataframe tbody tr th:only-of-type {\n",
       "        vertical-align: middle;\n",
       "    }\n",
       "\n",
       "    .dataframe tbody tr th {\n",
       "        vertical-align: top;\n",
       "    }\n",
       "\n",
       "    .dataframe thead th {\n",
       "        text-align: right;\n",
       "    }\n",
       "</style>\n",
       "<table border=\"1\" class=\"dataframe\">\n",
       "  <thead>\n",
       "    <tr style=\"text-align: right;\">\n",
       "      <th></th>\n",
       "      <th>listing_id</th>\n",
       "      <th>date</th>\n",
       "      <th>available</th>\n",
       "      <th>price</th>\n",
       "      <th>adjusted_price</th>\n",
       "      <th>minimum_nights</th>\n",
       "      <th>maximum_nights</th>\n",
       "    </tr>\n",
       "  </thead>\n",
       "  <tbody>\n",
       "    <tr>\n",
       "      <th>0</th>\n",
       "      <td>25934882</td>\n",
       "      <td>2025-07-19</td>\n",
       "      <td>f</td>\n",
       "      <td>25.0</td>\n",
       "      <td>NaN</td>\n",
       "      <td>92</td>\n",
       "      <td>1125</td>\n",
       "    </tr>\n",
       "    <tr>\n",
       "      <th>1</th>\n",
       "      <td>18195157</td>\n",
       "      <td>2025-04-22</td>\n",
       "      <td>f</td>\n",
       "      <td>69.0</td>\n",
       "      <td>NaN</td>\n",
       "      <td>4</td>\n",
       "      <td>14</td>\n",
       "    </tr>\n",
       "    <tr>\n",
       "      <th>2</th>\n",
       "      <td>6936725</td>\n",
       "      <td>2025-08-23</td>\n",
       "      <td>f</td>\n",
       "      <td>45.0</td>\n",
       "      <td>NaN</td>\n",
       "      <td>92</td>\n",
       "      <td>1125</td>\n",
       "    </tr>\n",
       "    <tr>\n",
       "      <th>3</th>\n",
       "      <td>1144212829079606426</td>\n",
       "      <td>2025-07-17</td>\n",
       "      <td>f</td>\n",
       "      <td>45.0</td>\n",
       "      <td>NaN</td>\n",
       "      <td>2</td>\n",
       "      <td>15</td>\n",
       "    </tr>\n",
       "    <tr>\n",
       "      <th>4</th>\n",
       "      <td>984806212481376557</td>\n",
       "      <td>2025-01-02</td>\n",
       "      <td>f</td>\n",
       "      <td>40.0</td>\n",
       "      <td>NaN</td>\n",
       "      <td>92</td>\n",
       "      <td>180</td>\n",
       "    </tr>\n",
       "  </tbody>\n",
       "</table>\n",
       "</div>"
      ]
     },
     "execution_count": 361,
     "metadata": {},
     "output_type": "execute_result"
    }
   ],
   "execution_count": 361
  },
  {
   "metadata": {
    "ExecuteTime": {
     "end_time": "2025-04-10T15:56:41.550186Z",
     "start_time": "2025-04-10T15:56:41.531086Z"
    }
   },
   "cell_type": "code",
   "source": "calendar[\"listing_id\"].value_counts().describe()",
   "id": "5052cfd8177c2152",
   "outputs": [
    {
     "data": {
      "text/plain": [
       "count    13984.000000\n",
       "mean       109.477760\n",
       "std          8.733588\n",
       "min         73.000000\n",
       "25%        104.000000\n",
       "50%        109.000000\n",
       "75%        115.000000\n",
       "max        143.000000\n",
       "Name: count, dtype: float64"
      ]
     },
     "execution_count": 362,
     "metadata": {},
     "output_type": "execute_result"
    }
   ],
   "execution_count": 362
  },
  {
   "metadata": {
    "ExecuteTime": {
     "end_time": "2025-04-10T15:56:41.628367Z",
     "start_time": "2025-04-10T15:56:41.589829Z"
    }
   },
   "cell_type": "code",
   "source": "len(calendar[\"listing_id\"].unique())",
   "id": "1cc5e2262d20d191",
   "outputs": [
    {
     "data": {
      "text/plain": [
       "13984"
      ]
     },
     "execution_count": 363,
     "metadata": {},
     "output_type": "execute_result"
    }
   ],
   "execution_count": 363
  },
  {
   "metadata": {
    "ExecuteTime": {
     "end_time": "2025-04-10T15:56:45.100520Z",
     "start_time": "2025-04-10T15:56:41.637315Z"
    }
   },
   "cell_type": "code",
   "source": [
    "date = calendar[\"date\"]\n",
    "\n",
    "print(date.describe())\n",
    "print(\"Min\", date.min())\n",
    "print(\"Max\", date.max())\n",
    "\n",
    "plt.hist(date.value_counts())\n",
    "plt.show()\n",
    "\n",
    "weekdays = calendar[\"date\"].head(10_000).apply(lambda d: pd.to_datetime(d).day_name()) # head bc of long calculation\n",
    "plt.hist(weekdays)"
   ],
   "id": "6e2d2ee8e7d03098",
   "outputs": [
    {
     "name": "stdout",
     "output_type": "stream",
     "text": [
      "count        1530937\n",
      "unique           365\n",
      "top       2025-09-28\n",
      "freq            4399\n",
      "Name: date, dtype: object\n",
      "Min 2024-12-21\n",
      "Max 2025-12-20\n"
     ]
    },
    {
     "data": {
      "text/plain": [
       "<Figure size 640x480 with 1 Axes>"
      ],
      "image/png": "[encoded data removed]"
     },
     "metadata": {},
     "output_type": "display_data"
    },
    {
     "data": {
      "text/plain": [
       "(array([1442., 1405.,    0., 1452.,    0., 1403., 1458.,    0., 1438.,\n",
       "        1402.]),\n",
       " array([0. , 0.6, 1.2, 1.8, 2.4, 3. , 3.6, 4.2, 4.8, 5.4, 6. ]),\n",
       " <BarContainer object of 10 artists>)"
      ]
     },
     "execution_count": 364,
     "metadata": {},
     "output_type": "execute_result"
    },
    {
     "data": {
      "text/plain": [
       "<Figure size 640x480 with 1 Axes>"
      ],
      "image/png": "[encoded data removed]"
     },
     "metadata": {},
     "output_type": "display_data"
    }
   ],
   "execution_count": 364
  },
  {
   "metadata": {
    "ExecuteTime": {
     "end_time": "2025-04-10T15:56:45.281612Z",
     "start_time": "2025-04-10T15:56:45.103301Z"
    }
   },
   "cell_type": "code",
   "source": [
    "plt.title(\"Availability\")\n",
    "plt.bar(x=calendar[\"available\"].value_counts().keys(), height=calendar[\"available\"].value_counts().values)"
   ],
   "id": "f036bcf49ce744e3",
   "outputs": [
    {
     "data": {
      "text/plain": [
       "<BarContainer object of 2 artists>"
      ]
     },
     "execution_count": 365,
     "metadata": {},
     "output_type": "execute_result"
    },
    {
     "data": {
      "text/plain": [
       "<Figure size 640x480 with 1 Axes>"
      ],
      "image/png": "[encoded data removed]"
     },
     "metadata": {},
     "output_type": "display_data"
    }
   ],
   "execution_count": 365
  },
  {
   "metadata": {
    "ExecuteTime": {
     "end_time": "2025-04-10T15:56:45.333524Z",
     "start_time": "2025-04-10T15:56:45.284463Z"
    }
   },
   "cell_type": "code",
   "source": [
    "price = calendar[\"price\"]\n",
    "price.describe()"
   ],
   "id": "d145f78eda1f80ab",
   "outputs": [
    {
     "data": {
      "text/plain": [
       "count    1.530937e+06\n",
       "mean     1.460950e+02\n",
       "std      3.686472e+02\n",
       "min      0.000000e+00\n",
       "25%      5.300000e+01\n",
       "50%      8.500000e+01\n",
       "75%      1.400000e+02\n",
       "max      1.000000e+04\n",
       "Name: price, dtype: float64"
      ]
     },
     "execution_count": 366,
     "metadata": {},
     "output_type": "execute_result"
    }
   ],
   "execution_count": 366
  },
  {
   "metadata": {
    "ExecuteTime": {
     "end_time": "2025-04-10T15:56:45.496112Z",
     "start_time": "2025-04-10T15:56:45.336228Z"
    }
   },
   "cell_type": "code",
   "source": [
    "plt.hist(price, bins=100)\n",
    "plt.show()"
   ],
   "id": "10765bb35e572732",
   "outputs": [
    {
     "data": {
      "text/plain": [
       "<Figure size 640x480 with 1 Axes>"
      ],
      "image/png": "[encoded data removed]"
     },
     "metadata": {},
     "output_type": "display_data"
    }
   ],
   "execution_count": 367
  },
  {
   "metadata": {
    "ExecuteTime": {
     "end_time": "2025-04-10T15:56:45.525383Z",
     "start_time": "2025-04-10T15:56:45.498817Z"
    }
   },
   "cell_type": "code",
   "source": [
    "print(price[price > 500].count())\n",
    "print(price.quantile(0.97))"
   ],
   "id": "8a9aa87ef7a8e6b0",
   "outputs": [
    {
     "name": "stdout",
     "output_type": "stream",
     "text": [
      "54007\n",
      "553.0\n"
     ]
    }
   ],
   "execution_count": 368
  },
  {
   "metadata": {
    "ExecuteTime": {
     "end_time": "2025-04-10T15:56:45.740387Z",
     "start_time": "2025-04-10T15:56:45.543935Z"
    }
   },
   "cell_type": "code",
   "source": [
    "upper_bound = price.quantile(0.97)\n",
    "price = price[price < upper_bound]\n",
    "plt.hist(price, bins=100)\n",
    "plt.title(\"Price distribution without outliers\")\n",
    "plt.show()"
   ],
   "id": "e337c06645f07ebc",
   "outputs": [
    {
     "data": {
      "text/plain": [
       "<Figure size 640x480 with 1 Axes>"
      ],
      "image/png": "[encoded data removed]"
     },
     "metadata": {},
     "output_type": "display_data"
    }
   ],
   "execution_count": 369
  },
  {
   "metadata": {
    "ExecuteTime": {
     "end_time": "2025-04-10T15:56:45.781604Z",
     "start_time": "2025-04-10T15:56:45.742845Z"
    }
   },
   "cell_type": "code",
   "source": [
    "print(calendar[\"adjusted_price\"].describe())\n",
    "print(calendar[\"adjusted_price\"].unique())"
   ],
   "id": "df6e66e45b5f0a7f",
   "outputs": [
    {
     "name": "stdout",
     "output_type": "stream",
     "text": [
      "count    0.0\n",
      "mean     NaN\n",
      "std      NaN\n",
      "min      NaN\n",
      "25%      NaN\n",
      "50%      NaN\n",
      "75%      NaN\n",
      "max      NaN\n",
      "Name: adjusted_price, dtype: float64\n",
      "[nan]\n"
     ]
    }
   ],
   "execution_count": 370
  },
  {
   "metadata": {
    "ExecuteTime": {
     "end_time": "2025-04-10T15:56:45.983154Z",
     "start_time": "2025-04-10T15:56:45.787736Z"
    }
   },
   "cell_type": "code",
   "source": [
    "minimum_nights = calendar[\"minimum_nights\"]\n",
    "\n",
    "print(minimum_nights.describe())\n",
    "plt.hist(minimum_nights, bins=100)\n",
    "plt.show()"
   ],
   "id": "97332aefcbcb5d7d",
   "outputs": [
    {
     "name": "stdout",
     "output_type": "stream",
     "text": [
      "count    1.530937e+06\n",
      "mean     4.181798e+01\n",
      "std      5.351443e+01\n",
      "min      1.000000e+00\n",
      "25%      2.000000e+00\n",
      "50%      5.000000e+00\n",
      "75%      9.200000e+01\n",
      "max      1.125000e+03\n",
      "Name: minimum_nights, dtype: float64\n"
     ]
    },
    {
     "data": {
      "text/plain": [
       "<Figure size 640x480 with 1 Axes>"
      ],
      "image/png": "[encoded data removed]"
     },
     "metadata": {},
     "output_type": "display_data"
    }
   ],
   "execution_count": 371
  },
  {
   "metadata": {
    "ExecuteTime": {
     "end_time": "2025-04-10T15:56:46.353665Z",
     "start_time": "2025-04-10T15:56:45.985884Z"
    }
   },
   "cell_type": "code",
   "source": [
    "print(minimum_nights[minimum_nights > 200].count())\n",
    "print(minimum_nights[minimum_nights > 300].count())\n",
    "q99 = minimum_nights.quantile(0.99)\n",
    "print(q99)\n",
    "plt.hist(minimum_nights[minimum_nights < q99], bins=100)\n",
    "plt.show()\n",
    "\n",
    "print(minimum_nights.value_counts())\n",
    "\n",
    "plt.boxplot(minimum_nights)\n",
    "plt.show()\n",
    "\n",
    "plt.boxplot(minimum_nights[minimum_nights < q99])\n",
    "plt.show()"
   ],
   "id": "1c9ca83cccce8b6c",
   "outputs": [
    {
     "name": "stdout",
     "output_type": "stream",
     "text": [
      "5804\n",
      "3293\n",
      "180.0\n"
     ]
    },
    {
     "data": {
      "text/plain": [
       "<Figure size 640x480 with 1 Axes>"
      ],
      "image/png": "[encoded data removed]"
     },
     "metadata": {},
     "output_type": "display_data"
    },
    {
     "name": "stdout",
     "output_type": "stream",
     "text": [
      "minimum_nights\n",
      "92     548615\n",
      "2      224119\n",
      "1      209186\n",
      "3      201385\n",
      "4       76797\n",
      "        ...  \n",
      "23          3\n",
      "68          2\n",
      "42          1\n",
      "305         1\n",
      "197         1\n",
      "Name: count, Length: 144, dtype: int64\n"
     ]
    },
    {
     "data": {
      "text/plain": [
       "<Figure size 640x480 with 1 Axes>"
      ],
      "image/png": "[encoded data removed]"
     },
     "metadata": {},
     "output_type": "display_data"
    },
    {
     "data": {
      "text/plain": [
       "<Figure size 640x480 with 1 Axes>"
      ],
      "image/png": "[encoded data removed]"
     },
     "metadata": {},
     "output_type": "display_data"
    }
   ],
   "execution_count": 372
  },
  {
   "metadata": {
    "ExecuteTime": {
     "end_time": "2025-04-10T15:56:46.815882Z",
     "start_time": "2025-04-10T15:56:46.356406Z"
    }
   },
   "cell_type": "code",
   "source": [
    "maximum_nights = calendar[\"maximum_nights\"]\n",
    "print(maximum_nights.describe())\n",
    "print(\"\\nValue counts\\n\",maximum_nights.value_counts())\n",
    "\n",
    "print(maximum_nights[maximum_nights == maximum_nights.max()].count())\n",
    "\n",
    "q99 = maximum_nights.quantile(0.99)\n",
    "print(q99)\n",
    "\n",
    "plt.hist(maximum_nights[maximum_nights < q99], bins=100)\n",
    "plt.show()\n",
    "\n",
    "plt.boxplot(maximum_nights)\n",
    "plt.show()\n",
    "\n",
    "plt.boxplot(maximum_nights[maximum_nights < q99])"
   ],
   "id": "519ee1af8bafa873",
   "outputs": [
    {
     "name": "stdout",
     "output_type": "stream",
     "text": [
      "count    1.530937e+06\n",
      "mean     1.083568e+06\n",
      "std      4.821147e+07\n",
      "min      1.000000e+00\n",
      "25%      1.800000e+02\n",
      "50%      7.300000e+02\n",
      "75%      1.125000e+03\n",
      "max      2.147484e+09\n",
      "Name: maximum_nights, dtype: float64\n",
      "\n",
      "Value counts\n",
      " maximum_nights\n",
      "1125    709379\n",
      "365     306224\n",
      "30       45658\n",
      "180      33880\n",
      "14       31089\n",
      "         ...  \n",
      "286          1\n",
      "215          1\n",
      "171          1\n",
      "159          1\n",
      "284          1\n",
      "Name: count, Length: 330, dtype: int64\n",
      "772\n",
      "1125.0\n"
     ]
    },
    {
     "data": {
      "text/plain": [
       "<Figure size 640x480 with 1 Axes>"
      ],
      "image/png": "[encoded data removed]"
     },
     "metadata": {},
     "output_type": "display_data"
    },
    {
     "data": {
      "text/plain": [
       "<Figure size 640x480 with 1 Axes>"
      ],
      "image/png": "[encoded data removed]"
     },
     "metadata": {},
     "output_type": "display_data"
    },
    {
     "data": {
      "text/plain": [
       "{'whiskers': [<matplotlib.lines.Line2D at 0x767d11371a90>,\n",
       "  <matplotlib.lines.Line2D at 0x767d11371070>],\n",
       " 'caps': [<matplotlib.lines.Line2D at 0x767d113713d0>,\n",
       "  <matplotlib.lines.Line2D at 0x767d11372d80>],\n",
       " 'boxes': [<matplotlib.lines.Line2D at 0x767d11373140>],\n",
       " 'medians': [<matplotlib.lines.Line2D at 0x767d11372bd0>],\n",
       " 'fliers': [<matplotlib.lines.Line2D at 0x767d11370290>],\n",
       " 'means': []}"
      ]
     },
     "execution_count": 373,
     "metadata": {},
     "output_type": "execute_result"
    },
    {
     "data": {
      "text/plain": [
       "<Figure size 640x480 with 1 Axes>"
      ],
      "image/png": "[encoded data removed]"
     },
     "metadata": {},
     "output_type": "display_data"
    }
   ],
   "execution_count": 373
  },
  {
   "metadata": {
    "ExecuteTime": {
     "end_time": "2025-04-10T15:56:47.014934Z",
     "start_time": "2025-04-10T15:56:46.818510Z"
    }
   },
   "cell_type": "code",
   "source": "calendar.groupby(\"date\")[\"price\"].mean().plot()",
   "id": "9fc50157b955ffa9",
   "outputs": [
    {
     "data": {
      "text/plain": [
       "<Axes: xlabel='date'>"
      ]
     },
     "execution_count": 374,
     "metadata": {},
     "output_type": "execute_result"
    },
    {
     "data": {
      "text/plain": [
       "<Figure size 640x480 with 1 Axes>"
      ],
      "image/png": "[encoded data removed]"
     },
     "metadata": {},
     "output_type": "display_data"
    }
   ],
   "execution_count": 374
  },
  {
   "metadata": {},
   "cell_type": "markdown",
   "source": [
    "## Listings\n",
    "\n",
    "Wnioski\n",
    "\n",
    "* Ponad 80% ocen zawiera się między 4.5 a 5.0"
   ],
   "id": "28d8f79b554c80df"
  },
  {
   "metadata": {
    "ExecuteTime": {
     "end_time": "2025-04-10T15:56:47.040166Z",
     "start_time": "2025-04-10T15:56:47.023303Z"
    }
   },
   "cell_type": "code",
   "source": "listings.head()",
   "id": "b7e0c036dc52774",
   "outputs": [
    {
     "data": {
      "text/plain": [
       "                    id                                      listing_url  \\\n",
       "0  1047164111839138424  https://www.nocarz.pl/rooms/1047164111839138424   \n",
       "1             24793153             https://www.nocarz.pl/rooms/24793153   \n",
       "2              9768263              https://www.nocarz.pl/rooms/9768263   \n",
       "3   798586109549068377   https://www.nocarz.pl/rooms/798586109549068377   \n",
       "4             28806732             https://www.nocarz.pl/rooms/28806732   \n",
       "\n",
       "        scrape_id last_scraped           source  \\\n",
       "0  20241221052002   2024-12-21      city scrape   \n",
       "1  20241221052002   2024-12-21  previous scrape   \n",
       "2  20241221052002   2024-12-21  previous scrape   \n",
       "3  20241221052002   2024-12-21      city scrape   \n",
       "4  20241221052002   2024-12-21  previous scrape   \n",
       "\n",
       "                                            name  \\\n",
       "0  Privatzimmer in Neukölln/Rixdorf (Erdgeschoß)   \n",
       "1                 Ganze Wohnung in Berlin Pankow   \n",
       "2                  Loftapartment Prenzlauer Berg   \n",
       "3   Colorful apartment in Schillerkiez, Neukölln   \n",
       "4                                  Neukölln Home   \n",
       "\n",
       "                                         description  \\\n",
       "0  Hey dear guests, <br /><br />the room has a be...   \n",
       "1  Cozy furnished and spacious 2 bedroom apartmen...   \n",
       "2  enjoy Berlin on 88 square meter in our sunny, ...   \n",
       "3  Enjoy the this colorful home in “Berlin’s cool...   \n",
       "4  Loft bed, fold out couch, kitchen and balcony ...   \n",
       "\n",
       "                               neighborhood_overview  \\\n",
       "0                                                NaN   \n",
       "1                                                NaN   \n",
       "2  Situated in the hard of 'Prenzlauer Berg' you'...   \n",
       "3  Voted \"coolest neighborhood\" by Time Out Magaz...   \n",
       "4  Plenty of neighbourhood bars and cafes to keep...   \n",
       "\n",
       "                                         picture_url    host_id  ...  \\\n",
       "0  https://a0.muscache.com/pictures/hosting/Hosti...  541377699  ...   \n",
       "1  https://a0.muscache.com/pictures/miso/Hosting-...   63053103  ...   \n",
       "2  https://a0.muscache.com/pictures/4c096212-fe21...   21256997  ...   \n",
       "3  https://a0.muscache.com/pictures/miso/Hosting-...     564509  ...   \n",
       "4  https://a0.muscache.com/pictures/60151487-cc67...  217262525  ...   \n",
       "\n",
       "  review_scores_communication review_scores_location review_scores_value  \\\n",
       "0                        4.95                   4.86                4.70   \n",
       "1                        4.79                   4.71                4.71   \n",
       "2                        5.00                   4.90                4.80   \n",
       "3                         NaN                    NaN                 NaN   \n",
       "4                        5.00                   4.60                4.40   \n",
       "\n",
       "                                             license instant_bookable  \\\n",
       "0                                  08/Z/AZ/014226-24                t   \n",
       "1  First name and Last name: Jana Roskosova  <br/...                f   \n",
       "2                                                NaN                f   \n",
       "3                                                NaN                f   \n",
       "4                                                NaN                f   \n",
       "\n",
       "  calculated_host_listings_count calculated_host_listings_count_entire_homes  \\\n",
       "0                              1                                           0   \n",
       "1                              1                                           1   \n",
       "2                              1                                           1   \n",
       "3                              1                                           1   \n",
       "4                              1                                           1   \n",
       "\n",
       "  calculated_host_listings_count_private_rooms  \\\n",
       "0                                            1   \n",
       "1                                            0   \n",
       "2                                            0   \n",
       "3                                            0   \n",
       "4                                            0   \n",
       "\n",
       "  calculated_host_listings_count_shared_rooms reviews_per_month  \n",
       "0                                           0              6.94  \n",
       "1                                           0              0.67  \n",
       "2                                           0              0.09  \n",
       "3                                           0               NaN  \n",
       "4                                           0              0.07  \n",
       "\n",
       "[5 rows x 75 columns]"
      ],
      "text/html": [
       "<div>\n",
       "<style scoped>\n",
       "    .dataframe tbody tr th:only-of-type {\n",
       "        vertical-align: middle;\n",
       "    }\n",
       "\n",
       "    .dataframe tbody tr th {\n",
       "        vertical-align: top;\n",
       "    }\n",
       "\n",
       "    .dataframe thead th {\n",
       "        text-align: right;\n",
       "    }\n",
       "</style>\n",
       "<table border=\"1\" class=\"dataframe\">\n",
       "  <thead>\n",
       "    <tr style=\"text-align: right;\">\n",
       "      <th></th>\n",
       "      <th>id</th>\n",
       "      <th>listing_url</th>\n",
       "      <th>scrape_id</th>\n",
       "      <th>last_scraped</th>\n",
       "      <th>source</th>\n",
       "      <th>name</th>\n",
       "      <th>description</th>\n",
       "      <th>neighborhood_overview</th>\n",
       "      <th>picture_url</th>\n",
       "      <th>host_id</th>\n",
       "      <th>...</th>\n",
       "      <th>review_scores_communication</th>\n",
       "      <th>review_scores_location</th>\n",
       "      <th>review_scores_value</th>\n",
       "      <th>license</th>\n",
       "      <th>instant_bookable</th>\n",
       "      <th>calculated_host_listings_count</th>\n",
       "      <th>calculated_host_listings_count_entire_homes</th>\n",
       "      <th>calculated_host_listings_count_private_rooms</th>\n",
       "      <th>calculated_host_listings_count_shared_rooms</th>\n",
       "      <th>reviews_per_month</th>\n",
       "    </tr>\n",
       "  </thead>\n",
       "  <tbody>\n",
       "    <tr>\n",
       "      <th>0</th>\n",
       "      <td>1047164111839138424</td>\n",
       "      <td>https://www.nocarz.pl/rooms/1047164111839138424</td>\n",
       "      <td>20241221052002</td>\n",
       "      <td>2024-12-21</td>\n",
       "      <td>city scrape</td>\n",
       "      <td>Privatzimmer in Neukölln/Rixdorf (Erdgeschoß)</td>\n",
       "      <td>Hey dear guests, &lt;br /&gt;&lt;br /&gt;the room has a be...</td>\n",
       "      <td>NaN</td>\n",
       "      <td>https://a0.muscache.com/pictures/hosting/Hosti...</td>\n",
       "      <td>541377699</td>\n",
       "      <td>...</td>\n",
       "      <td>4.95</td>\n",
       "      <td>4.86</td>\n",
       "      <td>4.70</td>\n",
       "      <td>08/Z/AZ/014226-24</td>\n",
       "      <td>t</td>\n",
       "      <td>1</td>\n",
       "      <td>0</td>\n",
       "      <td>1</td>\n",
       "      <td>0</td>\n",
       "      <td>6.94</td>\n",
       "    </tr>\n",
       "    <tr>\n",
       "      <th>1</th>\n",
       "      <td>24793153</td>\n",
       "      <td>https://www.nocarz.pl/rooms/24793153</td>\n",
       "      <td>20241221052002</td>\n",
       "      <td>2024-12-21</td>\n",
       "      <td>previous scrape</td>\n",
       "      <td>Ganze Wohnung in Berlin Pankow</td>\n",
       "      <td>Cozy furnished and spacious 2 bedroom apartmen...</td>\n",
       "      <td>NaN</td>\n",
       "      <td>https://a0.muscache.com/pictures/miso/Hosting-...</td>\n",
       "      <td>63053103</td>\n",
       "      <td>...</td>\n",
       "      <td>4.79</td>\n",
       "      <td>4.71</td>\n",
       "      <td>4.71</td>\n",
       "      <td>First name and Last name: Jana Roskosova  &lt;br/...</td>\n",
       "      <td>f</td>\n",
       "      <td>1</td>\n",
       "      <td>1</td>\n",
       "      <td>0</td>\n",
       "      <td>0</td>\n",
       "      <td>0.67</td>\n",
       "    </tr>\n",
       "    <tr>\n",
       "      <th>2</th>\n",
       "      <td>9768263</td>\n",
       "      <td>https://www.nocarz.pl/rooms/9768263</td>\n",
       "      <td>20241221052002</td>\n",
       "      <td>2024-12-21</td>\n",
       "      <td>previous scrape</td>\n",
       "      <td>Loftapartment Prenzlauer Berg</td>\n",
       "      <td>enjoy Berlin on 88 square meter in our sunny, ...</td>\n",
       "      <td>Situated in the hard of 'Prenzlauer Berg' you'...</td>\n",
       "      <td>https://a0.muscache.com/pictures/4c096212-fe21...</td>\n",
       "      <td>21256997</td>\n",
       "      <td>...</td>\n",
       "      <td>5.00</td>\n",
       "      <td>4.90</td>\n",
       "      <td>4.80</td>\n",
       "      <td>NaN</td>\n",
       "      <td>f</td>\n",
       "      <td>1</td>\n",
       "      <td>1</td>\n",
       "      <td>0</td>\n",
       "      <td>0</td>\n",
       "      <td>0.09</td>\n",
       "    </tr>\n",
       "    <tr>\n",
       "      <th>3</th>\n",
       "      <td>798586109549068377</td>\n",
       "      <td>https://www.nocarz.pl/rooms/798586109549068377</td>\n",
       "      <td>20241221052002</td>\n",
       "      <td>2024-12-21</td>\n",
       "      <td>city scrape</td>\n",
       "      <td>Colorful apartment in Schillerkiez, Neukölln</td>\n",
       "      <td>Enjoy the this colorful home in “Berlin’s cool...</td>\n",
       "      <td>Voted \"coolest neighborhood\" by Time Out Magaz...</td>\n",
       "      <td>https://a0.muscache.com/pictures/miso/Hosting-...</td>\n",
       "      <td>564509</td>\n",
       "      <td>...</td>\n",
       "      <td>NaN</td>\n",
       "      <td>NaN</td>\n",
       "      <td>NaN</td>\n",
       "      <td>NaN</td>\n",
       "      <td>f</td>\n",
       "      <td>1</td>\n",
       "      <td>1</td>\n",
       "      <td>0</td>\n",
       "      <td>0</td>\n",
       "      <td>NaN</td>\n",
       "    </tr>\n",
       "    <tr>\n",
       "      <th>4</th>\n",
       "      <td>28806732</td>\n",
       "      <td>https://www.nocarz.pl/rooms/28806732</td>\n",
       "      <td>20241221052002</td>\n",
       "      <td>2024-12-21</td>\n",
       "      <td>previous scrape</td>\n",
       "      <td>Neukölln Home</td>\n",
       "      <td>Loft bed, fold out couch, kitchen and balcony ...</td>\n",
       "      <td>Plenty of neighbourhood bars and cafes to keep...</td>\n",
       "      <td>https://a0.muscache.com/pictures/60151487-cc67...</td>\n",
       "      <td>217262525</td>\n",
       "      <td>...</td>\n",
       "      <td>5.00</td>\n",
       "      <td>4.60</td>\n",
       "      <td>4.40</td>\n",
       "      <td>NaN</td>\n",
       "      <td>f</td>\n",
       "      <td>1</td>\n",
       "      <td>1</td>\n",
       "      <td>0</td>\n",
       "      <td>0</td>\n",
       "      <td>0.07</td>\n",
       "    </tr>\n",
       "  </tbody>\n",
       "</table>\n",
       "<p>5 rows × 75 columns</p>\n",
       "</div>"
      ]
     },
     "execution_count": 375,
     "metadata": {},
     "output_type": "execute_result"
    }
   ],
   "execution_count": 375
  },
  {
   "metadata": {
    "ExecuteTime": {
     "end_time": "2025-04-10T15:56:47.127872Z",
     "start_time": "2025-04-10T15:56:47.124509Z"
    }
   },
   "cell_type": "code",
   "source": "for c in listings.columns: print(c)",
   "id": "113fe41e0f49ccd8",
   "outputs": [
    {
     "name": "stdout",
     "output_type": "stream",
     "text": [
      "id\n",
      "listing_url\n",
      "scrape_id\n",
      "last_scraped\n",
      "source\n",
      "name\n",
      "description\n",
      "neighborhood_overview\n",
      "picture_url\n",
      "host_id\n",
      "host_url\n",
      "host_name\n",
      "host_since\n",
      "host_location\n",
      "host_about\n",
      "host_response_time\n",
      "host_response_rate\n",
      "host_acceptance_rate\n",
      "host_is_superhost\n",
      "host_thumbnail_url\n",
      "host_picture_url\n",
      "host_neighbourhood\n",
      "host_listings_count\n",
      "host_total_listings_count\n",
      "host_verifications\n",
      "host_has_profile_pic\n",
      "host_identity_verified\n",
      "neighbourhood\n",
      "neighbourhood_cleansed\n",
      "neighbourhood_group_cleansed\n",
      "latitude\n",
      "longitude\n",
      "property_type\n",
      "room_type\n",
      "accommodates\n",
      "bathrooms\n",
      "bathrooms_text\n",
      "bedrooms\n",
      "beds\n",
      "amenities\n",
      "price\n",
      "minimum_nights\n",
      "maximum_nights\n",
      "minimum_minimum_nights\n",
      "maximum_minimum_nights\n",
      "minimum_maximum_nights\n",
      "maximum_maximum_nights\n",
      "minimum_nights_avg_ntm\n",
      "maximum_nights_avg_ntm\n",
      "calendar_updated\n",
      "has_availability\n",
      "availability_30\n",
      "availability_60\n",
      "availability_90\n",
      "availability_365\n",
      "calendar_last_scraped\n",
      "number_of_reviews\n",
      "number_of_reviews_ltm\n",
      "number_of_reviews_l30d\n",
      "first_review\n",
      "last_review\n",
      "review_scores_rating\n",
      "review_scores_accuracy\n",
      "review_scores_cleanliness\n",
      "review_scores_checkin\n",
      "review_scores_communication\n",
      "review_scores_location\n",
      "review_scores_value\n",
      "license\n",
      "instant_bookable\n",
      "calculated_host_listings_count\n",
      "calculated_host_listings_count_entire_homes\n",
      "calculated_host_listings_count_private_rooms\n",
      "calculated_host_listings_count_shared_rooms\n",
      "reviews_per_month\n"
     ]
    }
   ],
   "execution_count": 376
  },
  {
   "metadata": {
    "ExecuteTime": {
     "end_time": "2025-04-10T15:56:47.176083Z",
     "start_time": "2025-04-10T15:56:47.172925Z"
    }
   },
   "cell_type": "code",
   "source": [
    "def drop_useless_columns(df):\n",
    "\n",
    "    cols_to_drop = [\n",
    "        \"id\",\n",
    "        \"listing_url\",\n",
    "        \"scrape_id\",\n",
    "        \"last_scraped\",\n",
    "        \"source\",\n",
    "        \"picture_url\",\n",
    "        \"host_name\",\n",
    "        \"host_url\",\n",
    "        \"host_thumbnail_url\",\n",
    "        \"host_picture_url\",\n",
    "        \"calendar_last_scraped\",\n",
    "        \"neighbourhood\",\n",
    "        \"host_location\",\n",
    "        \"host_neighbourhood\",\n",
    "        \"neighbourhood_cleansed\",\n",
    "    ]\n",
    "\n",
    "    return df.drop(columns=cols_to_drop)"
   ],
   "id": "72c11e90ae53a7be",
   "outputs": [],
   "execution_count": 377
  },
  {
   "metadata": {
    "ExecuteTime": {
     "end_time": "2025-04-10T15:56:47.246458Z",
     "start_time": "2025-04-10T15:56:47.242771Z"
    }
   },
   "cell_type": "code",
   "source": [
    "def drop_fulltext_columns(df):\n",
    "    \"\"\"Text columns that are useless but could be processed with an LLM(?)\"\"\"\n",
    "    text_columns = [\n",
    "        \"name\",\n",
    "        \"description\",\n",
    "        \"neighborhood_overview\",\n",
    "        \"host_about\",\n",
    "        \"license\",\n",
    "    ]\n",
    "\n",
    "    return df.drop(columns=text_columns)"
   ],
   "id": "9c86b2d784f9fbd9",
   "outputs": [],
   "execution_count": 378
  },
  {
   "metadata": {
    "ExecuteTime": {
     "end_time": "2025-04-10T15:56:47.369847Z",
     "start_time": "2025-04-10T15:56:47.365581Z"
    }
   },
   "cell_type": "code",
   "source": "listings = drop_useless_columns(listings)",
   "id": "a5b822f245052600",
   "outputs": [],
   "execution_count": 379
  },
  {
   "metadata": {
    "ExecuteTime": {
     "end_time": "2025-04-10T15:56:47.415198Z",
     "start_time": "2025-04-10T15:56:47.398037Z"
    }
   },
   "cell_type": "code",
   "source": "listings.head()",
   "id": "9e679e215a15440a",
   "outputs": [
    {
     "data": {
      "text/plain": [
       "                                            name  \\\n",
       "0  Privatzimmer in Neukölln/Rixdorf (Erdgeschoß)   \n",
       "1                 Ganze Wohnung in Berlin Pankow   \n",
       "2                  Loftapartment Prenzlauer Berg   \n",
       "3   Colorful apartment in Schillerkiez, Neukölln   \n",
       "4                                  Neukölln Home   \n",
       "\n",
       "                                         description  \\\n",
       "0  Hey dear guests, <br /><br />the room has a be...   \n",
       "1  Cozy furnished and spacious 2 bedroom apartmen...   \n",
       "2  enjoy Berlin on 88 square meter in our sunny, ...   \n",
       "3  Enjoy the this colorful home in “Berlin’s cool...   \n",
       "4  Loft bed, fold out couch, kitchen and balcony ...   \n",
       "\n",
       "                               neighborhood_overview    host_id  host_since  \\\n",
       "0                                                NaN  541377699  2023-10-11   \n",
       "1                                                NaN   63053103  2016-03-15   \n",
       "2  Situated in the hard of 'Prenzlauer Berg' you'...   21256997  2014-09-12   \n",
       "3  Voted \"coolest neighborhood\" by Time Out Magaz...     564509  2011-05-07   \n",
       "4  Plenty of neighbourhood bars and cafes to keep...  217262525  2018-09-25   \n",
       "\n",
       "                                 host_about host_response_time  \\\n",
       "0                                       NaN     within an hour   \n",
       "1                                       NaN                NaN   \n",
       "2                                       NaN                NaN   \n",
       "3  Passion for music and playing the piano.                NaN   \n",
       "4                                       NaN                NaN   \n",
       "\n",
       "  host_response_rate host_acceptance_rate host_is_superhost  ...  \\\n",
       "0               100%                 100%                 t  ...   \n",
       "1                NaN                  NaN                 f  ...   \n",
       "2                NaN                  NaN                 f  ...   \n",
       "3                NaN                   0%                 f  ...   \n",
       "4                NaN                  NaN                 f  ...   \n",
       "\n",
       "   review_scores_communication  review_scores_location review_scores_value  \\\n",
       "0                         4.95                    4.86                4.70   \n",
       "1                         4.79                    4.71                4.71   \n",
       "2                         5.00                    4.90                4.80   \n",
       "3                          NaN                     NaN                 NaN   \n",
       "4                         5.00                    4.60                4.40   \n",
       "\n",
       "                                             license instant_bookable  \\\n",
       "0                                  08/Z/AZ/014226-24                t   \n",
       "1  First name and Last name: Jana Roskosova  <br/...                f   \n",
       "2                                                NaN                f   \n",
       "3                                                NaN                f   \n",
       "4                                                NaN                f   \n",
       "\n",
       "  calculated_host_listings_count  calculated_host_listings_count_entire_homes  \\\n",
       "0                              1                                            0   \n",
       "1                              1                                            1   \n",
       "2                              1                                            1   \n",
       "3                              1                                            1   \n",
       "4                              1                                            1   \n",
       "\n",
       "   calculated_host_listings_count_private_rooms  \\\n",
       "0                                             1   \n",
       "1                                             0   \n",
       "2                                             0   \n",
       "3                                             0   \n",
       "4                                             0   \n",
       "\n",
       "  calculated_host_listings_count_shared_rooms reviews_per_month  \n",
       "0                                           0              6.94  \n",
       "1                                           0              0.67  \n",
       "2                                           0              0.09  \n",
       "3                                           0               NaN  \n",
       "4                                           0              0.07  \n",
       "\n",
       "[5 rows x 60 columns]"
      ],
      "text/html": [
       "<div>\n",
       "<style scoped>\n",
       "    .dataframe tbody tr th:only-of-type {\n",
       "        vertical-align: middle;\n",
       "    }\n",
       "\n",
       "    .dataframe tbody tr th {\n",
       "        vertical-align: top;\n",
       "    }\n",
       "\n",
       "    .dataframe thead th {\n",
       "        text-align: right;\n",
       "    }\n",
       "</style>\n",
       "<table border=\"1\" class=\"dataframe\">\n",
       "  <thead>\n",
       "    <tr style=\"text-align: right;\">\n",
       "      <th></th>\n",
       "      <th>name</th>\n",
       "      <th>description</th>\n",
       "      <th>neighborhood_overview</th>\n",
       "      <th>host_id</th>\n",
       "      <th>host_since</th>\n",
       "      <th>host_about</th>\n",
       "      <th>host_response_time</th>\n",
       "      <th>host_response_rate</th>\n",
       "      <th>host_acceptance_rate</th>\n",
       "      <th>host_is_superhost</th>\n",
       "      <th>...</th>\n",
       "      <th>review_scores_communication</th>\n",
       "      <th>review_scores_location</th>\n",
       "      <th>review_scores_value</th>\n",
       "      <th>license</th>\n",
       "      <th>instant_bookable</th>\n",
       "      <th>calculated_host_listings_count</th>\n",
       "      <th>calculated_host_listings_count_entire_homes</th>\n",
       "      <th>calculated_host_listings_count_private_rooms</th>\n",
       "      <th>calculated_host_listings_count_shared_rooms</th>\n",
       "      <th>reviews_per_month</th>\n",
       "    </tr>\n",
       "  </thead>\n",
       "  <tbody>\n",
       "    <tr>\n",
       "      <th>0</th>\n",
       "      <td>Privatzimmer in Neukölln/Rixdorf (Erdgeschoß)</td>\n",
       "      <td>Hey dear guests, &lt;br /&gt;&lt;br /&gt;the room has a be...</td>\n",
       "      <td>NaN</td>\n",
       "      <td>541377699</td>\n",
       "      <td>2023-10-11</td>\n",
       "      <td>NaN</td>\n",
       "      <td>within an hour</td>\n",
       "      <td>100%</td>\n",
       "      <td>100%</td>\n",
       "      <td>t</td>\n",
       "      <td>...</td>\n",
       "      <td>4.95</td>\n",
       "      <td>4.86</td>\n",
       "      <td>4.70</td>\n",
       "      <td>08/Z/AZ/014226-24</td>\n",
       "      <td>t</td>\n",
       "      <td>1</td>\n",
       "      <td>0</td>\n",
       "      <td>1</td>\n",
       "      <td>0</td>\n",
       "      <td>6.94</td>\n",
       "    </tr>\n",
       "    <tr>\n",
       "      <th>1</th>\n",
       "      <td>Ganze Wohnung in Berlin Pankow</td>\n",
       "      <td>Cozy furnished and spacious 2 bedroom apartmen...</td>\n",
       "      <td>NaN</td>\n",
       "      <td>63053103</td>\n",
       "      <td>2016-03-15</td>\n",
       "      <td>NaN</td>\n",
       "      <td>NaN</td>\n",
       "      <td>NaN</td>\n",
       "      <td>NaN</td>\n",
       "      <td>f</td>\n",
       "      <td>...</td>\n",
       "      <td>4.79</td>\n",
       "      <td>4.71</td>\n",
       "      <td>4.71</td>\n",
       "      <td>First name and Last name: Jana Roskosova  &lt;br/...</td>\n",
       "      <td>f</td>\n",
       "      <td>1</td>\n",
       "      <td>1</td>\n",
       "      <td>0</td>\n",
       "      <td>0</td>\n",
       "      <td>0.67</td>\n",
       "    </tr>\n",
       "    <tr>\n",
       "      <th>2</th>\n",
       "      <td>Loftapartment Prenzlauer Berg</td>\n",
       "      <td>enjoy Berlin on 88 square meter in our sunny, ...</td>\n",
       "      <td>Situated in the hard of 'Prenzlauer Berg' you'...</td>\n",
       "      <td>21256997</td>\n",
       "      <td>2014-09-12</td>\n",
       "      <td>NaN</td>\n",
       "      <td>NaN</td>\n",
       "      <td>NaN</td>\n",
       "      <td>NaN</td>\n",
       "      <td>f</td>\n",
       "      <td>...</td>\n",
       "      <td>5.00</td>\n",
       "      <td>4.90</td>\n",
       "      <td>4.80</td>\n",
       "      <td>NaN</td>\n",
       "      <td>f</td>\n",
       "      <td>1</td>\n",
       "      <td>1</td>\n",
       "      <td>0</td>\n",
       "      <td>0</td>\n",
       "      <td>0.09</td>\n",
       "    </tr>\n",
       "    <tr>\n",
       "      <th>3</th>\n",
       "      <td>Colorful apartment in Schillerkiez, Neukölln</td>\n",
       "      <td>Enjoy the this colorful home in “Berlin’s cool...</td>\n",
       "      <td>Voted \"coolest neighborhood\" by Time Out Magaz...</td>\n",
       "      <td>564509</td>\n",
       "      <td>2011-05-07</td>\n",
       "      <td>Passion for music and playing the piano.</td>\n",
       "      <td>NaN</td>\n",
       "      <td>NaN</td>\n",
       "      <td>0%</td>\n",
       "      <td>f</td>\n",
       "      <td>...</td>\n",
       "      <td>NaN</td>\n",
       "      <td>NaN</td>\n",
       "      <td>NaN</td>\n",
       "      <td>NaN</td>\n",
       "      <td>f</td>\n",
       "      <td>1</td>\n",
       "      <td>1</td>\n",
       "      <td>0</td>\n",
       "      <td>0</td>\n",
       "      <td>NaN</td>\n",
       "    </tr>\n",
       "    <tr>\n",
       "      <th>4</th>\n",
       "      <td>Neukölln Home</td>\n",
       "      <td>Loft bed, fold out couch, kitchen and balcony ...</td>\n",
       "      <td>Plenty of neighbourhood bars and cafes to keep...</td>\n",
       "      <td>217262525</td>\n",
       "      <td>2018-09-25</td>\n",
       "      <td>NaN</td>\n",
       "      <td>NaN</td>\n",
       "      <td>NaN</td>\n",
       "      <td>NaN</td>\n",
       "      <td>f</td>\n",
       "      <td>...</td>\n",
       "      <td>5.00</td>\n",
       "      <td>4.60</td>\n",
       "      <td>4.40</td>\n",
       "      <td>NaN</td>\n",
       "      <td>f</td>\n",
       "      <td>1</td>\n",
       "      <td>1</td>\n",
       "      <td>0</td>\n",
       "      <td>0</td>\n",
       "      <td>0.07</td>\n",
       "    </tr>\n",
       "  </tbody>\n",
       "</table>\n",
       "<p>5 rows × 60 columns</p>\n",
       "</div>"
      ]
     },
     "execution_count": 380,
     "metadata": {},
     "output_type": "execute_result"
    }
   ],
   "execution_count": 380
  },
  {
   "metadata": {
    "ExecuteTime": {
     "end_time": "2025-04-10T15:56:47.512572Z",
     "start_time": "2025-04-10T15:56:47.500290Z"
    }
   },
   "cell_type": "code",
   "source": "listings.info()",
   "id": "e85e6e2f95f5b5d6",
   "outputs": [
    {
     "name": "stdout",
     "output_type": "stream",
     "text": [
      "<class 'pandas.core.frame.DataFrame'>\n",
      "RangeIndex: 4195 entries, 0 to 4194\n",
      "Data columns (total 60 columns):\n",
      " #   Column                                        Non-Null Count  Dtype  \n",
      "---  ------                                        --------------  -----  \n",
      " 0   name                                          4195 non-null   object \n",
      " 1   description                                   4010 non-null   object \n",
      " 2   neighborhood_overview                         2054 non-null   object \n",
      " 3   host_id                                       4195 non-null   int64  \n",
      " 4   host_since                                    4192 non-null   object \n",
      " 5   host_about                                    2186 non-null   object \n",
      " 6   host_response_time                            2566 non-null   object \n",
      " 7   host_response_rate                            2566 non-null   object \n",
      " 8   host_acceptance_rate                          2831 non-null   object \n",
      " 9   host_is_superhost                             4160 non-null   object \n",
      " 10  host_listings_count                           4192 non-null   float64\n",
      " 11  host_total_listings_count                     4192 non-null   float64\n",
      " 12  host_verifications                            4192 non-null   object \n",
      " 13  host_has_profile_pic                          4192 non-null   object \n",
      " 14  host_identity_verified                        4192 non-null   object \n",
      " 15  neighbourhood_group_cleansed                  4195 non-null   object \n",
      " 16  latitude                                      4195 non-null   float64\n",
      " 17  longitude                                     4195 non-null   float64\n",
      " 18  property_type                                 4195 non-null   object \n",
      " 19  room_type                                     4195 non-null   object \n",
      " 20  accommodates                                  4195 non-null   int64  \n",
      " 21  bathrooms                                     2676 non-null   float64\n",
      " 22  bathrooms_text                                4192 non-null   object \n",
      " 23  bedrooms                                      3574 non-null   float64\n",
      " 24  beds                                          2666 non-null   float64\n",
      " 25  amenities                                     4195 non-null   object \n",
      " 26  price                                         2674 non-null   object \n",
      " 27  minimum_nights                                4195 non-null   int64  \n",
      " 28  maximum_nights                                4195 non-null   int64  \n",
      " 29  minimum_minimum_nights                        4195 non-null   int64  \n",
      " 30  maximum_minimum_nights                        4195 non-null   int64  \n",
      " 31  minimum_maximum_nights                        4195 non-null   int64  \n",
      " 32  maximum_maximum_nights                        4195 non-null   int64  \n",
      " 33  minimum_nights_avg_ntm                        4195 non-null   float64\n",
      " 34  maximum_nights_avg_ntm                        4195 non-null   float64\n",
      " 35  calendar_updated                              0 non-null      float64\n",
      " 36  has_availability                              3933 non-null   object \n",
      " 37  availability_30                               4195 non-null   int64  \n",
      " 38  availability_60                               4195 non-null   int64  \n",
      " 39  availability_90                               4195 non-null   int64  \n",
      " 40  availability_365                              4195 non-null   int64  \n",
      " 41  number_of_reviews                             4195 non-null   int64  \n",
      " 42  number_of_reviews_ltm                         4195 non-null   int64  \n",
      " 43  number_of_reviews_l30d                        4195 non-null   int64  \n",
      " 44  first_review                                  3223 non-null   object \n",
      " 45  last_review                                   3223 non-null   object \n",
      " 46  review_scores_rating                          3223 non-null   float64\n",
      " 47  review_scores_accuracy                        3223 non-null   float64\n",
      " 48  review_scores_cleanliness                     3223 non-null   float64\n",
      " 49  review_scores_checkin                         3223 non-null   float64\n",
      " 50  review_scores_communication                   3223 non-null   float64\n",
      " 51  review_scores_location                        3223 non-null   float64\n",
      " 52  review_scores_value                           3223 non-null   float64\n",
      " 53  license                                       2657 non-null   object \n",
      " 54  instant_bookable                              4195 non-null   object \n",
      " 55  calculated_host_listings_count                4195 non-null   int64  \n",
      " 56  calculated_host_listings_count_entire_homes   4195 non-null   int64  \n",
      " 57  calculated_host_listings_count_private_rooms  4195 non-null   int64  \n",
      " 58  calculated_host_listings_count_shared_rooms   4195 non-null   int64  \n",
      " 59  reviews_per_month                             3223 non-null   float64\n",
      "dtypes: float64(18), int64(19), object(23)\n",
      "memory usage: 1.9+ MB\n"
     ]
    }
   ],
   "execution_count": 381
  },
  {
   "metadata": {
    "ExecuteTime": {
     "end_time": "2025-04-10T15:56:47.548465Z",
     "start_time": "2025-04-10T15:56:47.544870Z"
    }
   },
   "cell_type": "code",
   "source": [
    "def transform_binary_columns(df):\n",
    "    \"\"\"To standard 0/1\"\"\"\n",
    "    binary_columns = [\n",
    "        \"host_is_superhost\",\n",
    "        \"host_has_profile_pic\",\n",
    "        \"host_identity_verified\",\n",
    "        \"has_availability\",\n",
    "        \"instant_bookable\"\n",
    "    ]\n",
    "\n",
    "    for c in binary_columns:\n",
    "        unique_vals = df[c].unique()\n",
    "        assert len(unique_vals) == 2 or len(unique_vals) == 3\n",
    "        assert \"t\" in unique_vals and \"f\" in unique_vals\n",
    "\n",
    "        df[c] = df[c].apply(lambda x: 1 if x == \"t\" else 0)\n",
    "\n",
    "    return df"
   ],
   "id": "6266e1254abcf359",
   "outputs": [],
   "execution_count": 382
  },
  {
   "metadata": {
    "ExecuteTime": {
     "end_time": "2025-04-10T15:56:47.635778Z",
     "start_time": "2025-04-10T15:56:47.623782Z"
    }
   },
   "cell_type": "code",
   "source": "listings = transform_binary_columns(listings)",
   "id": "792ff488bfe72a0a",
   "outputs": [],
   "execution_count": 383
  },
  {
   "metadata": {
    "ExecuteTime": {
     "end_time": "2025-04-10T15:56:47.789621Z",
     "start_time": "2025-04-10T15:56:47.780238Z"
    }
   },
   "cell_type": "code",
   "source": "listings[[\"host_is_superhost\", \"host_has_profile_pic\", \"host_identity_verified\", \"has_availability\", \"instant_bookable\"]].head(10)",
   "id": "3ca18aa3df078bc7",
   "outputs": [
    {
     "data": {
      "text/plain": [
       "   host_is_superhost  host_has_profile_pic  host_identity_verified  \\\n",
       "0                  1                     1                       1   \n",
       "1                  0                     1                       1   \n",
       "2                  0                     1                       1   \n",
       "3                  0                     1                       1   \n",
       "4                  0                     1                       1   \n",
       "5                  0                     1                       1   \n",
       "6                  0                     1                       1   \n",
       "7                  1                     1                       1   \n",
       "8                  0                     0                       1   \n",
       "9                  0                     1                       1   \n",
       "\n",
       "   has_availability  instant_bookable  \n",
       "0                 1                 1  \n",
       "1                 1                 0  \n",
       "2                 1                 0  \n",
       "3                 1                 0  \n",
       "4                 1                 0  \n",
       "5                 1                 0  \n",
       "6                 1                 1  \n",
       "7                 1                 0  \n",
       "8                 1                 0  \n",
       "9                 1                 0  "
      ],
      "text/html": [
       "<div>\n",
       "<style scoped>\n",
       "    .dataframe tbody tr th:only-of-type {\n",
       "        vertical-align: middle;\n",
       "    }\n",
       "\n",
       "    .dataframe tbody tr th {\n",
       "        vertical-align: top;\n",
       "    }\n",
       "\n",
       "    .dataframe thead th {\n",
       "        text-align: right;\n",
       "    }\n",
       "</style>\n",
       "<table border=\"1\" class=\"dataframe\">\n",
       "  <thead>\n",
       "    <tr style=\"text-align: right;\">\n",
       "      <th></th>\n",
       "      <th>host_is_superhost</th>\n",
       "      <th>host_has_profile_pic</th>\n",
       "      <th>host_identity_verified</th>\n",
       "      <th>has_availability</th>\n",
       "      <th>instant_bookable</th>\n",
       "    </tr>\n",
       "  </thead>\n",
       "  <tbody>\n",
       "    <tr>\n",
       "      <th>0</th>\n",
       "      <td>1</td>\n",
       "      <td>1</td>\n",
       "      <td>1</td>\n",
       "      <td>1</td>\n",
       "      <td>1</td>\n",
       "    </tr>\n",
       "    <tr>\n",
       "      <th>1</th>\n",
       "      <td>0</td>\n",
       "      <td>1</td>\n",
       "      <td>1</td>\n",
       "      <td>1</td>\n",
       "      <td>0</td>\n",
       "    </tr>\n",
       "    <tr>\n",
       "      <th>2</th>\n",
       "      <td>0</td>\n",
       "      <td>1</td>\n",
       "      <td>1</td>\n",
       "      <td>1</td>\n",
       "      <td>0</td>\n",
       "    </tr>\n",
       "    <tr>\n",
       "      <th>3</th>\n",
       "      <td>0</td>\n",
       "      <td>1</td>\n",
       "      <td>1</td>\n",
       "      <td>1</td>\n",
       "      <td>0</td>\n",
       "    </tr>\n",
       "    <tr>\n",
       "      <th>4</th>\n",
       "      <td>0</td>\n",
       "      <td>1</td>\n",
       "      <td>1</td>\n",
       "      <td>1</td>\n",
       "      <td>0</td>\n",
       "    </tr>\n",
       "    <tr>\n",
       "      <th>5</th>\n",
       "      <td>0</td>\n",
       "      <td>1</td>\n",
       "      <td>1</td>\n",
       "      <td>1</td>\n",
       "      <td>0</td>\n",
       "    </tr>\n",
       "    <tr>\n",
       "      <th>6</th>\n",
       "      <td>0</td>\n",
       "      <td>1</td>\n",
       "      <td>1</td>\n",
       "      <td>1</td>\n",
       "      <td>1</td>\n",
       "    </tr>\n",
       "    <tr>\n",
       "      <th>7</th>\n",
       "      <td>1</td>\n",
       "      <td>1</td>\n",
       "      <td>1</td>\n",
       "      <td>1</td>\n",
       "      <td>0</td>\n",
       "    </tr>\n",
       "    <tr>\n",
       "      <th>8</th>\n",
       "      <td>0</td>\n",
       "      <td>0</td>\n",
       "      <td>1</td>\n",
       "      <td>1</td>\n",
       "      <td>0</td>\n",
       "    </tr>\n",
       "    <tr>\n",
       "      <th>9</th>\n",
       "      <td>0</td>\n",
       "      <td>1</td>\n",
       "      <td>1</td>\n",
       "      <td>1</td>\n",
       "      <td>0</td>\n",
       "    </tr>\n",
       "  </tbody>\n",
       "</table>\n",
       "</div>"
      ]
     },
     "execution_count": 384,
     "metadata": {},
     "output_type": "execute_result"
    }
   ],
   "execution_count": 384
  },
  {
   "metadata": {
    "ExecuteTime": {
     "end_time": "2025-04-10T15:56:47.860942Z",
     "start_time": "2025-04-10T15:56:47.843101Z"
    }
   },
   "cell_type": "code",
   "source": "listings.info()",
   "id": "4d80983f5a050de9",
   "outputs": [
    {
     "name": "stdout",
     "output_type": "stream",
     "text": [
      "<class 'pandas.core.frame.DataFrame'>\n",
      "RangeIndex: 4195 entries, 0 to 4194\n",
      "Data columns (total 60 columns):\n",
      " #   Column                                        Non-Null Count  Dtype  \n",
      "---  ------                                        --------------  -----  \n",
      " 0   name                                          4195 non-null   object \n",
      " 1   description                                   4010 non-null   object \n",
      " 2   neighborhood_overview                         2054 non-null   object \n",
      " 3   host_id                                       4195 non-null   int64  \n",
      " 4   host_since                                    4192 non-null   object \n",
      " 5   host_about                                    2186 non-null   object \n",
      " 6   host_response_time                            2566 non-null   object \n",
      " 7   host_response_rate                            2566 non-null   object \n",
      " 8   host_acceptance_rate                          2831 non-null   object \n",
      " 9   host_is_superhost                             4195 non-null   int64  \n",
      " 10  host_listings_count                           4192 non-null   float64\n",
      " 11  host_total_listings_count                     4192 non-null   float64\n",
      " 12  host_verifications                            4192 non-null   object \n",
      " 13  host_has_profile_pic                          4195 non-null   int64  \n",
      " 14  host_identity_verified                        4195 non-null   int64  \n",
      " 15  neighbourhood_group_cleansed                  4195 non-null   object \n",
      " 16  latitude                                      4195 non-null   float64\n",
      " 17  longitude                                     4195 non-null   float64\n",
      " 18  property_type                                 4195 non-null   object \n",
      " 19  room_type                                     4195 non-null   object \n",
      " 20  accommodates                                  4195 non-null   int64  \n",
      " 21  bathrooms                                     2676 non-null   float64\n",
      " 22  bathrooms_text                                4192 non-null   object \n",
      " 23  bedrooms                                      3574 non-null   float64\n",
      " 24  beds                                          2666 non-null   float64\n",
      " 25  amenities                                     4195 non-null   object \n",
      " 26  price                                         2674 non-null   object \n",
      " 27  minimum_nights                                4195 non-null   int64  \n",
      " 28  maximum_nights                                4195 non-null   int64  \n",
      " 29  minimum_minimum_nights                        4195 non-null   int64  \n",
      " 30  maximum_minimum_nights                        4195 non-null   int64  \n",
      " 31  minimum_maximum_nights                        4195 non-null   int64  \n",
      " 32  maximum_maximum_nights                        4195 non-null   int64  \n",
      " 33  minimum_nights_avg_ntm                        4195 non-null   float64\n",
      " 34  maximum_nights_avg_ntm                        4195 non-null   float64\n",
      " 35  calendar_updated                              0 non-null      float64\n",
      " 36  has_availability                              4195 non-null   int64  \n",
      " 37  availability_30                               4195 non-null   int64  \n",
      " 38  availability_60                               4195 non-null   int64  \n",
      " 39  availability_90                               4195 non-null   int64  \n",
      " 40  availability_365                              4195 non-null   int64  \n",
      " 41  number_of_reviews                             4195 non-null   int64  \n",
      " 42  number_of_reviews_ltm                         4195 non-null   int64  \n",
      " 43  number_of_reviews_l30d                        4195 non-null   int64  \n",
      " 44  first_review                                  3223 non-null   object \n",
      " 45  last_review                                   3223 non-null   object \n",
      " 46  review_scores_rating                          3223 non-null   float64\n",
      " 47  review_scores_accuracy                        3223 non-null   float64\n",
      " 48  review_scores_cleanliness                     3223 non-null   float64\n",
      " 49  review_scores_checkin                         3223 non-null   float64\n",
      " 50  review_scores_communication                   3223 non-null   float64\n",
      " 51  review_scores_location                        3223 non-null   float64\n",
      " 52  review_scores_value                           3223 non-null   float64\n",
      " 53  license                                       2657 non-null   object \n",
      " 54  instant_bookable                              4195 non-null   int64  \n",
      " 55  calculated_host_listings_count                4195 non-null   int64  \n",
      " 56  calculated_host_listings_count_entire_homes   4195 non-null   int64  \n",
      " 57  calculated_host_listings_count_private_rooms  4195 non-null   int64  \n",
      " 58  calculated_host_listings_count_shared_rooms   4195 non-null   int64  \n",
      " 59  reviews_per_month                             3223 non-null   float64\n",
      "dtypes: float64(18), int64(24), object(18)\n",
      "memory usage: 1.9+ MB\n"
     ]
    }
   ],
   "execution_count": 385
  },
  {
   "metadata": {
    "ExecuteTime": {
     "end_time": "2025-04-10T15:56:47.893657Z",
     "start_time": "2025-04-10T15:56:47.889229Z"
    }
   },
   "cell_type": "code",
   "source": [
    "def aggregate_rating_columns(df):\n",
    "    \"\"\"Replace all review scores columns with a single average rating column\"\"\"\n",
    "    rating_columns = [\n",
    "        \"review_scores_rating\",\n",
    "        \"review_scores_accuracy\",\n",
    "        \"review_scores_cleanliness\",\n",
    "        \"review_scores_checkin\",\n",
    "        \"review_scores_communication\",\n",
    "        \"review_scores_location\",\n",
    "        \"review_scores_value\",\n",
    "    ]\n",
    "    df[\"avg_rating\"] = df[rating_columns].mean(axis=1)\n",
    "    df = df.drop(columns=rating_columns)\n",
    "    return df"
   ],
   "id": "b1fdacbb513782f4",
   "outputs": [],
   "execution_count": 386
  },
  {
   "metadata": {
    "ExecuteTime": {
     "end_time": "2025-04-10T15:56:47.992429Z",
     "start_time": "2025-04-10T15:56:47.979046Z"
    }
   },
   "cell_type": "code",
   "source": [
    "listings = aggregate_rating_columns(listings)\n",
    "listings[\"avg_rating\"].describe()"
   ],
   "id": "4e03375bd165c0a0",
   "outputs": [
    {
     "data": {
      "text/plain": [
       "count    3223.000000\n",
       "mean        4.768786\n",
       "std         0.274342\n",
       "min         0.714286\n",
       "25%         4.705714\n",
       "50%         4.838571\n",
       "75%         4.920000\n",
       "max         5.000000\n",
       "Name: avg_rating, dtype: float64"
      ]
     },
     "execution_count": 387,
     "metadata": {},
     "output_type": "execute_result"
    }
   ],
   "execution_count": 387
  },
  {
   "metadata": {
    "ExecuteTime": {
     "end_time": "2025-04-10T15:56:48.106094Z",
     "start_time": "2025-04-10T15:56:48.102950Z"
    }
   },
   "cell_type": "code",
   "source": [
    "print(listings[\"avg_rating\"].isna().sum())\n",
    "print(len(listings))"
   ],
   "id": "fb3ab8c60af55692",
   "outputs": [
    {
     "name": "stdout",
     "output_type": "stream",
     "text": [
      "972\n",
      "4195\n"
     ]
    }
   ],
   "execution_count": 388
  },
  {
   "metadata": {
    "ExecuteTime": {
     "end_time": "2025-04-10T15:56:48.158003Z",
     "start_time": "2025-04-10T15:56:48.149019Z"
    }
   },
   "cell_type": "code",
   "source": [
    "print(\"Q01\", listings[\"avg_rating\"].quantile(0.01))\n",
    "print(\"Q10\", listings[\"avg_rating\"].quantile(0.10))\n",
    "print(\"Q25\", listings[\"avg_rating\"].quantile(0.25))\n",
    "print(\"Q75\", listings[\"avg_rating\"].quantile(0.75))\n",
    "print(\"Q90\", listings[\"avg_rating\"].quantile(0.90))\n",
    "print(\"Q99\", listings[\"avg_rating\"].quantile(0.99))"
   ],
   "id": "613c11a08a2d866f",
   "outputs": [
    {
     "name": "stdout",
     "output_type": "stream",
     "text": [
      "Q01 3.703142857142857\n",
      "Q10 4.531714285714286\n",
      "Q25 4.705714285714286\n",
      "Q75 4.92\n",
      "Q90 4.975714285714285\n",
      "Q99 5.0\n"
     ]
    }
   ],
   "execution_count": 389
  },
  {
   "metadata": {
    "ExecuteTime": {
     "end_time": "2025-04-10T15:56:48.387101Z",
     "start_time": "2025-04-10T15:56:48.216547Z"
    }
   },
   "cell_type": "code",
   "source": [
    "listings = pd.read_csv('../data/listings.csv')\n",
    "price = listings[\"price\"]\n",
    "print(len(price))\n",
    "price.map(lambda p: str(type(p))).value_counts()"
   ],
   "id": "13d348d9d542aada",
   "outputs": [
    {
     "name": "stdout",
     "output_type": "stream",
     "text": [
      "4195\n"
     ]
    },
    {
     "data": {
      "text/plain": [
       "price\n",
       "<class 'str'>      2674\n",
       "<class 'float'>    1521\n",
       "Name: count, dtype: int64"
      ]
     },
     "execution_count": 390,
     "metadata": {},
     "output_type": "execute_result"
    }
   ],
   "execution_count": 390
  },
  {
   "metadata": {
    "ExecuteTime": {
     "end_time": "2025-04-10T15:56:48.396080Z",
     "start_time": "2025-04-10T15:56:48.392334Z"
    }
   },
   "cell_type": "code",
   "source": [
    "def transform_price(df):\n",
    "    \"\"\"Transform price column to float\"\"\"\n",
    "    transform_string_price = lambda p: float(p.replace(\"$\", \"\").replace(\",\", \"\"))\n",
    "\n",
    "\n",
    "    df[\"price\"] = df[\"price\"].apply(lambda p: transform_string_price(p) if isinstance(p, str) else p)\n",
    "    return df"
   ],
   "id": "83c6fa3d24cec18a",
   "outputs": [],
   "execution_count": 391
  },
  {
   "metadata": {},
   "cell_type": "markdown",
   "source": "### List columns\n",
   "id": "6fe5024ad9e2eb6"
  },
  {
   "metadata": {
    "ExecuteTime": {
     "end_time": "2025-04-10T15:56:48.441836Z",
     "start_time": "2025-04-10T15:56:48.439247Z"
    }
   },
   "cell_type": "code",
   "source": [
    "list_columns = [\n",
    "    \"host_verifications\",\n",
    "    \"amenities\",\n",
    "]\n",
    "#TODO"
   ],
   "id": "7b230f9378e9a991",
   "outputs": [],
   "execution_count": 392
  },
  {
   "metadata": {},
   "cell_type": "markdown",
   "source": "### Categorical columns",
   "id": "91f3d50f1da23cba"
  },
  {
   "metadata": {
    "ExecuteTime": {
     "end_time": "2025-04-10T15:56:48.642847Z",
     "start_time": "2025-04-10T15:56:48.626787Z"
    }
   },
   "cell_type": "code",
   "source": "listings.head()",
   "id": "2a2f589a88b5353c",
   "outputs": [
    {
     "data": {
      "text/plain": [
       "                    id                                      listing_url  \\\n",
       "0  1047164111839138424  https://www.nocarz.pl/rooms/1047164111839138424   \n",
       "1             24793153             https://www.nocarz.pl/rooms/24793153   \n",
       "2              9768263              https://www.nocarz.pl/rooms/9768263   \n",
       "3   798586109549068377   https://www.nocarz.pl/rooms/798586109549068377   \n",
       "4             28806732             https://www.nocarz.pl/rooms/28806732   \n",
       "\n",
       "        scrape_id last_scraped           source  \\\n",
       "0  20241221052002   2024-12-21      city scrape   \n",
       "1  20241221052002   2024-12-21  previous scrape   \n",
       "2  20241221052002   2024-12-21  previous scrape   \n",
       "3  20241221052002   2024-12-21      city scrape   \n",
       "4  20241221052002   2024-12-21  previous scrape   \n",
       "\n",
       "                                            name  \\\n",
       "0  Privatzimmer in Neukölln/Rixdorf (Erdgeschoß)   \n",
       "1                 Ganze Wohnung in Berlin Pankow   \n",
       "2                  Loftapartment Prenzlauer Berg   \n",
       "3   Colorful apartment in Schillerkiez, Neukölln   \n",
       "4                                  Neukölln Home   \n",
       "\n",
       "                                         description  \\\n",
       "0  Hey dear guests, <br /><br />the room has a be...   \n",
       "1  Cozy furnished and spacious 2 bedroom apartmen...   \n",
       "2  enjoy Berlin on 88 square meter in our sunny, ...   \n",
       "3  Enjoy the this colorful home in “Berlin’s cool...   \n",
       "4  Loft bed, fold out couch, kitchen and balcony ...   \n",
       "\n",
       "                               neighborhood_overview  \\\n",
       "0                                                NaN   \n",
       "1                                                NaN   \n",
       "2  Situated in the hard of 'Prenzlauer Berg' you'...   \n",
       "3  Voted \"coolest neighborhood\" by Time Out Magaz...   \n",
       "4  Plenty of neighbourhood bars and cafes to keep...   \n",
       "\n",
       "                                         picture_url    host_id  ...  \\\n",
       "0  https://a0.muscache.com/pictures/hosting/Hosti...  541377699  ...   \n",
       "1  https://a0.muscache.com/pictures/miso/Hosting-...   63053103  ...   \n",
       "2  https://a0.muscache.com/pictures/4c096212-fe21...   21256997  ...   \n",
       "3  https://a0.muscache.com/pictures/miso/Hosting-...     564509  ...   \n",
       "4  https://a0.muscache.com/pictures/60151487-cc67...  217262525  ...   \n",
       "\n",
       "  review_scores_communication review_scores_location review_scores_value  \\\n",
       "0                        4.95                   4.86                4.70   \n",
       "1                        4.79                   4.71                4.71   \n",
       "2                        5.00                   4.90                4.80   \n",
       "3                         NaN                    NaN                 NaN   \n",
       "4                        5.00                   4.60                4.40   \n",
       "\n",
       "                                             license instant_bookable  \\\n",
       "0                                  08/Z/AZ/014226-24                t   \n",
       "1  First name and Last name: Jana Roskosova  <br/...                f   \n",
       "2                                                NaN                f   \n",
       "3                                                NaN                f   \n",
       "4                                                NaN                f   \n",
       "\n",
       "  calculated_host_listings_count calculated_host_listings_count_entire_homes  \\\n",
       "0                              1                                           0   \n",
       "1                              1                                           1   \n",
       "2                              1                                           1   \n",
       "3                              1                                           1   \n",
       "4                              1                                           1   \n",
       "\n",
       "  calculated_host_listings_count_private_rooms  \\\n",
       "0                                            1   \n",
       "1                                            0   \n",
       "2                                            0   \n",
       "3                                            0   \n",
       "4                                            0   \n",
       "\n",
       "  calculated_host_listings_count_shared_rooms reviews_per_month  \n",
       "0                                           0              6.94  \n",
       "1                                           0              0.67  \n",
       "2                                           0              0.09  \n",
       "3                                           0               NaN  \n",
       "4                                           0              0.07  \n",
       "\n",
       "[5 rows x 75 columns]"
      ],
      "text/html": [
       "<div>\n",
       "<style scoped>\n",
       "    .dataframe tbody tr th:only-of-type {\n",
       "        vertical-align: middle;\n",
       "    }\n",
       "\n",
       "    .dataframe tbody tr th {\n",
       "        vertical-align: top;\n",
       "    }\n",
       "\n",
       "    .dataframe thead th {\n",
       "        text-align: right;\n",
       "    }\n",
       "</style>\n",
       "<table border=\"1\" class=\"dataframe\">\n",
       "  <thead>\n",
       "    <tr style=\"text-align: right;\">\n",
       "      <th></th>\n",
       "      <th>id</th>\n",
       "      <th>listing_url</th>\n",
       "      <th>scrape_id</th>\n",
       "      <th>last_scraped</th>\n",
       "      <th>source</th>\n",
       "      <th>name</th>\n",
       "      <th>description</th>\n",
       "      <th>neighborhood_overview</th>\n",
       "      <th>picture_url</th>\n",
       "      <th>host_id</th>\n",
       "      <th>...</th>\n",
       "      <th>review_scores_communication</th>\n",
       "      <th>review_scores_location</th>\n",
       "      <th>review_scores_value</th>\n",
       "      <th>license</th>\n",
       "      <th>instant_bookable</th>\n",
       "      <th>calculated_host_listings_count</th>\n",
       "      <th>calculated_host_listings_count_entire_homes</th>\n",
       "      <th>calculated_host_listings_count_private_rooms</th>\n",
       "      <th>calculated_host_listings_count_shared_rooms</th>\n",
       "      <th>reviews_per_month</th>\n",
       "    </tr>\n",
       "  </thead>\n",
       "  <tbody>\n",
       "    <tr>\n",
       "      <th>0</th>\n",
       "      <td>1047164111839138424</td>\n",
       "      <td>https://www.nocarz.pl/rooms/1047164111839138424</td>\n",
       "      <td>20241221052002</td>\n",
       "      <td>2024-12-21</td>\n",
       "      <td>city scrape</td>\n",
       "      <td>Privatzimmer in Neukölln/Rixdorf (Erdgeschoß)</td>\n",
       "      <td>Hey dear guests, &lt;br /&gt;&lt;br /&gt;the room has a be...</td>\n",
       "      <td>NaN</td>\n",
       "      <td>https://a0.muscache.com/pictures/hosting/Hosti...</td>\n",
       "      <td>541377699</td>\n",
       "      <td>...</td>\n",
       "      <td>4.95</td>\n",
       "      <td>4.86</td>\n",
       "      <td>4.70</td>\n",
       "      <td>08/Z/AZ/014226-24</td>\n",
       "      <td>t</td>\n",
       "      <td>1</td>\n",
       "      <td>0</td>\n",
       "      <td>1</td>\n",
       "      <td>0</td>\n",
       "      <td>6.94</td>\n",
       "    </tr>\n",
       "    <tr>\n",
       "      <th>1</th>\n",
       "      <td>24793153</td>\n",
       "      <td>https://www.nocarz.pl/rooms/24793153</td>\n",
       "      <td>20241221052002</td>\n",
       "      <td>2024-12-21</td>\n",
       "      <td>previous scrape</td>\n",
       "      <td>Ganze Wohnung in Berlin Pankow</td>\n",
       "      <td>Cozy furnished and spacious 2 bedroom apartmen...</td>\n",
       "      <td>NaN</td>\n",
       "      <td>https://a0.muscache.com/pictures/miso/Hosting-...</td>\n",
       "      <td>63053103</td>\n",
       "      <td>...</td>\n",
       "      <td>4.79</td>\n",
       "      <td>4.71</td>\n",
       "      <td>4.71</td>\n",
       "      <td>First name and Last name: Jana Roskosova  &lt;br/...</td>\n",
       "      <td>f</td>\n",
       "      <td>1</td>\n",
       "      <td>1</td>\n",
       "      <td>0</td>\n",
       "      <td>0</td>\n",
       "      <td>0.67</td>\n",
       "    </tr>\n",
       "    <tr>\n",
       "      <th>2</th>\n",
       "      <td>9768263</td>\n",
       "      <td>https://www.nocarz.pl/rooms/9768263</td>\n",
       "      <td>20241221052002</td>\n",
       "      <td>2024-12-21</td>\n",
       "      <td>previous scrape</td>\n",
       "      <td>Loftapartment Prenzlauer Berg</td>\n",
       "      <td>enjoy Berlin on 88 square meter in our sunny, ...</td>\n",
       "      <td>Situated in the hard of 'Prenzlauer Berg' you'...</td>\n",
       "      <td>https://a0.muscache.com/pictures/4c096212-fe21...</td>\n",
       "      <td>21256997</td>\n",
       "      <td>...</td>\n",
       "      <td>5.00</td>\n",
       "      <td>4.90</td>\n",
       "      <td>4.80</td>\n",
       "      <td>NaN</td>\n",
       "      <td>f</td>\n",
       "      <td>1</td>\n",
       "      <td>1</td>\n",
       "      <td>0</td>\n",
       "      <td>0</td>\n",
       "      <td>0.09</td>\n",
       "    </tr>\n",
       "    <tr>\n",
       "      <th>3</th>\n",
       "      <td>798586109549068377</td>\n",
       "      <td>https://www.nocarz.pl/rooms/798586109549068377</td>\n",
       "      <td>20241221052002</td>\n",
       "      <td>2024-12-21</td>\n",
       "      <td>city scrape</td>\n",
       "      <td>Colorful apartment in Schillerkiez, Neukölln</td>\n",
       "      <td>Enjoy the this colorful home in “Berlin’s cool...</td>\n",
       "      <td>Voted \"coolest neighborhood\" by Time Out Magaz...</td>\n",
       "      <td>https://a0.muscache.com/pictures/miso/Hosting-...</td>\n",
       "      <td>564509</td>\n",
       "      <td>...</td>\n",
       "      <td>NaN</td>\n",
       "      <td>NaN</td>\n",
       "      <td>NaN</td>\n",
       "      <td>NaN</td>\n",
       "      <td>f</td>\n",
       "      <td>1</td>\n",
       "      <td>1</td>\n",
       "      <td>0</td>\n",
       "      <td>0</td>\n",
       "      <td>NaN</td>\n",
       "    </tr>\n",
       "    <tr>\n",
       "      <th>4</th>\n",
       "      <td>28806732</td>\n",
       "      <td>https://www.nocarz.pl/rooms/28806732</td>\n",
       "      <td>20241221052002</td>\n",
       "      <td>2024-12-21</td>\n",
       "      <td>previous scrape</td>\n",
       "      <td>Neukölln Home</td>\n",
       "      <td>Loft bed, fold out couch, kitchen and balcony ...</td>\n",
       "      <td>Plenty of neighbourhood bars and cafes to keep...</td>\n",
       "      <td>https://a0.muscache.com/pictures/60151487-cc67...</td>\n",
       "      <td>217262525</td>\n",
       "      <td>...</td>\n",
       "      <td>5.00</td>\n",
       "      <td>4.60</td>\n",
       "      <td>4.40</td>\n",
       "      <td>NaN</td>\n",
       "      <td>f</td>\n",
       "      <td>1</td>\n",
       "      <td>1</td>\n",
       "      <td>0</td>\n",
       "      <td>0</td>\n",
       "      <td>0.07</td>\n",
       "    </tr>\n",
       "  </tbody>\n",
       "</table>\n",
       "<p>5 rows × 75 columns</p>\n",
       "</div>"
      ]
     },
     "execution_count": 393,
     "metadata": {},
     "output_type": "execute_result"
    }
   ],
   "execution_count": 393
  },
  {
   "metadata": {
    "ExecuteTime": {
     "end_time": "2025-04-10T15:56:48.757420Z",
     "start_time": "2025-04-10T15:56:48.754728Z"
    }
   },
   "cell_type": "code",
   "source": [
    "# candidates ?\n",
    "categorical_columns = [\n",
    "    # \"host_location\",\n",
    "    # \"host_response_time\",\n",
    "    # \"host_neighbourhood\",\n",
    "    # \"neighbourhood\",\n",
    "    # \"neighbourhood_cleansed\",\n",
    "    \"neighbourhood_group_cleansed\",\n",
    "    \"property_type\",\n",
    "    \"room_type\",\n",
    "    # \"bathrooms_text\"\n",
    "]"
   ],
   "id": "cb9d628decaff33b",
   "outputs": [],
   "execution_count": 394
  },
  {
   "metadata": {
    "ExecuteTime": {
     "end_time": "2025-04-10T15:56:48.823899Z",
     "start_time": "2025-04-10T15:56:48.818027Z"
    }
   },
   "cell_type": "code",
   "source": "listings[\"host_location\"].value_counts()",
   "id": "dbf94c5d661b6558",
   "outputs": [
    {
     "data": {
      "text/plain": [
       "host_location\n",
       "Berlin, Germany                     2997\n",
       "Germany                               41\n",
       "Munich, Germany                       23\n",
       "Hamburg, Germany                      15\n",
       "Cologne, Germany                      14\n",
       "                                    ... \n",
       "Elmenhorst/Lichtenhagen, Germany       1\n",
       "Schwelm, Germany                       1\n",
       "Ratingen, Germany                      1\n",
       "Lisbon, Portugal                       1\n",
       "Slovenia                               1\n",
       "Name: count, Length: 198, dtype: int64"
      ]
     },
     "execution_count": 395,
     "metadata": {},
     "output_type": "execute_result"
    }
   ],
   "execution_count": 395
  },
  {
   "metadata": {
    "ExecuteTime": {
     "end_time": "2025-04-10T15:56:48.950436Z",
     "start_time": "2025-04-10T15:56:48.945755Z"
    }
   },
   "cell_type": "code",
   "source": [
    "def extract_host_country(df):\n",
    "    \"\"\"Extract host country from host_location\"\"\"\n",
    "\n",
    "    def extract_country_from_location(location: str):\n",
    "        if not \",\" in location:\n",
    "            return location\n",
    "\n",
    "        state = location.split(\",\")[-1].strip()\n",
    "\n",
    "        if len(state) == 2:\n",
    "            return \"United States\"\n",
    "\n",
    "        return state\n",
    "\n",
    "    df[\"host_country\"] = df[\"host_location\"].apply(lambda x: extract_country_from_location(x) if isinstance(x, str) else x)\n",
    "    return df"
   ],
   "id": "de15a6a5f45be578",
   "outputs": [],
   "execution_count": 396
  },
  {
   "metadata": {
    "ExecuteTime": {
     "end_time": "2025-04-10T15:56:49.016593Z",
     "start_time": "2025-04-10T15:56:49.009131Z"
    }
   },
   "cell_type": "code",
   "source": [
    "# Prawie tylko Niemcy, chyba nie warto\n",
    "listings = extract_host_country(listings)\n",
    "listings[\"host_country\"].value_counts()"
   ],
   "id": "63a8afef7d1c6955",
   "outputs": [
    {
     "data": {
      "text/plain": [
       "host_country\n",
       "Germany             3203\n",
       "United States         28\n",
       "Italy                 21\n",
       "United Kingdom        18\n",
       "Spain                 18\n",
       "Switzerland           15\n",
       "France                14\n",
       "Austria                8\n",
       "Israel                 8\n",
       "Australia              7\n",
       "Denmark                5\n",
       "Belgium                4\n",
       "Sweden                 4\n",
       "Indonesia              3\n",
       "Ireland                3\n",
       "Canada                 3\n",
       "South Korea            3\n",
       "Singapore              3\n",
       "Turkey                 3\n",
       "Russia                 3\n",
       "Mexico                 2\n",
       "India                  2\n",
       "Taiwan                 2\n",
       "Slovenia               2\n",
       "Chile                  2\n",
       "Kenya                  2\n",
       "South Africa           2\n",
       "Thailand               1\n",
       "Norway                 1\n",
       "Morocco                1\n",
       "Puerto Rico            1\n",
       "Greece                 1\n",
       "Namibia                1\n",
       "Egypt                  1\n",
       "Poland                 1\n",
       "Colombia               1\n",
       "Brazil                 1\n",
       "Bulgaria               1\n",
       "Hong Kong              1\n",
       "French Polynesia       1\n",
       "Georgia                1\n",
       "Portugal               1\n",
       "Name: count, dtype: int64"
      ]
     },
     "execution_count": 397,
     "metadata": {},
     "output_type": "execute_result"
    }
   ],
   "execution_count": 397
  },
  {
   "metadata": {
    "ExecuteTime": {
     "end_time": "2025-04-10T15:56:49.157105Z",
     "start_time": "2025-04-10T15:56:49.152109Z"
    }
   },
   "cell_type": "code",
   "source": [
    "print(listings[\"host_response_time\"].value_counts())\n",
    "print(listings[\"host_response_time\"].unique())"
   ],
   "id": "d74171f19f5c234a",
   "outputs": [
    {
     "name": "stdout",
     "output_type": "stream",
     "text": [
      "host_response_time\n",
      "within an hour        1589\n",
      "within a few hours     524\n",
      "within a day           339\n",
      "a few days or more     114\n",
      "Name: count, dtype: int64\n",
      "['within an hour' nan 'within a day' 'within a few hours'\n",
      " 'a few days or more']\n"
     ]
    }
   ],
   "execution_count": 398
  },
  {
   "metadata": {
    "ExecuteTime": {
     "end_time": "2025-04-10T15:56:49.223880Z",
     "start_time": "2025-04-10T15:56:49.219605Z"
    }
   },
   "cell_type": "code",
   "source": [
    "def transform_host_response_time(df):\n",
    "    \"\"\"Transform host response time to a number\"\"\"\n",
    "    #TODO adjust scale\n",
    "    scale = {\n",
    "        \"within an hour\": 1,\n",
    "        \"within a few hours\": 2,\n",
    "        \"within a day\": 3,\n",
    "        \"a few days or more\": 4,\n",
    "    }\n",
    "\n",
    "    df[\"host_response_time\"] = df[\"host_response_time\"].apply(lambda x: scale.get(x, np.nan))\n",
    "    return df"
   ],
   "id": "e9d6e9156e2091f0",
   "outputs": [],
   "execution_count": 399
  },
  {
   "metadata": {
    "ExecuteTime": {
     "end_time": "2025-04-10T15:56:49.471454Z",
     "start_time": "2025-04-10T15:56:49.294723Z"
    }
   },
   "cell_type": "code",
   "source": [
    "listings = pd.read_csv('../data/listings.csv')\n",
    "listings = transform_host_response_time(listings)\n",
    "print(listings[\"host_response_time\"].value_counts())\n",
    "print(listings[\"host_response_time\"].isna().sum())"
   ],
   "id": "6d852c00fc87e4da",
   "outputs": [
    {
     "name": "stdout",
     "output_type": "stream",
     "text": [
      "host_response_time\n",
      "1.0    1589\n",
      "2.0     524\n",
      "3.0     339\n",
      "4.0     114\n",
      "Name: count, dtype: int64\n",
      "1629\n"
     ]
    }
   ],
   "execution_count": 400
  },
  {
   "metadata": {
    "ExecuteTime": {
     "end_time": "2025-04-10T15:56:49.484673Z",
     "start_time": "2025-04-10T15:56:49.479406Z"
    }
   },
   "cell_type": "code",
   "source": [
    "print(len(listings[\"host_neighbourhood\"].unique()))  # Too many categories\n",
    "print(len(listings[\"neighbourhood_cleansed\"].unique())) # Too many categories\n",
    "print(len(listings[\"neighbourhood\"].unique()))\n",
    "print(len(listings[\"neighbourhood_group_cleansed\"].unique()))"
   ],
   "id": "d0910875cc01701d",
   "outputs": [
    {
     "name": "stdout",
     "output_type": "stream",
     "text": [
      "104\n",
      "133\n",
      "13\n",
      "12\n"
     ]
    }
   ],
   "execution_count": 401
  },
  {
   "metadata": {
    "ExecuteTime": {
     "end_time": "2025-04-10T15:56:49.536156Z",
     "start_time": "2025-04-10T15:56:49.531201Z"
    }
   },
   "cell_type": "code",
   "source": "listings[\"neighbourhood\"].value_counts() # Useless",
   "id": "54823332dd6caa7b",
   "outputs": [
    {
     "data": {
      "text/plain": [
       "neighbourhood\n",
       "Berlin, Germany                             2043\n",
       "Berlin Charlottenburg, Berlin, Germany         1\n",
       "Berlin-Kreuzberg, Berlin, Germany              1\n",
       "Berlin, Zehlendorf, Germany                    1\n",
       "Berlin, Be, Germany                            1\n",
       "Berlin, Mitte, Germany                         1\n",
       "Weissenhoher Strasse 14, Berlin, Germany       1\n",
       "Weissensee, Berlin, Germany                    1\n",
       "Berlin - Mitte, Germany                        1\n",
       "Berlin, Kreuzberg, Berlin, Germany             1\n",
       "Alt Treptow, Berlin, Germany                   1\n",
       "Köpenick, Berlin, Germany                      1\n",
       "Name: count, dtype: int64"
      ]
     },
     "execution_count": 402,
     "metadata": {},
     "output_type": "execute_result"
    }
   ],
   "execution_count": 402
  },
  {
   "metadata": {
    "ExecuteTime": {
     "end_time": "2025-04-10T15:56:49.625734Z",
     "start_time": "2025-04-10T15:56:49.621215Z"
    }
   },
   "cell_type": "code",
   "source": "listings[\"neighbourhood_group_cleansed\"].value_counts() # Maybe useful",
   "id": "85d231f37d9a9b61",
   "outputs": [
    {
     "data": {
      "text/plain": [
       "neighbourhood_group_cleansed\n",
       "Friedrichshain-Kreuzberg    951\n",
       "Mitte                       879\n",
       "Pankow                      632\n",
       "Neukölln                    475\n",
       "Charlottenburg-Wilm.        424\n",
       "Tempelhof - Schöneberg      306\n",
       "Treptow - Köpenick          179\n",
       "Steglitz - Zehlendorf       114\n",
       "Lichtenberg                 100\n",
       "Reinickendorf                61\n",
       "Spandau                      44\n",
       "Marzahn - Hellersdorf        30\n",
       "Name: count, dtype: int64"
      ]
     },
     "execution_count": 403,
     "metadata": {},
     "output_type": "execute_result"
    }
   ],
   "execution_count": 403
  },
  {
   "metadata": {
    "ExecuteTime": {
     "end_time": "2025-04-10T15:56:49.708312Z",
     "start_time": "2025-04-10T15:56:49.703059Z"
    }
   },
   "cell_type": "code",
   "source": "listings[\"property_type\"].value_counts()",
   "id": "e772f076a9653afc",
   "outputs": [
    {
     "data": {
      "text/plain": [
       "property_type\n",
       "Entire rental unit                    2295\n",
       "Private room in rental unit            941\n",
       "Entire condo                           233\n",
       "Room in hotel                          114\n",
       "Entire serviced apartment              105\n",
       "Private room in condo                   92\n",
       "Entire loft                             72\n",
       "Private room in home                    60\n",
       "Entire home                             52\n",
       "Private room in loft                    20\n",
       "Private room in bed and breakfast       20\n",
       "Room in boutique hotel                  18\n",
       "Private room in hostel                  17\n",
       "Entire guesthouse                       17\n",
       "Room in serviced apartment              16\n",
       "Entire townhouse                        13\n",
       "Private room in serviced apartment      13\n",
       "Houseboat                               11\n",
       "Entire vacation home                     9\n",
       "Entire guest suite                       8\n",
       "Private room                             8\n",
       "Private room in guesthouse               7\n",
       "Room in aparthotel                       6\n",
       "Private room in townhouse                5\n",
       "Entire bungalow                          5\n",
       "Shared room in hostel                    4\n",
       "Shared room in hotel                     3\n",
       "Entire place                             3\n",
       "Tiny home                                3\n",
       "Room in hostel                           2\n",
       "Entire cottage                           2\n",
       "Private room in bungalow                 2\n",
       "Private room in villa                    2\n",
       "Shared room in rental unit               2\n",
       "Boat                                     2\n",
       "Private room in casa particular          2\n",
       "Farm stay                                1\n",
       "Private room in houseboat                1\n",
       "Private room in pension                  1\n",
       "Campsite                                 1\n",
       "Private room in vacation home            1\n",
       "Shared room in serviced apartment        1\n",
       "Treehouse                                1\n",
       "Shared room in bed and breakfast         1\n",
       "Entire villa                             1\n",
       "Entire cabin                             1\n",
       "Cave                                     1\n",
       "Name: count, dtype: int64"
      ]
     },
     "execution_count": 404,
     "metadata": {},
     "output_type": "execute_result"
    }
   ],
   "execution_count": 404
  },
  {
   "metadata": {
    "ExecuteTime": {
     "end_time": "2025-04-10T15:56:49.783474Z",
     "start_time": "2025-04-10T15:56:49.779533Z"
    }
   },
   "cell_type": "code",
   "source": [
    "def group_property_types(df):\n",
    "    \"\"\"Group together similar property types\"\"\"\n",
    "\n",
    "    def transform(property_type: str):\n",
    "        if \"entire rental unit\" in property_type.lower():\n",
    "            return \"entire rental unit\"\n",
    "        elif \"room\" in property_type.lower():\n",
    "            return \"room\"\n",
    "        elif \"apartment\" in property_type.lower():\n",
    "            return \"apartment\"\n",
    "        elif \"home\" in property_type.lower():\n",
    "            return \"home\"\n",
    "        elif \"condo\" in property_type.lower():\n",
    "            return \"condo\"\n",
    "        else:\n",
    "            return \"other\"\n",
    "\n",
    "    df[\"property_type\"] = df[\"property_type\"].apply(lambda x: transform(x) if isinstance(x, str) else x)\n",
    "    return df"
   ],
   "id": "b653b481d22aea51",
   "outputs": [],
   "execution_count": 405
  },
  {
   "metadata": {
    "ExecuteTime": {
     "end_time": "2025-04-10T15:56:49.991948Z",
     "start_time": "2025-04-10T15:56:49.850903Z"
    }
   },
   "cell_type": "code",
   "source": [
    "listings = pd.read_csv('../data/listings.csv')\n",
    "listings = group_property_types(listings)\n",
    "listings[\"property_type\"].value_counts()"
   ],
   "id": "15ffce63bf8d8c25",
   "outputs": [
    {
     "data": {
      "text/plain": [
       "property_type\n",
       "entire rental unit    2295\n",
       "room                  1359\n",
       "condo                  233\n",
       "other                  139\n",
       "apartment              105\n",
       "home                    64\n",
       "Name: count, dtype: int64"
      ]
     },
     "execution_count": 406,
     "metadata": {},
     "output_type": "execute_result"
    }
   ],
   "execution_count": 406
  },
  {
   "metadata": {
    "ExecuteTime": {
     "end_time": "2025-04-10T15:56:50.058766Z",
     "start_time": "2025-04-10T15:56:50.054550Z"
    }
   },
   "cell_type": "code",
   "source": "listings[\"room_type\"].value_counts()",
   "id": "2e06b8dc08fa9d2",
   "outputs": [
    {
     "data": {
      "text/plain": [
       "room_type\n",
       "Entire home/apt    2842\n",
       "Private room       1298\n",
       "Hotel room           44\n",
       "Shared room          11\n",
       "Name: count, dtype: int64"
      ]
     },
     "execution_count": 407,
     "metadata": {},
     "output_type": "execute_result"
    }
   ],
   "execution_count": 407
  },
  {
   "metadata": {
    "ExecuteTime": {
     "end_time": "2025-04-10T15:56:50.105130Z",
     "start_time": "2025-04-10T15:56:50.099915Z"
    }
   },
   "cell_type": "code",
   "source": "listings[\"bathrooms_text\"].value_counts()",
   "id": "e01d47ba13c828d1",
   "outputs": [
    {
     "data": {
      "text/plain": [
       "bathrooms_text\n",
       "1 bath               2563\n",
       "1 shared bath         595\n",
       "2 baths               298\n",
       "1 private bath        280\n",
       "1.5 baths             229\n",
       "1.5 shared baths       57\n",
       "2 shared baths         41\n",
       "2.5 baths              30\n",
       "3 baths                22\n",
       "Half-bath              20\n",
       "0 baths                17\n",
       "0 shared baths          7\n",
       "Shared half-bath        7\n",
       "Private half-bath       6\n",
       "3.5 baths               4\n",
       "4 shared baths          3\n",
       "4 baths                 3\n",
       "2.5 shared baths        3\n",
       "3 shared baths          3\n",
       "8.5 shared baths        1\n",
       "8.5 baths               1\n",
       "27 baths                1\n",
       "6 baths                 1\n",
       "Name: count, dtype: int64"
      ]
     },
     "execution_count": 408,
     "metadata": {},
     "output_type": "execute_result"
    }
   ],
   "execution_count": 408
  },
  {
   "metadata": {
    "ExecuteTime": {
     "end_time": "2025-04-10T15:56:50.232635Z",
     "start_time": "2025-04-10T15:56:50.229289Z"
    }
   },
   "cell_type": "code",
   "source": [
    "def extract_is_shared_from_bathrooms_text(df):\n",
    "    \"\"\"Extract is_shared from bathrooms_text column\"\"\"\n",
    "    extract_is_shared = lambda txt: 1 if \"shared\" in txt.lower() else 0\n",
    "    df[\"is_shared_bathroom\"] = df[\"bathrooms_text\"].apply(lambda x: extract_is_shared(x) if isinstance(x, str) else x)\n",
    "    df = df.drop(columns=[\"bathrooms_text\"])\n",
    "    return df"
   ],
   "id": "6878e1d913cce237",
   "outputs": [],
   "execution_count": 409
  },
  {
   "metadata": {
    "ExecuteTime": {
     "end_time": "2025-04-10T15:56:50.299213Z",
     "start_time": "2025-04-10T15:56:50.296276Z"
    }
   },
   "cell_type": "code",
   "source": [
    "def categorical_columns_one_hot_encoding(df):\n",
    "    \"\"\"One-hot encode categorical columns\"\"\"\n",
    "    categorical_columns = [\n",
    "        \"neighbourhood_group_cleansed\",\n",
    "        \"property_type\",\n",
    "        \"room_type\",\n",
    "        \"is_shared_bathroom\",\n",
    "    ]\n",
    "\n",
    "    df = pd.get_dummies(df, columns=categorical_columns, drop_first=True)\n",
    "    return df"
   ],
   "id": "ab11a53f0b5a4146",
   "outputs": [],
   "execution_count": 410
  },
  {
   "metadata": {},
   "cell_type": "markdown",
   "source": "## Final transformations",
   "id": "e56e62d4c8a78aec"
  },
  {
   "metadata": {
    "ExecuteTime": {
     "end_time": "2025-04-10T15:56:50.357147Z",
     "start_time": "2025-04-10T15:56:50.353993Z"
    }
   },
   "cell_type": "code",
   "source": [
    "def transform_listings(df):\n",
    "    df = drop_useless_columns(df)\n",
    "    df = drop_fulltext_columns(df)\n",
    "    df = transform_binary_columns(df)\n",
    "    df = aggregate_rating_columns(df)\n",
    "    df = transform_price(df)\n",
    "    df = transform_host_response_time(df)\n",
    "    df = extract_is_shared_from_bathrooms_text(df)\n",
    "    df = group_property_types(df)\n",
    "    df = categorical_columns_one_hot_encoding(df) # after extracting is_shared_bathroom and grouping property types!\n",
    "    return df"
   ],
   "id": "abf8b0e810dec956",
   "outputs": [],
   "execution_count": 411
  },
  {
   "metadata": {
    "ExecuteTime": {
     "end_time": "2025-04-10T15:56:50.583507Z",
     "start_time": "2025-04-10T15:56:50.416840Z"
    }
   },
   "cell_type": "code",
   "source": [
    "listings = pd.read_csv('../data/listings.csv')\n",
    "listings = transform_listings(listings)"
   ],
   "id": "81181b1a42361987",
   "outputs": [],
   "execution_count": 412
  },
  {
   "metadata": {
    "ExecuteTime": {
     "end_time": "2025-04-10T15:56:50.600990Z",
     "start_time": "2025-04-10T15:56:50.590258Z"
    }
   },
   "cell_type": "code",
   "source": "listings.info()",
   "id": "d70e16f09190df47",
   "outputs": [
    {
     "name": "stdout",
     "output_type": "stream",
     "text": [
      "<class 'pandas.core.frame.DataFrame'>\n",
      "RangeIndex: 4195 entries, 0 to 4194\n",
      "Data columns (total 65 columns):\n",
      " #   Column                                                 Non-Null Count  Dtype  \n",
      "---  ------                                                 --------------  -----  \n",
      " 0   host_id                                                4195 non-null   int64  \n",
      " 1   host_since                                             4192 non-null   object \n",
      " 2   host_response_time                                     2566 non-null   float64\n",
      " 3   host_response_rate                                     2566 non-null   object \n",
      " 4   host_acceptance_rate                                   2831 non-null   object \n",
      " 5   host_is_superhost                                      4195 non-null   int64  \n",
      " 6   host_listings_count                                    4192 non-null   float64\n",
      " 7   host_total_listings_count                              4192 non-null   float64\n",
      " 8   host_verifications                                     4192 non-null   object \n",
      " 9   host_has_profile_pic                                   4195 non-null   int64  \n",
      " 10  host_identity_verified                                 4195 non-null   int64  \n",
      " 11  latitude                                               4195 non-null   float64\n",
      " 12  longitude                                              4195 non-null   float64\n",
      " 13  accommodates                                           4195 non-null   int64  \n",
      " 14  bathrooms                                              2676 non-null   float64\n",
      " 15  bedrooms                                               3574 non-null   float64\n",
      " 16  beds                                                   2666 non-null   float64\n",
      " 17  amenities                                              4195 non-null   object \n",
      " 18  price                                                  2674 non-null   float64\n",
      " 19  minimum_nights                                         4195 non-null   int64  \n",
      " 20  maximum_nights                                         4195 non-null   int64  \n",
      " 21  minimum_minimum_nights                                 4195 non-null   int64  \n",
      " 22  maximum_minimum_nights                                 4195 non-null   int64  \n",
      " 23  minimum_maximum_nights                                 4195 non-null   int64  \n",
      " 24  maximum_maximum_nights                                 4195 non-null   int64  \n",
      " 25  minimum_nights_avg_ntm                                 4195 non-null   float64\n",
      " 26  maximum_nights_avg_ntm                                 4195 non-null   float64\n",
      " 27  calendar_updated                                       0 non-null      float64\n",
      " 28  has_availability                                       4195 non-null   int64  \n",
      " 29  availability_30                                        4195 non-null   int64  \n",
      " 30  availability_60                                        4195 non-null   int64  \n",
      " 31  availability_90                                        4195 non-null   int64  \n",
      " 32  availability_365                                       4195 non-null   int64  \n",
      " 33  number_of_reviews                                      4195 non-null   int64  \n",
      " 34  number_of_reviews_ltm                                  4195 non-null   int64  \n",
      " 35  number_of_reviews_l30d                                 4195 non-null   int64  \n",
      " 36  first_review                                           3223 non-null   object \n",
      " 37  last_review                                            3223 non-null   object \n",
      " 38  instant_bookable                                       4195 non-null   int64  \n",
      " 39  calculated_host_listings_count                         4195 non-null   int64  \n",
      " 40  calculated_host_listings_count_entire_homes            4195 non-null   int64  \n",
      " 41  calculated_host_listings_count_private_rooms           4195 non-null   int64  \n",
      " 42  calculated_host_listings_count_shared_rooms            4195 non-null   int64  \n",
      " 43  reviews_per_month                                      3223 non-null   float64\n",
      " 44  avg_rating                                             3223 non-null   float64\n",
      " 45  neighbourhood_group_cleansed_Friedrichshain-Kreuzberg  4195 non-null   bool   \n",
      " 46  neighbourhood_group_cleansed_Lichtenberg               4195 non-null   bool   \n",
      " 47  neighbourhood_group_cleansed_Marzahn - Hellersdorf     4195 non-null   bool   \n",
      " 48  neighbourhood_group_cleansed_Mitte                     4195 non-null   bool   \n",
      " 49  neighbourhood_group_cleansed_Neukölln                  4195 non-null   bool   \n",
      " 50  neighbourhood_group_cleansed_Pankow                    4195 non-null   bool   \n",
      " 51  neighbourhood_group_cleansed_Reinickendorf             4195 non-null   bool   \n",
      " 52  neighbourhood_group_cleansed_Spandau                   4195 non-null   bool   \n",
      " 53  neighbourhood_group_cleansed_Steglitz - Zehlendorf     4195 non-null   bool   \n",
      " 54  neighbourhood_group_cleansed_Tempelhof - Schöneberg    4195 non-null   bool   \n",
      " 55  neighbourhood_group_cleansed_Treptow - Köpenick        4195 non-null   bool   \n",
      " 56  property_type_condo                                    4195 non-null   bool   \n",
      " 57  property_type_entire rental unit                       4195 non-null   bool   \n",
      " 58  property_type_home                                     4195 non-null   bool   \n",
      " 59  property_type_other                                    4195 non-null   bool   \n",
      " 60  property_type_room                                     4195 non-null   bool   \n",
      " 61  room_type_Hotel room                                   4195 non-null   bool   \n",
      " 62  room_type_Private room                                 4195 non-null   bool   \n",
      " 63  room_type_Shared room                                  4195 non-null   bool   \n",
      " 64  is_shared_bathroom_1.0                                 4195 non-null   bool   \n",
      "dtypes: bool(20), float64(14), int64(24), object(7)\n",
      "memory usage: 1.5+ MB\n"
     ]
    }
   ],
   "execution_count": 413
  },
  {
   "metadata": {
    "ExecuteTime": {
     "end_time": "2025-04-10T15:56:50.719697Z",
     "start_time": "2025-04-10T15:56:50.710457Z"
    }
   },
   "cell_type": "code",
   "source": [
    "# TODO\n",
    "# list columns (above)\n",
    "# host_since\n",
    "# host_response_rate\n",
    "# host_acceptance_rate\n",
    "# first_review\n",
    "# last_review\n",
    "# verify if int columns make sense"
   ],
   "id": "ade266c265e056d3",
   "outputs": [],
   "execution_count": 414
  }
 ],
 "metadata": {
  "kernelspec": {
   "display_name": "Python 3",
   "language": "python",
   "name": "python3"
  },
  "language_info": {
   "codemirror_mode": {
    "name": "ipython",
    "version": 2
   },
   "file_extension": ".py",
   "mimetype": "text/x-python",
   "name": "python",
   "nbconvert_exporter": "python",
   "pygments_lexer": "ipython2",
   "version": "2.7.6"
  }
 },
 "nbformat": 4,
 "nbformat_minor": 5
}
