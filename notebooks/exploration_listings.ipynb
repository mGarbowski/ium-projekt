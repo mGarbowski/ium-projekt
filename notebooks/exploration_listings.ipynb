{
 "cells": [
  {
   "cell_type": "markdown",
   "id": "b20ed5d9df7c4130",
   "metadata": {},
   "source": [
    "# Eksploracja danych - zbiór `listings.csv`\n",
    "\n",
    "Wstępny przegląd danych z pierwszej paczki"
   ]
  },
  {
   "cell_type": "markdown",
   "id": "28d8f79b554c80df",
   "metadata": {},
   "source": [
    "## Wnioski\n",
    "\n",
    "* Ponad 80% ocen zawiera się między 4.5 a 5.0"
   ]
  },
  {
   "cell_type": "code",
   "id": "de3f8c8acc704282",
   "metadata": {
    "ExecuteTime": {
     "end_time": "2025-05-11T13:25:06.255326Z",
     "start_time": "2025-05-11T13:25:06.038532Z"
    }
   },
   "source": [
    "from datetime import datetime\n",
    "\n",
    "import numpy as np\n",
    "import pandas as pd\n",
    "import matplotlib.pyplot as plt\n",
    "import seaborn as sns\n",
    "from sklearn.preprocessing import StandardScaler\n",
    "from sklearn.feature_selection import mutual_info_regression\n"
   ],
   "outputs": [],
   "execution_count": 1
  },
  {
   "cell_type": "code",
   "id": "53c186648546e7d8",
   "metadata": {
    "ExecuteTime": {
     "end_time": "2025-05-11T13:25:06.264424Z",
     "start_time": "2025-05-11T13:25:06.259855Z"
    }
   },
   "source": [
    "def get_listings():\n",
    "    return pd.read_csv('../data/raw/listings.csv')"
   ],
   "outputs": [],
   "execution_count": 2
  },
  {
   "cell_type": "markdown",
   "id": "27c5e8b0022620e4",
   "metadata": {},
   "source": [
    "## Wielkość zbioru danych"
   ]
  },
  {
   "cell_type": "code",
   "id": "5ecc851be60da72e",
   "metadata": {
    "ExecuteTime": {
     "end_time": "2025-05-11T13:25:06.637107Z",
     "start_time": "2025-05-11T13:25:06.371724Z"
    }
   },
   "source": [
    "listings = get_listings()\n",
    "total_len = len(listings)\n",
    "\n",
    "review_columns = [\n",
    "    \"review_scores_rating\",\n",
    "    \"review_scores_accuracy\",\n",
    "    \"review_scores_cleanliness\",\n",
    "    \"review_scores_checkin\",\n",
    "    \"review_scores_communication\",\n",
    "    \"review_scores_location\",\n",
    "    \"review_scores_value\",\n",
    "]\n",
    "listings_with_reviews = listings[listings[review_columns].notna().any(axis=1)]\n",
    "len_with_reviews = len(listings_with_reviews)\n",
    "\n",
    "print(f\"Liczba przykładów w całym zbiorze {total_len}\")\n",
    "print(f\"Liczba przykładów z oceną {len_with_reviews}\")"
   ],
   "outputs": [
    {
     "name": "stdout",
     "output_type": "stream",
     "text": [
      "Liczba przykładów w całym zbiorze 4195\n",
      "Liczba przykładów z oceną 3223\n"
     ]
    }
   ],
   "execution_count": 3
  },
  {
   "cell_type": "markdown",
   "id": "ef840d22cf7cf5b1",
   "metadata": {},
   "source": [
    "## Atrybuty"
   ]
  },
  {
   "cell_type": "code",
   "id": "b7e0c036dc52774",
   "metadata": {
    "ExecuteTime": {
     "end_time": "2025-05-11T13:25:06.926515Z",
     "start_time": "2025-05-11T13:25:06.672297Z"
    }
   },
   "source": [
    "listings = get_listings()\n",
    "listings.head()"
   ],
   "outputs": [
    {
     "data": {
      "text/plain": [
       "                    id                                      listing_url  \\\n",
       "0  1047164111839138424  https://www.nocarz.pl/rooms/1047164111839138424   \n",
       "1             24793153             https://www.nocarz.pl/rooms/24793153   \n",
       "2              9768263              https://www.nocarz.pl/rooms/9768263   \n",
       "3   798586109549068377   https://www.nocarz.pl/rooms/798586109549068377   \n",
       "4             28806732             https://www.nocarz.pl/rooms/28806732   \n",
       "\n",
       "        scrape_id last_scraped           source  \\\n",
       "0  20241221052002   2024-12-21      city scrape   \n",
       "1  20241221052002   2024-12-21  previous scrape   \n",
       "2  20241221052002   2024-12-21  previous scrape   \n",
       "3  20241221052002   2024-12-21      city scrape   \n",
       "4  20241221052002   2024-12-21  previous scrape   \n",
       "\n",
       "                                            name  \\\n",
       "0  Privatzimmer in Neukölln/Rixdorf (Erdgeschoß)   \n",
       "1                 Ganze Wohnung in Berlin Pankow   \n",
       "2                  Loftapartment Prenzlauer Berg   \n",
       "3   Colorful apartment in Schillerkiez, Neukölln   \n",
       "4                                  Neukölln Home   \n",
       "\n",
       "                                         description  \\\n",
       "0  Hey dear guests, <br /><br />the room has a be...   \n",
       "1  Cozy furnished and spacious 2 bedroom apartmen...   \n",
       "2  enjoy Berlin on 88 square meter in our sunny, ...   \n",
       "3  Enjoy the this colorful home in “Berlin’s cool...   \n",
       "4  Loft bed, fold out couch, kitchen and balcony ...   \n",
       "\n",
       "                               neighborhood_overview  \\\n",
       "0                                                NaN   \n",
       "1                                                NaN   \n",
       "2  Situated in the hard of 'Prenzlauer Berg' you'...   \n",
       "3  Voted \"coolest neighborhood\" by Time Out Magaz...   \n",
       "4  Plenty of neighbourhood bars and cafes to keep...   \n",
       "\n",
       "                                         picture_url    host_id  ...  \\\n",
       "0  https://a0.muscache.com/pictures/hosting/Hosti...  541377699  ...   \n",
       "1  https://a0.muscache.com/pictures/miso/Hosting-...   63053103  ...   \n",
       "2  https://a0.muscache.com/pictures/4c096212-fe21...   21256997  ...   \n",
       "3  https://a0.muscache.com/pictures/miso/Hosting-...     564509  ...   \n",
       "4  https://a0.muscache.com/pictures/60151487-cc67...  217262525  ...   \n",
       "\n",
       "  review_scores_communication review_scores_location review_scores_value  \\\n",
       "0                        4.95                   4.86                4.70   \n",
       "1                        4.79                   4.71                4.71   \n",
       "2                        5.00                   4.90                4.80   \n",
       "3                         NaN                    NaN                 NaN   \n",
       "4                        5.00                   4.60                4.40   \n",
       "\n",
       "                                             license instant_bookable  \\\n",
       "0                                  08/Z/AZ/014226-24                t   \n",
       "1  First name and Last name: Jana Roskosova  <br/...                f   \n",
       "2                                                NaN                f   \n",
       "3                                                NaN                f   \n",
       "4                                                NaN                f   \n",
       "\n",
       "  calculated_host_listings_count calculated_host_listings_count_entire_homes  \\\n",
       "0                              1                                           0   \n",
       "1                              1                                           1   \n",
       "2                              1                                           1   \n",
       "3                              1                                           1   \n",
       "4                              1                                           1   \n",
       "\n",
       "  calculated_host_listings_count_private_rooms  \\\n",
       "0                                            1   \n",
       "1                                            0   \n",
       "2                                            0   \n",
       "3                                            0   \n",
       "4                                            0   \n",
       "\n",
       "  calculated_host_listings_count_shared_rooms reviews_per_month  \n",
       "0                                           0              6.94  \n",
       "1                                           0              0.67  \n",
       "2                                           0              0.09  \n",
       "3                                           0               NaN  \n",
       "4                                           0              0.07  \n",
       "\n",
       "[5 rows x 75 columns]"
      ],
      "text/html": [
       "<div>\n",
       "<style scoped>\n",
       "    .dataframe tbody tr th:only-of-type {\n",
       "        vertical-align: middle;\n",
       "    }\n",
       "\n",
       "    .dataframe tbody tr th {\n",
       "        vertical-align: top;\n",
       "    }\n",
       "\n",
       "    .dataframe thead th {\n",
       "        text-align: right;\n",
       "    }\n",
       "</style>\n",
       "<table border=\"1\" class=\"dataframe\">\n",
       "  <thead>\n",
       "    <tr style=\"text-align: right;\">\n",
       "      <th></th>\n",
       "      <th>id</th>\n",
       "      <th>listing_url</th>\n",
       "      <th>scrape_id</th>\n",
       "      <th>last_scraped</th>\n",
       "      <th>source</th>\n",
       "      <th>name</th>\n",
       "      <th>description</th>\n",
       "      <th>neighborhood_overview</th>\n",
       "      <th>picture_url</th>\n",
       "      <th>host_id</th>\n",
       "      <th>...</th>\n",
       "      <th>review_scores_communication</th>\n",
       "      <th>review_scores_location</th>\n",
       "      <th>review_scores_value</th>\n",
       "      <th>license</th>\n",
       "      <th>instant_bookable</th>\n",
       "      <th>calculated_host_listings_count</th>\n",
       "      <th>calculated_host_listings_count_entire_homes</th>\n",
       "      <th>calculated_host_listings_count_private_rooms</th>\n",
       "      <th>calculated_host_listings_count_shared_rooms</th>\n",
       "      <th>reviews_per_month</th>\n",
       "    </tr>\n",
       "  </thead>\n",
       "  <tbody>\n",
       "    <tr>\n",
       "      <th>0</th>\n",
       "      <td>1047164111839138424</td>\n",
       "      <td>https://www.nocarz.pl/rooms/1047164111839138424</td>\n",
       "      <td>20241221052002</td>\n",
       "      <td>2024-12-21</td>\n",
       "      <td>city scrape</td>\n",
       "      <td>Privatzimmer in Neukölln/Rixdorf (Erdgeschoß)</td>\n",
       "      <td>Hey dear guests, &lt;br /&gt;&lt;br /&gt;the room has a be...</td>\n",
       "      <td>NaN</td>\n",
       "      <td>https://a0.muscache.com/pictures/hosting/Hosti...</td>\n",
       "      <td>541377699</td>\n",
       "      <td>...</td>\n",
       "      <td>4.95</td>\n",
       "      <td>4.86</td>\n",
       "      <td>4.70</td>\n",
       "      <td>08/Z/AZ/014226-24</td>\n",
       "      <td>t</td>\n",
       "      <td>1</td>\n",
       "      <td>0</td>\n",
       "      <td>1</td>\n",
       "      <td>0</td>\n",
       "      <td>6.94</td>\n",
       "    </tr>\n",
       "    <tr>\n",
       "      <th>1</th>\n",
       "      <td>24793153</td>\n",
       "      <td>https://www.nocarz.pl/rooms/24793153</td>\n",
       "      <td>20241221052002</td>\n",
       "      <td>2024-12-21</td>\n",
       "      <td>previous scrape</td>\n",
       "      <td>Ganze Wohnung in Berlin Pankow</td>\n",
       "      <td>Cozy furnished and spacious 2 bedroom apartmen...</td>\n",
       "      <td>NaN</td>\n",
       "      <td>https://a0.muscache.com/pictures/miso/Hosting-...</td>\n",
       "      <td>63053103</td>\n",
       "      <td>...</td>\n",
       "      <td>4.79</td>\n",
       "      <td>4.71</td>\n",
       "      <td>4.71</td>\n",
       "      <td>First name and Last name: Jana Roskosova  &lt;br/...</td>\n",
       "      <td>f</td>\n",
       "      <td>1</td>\n",
       "      <td>1</td>\n",
       "      <td>0</td>\n",
       "      <td>0</td>\n",
       "      <td>0.67</td>\n",
       "    </tr>\n",
       "    <tr>\n",
       "      <th>2</th>\n",
       "      <td>9768263</td>\n",
       "      <td>https://www.nocarz.pl/rooms/9768263</td>\n",
       "      <td>20241221052002</td>\n",
       "      <td>2024-12-21</td>\n",
       "      <td>previous scrape</td>\n",
       "      <td>Loftapartment Prenzlauer Berg</td>\n",
       "      <td>enjoy Berlin on 88 square meter in our sunny, ...</td>\n",
       "      <td>Situated in the hard of 'Prenzlauer Berg' you'...</td>\n",
       "      <td>https://a0.muscache.com/pictures/4c096212-fe21...</td>\n",
       "      <td>21256997</td>\n",
       "      <td>...</td>\n",
       "      <td>5.00</td>\n",
       "      <td>4.90</td>\n",
       "      <td>4.80</td>\n",
       "      <td>NaN</td>\n",
       "      <td>f</td>\n",
       "      <td>1</td>\n",
       "      <td>1</td>\n",
       "      <td>0</td>\n",
       "      <td>0</td>\n",
       "      <td>0.09</td>\n",
       "    </tr>\n",
       "    <tr>\n",
       "      <th>3</th>\n",
       "      <td>798586109549068377</td>\n",
       "      <td>https://www.nocarz.pl/rooms/798586109549068377</td>\n",
       "      <td>20241221052002</td>\n",
       "      <td>2024-12-21</td>\n",
       "      <td>city scrape</td>\n",
       "      <td>Colorful apartment in Schillerkiez, Neukölln</td>\n",
       "      <td>Enjoy the this colorful home in “Berlin’s cool...</td>\n",
       "      <td>Voted \"coolest neighborhood\" by Time Out Magaz...</td>\n",
       "      <td>https://a0.muscache.com/pictures/miso/Hosting-...</td>\n",
       "      <td>564509</td>\n",
       "      <td>...</td>\n",
       "      <td>NaN</td>\n",
       "      <td>NaN</td>\n",
       "      <td>NaN</td>\n",
       "      <td>NaN</td>\n",
       "      <td>f</td>\n",
       "      <td>1</td>\n",
       "      <td>1</td>\n",
       "      <td>0</td>\n",
       "      <td>0</td>\n",
       "      <td>NaN</td>\n",
       "    </tr>\n",
       "    <tr>\n",
       "      <th>4</th>\n",
       "      <td>28806732</td>\n",
       "      <td>https://www.nocarz.pl/rooms/28806732</td>\n",
       "      <td>20241221052002</td>\n",
       "      <td>2024-12-21</td>\n",
       "      <td>previous scrape</td>\n",
       "      <td>Neukölln Home</td>\n",
       "      <td>Loft bed, fold out couch, kitchen and balcony ...</td>\n",
       "      <td>Plenty of neighbourhood bars and cafes to keep...</td>\n",
       "      <td>https://a0.muscache.com/pictures/60151487-cc67...</td>\n",
       "      <td>217262525</td>\n",
       "      <td>...</td>\n",
       "      <td>5.00</td>\n",
       "      <td>4.60</td>\n",
       "      <td>4.40</td>\n",
       "      <td>NaN</td>\n",
       "      <td>f</td>\n",
       "      <td>1</td>\n",
       "      <td>1</td>\n",
       "      <td>0</td>\n",
       "      <td>0</td>\n",
       "      <td>0.07</td>\n",
       "    </tr>\n",
       "  </tbody>\n",
       "</table>\n",
       "<p>5 rows × 75 columns</p>\n",
       "</div>"
      ]
     },
     "execution_count": 4,
     "metadata": {},
     "output_type": "execute_result"
    }
   ],
   "execution_count": 4
  },
  {
   "metadata": {
    "ExecuteTime": {
     "end_time": "2025-05-11T13:25:07.119236Z",
     "start_time": "2025-05-11T13:25:07.108354Z"
    }
   },
   "cell_type": "code",
   "source": "for c in listings.columns: print(c)",
   "id": "5c9587aa393da4ed",
   "outputs": [
    {
     "name": "stdout",
     "output_type": "stream",
     "text": [
      "id\n",
      "listing_url\n",
      "scrape_id\n",
      "last_scraped\n",
      "source\n",
      "name\n",
      "description\n",
      "neighborhood_overview\n",
      "picture_url\n",
      "host_id\n",
      "host_url\n",
      "host_name\n",
      "host_since\n",
      "host_location\n",
      "host_about\n",
      "host_response_time\n",
      "host_response_rate\n",
      "host_acceptance_rate\n",
      "host_is_superhost\n",
      "host_thumbnail_url\n",
      "host_picture_url\n",
      "host_neighbourhood\n",
      "host_listings_count\n",
      "host_total_listings_count\n",
      "host_verifications\n",
      "host_has_profile_pic\n",
      "host_identity_verified\n",
      "neighbourhood\n",
      "neighbourhood_cleansed\n",
      "neighbourhood_group_cleansed\n",
      "latitude\n",
      "longitude\n",
      "property_type\n",
      "room_type\n",
      "accommodates\n",
      "bathrooms\n",
      "bathrooms_text\n",
      "bedrooms\n",
      "beds\n",
      "amenities\n",
      "price\n",
      "minimum_nights\n",
      "maximum_nights\n",
      "minimum_minimum_nights\n",
      "maximum_minimum_nights\n",
      "minimum_maximum_nights\n",
      "maximum_maximum_nights\n",
      "minimum_nights_avg_ntm\n",
      "maximum_nights_avg_ntm\n",
      "calendar_updated\n",
      "has_availability\n",
      "availability_30\n",
      "availability_60\n",
      "availability_90\n",
      "availability_365\n",
      "calendar_last_scraped\n",
      "number_of_reviews\n",
      "number_of_reviews_ltm\n",
      "number_of_reviews_l30d\n",
      "first_review\n",
      "last_review\n",
      "review_scores_rating\n",
      "review_scores_accuracy\n",
      "review_scores_cleanliness\n",
      "review_scores_checkin\n",
      "review_scores_communication\n",
      "review_scores_location\n",
      "review_scores_value\n",
      "license\n",
      "instant_bookable\n",
      "calculated_host_listings_count\n",
      "calculated_host_listings_count_entire_homes\n",
      "calculated_host_listings_count_private_rooms\n",
      "calculated_host_listings_count_shared_rooms\n",
      "reviews_per_month\n"
     ]
    }
   ],
   "execution_count": 5
  },
  {
   "cell_type": "markdown",
   "id": "dfb42cd6127be7c7",
   "metadata": {},
   "source": [
    "## Nieprzydatne atrybuty"
   ]
  },
  {
   "metadata": {
    "ExecuteTime": {
     "end_time": "2025-05-11T13:25:07.243950Z",
     "start_time": "2025-05-11T13:25:07.238738Z"
    }
   },
   "cell_type": "code",
   "source": [
    "def drop_useless_columns(df):\n",
    "    cols_to_drop = [\n",
    "        \"id\",\n",
    "        \"listing_url\",\n",
    "        \"scrape_id\",\n",
    "        \"last_scraped\",\n",
    "        \"source\",\n",
    "        \"picture_url\",\n",
    "        \"host_name\",\n",
    "        \"host_url\",\n",
    "        \"host_thumbnail_url\",\n",
    "        \"host_picture_url\",\n",
    "        \"calendar_last_scraped\",\n",
    "        \"calendar_updated\",  # only missing values\n",
    "        \"neighbourhood\",\n",
    "        \"host_location\",\n",
    "        \"host_neighbourhood\",\n",
    "        \"neighbourhood_cleansed\",\n",
    "        \"number_of_reviews\",\n",
    "        \"number_of_reviews_ltm\",\n",
    "        \"number_of_reviews_l30d\",\n",
    "        \"first_review\",  # will not be present in new offers\n",
    "        \"last_review\",  # will not be present in new offers\n",
    "        \"latitude\",  # neighbourhood category should be more informative\n",
    "        \"longitude\",  # neighbourhood category should be more informative\n",
    "        \"amenities\",\n",
    "        # this could be useful but has too many categories (1000+), maybe use one-hot encoding + embeddings?\n",
    "        \"reviews_per_month\",  # will be missing for new offers\n",
    "    ]\n",
    "\n",
    "    return df.drop(columns=cols_to_drop)"
   ],
   "id": "ecc44ab69f82b574",
   "outputs": [],
   "execution_count": 6
  },
  {
   "metadata": {
    "ExecuteTime": {
     "end_time": "2025-05-11T13:25:07.747327Z",
     "start_time": "2025-05-11T13:25:07.480051Z"
    }
   },
   "cell_type": "code",
   "source": [
    "# Count missing values\n",
    "listings = get_listings()\n",
    "cols = [\n",
    "    \"picture_url\",\n",
    "    \"host_url\",\n",
    "    \"host_thumbnail_url\",\n",
    "    \"host_picture_url\",\n",
    "    \"calendar_updated\"\n",
    "]\n",
    "for col in cols:\n",
    "    null_count = listings[col].isna().sum()\n",
    "    print(f\"{col} missing: {null_count}\")\n"
   ],
   "id": "47f30847d62dddc4",
   "outputs": [
    {
     "name": "stdout",
     "output_type": "stream",
     "text": [
      "picture_url missing: 0\n",
      "host_url missing: 0\n",
      "host_thumbnail_url missing: 3\n",
      "host_picture_url missing: 3\n",
      "calendar_updated missing: 4195\n"
     ]
    }
   ],
   "execution_count": 7
  },
  {
   "cell_type": "markdown",
   "id": "cb3080cd0b35d67a",
   "metadata": {},
   "source": [
    "## Atrybuty tekstowe\n",
    "\n",
    "Takie, z których może da się wyciągnąć jakieś informacje, przetwarzając je w LLM, ale w tej formie nieprzydatne"
   ]
  },
  {
   "cell_type": "code",
   "id": "9c86b2d784f9fbd9",
   "metadata": {
    "ExecuteTime": {
     "end_time": "2025-05-11T13:25:07.819670Z",
     "start_time": "2025-05-11T13:25:07.811685Z"
    }
   },
   "source": [
    "def drop_fulltext_columns(df):\n",
    "    \"\"\"Text columns that are useless but could be processed with an LLM(?)\"\"\"\n",
    "    text_columns = [\n",
    "        \"name\",\n",
    "        \"description\",\n",
    "        \"neighborhood_overview\",\n",
    "        \"host_about\",\n",
    "        \"license\",\n",
    "    ]\n",
    "\n",
    "    return df.drop(columns=text_columns)"
   ],
   "outputs": [],
   "execution_count": 8
  },
  {
   "cell_type": "code",
   "id": "22ac94016b3d1c27",
   "metadata": {
    "ExecuteTime": {
     "end_time": "2025-05-11T13:25:08.210106Z",
     "start_time": "2025-05-11T13:25:07.889155Z"
    }
   },
   "source": [
    "listings = get_listings()\n",
    "text_columns = [\n",
    "    \"name\",\n",
    "    \"description\",\n",
    "    \"neighborhood_overview\",\n",
    "    \"host_about\",\n",
    "    \"license\",\n",
    "]\n",
    "listings[text_columns]"
   ],
   "outputs": [
    {
     "data": {
      "text/plain": [
       "                                                name  \\\n",
       "0      Privatzimmer in Neukölln/Rixdorf (Erdgeschoß)   \n",
       "1                     Ganze Wohnung in Berlin Pankow   \n",
       "2                      Loftapartment Prenzlauer Berg   \n",
       "3       Colorful apartment in Schillerkiez, Neukölln   \n",
       "4                                      Neukölln Home   \n",
       "...                                              ...   \n",
       "4190      Cozy room in the heart of Berlin-Kreuzberg   \n",
       "4191  Luxuriös ausgestattetes Haus in zentraler Lage   \n",
       "4192            Cozy 1 Room Flat in Berlin Weißensee   \n",
       "4193               Stadtflucht Homes Penthouse 5.5.1   \n",
       "4194          micro design studio overlooking Berlin   \n",
       "\n",
       "                                            description  \\\n",
       "0     Hey dear guests, <br /><br />the room has a be...   \n",
       "1     Cozy furnished and spacious 2 bedroom apartmen...   \n",
       "2     enjoy Berlin on 88 square meter in our sunny, ...   \n",
       "3     Enjoy the this colorful home in “Berlin’s cool...   \n",
       "4     Loft bed, fold out couch, kitchen and balcony ...   \n",
       "...                                                 ...   \n",
       "4190  You can stay in a cute, cozy and quiet 13qm-ro...   \n",
       "4191  This beautifully appointed house is quietly lo...   \n",
       "4192  Are you looking for a peaceful and cozy place ...   \n",
       "4193  On the sixth floor of Lindower Strasse 18, 113...   \n",
       "4194  This micro loft is located in a recently renov...   \n",
       "\n",
       "                                  neighborhood_overview  \\\n",
       "0                                                   NaN   \n",
       "1                                                   NaN   \n",
       "2     Situated in the hard of 'Prenzlauer Berg' you'...   \n",
       "3     Voted \"coolest neighborhood\" by Time Out Magaz...   \n",
       "4     Plenty of neighbourhood bars and cafes to keep...   \n",
       "...                                                 ...   \n",
       "4190  The apartment is located in the heart of Kreuz...   \n",
       "4191  Highlight in the neighborhood is the Volkspark...   \n",
       "4192                 Very peaceful and quiet, friendly.   \n",
       "4193                                                NaN   \n",
       "4194  You will be located in the heart of Berlin´s m...   \n",
       "\n",
       "                                    host_about  \\\n",
       "0                                          NaN   \n",
       "1                                          NaN   \n",
       "2                                          NaN   \n",
       "3     Passion for music and playing the piano.   \n",
       "4                                          NaN   \n",
       "...                                        ...   \n",
       "4190                                       NaN   \n",
       "4191                                       NaN   \n",
       "4192                                       NaN   \n",
       "4193                                       NaN   \n",
       "4194                                       NaN   \n",
       "\n",
       "                                                license  \n",
       "0                                     08/Z/AZ/014226-24  \n",
       "1     First name and Last name: Jana Roskosova  <br/...  \n",
       "2                                                   NaN  \n",
       "3                                                   NaN  \n",
       "4                                                   NaN  \n",
       "...                                                 ...  \n",
       "4190                                                NaN  \n",
       "4191                                  03/Z/RA/007662-22  \n",
       "4192  First name and Last name: Zuzanne Abts <br/> C...  \n",
       "4193  Legal entity name and Legal form: STADTFLUCHT ...  \n",
       "4194                                                NaN  \n",
       "\n",
       "[4195 rows x 5 columns]"
      ],
      "text/html": [
       "<div>\n",
       "<style scoped>\n",
       "    .dataframe tbody tr th:only-of-type {\n",
       "        vertical-align: middle;\n",
       "    }\n",
       "\n",
       "    .dataframe tbody tr th {\n",
       "        vertical-align: top;\n",
       "    }\n",
       "\n",
       "    .dataframe thead th {\n",
       "        text-align: right;\n",
       "    }\n",
       "</style>\n",
       "<table border=\"1\" class=\"dataframe\">\n",
       "  <thead>\n",
       "    <tr style=\"text-align: right;\">\n",
       "      <th></th>\n",
       "      <th>name</th>\n",
       "      <th>description</th>\n",
       "      <th>neighborhood_overview</th>\n",
       "      <th>host_about</th>\n",
       "      <th>license</th>\n",
       "    </tr>\n",
       "  </thead>\n",
       "  <tbody>\n",
       "    <tr>\n",
       "      <th>0</th>\n",
       "      <td>Privatzimmer in Neukölln/Rixdorf (Erdgeschoß)</td>\n",
       "      <td>Hey dear guests, &lt;br /&gt;&lt;br /&gt;the room has a be...</td>\n",
       "      <td>NaN</td>\n",
       "      <td>NaN</td>\n",
       "      <td>08/Z/AZ/014226-24</td>\n",
       "    </tr>\n",
       "    <tr>\n",
       "      <th>1</th>\n",
       "      <td>Ganze Wohnung in Berlin Pankow</td>\n",
       "      <td>Cozy furnished and spacious 2 bedroom apartmen...</td>\n",
       "      <td>NaN</td>\n",
       "      <td>NaN</td>\n",
       "      <td>First name and Last name: Jana Roskosova  &lt;br/...</td>\n",
       "    </tr>\n",
       "    <tr>\n",
       "      <th>2</th>\n",
       "      <td>Loftapartment Prenzlauer Berg</td>\n",
       "      <td>enjoy Berlin on 88 square meter in our sunny, ...</td>\n",
       "      <td>Situated in the hard of 'Prenzlauer Berg' you'...</td>\n",
       "      <td>NaN</td>\n",
       "      <td>NaN</td>\n",
       "    </tr>\n",
       "    <tr>\n",
       "      <th>3</th>\n",
       "      <td>Colorful apartment in Schillerkiez, Neukölln</td>\n",
       "      <td>Enjoy the this colorful home in “Berlin’s cool...</td>\n",
       "      <td>Voted \"coolest neighborhood\" by Time Out Magaz...</td>\n",
       "      <td>Passion for music and playing the piano.</td>\n",
       "      <td>NaN</td>\n",
       "    </tr>\n",
       "    <tr>\n",
       "      <th>4</th>\n",
       "      <td>Neukölln Home</td>\n",
       "      <td>Loft bed, fold out couch, kitchen and balcony ...</td>\n",
       "      <td>Plenty of neighbourhood bars and cafes to keep...</td>\n",
       "      <td>NaN</td>\n",
       "      <td>NaN</td>\n",
       "    </tr>\n",
       "    <tr>\n",
       "      <th>...</th>\n",
       "      <td>...</td>\n",
       "      <td>...</td>\n",
       "      <td>...</td>\n",
       "      <td>...</td>\n",
       "      <td>...</td>\n",
       "    </tr>\n",
       "    <tr>\n",
       "      <th>4190</th>\n",
       "      <td>Cozy room in the heart of Berlin-Kreuzberg</td>\n",
       "      <td>You can stay in a cute, cozy and quiet 13qm-ro...</td>\n",
       "      <td>The apartment is located in the heart of Kreuz...</td>\n",
       "      <td>NaN</td>\n",
       "      <td>NaN</td>\n",
       "    </tr>\n",
       "    <tr>\n",
       "      <th>4191</th>\n",
       "      <td>Luxuriös ausgestattetes Haus in zentraler Lage</td>\n",
       "      <td>This beautifully appointed house is quietly lo...</td>\n",
       "      <td>Highlight in the neighborhood is the Volkspark...</td>\n",
       "      <td>NaN</td>\n",
       "      <td>03/Z/RA/007662-22</td>\n",
       "    </tr>\n",
       "    <tr>\n",
       "      <th>4192</th>\n",
       "      <td>Cozy 1 Room Flat in Berlin Weißensee</td>\n",
       "      <td>Are you looking for a peaceful and cozy place ...</td>\n",
       "      <td>Very peaceful and quiet, friendly.</td>\n",
       "      <td>NaN</td>\n",
       "      <td>First name and Last name: Zuzanne Abts &lt;br/&gt; C...</td>\n",
       "    </tr>\n",
       "    <tr>\n",
       "      <th>4193</th>\n",
       "      <td>Stadtflucht Homes Penthouse 5.5.1</td>\n",
       "      <td>On the sixth floor of Lindower Strasse 18, 113...</td>\n",
       "      <td>NaN</td>\n",
       "      <td>NaN</td>\n",
       "      <td>Legal entity name and Legal form: STADTFLUCHT ...</td>\n",
       "    </tr>\n",
       "    <tr>\n",
       "      <th>4194</th>\n",
       "      <td>micro design studio overlooking Berlin</td>\n",
       "      <td>This micro loft is located in a recently renov...</td>\n",
       "      <td>You will be located in the heart of Berlin´s m...</td>\n",
       "      <td>NaN</td>\n",
       "      <td>NaN</td>\n",
       "    </tr>\n",
       "  </tbody>\n",
       "</table>\n",
       "<p>4195 rows × 5 columns</p>\n",
       "</div>"
      ]
     },
     "execution_count": 9,
     "metadata": {},
     "output_type": "execute_result"
    }
   ],
   "execution_count": 9
  },
  {
   "cell_type": "code",
   "id": "a934b3c1a246f8dd",
   "metadata": {
    "ExecuteTime": {
     "end_time": "2025-05-11T13:25:08.292186Z",
     "start_time": "2025-05-11T13:25:08.284661Z"
    }
   },
   "source": [
    "for col in text_columns:\n",
    "    null_count = listings[col].isna().sum()\n",
    "    print(f\"{col} missing: {null_count}\")"
   ],
   "outputs": [
    {
     "name": "stdout",
     "output_type": "stream",
     "text": [
      "name missing: 0\n",
      "description missing: 185\n",
      "neighborhood_overview missing: 2141\n",
      "host_about missing: 2009\n",
      "license missing: 1538\n"
     ]
    }
   ],
   "execution_count": 10
  },
  {
   "cell_type": "code",
   "id": "a5b822f245052600",
   "metadata": {
    "ExecuteTime": {
     "end_time": "2025-05-11T13:25:08.330284Z",
     "start_time": "2025-05-11T13:25:08.321899Z"
    }
   },
   "source": [
    "listings = drop_useless_columns(listings)"
   ],
   "outputs": [],
   "execution_count": 11
  },
  {
   "cell_type": "code",
   "id": "9e679e215a15440a",
   "metadata": {
    "ExecuteTime": {
     "end_time": "2025-05-11T13:25:08.527445Z",
     "start_time": "2025-05-11T13:25:08.502289Z"
    }
   },
   "source": [
    "listings.head()"
   ],
   "outputs": [
    {
     "data": {
      "text/plain": [
       "                                            name  \\\n",
       "0  Privatzimmer in Neukölln/Rixdorf (Erdgeschoß)   \n",
       "1                 Ganze Wohnung in Berlin Pankow   \n",
       "2                  Loftapartment Prenzlauer Berg   \n",
       "3   Colorful apartment in Schillerkiez, Neukölln   \n",
       "4                                  Neukölln Home   \n",
       "\n",
       "                                         description  \\\n",
       "0  Hey dear guests, <br /><br />the room has a be...   \n",
       "1  Cozy furnished and spacious 2 bedroom apartmen...   \n",
       "2  enjoy Berlin on 88 square meter in our sunny, ...   \n",
       "3  Enjoy the this colorful home in “Berlin’s cool...   \n",
       "4  Loft bed, fold out couch, kitchen and balcony ...   \n",
       "\n",
       "                               neighborhood_overview    host_id  host_since  \\\n",
       "0                                                NaN  541377699  2023-10-11   \n",
       "1                                                NaN   63053103  2016-03-15   \n",
       "2  Situated in the hard of 'Prenzlauer Berg' you'...   21256997  2014-09-12   \n",
       "3  Voted \"coolest neighborhood\" by Time Out Magaz...     564509  2011-05-07   \n",
       "4  Plenty of neighbourhood bars and cafes to keep...  217262525  2018-09-25   \n",
       "\n",
       "                                 host_about host_response_time  \\\n",
       "0                                       NaN     within an hour   \n",
       "1                                       NaN                NaN   \n",
       "2                                       NaN                NaN   \n",
       "3  Passion for music and playing the piano.                NaN   \n",
       "4                                       NaN                NaN   \n",
       "\n",
       "  host_response_rate host_acceptance_rate host_is_superhost  ...  \\\n",
       "0               100%                 100%                 t  ...   \n",
       "1                NaN                  NaN                 f  ...   \n",
       "2                NaN                  NaN                 f  ...   \n",
       "3                NaN                   0%                 f  ...   \n",
       "4                NaN                  NaN                 f  ...   \n",
       "\n",
       "   review_scores_checkin  review_scores_communication review_scores_location  \\\n",
       "0                   4.92                         4.95                   4.86   \n",
       "1                   4.93                         4.79                   4.71   \n",
       "2                   5.00                         5.00                   4.90   \n",
       "3                    NaN                          NaN                    NaN   \n",
       "4                   5.00                         5.00                   4.60   \n",
       "\n",
       "  review_scores_value                                            license  \\\n",
       "0                4.70                                  08/Z/AZ/014226-24   \n",
       "1                4.71  First name and Last name: Jana Roskosova  <br/...   \n",
       "2                4.80                                                NaN   \n",
       "3                 NaN                                                NaN   \n",
       "4                4.40                                                NaN   \n",
       "\n",
       "  instant_bookable calculated_host_listings_count  \\\n",
       "0                t                              1   \n",
       "1                f                              1   \n",
       "2                f                              1   \n",
       "3                f                              1   \n",
       "4                f                              1   \n",
       "\n",
       "  calculated_host_listings_count_entire_homes  \\\n",
       "0                                           0   \n",
       "1                                           1   \n",
       "2                                           1   \n",
       "3                                           1   \n",
       "4                                           1   \n",
       "\n",
       "   calculated_host_listings_count_private_rooms  \\\n",
       "0                                             1   \n",
       "1                                             0   \n",
       "2                                             0   \n",
       "3                                             0   \n",
       "4                                             0   \n",
       "\n",
       "   calculated_host_listings_count_shared_rooms  \n",
       "0                                            0  \n",
       "1                                            0  \n",
       "2                                            0  \n",
       "3                                            0  \n",
       "4                                            0  \n",
       "\n",
       "[5 rows x 50 columns]"
      ],
      "text/html": [
       "<div>\n",
       "<style scoped>\n",
       "    .dataframe tbody tr th:only-of-type {\n",
       "        vertical-align: middle;\n",
       "    }\n",
       "\n",
       "    .dataframe tbody tr th {\n",
       "        vertical-align: top;\n",
       "    }\n",
       "\n",
       "    .dataframe thead th {\n",
       "        text-align: right;\n",
       "    }\n",
       "</style>\n",
       "<table border=\"1\" class=\"dataframe\">\n",
       "  <thead>\n",
       "    <tr style=\"text-align: right;\">\n",
       "      <th></th>\n",
       "      <th>name</th>\n",
       "      <th>description</th>\n",
       "      <th>neighborhood_overview</th>\n",
       "      <th>host_id</th>\n",
       "      <th>host_since</th>\n",
       "      <th>host_about</th>\n",
       "      <th>host_response_time</th>\n",
       "      <th>host_response_rate</th>\n",
       "      <th>host_acceptance_rate</th>\n",
       "      <th>host_is_superhost</th>\n",
       "      <th>...</th>\n",
       "      <th>review_scores_checkin</th>\n",
       "      <th>review_scores_communication</th>\n",
       "      <th>review_scores_location</th>\n",
       "      <th>review_scores_value</th>\n",
       "      <th>license</th>\n",
       "      <th>instant_bookable</th>\n",
       "      <th>calculated_host_listings_count</th>\n",
       "      <th>calculated_host_listings_count_entire_homes</th>\n",
       "      <th>calculated_host_listings_count_private_rooms</th>\n",
       "      <th>calculated_host_listings_count_shared_rooms</th>\n",
       "    </tr>\n",
       "  </thead>\n",
       "  <tbody>\n",
       "    <tr>\n",
       "      <th>0</th>\n",
       "      <td>Privatzimmer in Neukölln/Rixdorf (Erdgeschoß)</td>\n",
       "      <td>Hey dear guests, &lt;br /&gt;&lt;br /&gt;the room has a be...</td>\n",
       "      <td>NaN</td>\n",
       "      <td>541377699</td>\n",
       "      <td>2023-10-11</td>\n",
       "      <td>NaN</td>\n",
       "      <td>within an hour</td>\n",
       "      <td>100%</td>\n",
       "      <td>100%</td>\n",
       "      <td>t</td>\n",
       "      <td>...</td>\n",
       "      <td>4.92</td>\n",
       "      <td>4.95</td>\n",
       "      <td>4.86</td>\n",
       "      <td>4.70</td>\n",
       "      <td>08/Z/AZ/014226-24</td>\n",
       "      <td>t</td>\n",
       "      <td>1</td>\n",
       "      <td>0</td>\n",
       "      <td>1</td>\n",
       "      <td>0</td>\n",
       "    </tr>\n",
       "    <tr>\n",
       "      <th>1</th>\n",
       "      <td>Ganze Wohnung in Berlin Pankow</td>\n",
       "      <td>Cozy furnished and spacious 2 bedroom apartmen...</td>\n",
       "      <td>NaN</td>\n",
       "      <td>63053103</td>\n",
       "      <td>2016-03-15</td>\n",
       "      <td>NaN</td>\n",
       "      <td>NaN</td>\n",
       "      <td>NaN</td>\n",
       "      <td>NaN</td>\n",
       "      <td>f</td>\n",
       "      <td>...</td>\n",
       "      <td>4.93</td>\n",
       "      <td>4.79</td>\n",
       "      <td>4.71</td>\n",
       "      <td>4.71</td>\n",
       "      <td>First name and Last name: Jana Roskosova  &lt;br/...</td>\n",
       "      <td>f</td>\n",
       "      <td>1</td>\n",
       "      <td>1</td>\n",
       "      <td>0</td>\n",
       "      <td>0</td>\n",
       "    </tr>\n",
       "    <tr>\n",
       "      <th>2</th>\n",
       "      <td>Loftapartment Prenzlauer Berg</td>\n",
       "      <td>enjoy Berlin on 88 square meter in our sunny, ...</td>\n",
       "      <td>Situated in the hard of 'Prenzlauer Berg' you'...</td>\n",
       "      <td>21256997</td>\n",
       "      <td>2014-09-12</td>\n",
       "      <td>NaN</td>\n",
       "      <td>NaN</td>\n",
       "      <td>NaN</td>\n",
       "      <td>NaN</td>\n",
       "      <td>f</td>\n",
       "      <td>...</td>\n",
       "      <td>5.00</td>\n",
       "      <td>5.00</td>\n",
       "      <td>4.90</td>\n",
       "      <td>4.80</td>\n",
       "      <td>NaN</td>\n",
       "      <td>f</td>\n",
       "      <td>1</td>\n",
       "      <td>1</td>\n",
       "      <td>0</td>\n",
       "      <td>0</td>\n",
       "    </tr>\n",
       "    <tr>\n",
       "      <th>3</th>\n",
       "      <td>Colorful apartment in Schillerkiez, Neukölln</td>\n",
       "      <td>Enjoy the this colorful home in “Berlin’s cool...</td>\n",
       "      <td>Voted \"coolest neighborhood\" by Time Out Magaz...</td>\n",
       "      <td>564509</td>\n",
       "      <td>2011-05-07</td>\n",
       "      <td>Passion for music and playing the piano.</td>\n",
       "      <td>NaN</td>\n",
       "      <td>NaN</td>\n",
       "      <td>0%</td>\n",
       "      <td>f</td>\n",
       "      <td>...</td>\n",
       "      <td>NaN</td>\n",
       "      <td>NaN</td>\n",
       "      <td>NaN</td>\n",
       "      <td>NaN</td>\n",
       "      <td>NaN</td>\n",
       "      <td>f</td>\n",
       "      <td>1</td>\n",
       "      <td>1</td>\n",
       "      <td>0</td>\n",
       "      <td>0</td>\n",
       "    </tr>\n",
       "    <tr>\n",
       "      <th>4</th>\n",
       "      <td>Neukölln Home</td>\n",
       "      <td>Loft bed, fold out couch, kitchen and balcony ...</td>\n",
       "      <td>Plenty of neighbourhood bars and cafes to keep...</td>\n",
       "      <td>217262525</td>\n",
       "      <td>2018-09-25</td>\n",
       "      <td>NaN</td>\n",
       "      <td>NaN</td>\n",
       "      <td>NaN</td>\n",
       "      <td>NaN</td>\n",
       "      <td>f</td>\n",
       "      <td>...</td>\n",
       "      <td>5.00</td>\n",
       "      <td>5.00</td>\n",
       "      <td>4.60</td>\n",
       "      <td>4.40</td>\n",
       "      <td>NaN</td>\n",
       "      <td>f</td>\n",
       "      <td>1</td>\n",
       "      <td>1</td>\n",
       "      <td>0</td>\n",
       "      <td>0</td>\n",
       "    </tr>\n",
       "  </tbody>\n",
       "</table>\n",
       "<p>5 rows × 50 columns</p>\n",
       "</div>"
      ]
     },
     "execution_count": 12,
     "metadata": {},
     "output_type": "execute_result"
    }
   ],
   "execution_count": 12
  },
  {
   "cell_type": "code",
   "id": "e85e6e2f95f5b5d6",
   "metadata": {
    "ExecuteTime": {
     "end_time": "2025-05-11T13:25:08.699133Z",
     "start_time": "2025-05-11T13:25:08.671456Z"
    }
   },
   "source": [
    "listings.info()"
   ],
   "outputs": [
    {
     "name": "stdout",
     "output_type": "stream",
     "text": [
      "<class 'pandas.core.frame.DataFrame'>\n",
      "RangeIndex: 4195 entries, 0 to 4194\n",
      "Data columns (total 50 columns):\n",
      " #   Column                                        Non-Null Count  Dtype  \n",
      "---  ------                                        --------------  -----  \n",
      " 0   name                                          4195 non-null   object \n",
      " 1   description                                   4010 non-null   object \n",
      " 2   neighborhood_overview                         2054 non-null   object \n",
      " 3   host_id                                       4195 non-null   int64  \n",
      " 4   host_since                                    4192 non-null   object \n",
      " 5   host_about                                    2186 non-null   object \n",
      " 6   host_response_time                            2566 non-null   object \n",
      " 7   host_response_rate                            2566 non-null   object \n",
      " 8   host_acceptance_rate                          2831 non-null   object \n",
      " 9   host_is_superhost                             4160 non-null   object \n",
      " 10  host_listings_count                           4192 non-null   float64\n",
      " 11  host_total_listings_count                     4192 non-null   float64\n",
      " 12  host_verifications                            4192 non-null   object \n",
      " 13  host_has_profile_pic                          4192 non-null   object \n",
      " 14  host_identity_verified                        4192 non-null   object \n",
      " 15  neighbourhood_group_cleansed                  4195 non-null   object \n",
      " 16  property_type                                 4195 non-null   object \n",
      " 17  room_type                                     4195 non-null   object \n",
      " 18  accommodates                                  4195 non-null   int64  \n",
      " 19  bathrooms                                     2676 non-null   float64\n",
      " 20  bathrooms_text                                4192 non-null   object \n",
      " 21  bedrooms                                      3574 non-null   float64\n",
      " 22  beds                                          2666 non-null   float64\n",
      " 23  price                                         2674 non-null   object \n",
      " 24  minimum_nights                                4195 non-null   int64  \n",
      " 25  maximum_nights                                4195 non-null   int64  \n",
      " 26  minimum_minimum_nights                        4195 non-null   int64  \n",
      " 27  maximum_minimum_nights                        4195 non-null   int64  \n",
      " 28  minimum_maximum_nights                        4195 non-null   int64  \n",
      " 29  maximum_maximum_nights                        4195 non-null   int64  \n",
      " 30  minimum_nights_avg_ntm                        4195 non-null   float64\n",
      " 31  maximum_nights_avg_ntm                        4195 non-null   float64\n",
      " 32  has_availability                              3933 non-null   object \n",
      " 33  availability_30                               4195 non-null   int64  \n",
      " 34  availability_60                               4195 non-null   int64  \n",
      " 35  availability_90                               4195 non-null   int64  \n",
      " 36  availability_365                              4195 non-null   int64  \n",
      " 37  review_scores_rating                          3223 non-null   float64\n",
      " 38  review_scores_accuracy                        3223 non-null   float64\n",
      " 39  review_scores_cleanliness                     3223 non-null   float64\n",
      " 40  review_scores_checkin                         3223 non-null   float64\n",
      " 41  review_scores_communication                   3223 non-null   float64\n",
      " 42  review_scores_location                        3223 non-null   float64\n",
      " 43  review_scores_value                           3223 non-null   float64\n",
      " 44  license                                       2657 non-null   object \n",
      " 45  instant_bookable                              4195 non-null   object \n",
      " 46  calculated_host_listings_count                4195 non-null   int64  \n",
      " 47  calculated_host_listings_count_entire_homes   4195 non-null   int64  \n",
      " 48  calculated_host_listings_count_private_rooms  4195 non-null   int64  \n",
      " 49  calculated_host_listings_count_shared_rooms   4195 non-null   int64  \n",
      "dtypes: float64(14), int64(16), object(20)\n",
      "memory usage: 1.6+ MB\n"
     ]
    }
   ],
   "execution_count": 13
  },
  {
   "cell_type": "markdown",
   "id": "e0a0e26a04b4e9f6",
   "metadata": {},
   "source": [
    "## Atrybuty nominalne binarne\n",
    "\n",
    "Wartości `t`/`f` zamieniamy na 0/1"
   ]
  },
  {
   "cell_type": "code",
   "id": "6266e1254abcf359",
   "metadata": {
    "ExecuteTime": {
     "end_time": "2025-05-11T13:25:08.804507Z",
     "start_time": "2025-05-11T13:25:08.799723Z"
    }
   },
   "source": [
    "def transform_binary_columns(df):\n",
    "    \"\"\"To standard 0/1\"\"\"\n",
    "    binary_columns = [\n",
    "        \"host_is_superhost\",\n",
    "        \"host_has_profile_pic\",\n",
    "        \"host_identity_verified\",\n",
    "        \"has_availability\",\n",
    "        \"instant_bookable\"\n",
    "    ]\n",
    "\n",
    "    for c in binary_columns:\n",
    "        unique_vals = df[c].unique()\n",
    "        assert len(unique_vals) == 2 or len(unique_vals) == 3\n",
    "        assert \"t\" in unique_vals and \"f\" in unique_vals\n",
    "\n",
    "        df[c] = df[c].apply(lambda x: 1 if x == \"t\" else 0)\n",
    "\n",
    "    return df"
   ],
   "outputs": [],
   "execution_count": 14
  },
  {
   "cell_type": "code",
   "id": "792ff488bfe72a0a",
   "metadata": {
    "ExecuteTime": {
     "end_time": "2025-05-11T13:25:08.982411Z",
     "start_time": "2025-05-11T13:25:08.965682Z"
    }
   },
   "source": [
    "listings = transform_binary_columns(listings)"
   ],
   "outputs": [],
   "execution_count": 15
  },
  {
   "cell_type": "code",
   "id": "3ca18aa3df078bc7",
   "metadata": {
    "ExecuteTime": {
     "end_time": "2025-05-11T13:25:09.079304Z",
     "start_time": "2025-05-11T13:25:09.066287Z"
    }
   },
   "source": [
    "listings[[\"host_is_superhost\", \"host_has_profile_pic\", \"host_identity_verified\", \"has_availability\",\n",
    "          \"instant_bookable\"]].head(10)"
   ],
   "outputs": [
    {
     "data": {
      "text/plain": [
       "   host_is_superhost  host_has_profile_pic  host_identity_verified  \\\n",
       "0                  1                     1                       1   \n",
       "1                  0                     1                       1   \n",
       "2                  0                     1                       1   \n",
       "3                  0                     1                       1   \n",
       "4                  0                     1                       1   \n",
       "5                  0                     1                       1   \n",
       "6                  0                     1                       1   \n",
       "7                  1                     1                       1   \n",
       "8                  0                     0                       1   \n",
       "9                  0                     1                       1   \n",
       "\n",
       "   has_availability  instant_bookable  \n",
       "0                 1                 1  \n",
       "1                 1                 0  \n",
       "2                 1                 0  \n",
       "3                 1                 0  \n",
       "4                 1                 0  \n",
       "5                 1                 0  \n",
       "6                 1                 1  \n",
       "7                 1                 0  \n",
       "8                 1                 0  \n",
       "9                 1                 0  "
      ],
      "text/html": [
       "<div>\n",
       "<style scoped>\n",
       "    .dataframe tbody tr th:only-of-type {\n",
       "        vertical-align: middle;\n",
       "    }\n",
       "\n",
       "    .dataframe tbody tr th {\n",
       "        vertical-align: top;\n",
       "    }\n",
       "\n",
       "    .dataframe thead th {\n",
       "        text-align: right;\n",
       "    }\n",
       "</style>\n",
       "<table border=\"1\" class=\"dataframe\">\n",
       "  <thead>\n",
       "    <tr style=\"text-align: right;\">\n",
       "      <th></th>\n",
       "      <th>host_is_superhost</th>\n",
       "      <th>host_has_profile_pic</th>\n",
       "      <th>host_identity_verified</th>\n",
       "      <th>has_availability</th>\n",
       "      <th>instant_bookable</th>\n",
       "    </tr>\n",
       "  </thead>\n",
       "  <tbody>\n",
       "    <tr>\n",
       "      <th>0</th>\n",
       "      <td>1</td>\n",
       "      <td>1</td>\n",
       "      <td>1</td>\n",
       "      <td>1</td>\n",
       "      <td>1</td>\n",
       "    </tr>\n",
       "    <tr>\n",
       "      <th>1</th>\n",
       "      <td>0</td>\n",
       "      <td>1</td>\n",
       "      <td>1</td>\n",
       "      <td>1</td>\n",
       "      <td>0</td>\n",
       "    </tr>\n",
       "    <tr>\n",
       "      <th>2</th>\n",
       "      <td>0</td>\n",
       "      <td>1</td>\n",
       "      <td>1</td>\n",
       "      <td>1</td>\n",
       "      <td>0</td>\n",
       "    </tr>\n",
       "    <tr>\n",
       "      <th>3</th>\n",
       "      <td>0</td>\n",
       "      <td>1</td>\n",
       "      <td>1</td>\n",
       "      <td>1</td>\n",
       "      <td>0</td>\n",
       "    </tr>\n",
       "    <tr>\n",
       "      <th>4</th>\n",
       "      <td>0</td>\n",
       "      <td>1</td>\n",
       "      <td>1</td>\n",
       "      <td>1</td>\n",
       "      <td>0</td>\n",
       "    </tr>\n",
       "    <tr>\n",
       "      <th>5</th>\n",
       "      <td>0</td>\n",
       "      <td>1</td>\n",
       "      <td>1</td>\n",
       "      <td>1</td>\n",
       "      <td>0</td>\n",
       "    </tr>\n",
       "    <tr>\n",
       "      <th>6</th>\n",
       "      <td>0</td>\n",
       "      <td>1</td>\n",
       "      <td>1</td>\n",
       "      <td>1</td>\n",
       "      <td>1</td>\n",
       "    </tr>\n",
       "    <tr>\n",
       "      <th>7</th>\n",
       "      <td>1</td>\n",
       "      <td>1</td>\n",
       "      <td>1</td>\n",
       "      <td>1</td>\n",
       "      <td>0</td>\n",
       "    </tr>\n",
       "    <tr>\n",
       "      <th>8</th>\n",
       "      <td>0</td>\n",
       "      <td>0</td>\n",
       "      <td>1</td>\n",
       "      <td>1</td>\n",
       "      <td>0</td>\n",
       "    </tr>\n",
       "    <tr>\n",
       "      <th>9</th>\n",
       "      <td>0</td>\n",
       "      <td>1</td>\n",
       "      <td>1</td>\n",
       "      <td>1</td>\n",
       "      <td>0</td>\n",
       "    </tr>\n",
       "  </tbody>\n",
       "</table>\n",
       "</div>"
      ]
     },
     "execution_count": 16,
     "metadata": {},
     "output_type": "execute_result"
    }
   ],
   "execution_count": 16
  },
  {
   "cell_type": "code",
   "id": "4d80983f5a050de9",
   "metadata": {
    "ExecuteTime": {
     "end_time": "2025-05-11T13:25:09.191102Z",
     "start_time": "2025-05-11T13:25:09.172015Z"
    }
   },
   "source": [
    "listings.info()"
   ],
   "outputs": [
    {
     "name": "stdout",
     "output_type": "stream",
     "text": [
      "<class 'pandas.core.frame.DataFrame'>\n",
      "RangeIndex: 4195 entries, 0 to 4194\n",
      "Data columns (total 50 columns):\n",
      " #   Column                                        Non-Null Count  Dtype  \n",
      "---  ------                                        --------------  -----  \n",
      " 0   name                                          4195 non-null   object \n",
      " 1   description                                   4010 non-null   object \n",
      " 2   neighborhood_overview                         2054 non-null   object \n",
      " 3   host_id                                       4195 non-null   int64  \n",
      " 4   host_since                                    4192 non-null   object \n",
      " 5   host_about                                    2186 non-null   object \n",
      " 6   host_response_time                            2566 non-null   object \n",
      " 7   host_response_rate                            2566 non-null   object \n",
      " 8   host_acceptance_rate                          2831 non-null   object \n",
      " 9   host_is_superhost                             4195 non-null   int64  \n",
      " 10  host_listings_count                           4192 non-null   float64\n",
      " 11  host_total_listings_count                     4192 non-null   float64\n",
      " 12  host_verifications                            4192 non-null   object \n",
      " 13  host_has_profile_pic                          4195 non-null   int64  \n",
      " 14  host_identity_verified                        4195 non-null   int64  \n",
      " 15  neighbourhood_group_cleansed                  4195 non-null   object \n",
      " 16  property_type                                 4195 non-null   object \n",
      " 17  room_type                                     4195 non-null   object \n",
      " 18  accommodates                                  4195 non-null   int64  \n",
      " 19  bathrooms                                     2676 non-null   float64\n",
      " 20  bathrooms_text                                4192 non-null   object \n",
      " 21  bedrooms                                      3574 non-null   float64\n",
      " 22  beds                                          2666 non-null   float64\n",
      " 23  price                                         2674 non-null   object \n",
      " 24  minimum_nights                                4195 non-null   int64  \n",
      " 25  maximum_nights                                4195 non-null   int64  \n",
      " 26  minimum_minimum_nights                        4195 non-null   int64  \n",
      " 27  maximum_minimum_nights                        4195 non-null   int64  \n",
      " 28  minimum_maximum_nights                        4195 non-null   int64  \n",
      " 29  maximum_maximum_nights                        4195 non-null   int64  \n",
      " 30  minimum_nights_avg_ntm                        4195 non-null   float64\n",
      " 31  maximum_nights_avg_ntm                        4195 non-null   float64\n",
      " 32  has_availability                              4195 non-null   int64  \n",
      " 33  availability_30                               4195 non-null   int64  \n",
      " 34  availability_60                               4195 non-null   int64  \n",
      " 35  availability_90                               4195 non-null   int64  \n",
      " 36  availability_365                              4195 non-null   int64  \n",
      " 37  review_scores_rating                          3223 non-null   float64\n",
      " 38  review_scores_accuracy                        3223 non-null   float64\n",
      " 39  review_scores_cleanliness                     3223 non-null   float64\n",
      " 40  review_scores_checkin                         3223 non-null   float64\n",
      " 41  review_scores_communication                   3223 non-null   float64\n",
      " 42  review_scores_location                        3223 non-null   float64\n",
      " 43  review_scores_value                           3223 non-null   float64\n",
      " 44  license                                       2657 non-null   object \n",
      " 45  instant_bookable                              4195 non-null   int64  \n",
      " 46  calculated_host_listings_count                4195 non-null   int64  \n",
      " 47  calculated_host_listings_count_entire_homes   4195 non-null   int64  \n",
      " 48  calculated_host_listings_count_private_rooms  4195 non-null   int64  \n",
      " 49  calculated_host_listings_count_shared_rooms   4195 non-null   int64  \n",
      "dtypes: float64(14), int64(21), object(15)\n",
      "memory usage: 1.6+ MB\n"
     ]
    }
   ],
   "execution_count": 17
  },
  {
   "cell_type": "markdown",
   "id": "be30e90b94387a5",
   "metadata": {},
   "source": [
    "## Oceny"
   ]
  },
  {
   "cell_type": "code",
   "id": "b1fdacbb513782f4",
   "metadata": {
    "ExecuteTime": {
     "end_time": "2025-05-11T13:25:09.244143Z",
     "start_time": "2025-05-11T13:25:09.239652Z"
    }
   },
   "source": [
    "def aggregate_rating_columns(df):\n",
    "    \"\"\"Replace all review scores columns with a single average rating column\"\"\"\n",
    "    rating_columns = [\n",
    "        \"review_scores_rating\",\n",
    "        \"review_scores_accuracy\",\n",
    "        \"review_scores_cleanliness\",\n",
    "        \"review_scores_checkin\",\n",
    "        \"review_scores_communication\",\n",
    "        \"review_scores_location\",\n",
    "        \"review_scores_value\",\n",
    "    ]\n",
    "    df[\"avg_rating\"] = df[rating_columns].mean(axis=1)\n",
    "    df = df.drop(columns=rating_columns)\n",
    "    return df"
   ],
   "outputs": [],
   "execution_count": 18
  },
  {
   "cell_type": "code",
   "id": "4e03375bd165c0a0",
   "metadata": {
    "ExecuteTime": {
     "end_time": "2025-05-11T13:25:09.621940Z",
     "start_time": "2025-05-11T13:25:09.362250Z"
    }
   },
   "source": [
    "listings = get_listings()\n",
    "listings = aggregate_rating_columns(listings)\n",
    "listings[\"avg_rating\"].describe()"
   ],
   "outputs": [
    {
     "data": {
      "text/plain": [
       "count    3223.000000\n",
       "mean        4.768786\n",
       "std         0.274342\n",
       "min         0.714286\n",
       "25%         4.705714\n",
       "50%         4.838571\n",
       "75%         4.920000\n",
       "max         5.000000\n",
       "Name: avg_rating, dtype: float64"
      ]
     },
     "execution_count": 19,
     "metadata": {},
     "output_type": "execute_result"
    }
   ],
   "execution_count": 19
  },
  {
   "cell_type": "code",
   "id": "fb3ab8c60af55692",
   "metadata": {
    "ExecuteTime": {
     "end_time": "2025-05-11T13:25:09.707385Z",
     "start_time": "2025-05-11T13:25:09.702268Z"
    }
   },
   "source": [
    "missing_ratings = listings[\"avg_rating\"].isna().sum()\n",
    "total_len = len(listings)\n",
    "missing_percent = missing_ratings / total_len * 100\n",
    "print(f\"Missing ratings {missing_percent:.2f}%\")"
   ],
   "outputs": [
    {
     "name": "stdout",
     "output_type": "stream",
     "text": [
      "Missing ratings 23.17%\n"
     ]
    }
   ],
   "execution_count": 20
  },
  {
   "cell_type": "code",
   "id": "613c11a08a2d866f",
   "metadata": {
    "ExecuteTime": {
     "end_time": "2025-05-11T13:25:09.791944Z",
     "start_time": "2025-05-11T13:25:09.777814Z"
    }
   },
   "source": [
    "print(\"Q01\", listings[\"avg_rating\"].quantile(0.01))\n",
    "print(\"Q10\", listings[\"avg_rating\"].quantile(0.10))\n",
    "print(\"Q25\", listings[\"avg_rating\"].quantile(0.25))\n",
    "print(\"Q75\", listings[\"avg_rating\"].quantile(0.75))\n",
    "print(\"Q90\", listings[\"avg_rating\"].quantile(0.90))\n",
    "print(\"Q99\", listings[\"avg_rating\"].quantile(0.99))"
   ],
   "outputs": [
    {
     "name": "stdout",
     "output_type": "stream",
     "text": [
      "Q01 3.703142857142857\n",
      "Q10 4.531714285714286\n",
      "Q25 4.705714285714286\n",
      "Q75 4.92\n",
      "Q90 4.975714285714285\n",
      "Q99 5.0\n"
     ]
    }
   ],
   "execution_count": 21
  },
  {
   "cell_type": "code",
   "id": "6c24b197c600781",
   "metadata": {
    "ExecuteTime": {
     "end_time": "2025-05-11T13:25:10.590707Z",
     "start_time": "2025-05-11T13:25:09.953745Z"
    }
   },
   "source": [
    "avg_rating = listings[\"avg_rating\"]\n",
    "print(f\"Mean: {avg_rating.mean():.2f}\")\n",
    "print(f\"Std: {avg_rating.std():.2f}\")\n",
    "\n",
    "plt.title(\"Rozkład średniej oceny oferty\")\n",
    "plt.xlabel(\"Średnia ocena\")\n",
    "plt.ylabel(\"Liczba ofert\")\n",
    "plt.hist(avg_rating, bins=100)\n",
    "plt.plot()"
   ],
   "outputs": [
    {
     "name": "stdout",
     "output_type": "stream",
     "text": [
      "Mean: 4.77\n",
      "Std: 0.27\n"
     ]
    },
    {
     "data": {
      "text/plain": [
       "[]"
      ]
     },
     "execution_count": 22,
     "metadata": {},
     "output_type": "execute_result"
    },
    {
     "data": {
      "text/plain": [
       "<Figure size 640x480 with 1 Axes>"
      ],
      "image/png": "[encoded data removed]"
     },
     "metadata": {},
     "output_type": "display_data"
    }
   ],
   "execution_count": 22
  },
  {
   "cell_type": "markdown",
   "id": "6fe5024ad9e2eb6",
   "metadata": {},
   "source": [
    "### Atrybuty - listy\n"
   ]
  },
  {
   "cell_type": "code",
   "id": "7b230f9378e9a991",
   "metadata": {
    "ExecuteTime": {
     "end_time": "2025-05-11T13:25:10.602779Z",
     "start_time": "2025-05-11T13:25:10.599275Z"
    }
   },
   "source": [
    "list_columns = [\n",
    "    \"host_verifications\",\n",
    "    \"amenities\",\n",
    "]"
   ],
   "outputs": [],
   "execution_count": 23
  },
  {
   "cell_type": "code",
   "id": "57488bdf5c06b7e",
   "metadata": {
    "ExecuteTime": {
     "end_time": "2025-05-11T13:25:10.903740Z",
     "start_time": "2025-05-11T13:25:10.657788Z"
    }
   },
   "source": [
    "listings = get_listings()\n",
    "listings[\"amenities\"].value_counts()"
   ],
   "outputs": [
    {
     "data": {
      "text/plain": [
       "amenities\n",
       "[\"Kitchen\", \"Heating\", \"Essentials\", \"Washer\", \"Wifi\"]                                                                                                                                                                                                                                                                                                                                                                                                                                                                                                                                                                                                                                                                                                                                                                              23\n",
       "[\"Heating\", \"Washer\", \"Kitchen\", \"Wifi\"]                                                                                                                                                                                                                                                                                                                                                                                                                                                                                                                                                                                                                                                                                                                                                                                            16\n",
       "[\"Kitchen\", \"Smoke alarm\", \"Dedicated workspace\", \"Washer\", \"Wifi\"]                                                                                                                                                                                                                                                                                                                                                                                                                                                                                                                                                                                                                                                                                                                                                                 11\n",
       "[\"Wine glasses\", \"Kitchen\", \"Dishes and silverware\", \"Clothing storage\", \"Stove\", \"Refrigerator\", \"Hot water\", \"Central heating\", \"Drying rack for clothing\", \"Cleaning products\", \"Dining table\", \"Shower gel\", \"Hangers\", \"Dedicated workspace\", \"Lock on bedroom door\", \"Essentials\", \"Washer\", \"Oven\", \"Bathtub\", \"Cooking basics\", \"Wifi\", \"Iron\"]                                                                                                                                                                                                                                                                                                                                                                                                                                                                             10\n",
       "[\"Kitchen\", \"Shampoo\", \"Bed linens\", \"Crib\", \"Smoke alarm\", \"Long term stays allowed\", \"Hair dryer\", \"Microwave\", \"Refrigerator\", \"Hot water\", \"Private entrance\", \"Lockbox\", \"Hangers\", \"Heating\", \"Dedicated workspace\", \"Pets allowed\", \"Essentials\", \"Dishwasher\", \"High chair\", \"Oven\", \"Bathtub\", \"TV\", \"Washer \\u2013\\u00a0In unit\", \"Dryer \\u2013\\u00a0In unit\", \"Self check-in\", \"Cooking basics\", \"Wifi\", \"Iron\"]                                                                                                                                                                                                                                                                                                                                                                                                          9\n",
       "                                                                                                                                                                                                                                                                                                                                                                                                                                                                                                                                                                                                                                                                                                                                                                                                                                    ..\n",
       "[\"Hair dryer\", \"Kitchen\", \"Shampoo\", \"Bed linens\", \"Hot water\", \"Heating\", \"Essentials\", \"Washer\", \"Wifi\"]                                                                                                                                                                                                                                                                                                                                                                                                                                                                                                                                                                                                                                                                                                                           1\n",
       "[\"Kitchen\", \"Smoke alarm\", \"Indoor fireplace\", \"Hot water\", \"Dedicated workspace\", \"Central heating\", \"Essentials\", \"Washer\", \"Wifi\"]                                                                                                                                                                                                                                                                                                                                                                                                                                                                                                                                                                                                                                                                                                1\n",
       "[\"Smoking allowed\", \"Kitchen\", \"Heating\", \"Essentials\", \"Wifi\"]                                                                                                                                                                                                                                                                                                                                                                                                                                                                                                                                                                                                                                                                                                                                                                      1\n",
       "[\"TV with standard cable\", \"Coffee maker\", \"Fire extinguisher\", \"Hair dryer\", \"Kitchen\", \"Hangers\", \"Shampoo\", \"Smoke alarm\", \"Refrigerator\", \"Hot water\", \"Heating\", \"Elevator\", \"Host greets you\", \"Private entrance\", \"Essentials\", \"Dishes and silverware\", \"Wifi\", \"Iron\"]                                                                                                                                                                                                                                                                                                                                                                                                                                                                                                                                                      1\n",
       "[\"Wine glasses\", \"Coffee\", \"Kitchen\", \"Room-darkening shades\", \"Shampoo\", \"Bed linens\", \"Smoke alarm\", \"Extra pillows and blankets\", \"Cooking basics\", \"Single level home\", \"Dishes and silverware\", \"Hot water kettle\", \"Long term stays allowed\", \"Hair dryer\", \"Laundromat nearby\", \"Patio or balcony\", \"Clothing storage\", \"Stove\", \"Microwave\", \"Refrigerator\", \"Freezer\", \"Hot water\", \"Dryer\", \"Portable fans\", \"Private entrance\", \"Baking sheet\", \"Books and reading material\", \"Dining table\", \"Shower gel\", \"Hangers\", \"L\\u00f6we sound system\", \"Body soap\", \"Heating\", \"Dedicated workspace\", \"Blender\", \"Host greets you\", \"Essentials\", \"Washer\", \"Conditioner\", \"Carbon monoxide alarm\", \"Dishwasher\", \"Toaster\", \"Oven\", \"Elevator\", \"Cleaning products\", \"Wifi\", \"Board games\", \"Iron\", \"Free street parking\"]     1\n",
       "Name: count, Length: 3887, dtype: int64"
      ]
     },
     "execution_count": 24,
     "metadata": {},
     "output_type": "execute_result"
    }
   ],
   "execution_count": 24
  },
  {
   "cell_type": "code",
   "id": "60de47ccd36a254b",
   "metadata": {
    "ExecuteTime": {
     "end_time": "2025-05-11T13:25:11.067450Z",
     "start_time": "2025-05-11T13:25:10.987833Z"
    }
   },
   "source": [
    "def get_unique_values_in_list_column(df, column_name):\n",
    "    all_values = set()\n",
    "    for row in df[column_name]:\n",
    "        if not isinstance(row, str):\n",
    "            continue\n",
    "        row_values = attribute_value_to_list(row)\n",
    "        row_values = [a.strip() for a in row_values]\n",
    "        all_values.update(row_values)\n",
    "\n",
    "    return all_values\n",
    "\n",
    "\n",
    "def attribute_value_to_list(value):\n",
    "    if not isinstance(value, str):\n",
    "        return []\n",
    "    values = value.replace(\"[\", \"\").replace(\"]\", \"\").replace('\"', \"\").replace(\"'\", \"\").split(\",\")\n",
    "    values = [a.strip() for a in values]\n",
    "    return values\n",
    "\n",
    "\n",
    "print(len(get_unique_values_in_list_column(listings, \"host_verifications\")))\n",
    "print(len(get_unique_values_in_list_column(listings, \"amenities\")))"
   ],
   "outputs": [
    {
     "name": "stdout",
     "output_type": "stream",
     "text": [
      "4\n",
      "1309\n"
     ]
    }
   ],
   "execution_count": 25
  },
  {
   "cell_type": "code",
   "id": "f0933dda04f38fd0",
   "metadata": {
    "ExecuteTime": {
     "end_time": "2025-05-11T13:25:11.437817Z",
     "start_time": "2025-05-11T13:25:11.432350Z"
    }
   },
   "source": [
    "def one_hot_encode_list_column(df, column_name):\n",
    "    \"\"\"One-hot encode list column\"\"\"\n",
    "    all_values = get_unique_values_in_list_column(df, column_name)\n",
    "    for value in all_values:\n",
    "        df[f\"{column_name}_{value}\"] = df[column_name].apply(\n",
    "            lambda x: True if value in attribute_value_to_list(x) else False)\n",
    "    df.drop(columns=[column_name], inplace=True)\n",
    "    return df"
   ],
   "outputs": [],
   "execution_count": 26
  },
  {
   "cell_type": "code",
   "id": "7895d88908ab33e2",
   "metadata": {
    "ExecuteTime": {
     "end_time": "2025-05-11T13:26:02.019661Z",
     "start_time": "2025-05-11T13:26:01.798827Z"
    }
   },
   "source": [
    "listings = get_listings()\n",
    "get_unique_values_in_list_column(listings, \"host_verifications\")"
   ],
   "outputs": [
    {
     "data": {
      "text/plain": [
       "{'', 'email', 'phone', 'work_email'}"
      ]
     },
     "execution_count": 29,
     "metadata": {},
     "output_type": "execute_result"
    }
   ],
   "execution_count": 29
  },
  {
   "cell_type": "markdown",
   "id": "91f3d50f1da23cba",
   "metadata": {},
   "source": [
    "### Atrybuty kategoryczne"
   ]
  },
  {
   "cell_type": "code",
   "id": "2a2f589a88b5353c",
   "metadata": {
    "ExecuteTime": {
     "end_time": "2025-04-24T09:17:06.593356Z",
     "start_time": "2025-04-24T09:17:06.566660Z"
    }
   },
   "source": [
    "listings.head()"
   ],
   "outputs": [
    {
     "data": {
      "text/plain": [
       "                    id                                      listing_url  \\\n",
       "0  1047164111839138424  https://www.nocarz.pl/rooms/1047164111839138424   \n",
       "1             24793153             https://www.nocarz.pl/rooms/24793153   \n",
       "2              9768263              https://www.nocarz.pl/rooms/9768263   \n",
       "3   798586109549068377   https://www.nocarz.pl/rooms/798586109549068377   \n",
       "4             28806732             https://www.nocarz.pl/rooms/28806732   \n",
       "\n",
       "        scrape_id last_scraped           source  \\\n",
       "0  20241221052002   2024-12-21      city scrape   \n",
       "1  20241221052002   2024-12-21  previous scrape   \n",
       "2  20241221052002   2024-12-21  previous scrape   \n",
       "3  20241221052002   2024-12-21      city scrape   \n",
       "4  20241221052002   2024-12-21  previous scrape   \n",
       "\n",
       "                                            name  \\\n",
       "0  Privatzimmer in Neukölln/Rixdorf (Erdgeschoß)   \n",
       "1                 Ganze Wohnung in Berlin Pankow   \n",
       "2                  Loftapartment Prenzlauer Berg   \n",
       "3   Colorful apartment in Schillerkiez, Neukölln   \n",
       "4                                  Neukölln Home   \n",
       "\n",
       "                                         description  \\\n",
       "0  Hey dear guests, <br /><br />the room has a be...   \n",
       "1  Cozy furnished and spacious 2 bedroom apartmen...   \n",
       "2  enjoy Berlin on 88 square meter in our sunny, ...   \n",
       "3  Enjoy the this colorful home in “Berlin’s cool...   \n",
       "4  Loft bed, fold out couch, kitchen and balcony ...   \n",
       "\n",
       "                               neighborhood_overview  \\\n",
       "0                                                NaN   \n",
       "1                                                NaN   \n",
       "2  Situated in the hard of 'Prenzlauer Berg' you'...   \n",
       "3  Voted \"coolest neighborhood\" by Time Out Magaz...   \n",
       "4  Plenty of neighbourhood bars and cafes to keep...   \n",
       "\n",
       "                                         picture_url    host_id  ...  \\\n",
       "0  https://a0.muscache.com/pictures/hosting/Hosti...  541377699  ...   \n",
       "1  https://a0.muscache.com/pictures/miso/Hosting-...   63053103  ...   \n",
       "2  https://a0.muscache.com/pictures/4c096212-fe21...   21256997  ...   \n",
       "3  https://a0.muscache.com/pictures/miso/Hosting-...     564509  ...   \n",
       "4  https://a0.muscache.com/pictures/60151487-cc67...  217262525  ...   \n",
       "\n",
       "  instant_bookable calculated_host_listings_count  \\\n",
       "0                t                              1   \n",
       "1                f                              1   \n",
       "2                f                              1   \n",
       "3                f                              1   \n",
       "4                f                              1   \n",
       "\n",
       "  calculated_host_listings_count_entire_homes  \\\n",
       "0                                           0   \n",
       "1                                           1   \n",
       "2                                           1   \n",
       "3                                           1   \n",
       "4                                           1   \n",
       "\n",
       "  calculated_host_listings_count_private_rooms  \\\n",
       "0                                            1   \n",
       "1                                            0   \n",
       "2                                            0   \n",
       "3                                            0   \n",
       "4                                            0   \n",
       "\n",
       "  calculated_host_listings_count_shared_rooms reviews_per_month  \\\n",
       "0                                           0              6.94   \n",
       "1                                           0              0.67   \n",
       "2                                           0              0.09   \n",
       "3                                           0               NaN   \n",
       "4                                           0              0.07   \n",
       "\n",
       "  host_verifications_ host_verifications_email host_verifications_work_email  \\\n",
       "0               False                     True                         False   \n",
       "1               False                     True                         False   \n",
       "2               False                     True                          True   \n",
       "3               False                     True                         False   \n",
       "4               False                     True                         False   \n",
       "\n",
       "  host_verifications_phone  \n",
       "0                     True  \n",
       "1                     True  \n",
       "2                     True  \n",
       "3                     True  \n",
       "4                     True  \n",
       "\n",
       "[5 rows x 78 columns]"
      ],
      "text/html": [
       "<div>\n",
       "<style scoped>\n",
       "    .dataframe tbody tr th:only-of-type {\n",
       "        vertical-align: middle;\n",
       "    }\n",
       "\n",
       "    .dataframe tbody tr th {\n",
       "        vertical-align: top;\n",
       "    }\n",
       "\n",
       "    .dataframe thead th {\n",
       "        text-align: right;\n",
       "    }\n",
       "</style>\n",
       "<table border=\"1\" class=\"dataframe\">\n",
       "  <thead>\n",
       "    <tr style=\"text-align: right;\">\n",
       "      <th></th>\n",
       "      <th>id</th>\n",
       "      <th>listing_url</th>\n",
       "      <th>scrape_id</th>\n",
       "      <th>last_scraped</th>\n",
       "      <th>source</th>\n",
       "      <th>name</th>\n",
       "      <th>description</th>\n",
       "      <th>neighborhood_overview</th>\n",
       "      <th>picture_url</th>\n",
       "      <th>host_id</th>\n",
       "      <th>...</th>\n",
       "      <th>instant_bookable</th>\n",
       "      <th>calculated_host_listings_count</th>\n",
       "      <th>calculated_host_listings_count_entire_homes</th>\n",
       "      <th>calculated_host_listings_count_private_rooms</th>\n",
       "      <th>calculated_host_listings_count_shared_rooms</th>\n",
       "      <th>reviews_per_month</th>\n",
       "      <th>host_verifications_</th>\n",
       "      <th>host_verifications_email</th>\n",
       "      <th>host_verifications_work_email</th>\n",
       "      <th>host_verifications_phone</th>\n",
       "    </tr>\n",
       "  </thead>\n",
       "  <tbody>\n",
       "    <tr>\n",
       "      <th>0</th>\n",
       "      <td>1047164111839138424</td>\n",
       "      <td>https://www.nocarz.pl/rooms/1047164111839138424</td>\n",
       "      <td>20241221052002</td>\n",
       "      <td>2024-12-21</td>\n",
       "      <td>city scrape</td>\n",
       "      <td>Privatzimmer in Neukölln/Rixdorf (Erdgeschoß)</td>\n",
       "      <td>Hey dear guests, &lt;br /&gt;&lt;br /&gt;the room has a be...</td>\n",
       "      <td>NaN</td>\n",
       "      <td>https://a0.muscache.com/pictures/hosting/Hosti...</td>\n",
       "      <td>541377699</td>\n",
       "      <td>...</td>\n",
       "      <td>t</td>\n",
       "      <td>1</td>\n",
       "      <td>0</td>\n",
       "      <td>1</td>\n",
       "      <td>0</td>\n",
       "      <td>6.94</td>\n",
       "      <td>False</td>\n",
       "      <td>True</td>\n",
       "      <td>False</td>\n",
       "      <td>True</td>\n",
       "    </tr>\n",
       "    <tr>\n",
       "      <th>1</th>\n",
       "      <td>24793153</td>\n",
       "      <td>https://www.nocarz.pl/rooms/24793153</td>\n",
       "      <td>20241221052002</td>\n",
       "      <td>2024-12-21</td>\n",
       "      <td>previous scrape</td>\n",
       "      <td>Ganze Wohnung in Berlin Pankow</td>\n",
       "      <td>Cozy furnished and spacious 2 bedroom apartmen...</td>\n",
       "      <td>NaN</td>\n",
       "      <td>https://a0.muscache.com/pictures/miso/Hosting-...</td>\n",
       "      <td>63053103</td>\n",
       "      <td>...</td>\n",
       "      <td>f</td>\n",
       "      <td>1</td>\n",
       "      <td>1</td>\n",
       "      <td>0</td>\n",
       "      <td>0</td>\n",
       "      <td>0.67</td>\n",
       "      <td>False</td>\n",
       "      <td>True</td>\n",
       "      <td>False</td>\n",
       "      <td>True</td>\n",
       "    </tr>\n",
       "    <tr>\n",
       "      <th>2</th>\n",
       "      <td>9768263</td>\n",
       "      <td>https://www.nocarz.pl/rooms/9768263</td>\n",
       "      <td>20241221052002</td>\n",
       "      <td>2024-12-21</td>\n",
       "      <td>previous scrape</td>\n",
       "      <td>Loftapartment Prenzlauer Berg</td>\n",
       "      <td>enjoy Berlin on 88 square meter in our sunny, ...</td>\n",
       "      <td>Situated in the hard of 'Prenzlauer Berg' you'...</td>\n",
       "      <td>https://a0.muscache.com/pictures/4c096212-fe21...</td>\n",
       "      <td>21256997</td>\n",
       "      <td>...</td>\n",
       "      <td>f</td>\n",
       "      <td>1</td>\n",
       "      <td>1</td>\n",
       "      <td>0</td>\n",
       "      <td>0</td>\n",
       "      <td>0.09</td>\n",
       "      <td>False</td>\n",
       "      <td>True</td>\n",
       "      <td>True</td>\n",
       "      <td>True</td>\n",
       "    </tr>\n",
       "    <tr>\n",
       "      <th>3</th>\n",
       "      <td>798586109549068377</td>\n",
       "      <td>https://www.nocarz.pl/rooms/798586109549068377</td>\n",
       "      <td>20241221052002</td>\n",
       "      <td>2024-12-21</td>\n",
       "      <td>city scrape</td>\n",
       "      <td>Colorful apartment in Schillerkiez, Neukölln</td>\n",
       "      <td>Enjoy the this colorful home in “Berlin’s cool...</td>\n",
       "      <td>Voted \"coolest neighborhood\" by Time Out Magaz...</td>\n",
       "      <td>https://a0.muscache.com/pictures/miso/Hosting-...</td>\n",
       "      <td>564509</td>\n",
       "      <td>...</td>\n",
       "      <td>f</td>\n",
       "      <td>1</td>\n",
       "      <td>1</td>\n",
       "      <td>0</td>\n",
       "      <td>0</td>\n",
       "      <td>NaN</td>\n",
       "      <td>False</td>\n",
       "      <td>True</td>\n",
       "      <td>False</td>\n",
       "      <td>True</td>\n",
       "    </tr>\n",
       "    <tr>\n",
       "      <th>4</th>\n",
       "      <td>28806732</td>\n",
       "      <td>https://www.nocarz.pl/rooms/28806732</td>\n",
       "      <td>20241221052002</td>\n",
       "      <td>2024-12-21</td>\n",
       "      <td>previous scrape</td>\n",
       "      <td>Neukölln Home</td>\n",
       "      <td>Loft bed, fold out couch, kitchen and balcony ...</td>\n",
       "      <td>Plenty of neighbourhood bars and cafes to keep...</td>\n",
       "      <td>https://a0.muscache.com/pictures/60151487-cc67...</td>\n",
       "      <td>217262525</td>\n",
       "      <td>...</td>\n",
       "      <td>f</td>\n",
       "      <td>1</td>\n",
       "      <td>1</td>\n",
       "      <td>0</td>\n",
       "      <td>0</td>\n",
       "      <td>0.07</td>\n",
       "      <td>False</td>\n",
       "      <td>True</td>\n",
       "      <td>False</td>\n",
       "      <td>True</td>\n",
       "    </tr>\n",
       "  </tbody>\n",
       "</table>\n",
       "<p>5 rows × 78 columns</p>\n",
       "</div>"
      ]
     },
     "execution_count": 154,
     "metadata": {},
     "output_type": "execute_result"
    }
   ],
   "execution_count": 154
  },
  {
   "cell_type": "code",
   "id": "cb9d628decaff33b",
   "metadata": {
    "ExecuteTime": {
     "end_time": "2025-04-24T09:17:06.678862Z",
     "start_time": "2025-04-24T09:17:06.676145Z"
    }
   },
   "source": [
    "# candidates ?\n",
    "categorical_columns = [\n",
    "    # \"host_location\",\n",
    "    # \"host_response_time\",\n",
    "    # \"host_neighbourhood\",\n",
    "    # \"neighbourhood\",\n",
    "    # \"neighbourhood_cleansed\",\n",
    "    \"neighbourhood_group_cleansed\",\n",
    "    \"property_type\",\n",
    "    \"room_type\",\n",
    "    # \"bathrooms_text\"\n",
    "]"
   ],
   "outputs": [],
   "execution_count": 155
  },
  {
   "cell_type": "code",
   "id": "dbf94c5d661b6558",
   "metadata": {
    "ExecuteTime": {
     "end_time": "2025-04-24T09:17:06.835170Z",
     "start_time": "2025-04-24T09:17:06.827686Z"
    }
   },
   "source": [
    "print(len(listings[\"host_location\"].unique()))\n",
    "listings[\"host_location\"].value_counts()"
   ],
   "outputs": [
    {
     "name": "stdout",
     "output_type": "stream",
     "text": [
      "199\n"
     ]
    },
    {
     "data": {
      "text/plain": [
       "host_location\n",
       "Berlin, Germany                     2997\n",
       "Germany                               41\n",
       "Munich, Germany                       23\n",
       "Hamburg, Germany                      15\n",
       "Cologne, Germany                      14\n",
       "                                    ... \n",
       "Elmenhorst/Lichtenhagen, Germany       1\n",
       "Schwelm, Germany                       1\n",
       "Ratingen, Germany                      1\n",
       "Lisbon, Portugal                       1\n",
       "Slovenia                               1\n",
       "Name: count, Length: 198, dtype: int64"
      ]
     },
     "execution_count": 156,
     "metadata": {},
     "output_type": "execute_result"
    }
   ],
   "execution_count": 156
  },
  {
   "cell_type": "code",
   "id": "de15a6a5f45be578",
   "metadata": {
    "ExecuteTime": {
     "end_time": "2025-04-24T09:17:07.065869Z",
     "start_time": "2025-04-24T09:17:07.062413Z"
    }
   },
   "source": [
    "def extract_host_country(df):\n",
    "    \"\"\"Extract host country from host_location\"\"\"\n",
    "\n",
    "    def extract_country_from_location(location: str):\n",
    "        if not \",\" in location:\n",
    "            return location\n",
    "\n",
    "        state = location.split(\",\")[-1].strip()\n",
    "\n",
    "        if len(state) == 2:\n",
    "            return \"United States\"\n",
    "\n",
    "        return state\n",
    "\n",
    "    df[\"host_country\"] = df[\"host_location\"].apply(\n",
    "        lambda x: extract_country_from_location(x) if isinstance(x, str) else x)\n",
    "    return df"
   ],
   "outputs": [],
   "execution_count": 157
  },
  {
   "cell_type": "code",
   "id": "63a8afef7d1c6955",
   "metadata": {
    "ExecuteTime": {
     "end_time": "2025-04-24T09:17:07.258490Z",
     "start_time": "2025-04-24T09:17:07.241422Z"
    }
   },
   "source": [
    "# Prawie tylko Niemcy, chyba nie warto\n",
    "listings = extract_host_country(listings)\n",
    "listings[\"host_country\"].value_counts()"
   ],
   "outputs": [
    {
     "data": {
      "text/plain": [
       "host_country\n",
       "Germany             3203\n",
       "United States         28\n",
       "Italy                 21\n",
       "United Kingdom        18\n",
       "Spain                 18\n",
       "Switzerland           15\n",
       "France                14\n",
       "Austria                8\n",
       "Israel                 8\n",
       "Australia              7\n",
       "Denmark                5\n",
       "Belgium                4\n",
       "Sweden                 4\n",
       "Indonesia              3\n",
       "Ireland                3\n",
       "Canada                 3\n",
       "South Korea            3\n",
       "Singapore              3\n",
       "Turkey                 3\n",
       "Russia                 3\n",
       "Mexico                 2\n",
       "India                  2\n",
       "Taiwan                 2\n",
       "Slovenia               2\n",
       "Chile                  2\n",
       "Kenya                  2\n",
       "South Africa           2\n",
       "Thailand               1\n",
       "Norway                 1\n",
       "Morocco                1\n",
       "Puerto Rico            1\n",
       "Greece                 1\n",
       "Namibia                1\n",
       "Egypt                  1\n",
       "Poland                 1\n",
       "Colombia               1\n",
       "Brazil                 1\n",
       "Bulgaria               1\n",
       "Hong Kong              1\n",
       "French Polynesia       1\n",
       "Georgia                1\n",
       "Portugal               1\n",
       "Name: count, dtype: int64"
      ]
     },
     "execution_count": 158,
     "metadata": {},
     "output_type": "execute_result"
    }
   ],
   "execution_count": 158
  },
  {
   "cell_type": "code",
   "id": "d74171f19f5c234a",
   "metadata": {
    "ExecuteTime": {
     "end_time": "2025-04-24T09:17:07.440855Z",
     "start_time": "2025-04-24T09:17:07.434037Z"
    }
   },
   "source": [
    "print(listings[\"host_response_time\"].value_counts())\n",
    "print(listings[\"host_response_time\"].unique())"
   ],
   "outputs": [
    {
     "name": "stdout",
     "output_type": "stream",
     "text": [
      "host_response_time\n",
      "within an hour        1589\n",
      "within a few hours     524\n",
      "within a day           339\n",
      "a few days or more     114\n",
      "Name: count, dtype: int64\n",
      "['within an hour' nan 'within a day' 'within a few hours'\n",
      " 'a few days or more']\n"
     ]
    }
   ],
   "execution_count": 159
  },
  {
   "cell_type": "code",
   "id": "e9d6e9156e2091f0",
   "metadata": {
    "ExecuteTime": {
     "end_time": "2025-04-24T09:17:07.576544Z",
     "start_time": "2025-04-24T09:17:07.573494Z"
    }
   },
   "source": [
    "def transform_host_response_time(df):\n",
    "    \"\"\"Transform host response time to a number\"\"\"\n",
    "    #TODO adjust scale\n",
    "    scale = {\n",
    "        \"within an hour\": 1,\n",
    "        \"within a few hours\": 2,\n",
    "        \"within a day\": 3,\n",
    "        \"a few days or more\": 4,\n",
    "    }\n",
    "\n",
    "    df[\"host_response_time\"] = df[\"host_response_time\"].apply(lambda x: scale.get(x, np.nan))\n",
    "    return df"
   ],
   "outputs": [],
   "execution_count": 160
  },
  {
   "cell_type": "code",
   "id": "6d852c00fc87e4da",
   "metadata": {
    "ExecuteTime": {
     "end_time": "2025-04-24T09:17:07.877818Z",
     "start_time": "2025-04-24T09:17:07.691247Z"
    }
   },
   "source": [
    "listings = get_listings()\n",
    "listings = transform_host_response_time(listings)\n",
    "print(listings[\"host_response_time\"].value_counts())\n",
    "print(listings[\"host_response_time\"].isna().sum())"
   ],
   "outputs": [
    {
     "name": "stdout",
     "output_type": "stream",
     "text": [
      "host_response_time\n",
      "1.0    1589\n",
      "2.0     524\n",
      "3.0     339\n",
      "4.0     114\n",
      "Name: count, dtype: int64\n",
      "1629\n"
     ]
    }
   ],
   "execution_count": 161
  },
  {
   "cell_type": "code",
   "id": "d0910875cc01701d",
   "metadata": {
    "ExecuteTime": {
     "end_time": "2025-04-24T09:17:07.906878Z",
     "start_time": "2025-04-24T09:17:07.900686Z"
    }
   },
   "source": [
    "print(len(listings[\"host_neighbourhood\"].unique()))  # Too many categories\n",
    "print(len(listings[\"neighbourhood_cleansed\"].unique()))  # Too many categories\n",
    "print(len(listings[\"neighbourhood\"].unique()))\n",
    "print(len(listings[\"neighbourhood_group_cleansed\"].unique()))"
   ],
   "outputs": [
    {
     "name": "stdout",
     "output_type": "stream",
     "text": [
      "104\n",
      "133\n",
      "13\n",
      "12\n"
     ]
    }
   ],
   "execution_count": 162
  },
  {
   "cell_type": "code",
   "id": "54823332dd6caa7b",
   "metadata": {
    "ExecuteTime": {
     "end_time": "2025-04-24T09:17:07.961544Z",
     "start_time": "2025-04-24T09:17:07.956583Z"
    }
   },
   "source": [
    "listings[\"neighbourhood\"].value_counts()  # Useless"
   ],
   "outputs": [
    {
     "data": {
      "text/plain": [
       "neighbourhood\n",
       "Berlin, Germany                             2043\n",
       "Berlin Charlottenburg, Berlin, Germany         1\n",
       "Berlin-Kreuzberg, Berlin, Germany              1\n",
       "Berlin, Zehlendorf, Germany                    1\n",
       "Berlin, Be, Germany                            1\n",
       "Berlin, Mitte, Germany                         1\n",
       "Weissenhoher Strasse 14, Berlin, Germany       1\n",
       "Weissensee, Berlin, Germany                    1\n",
       "Berlin - Mitte, Germany                        1\n",
       "Berlin, Kreuzberg, Berlin, Germany             1\n",
       "Alt Treptow, Berlin, Germany                   1\n",
       "Köpenick, Berlin, Germany                      1\n",
       "Name: count, dtype: int64"
      ]
     },
     "execution_count": 163,
     "metadata": {},
     "output_type": "execute_result"
    }
   ],
   "execution_count": 163
  },
  {
   "cell_type": "code",
   "id": "85d231f37d9a9b61",
   "metadata": {
    "ExecuteTime": {
     "end_time": "2025-04-24T09:17:08.053566Z",
     "start_time": "2025-04-24T09:17:08.047892Z"
    }
   },
   "source": [
    "listings[\"neighbourhood_group_cleansed\"].value_counts()  # Maybe useful"
   ],
   "outputs": [
    {
     "data": {
      "text/plain": [
       "neighbourhood_group_cleansed\n",
       "Friedrichshain-Kreuzberg    951\n",
       "Mitte                       879\n",
       "Pankow                      632\n",
       "Neukölln                    475\n",
       "Charlottenburg-Wilm.        424\n",
       "Tempelhof - Schöneberg      306\n",
       "Treptow - Köpenick          179\n",
       "Steglitz - Zehlendorf       114\n",
       "Lichtenberg                 100\n",
       "Reinickendorf                61\n",
       "Spandau                      44\n",
       "Marzahn - Hellersdorf        30\n",
       "Name: count, dtype: int64"
      ]
     },
     "execution_count": 164,
     "metadata": {},
     "output_type": "execute_result"
    }
   ],
   "execution_count": 164
  },
  {
   "cell_type": "code",
   "id": "e772f076a9653afc",
   "metadata": {
    "ExecuteTime": {
     "end_time": "2025-04-24T09:17:08.135892Z",
     "start_time": "2025-04-24T09:17:08.130584Z"
    }
   },
   "source": [
    "listings[\"property_type\"].value_counts()"
   ],
   "outputs": [
    {
     "data": {
      "text/plain": [
       "property_type\n",
       "Entire rental unit                    2295\n",
       "Private room in rental unit            941\n",
       "Entire condo                           233\n",
       "Room in hotel                          114\n",
       "Entire serviced apartment              105\n",
       "Private room in condo                   92\n",
       "Entire loft                             72\n",
       "Private room in home                    60\n",
       "Entire home                             52\n",
       "Private room in loft                    20\n",
       "Private room in bed and breakfast       20\n",
       "Room in boutique hotel                  18\n",
       "Private room in hostel                  17\n",
       "Entire guesthouse                       17\n",
       "Room in serviced apartment              16\n",
       "Entire townhouse                        13\n",
       "Private room in serviced apartment      13\n",
       "Houseboat                               11\n",
       "Entire vacation home                     9\n",
       "Entire guest suite                       8\n",
       "Private room                             8\n",
       "Private room in guesthouse               7\n",
       "Room in aparthotel                       6\n",
       "Private room in townhouse                5\n",
       "Entire bungalow                          5\n",
       "Shared room in hostel                    4\n",
       "Shared room in hotel                     3\n",
       "Entire place                             3\n",
       "Tiny home                                3\n",
       "Room in hostel                           2\n",
       "Entire cottage                           2\n",
       "Private room in bungalow                 2\n",
       "Private room in villa                    2\n",
       "Shared room in rental unit               2\n",
       "Boat                                     2\n",
       "Private room in casa particular          2\n",
       "Farm stay                                1\n",
       "Private room in houseboat                1\n",
       "Private room in pension                  1\n",
       "Campsite                                 1\n",
       "Private room in vacation home            1\n",
       "Shared room in serviced apartment        1\n",
       "Treehouse                                1\n",
       "Shared room in bed and breakfast         1\n",
       "Entire villa                             1\n",
       "Entire cabin                             1\n",
       "Cave                                     1\n",
       "Name: count, dtype: int64"
      ]
     },
     "execution_count": 165,
     "metadata": {},
     "output_type": "execute_result"
    }
   ],
   "execution_count": 165
  },
  {
   "cell_type": "code",
   "id": "b653b481d22aea51",
   "metadata": {
    "ExecuteTime": {
     "end_time": "2025-04-24T09:17:08.267774Z",
     "start_time": "2025-04-24T09:17:08.264184Z"
    }
   },
   "source": [
    "def group_property_types(df):\n",
    "    \"\"\"Group together similar property types\"\"\"\n",
    "\n",
    "    def transform(property_type: str):\n",
    "        if \"entire rental unit\" in property_type.lower():\n",
    "            return \"entire rental unit\"\n",
    "        elif \"room\" in property_type.lower():\n",
    "            return \"room\"\n",
    "        elif \"apartment\" in property_type.lower():\n",
    "            return \"apartment\"\n",
    "        elif \"home\" in property_type.lower():\n",
    "            return \"home\"\n",
    "        elif \"condo\" in property_type.lower():\n",
    "            return \"condo\"\n",
    "        else:\n",
    "            return \"other\"\n",
    "\n",
    "    df[\"property_type\"] = df[\"property_type\"].apply(lambda x: transform(x) if isinstance(x, str) else x)\n",
    "    return df"
   ],
   "outputs": [],
   "execution_count": 166
  },
  {
   "cell_type": "code",
   "id": "15ffce63bf8d8c25",
   "metadata": {
    "ExecuteTime": {
     "end_time": "2025-04-24T09:17:08.543793Z",
     "start_time": "2025-04-24T09:17:08.380444Z"
    }
   },
   "source": [
    "listings = get_listings()\n",
    "listings = group_property_types(listings)\n",
    "listings[\"property_type\"].value_counts()"
   ],
   "outputs": [
    {
     "data": {
      "text/plain": [
       "property_type\n",
       "entire rental unit    2295\n",
       "room                  1359\n",
       "condo                  233\n",
       "other                  139\n",
       "apartment              105\n",
       "home                    64\n",
       "Name: count, dtype: int64"
      ]
     },
     "execution_count": 167,
     "metadata": {},
     "output_type": "execute_result"
    }
   ],
   "execution_count": 167
  },
  {
   "cell_type": "code",
   "id": "2e06b8dc08fa9d2",
   "metadata": {
    "ExecuteTime": {
     "end_time": "2025-04-24T09:17:08.618210Z",
     "start_time": "2025-04-24T09:17:08.612426Z"
    }
   },
   "source": [
    "listings[\"room_type\"].value_counts()"
   ],
   "outputs": [
    {
     "data": {
      "text/plain": [
       "room_type\n",
       "Entire home/apt    2842\n",
       "Private room       1298\n",
       "Hotel room           44\n",
       "Shared room          11\n",
       "Name: count, dtype: int64"
      ]
     },
     "execution_count": 168,
     "metadata": {},
     "output_type": "execute_result"
    }
   ],
   "execution_count": 168
  },
  {
   "cell_type": "code",
   "id": "e01d47ba13c828d1",
   "metadata": {
    "ExecuteTime": {
     "end_time": "2025-04-24T09:17:08.685345Z",
     "start_time": "2025-04-24T09:17:08.679701Z"
    }
   },
   "source": [
    "listings[\"bathrooms_text\"].value_counts()"
   ],
   "outputs": [
    {
     "data": {
      "text/plain": [
       "bathrooms_text\n",
       "1 bath               2563\n",
       "1 shared bath         595\n",
       "2 baths               298\n",
       "1 private bath        280\n",
       "1.5 baths             229\n",
       "1.5 shared baths       57\n",
       "2 shared baths         41\n",
       "2.5 baths              30\n",
       "3 baths                22\n",
       "Half-bath              20\n",
       "0 baths                17\n",
       "0 shared baths          7\n",
       "Shared half-bath        7\n",
       "Private half-bath       6\n",
       "3.5 baths               4\n",
       "4 shared baths          3\n",
       "4 baths                 3\n",
       "2.5 shared baths        3\n",
       "3 shared baths          3\n",
       "8.5 shared baths        1\n",
       "8.5 baths               1\n",
       "27 baths                1\n",
       "6 baths                 1\n",
       "Name: count, dtype: int64"
      ]
     },
     "execution_count": 169,
     "metadata": {},
     "output_type": "execute_result"
    }
   ],
   "execution_count": 169
  },
  {
   "cell_type": "code",
   "id": "6878e1d913cce237",
   "metadata": {
    "ExecuteTime": {
     "end_time": "2025-04-24T09:17:08.794042Z",
     "start_time": "2025-04-24T09:17:08.790618Z"
    }
   },
   "source": [
    "def extract_is_shared_from_bathrooms_text(df):\n",
    "    \"\"\"Extract is_shared from bathrooms_text column\"\"\"\n",
    "    extract_is_shared = lambda txt: 1 if \"shared\" in txt.lower() else 0\n",
    "    df[\"is_shared_bathroom\"] = df[\"bathrooms_text\"].apply(lambda x: extract_is_shared(x) if isinstance(x, str) else x)\n",
    "    df = df.drop(columns=[\"bathrooms_text\"])\n",
    "    return df"
   ],
   "outputs": [],
   "execution_count": 170
  },
  {
   "cell_type": "code",
   "id": "ab11a53f0b5a4146",
   "metadata": {
    "ExecuteTime": {
     "end_time": "2025-04-24T09:17:08.915213Z",
     "start_time": "2025-04-24T09:17:08.911502Z"
    }
   },
   "source": [
    "def categorical_columns_one_hot_encoding(df):\n",
    "    \"\"\"One-hot encode categorical columns\"\"\"\n",
    "    categorical_columns = [\n",
    "        \"neighbourhood_group_cleansed\",\n",
    "        \"property_type\",\n",
    "        \"room_type\",\n",
    "        \"is_shared_bathroom\",\n",
    "    ]\n",
    "\n",
    "    df = pd.get_dummies(df, columns=categorical_columns, drop_first=True)\n",
    "    return df"
   ],
   "outputs": [],
   "execution_count": 171
  },
  {
   "cell_type": "markdown",
   "id": "56769aeb3e62aeff",
   "metadata": {},
   "source": [
    "## Inne atrybuty do przekształcenia"
   ]
  },
  {
   "cell_type": "code",
   "id": "3cbe206c4e64f9dc",
   "metadata": {
    "ExecuteTime": {
     "end_time": "2025-04-24T09:17:09.016868Z",
     "start_time": "2025-04-24T09:17:09.012326Z"
    }
   },
   "source": [
    "def transform_host_since(df):\n",
    "    \"\"\"Transform timestamp to number of years since\"\"\"\n",
    "    current_year = datetime.now().year\n",
    "\n",
    "    extract_years_since = lambda timestamp: current_year - int(timestamp.split(\"-\")[0])\n",
    "\n",
    "    df[\"host_since\"] = df[\"host_since\"].apply(lambda x: extract_years_since(x) if isinstance(x, str) else x)\n",
    "    return df"
   ],
   "outputs": [],
   "execution_count": 172
  },
  {
   "cell_type": "code",
   "id": "b86b6c95b17b13be",
   "metadata": {
    "ExecuteTime": {
     "end_time": "2025-04-24T09:17:09.440872Z",
     "start_time": "2025-04-24T09:17:09.125831Z"
    }
   },
   "source": [
    "listings = get_listings()\n",
    "listings = transform_host_since(listings)\n",
    "listings[\"host_since\"].value_counts().sort_index().plot(kind=\"bar\")"
   ],
   "outputs": [
    {
     "data": {
      "text/plain": [
       "<Axes: xlabel='host_since'>"
      ]
     },
     "execution_count": 173,
     "metadata": {},
     "output_type": "execute_result"
    },
    {
     "data": {
      "text/plain": [
       "<Figure size 640x480 with 1 Axes>"
      ],
      "image/png": "[encoded data removed]"
     },
     "metadata": {},
     "output_type": "display_data"
    }
   ],
   "execution_count": 173
  },
  {
   "cell_type": "code",
   "id": "4f5d339ad1912cae",
   "metadata": {
    "ExecuteTime": {
     "end_time": "2025-04-24T09:17:09.464339Z",
     "start_time": "2025-04-24T09:17:09.459521Z"
    }
   },
   "source": [
    "listings[\"host_response_rate\"].value_counts()"
   ],
   "outputs": [
    {
     "data": {
      "text/plain": [
       "host_response_rate\n",
       "100%    1930\n",
       "70%      121\n",
       "0%        74\n",
       "90%       70\n",
       "99%       40\n",
       "50%       30\n",
       "95%       27\n",
       "98%       27\n",
       "86%       26\n",
       "94%       25\n",
       "80%       24\n",
       "67%       21\n",
       "96%       13\n",
       "93%       12\n",
       "60%       12\n",
       "97%       12\n",
       "33%       11\n",
       "75%       10\n",
       "89%        7\n",
       "91%        6\n",
       "30%        5\n",
       "83%        5\n",
       "25%        4\n",
       "85%        4\n",
       "88%        4\n",
       "82%        4\n",
       "87%        4\n",
       "71%        4\n",
       "78%        3\n",
       "48%        3\n",
       "63%        3\n",
       "10%        3\n",
       "29%        3\n",
       "40%        3\n",
       "17%        2\n",
       "72%        2\n",
       "92%        2\n",
       "20%        2\n",
       "84%        2\n",
       "13%        1\n",
       "14%        1\n",
       "15%        1\n",
       "57%        1\n",
       "46%        1\n",
       "76%        1\n",
       "Name: count, dtype: int64"
      ]
     },
     "execution_count": 174,
     "metadata": {},
     "output_type": "execute_result"
    }
   ],
   "execution_count": 174
  },
  {
   "cell_type": "code",
   "id": "76e64015bf5ccf98",
   "metadata": {
    "ExecuteTime": {
     "end_time": "2025-04-24T09:17:09.543343Z",
     "start_time": "2025-04-24T09:17:09.538799Z"
    }
   },
   "source": [
    "listings[\"host_acceptance_rate\"].value_counts()"
   ],
   "outputs": [
    {
     "data": {
      "text/plain": [
       "host_acceptance_rate\n",
       "100%    880\n",
       "99%     312\n",
       "0%      166\n",
       "98%     118\n",
       "96%      89\n",
       "       ... \n",
       "41%       1\n",
       "45%       1\n",
       "1%        1\n",
       "24%       1\n",
       "19%       1\n",
       "Name: count, Length: 96, dtype: int64"
      ]
     },
     "execution_count": 175,
     "metadata": {},
     "output_type": "execute_result"
    }
   ],
   "execution_count": 175
  },
  {
   "cell_type": "code",
   "id": "bf5fd835be389627",
   "metadata": {
    "ExecuteTime": {
     "end_time": "2025-04-24T09:17:09.617148Z",
     "start_time": "2025-04-24T09:17:09.614129Z"
    }
   },
   "source": [
    "def transform_percentage_to_number(df):\n",
    "    \"\"\"Transform percentage to number from range [0, 1]\"\"\"\n",
    "    percentage_columns = [\n",
    "        \"host_response_rate\",\n",
    "        \"host_acceptance_rate\",\n",
    "    ]\n",
    "    transform_percentage = lambda x: float(x.replace(\"%\", \"\")) / 100\n",
    "\n",
    "    for c in percentage_columns:\n",
    "        df[c] = df[c].apply(lambda x: transform_percentage(x) if isinstance(x, str) else x)\n",
    "    return df"
   ],
   "outputs": [],
   "execution_count": 176
  },
  {
   "cell_type": "code",
   "id": "97fb1f9293369ca3",
   "metadata": {
    "ExecuteTime": {
     "end_time": "2025-04-24T09:17:09.830361Z",
     "start_time": "2025-04-24T09:17:09.676038Z"
    }
   },
   "source": [
    "listings = get_listings()\n",
    "price = listings[\"price\"]\n",
    "print(len(price))\n",
    "price.map(lambda p: str(type(p))).value_counts()"
   ],
   "outputs": [
    {
     "name": "stdout",
     "output_type": "stream",
     "text": [
      "4195\n"
     ]
    },
    {
     "data": {
      "text/plain": [
       "price\n",
       "<class 'str'>      2674\n",
       "<class 'float'>    1521\n",
       "Name: count, dtype: int64"
      ]
     },
     "execution_count": 177,
     "metadata": {},
     "output_type": "execute_result"
    }
   ],
   "execution_count": 177
  },
  {
   "cell_type": "code",
   "id": "3bd2e21a8b578eea",
   "metadata": {
    "ExecuteTime": {
     "end_time": "2025-04-24T09:17:09.900637Z",
     "start_time": "2025-04-24T09:17:09.896557Z"
    }
   },
   "source": [
    "def transform_price(df):\n",
    "    \"\"\"Transform price column to float\"\"\"\n",
    "    transform_string_price = lambda p: float(p.replace(\"$\", \"\").replace(\",\", \"\"))\n",
    "\n",
    "    df[\"price\"] = df[\"price\"].apply(lambda p: transform_string_price(p) if isinstance(p, str) else p)\n",
    "    return df"
   ],
   "outputs": [],
   "execution_count": 178
  },
  {
   "cell_type": "code",
   "id": "4ffddfbbd0e8174c",
   "metadata": {
    "ExecuteTime": {
     "end_time": "2025-04-24T09:17:10.073488Z",
     "start_time": "2025-04-24T09:17:09.920405Z"
    }
   },
   "source": [
    "df = get_listings()\n",
    "df = transform_price(df)\n",
    "df[\"price\"].info()"
   ],
   "outputs": [
    {
     "name": "stdout",
     "output_type": "stream",
     "text": [
      "<class 'pandas.core.series.Series'>\n",
      "RangeIndex: 4195 entries, 0 to 4194\n",
      "Series name: price\n",
      "Non-Null Count  Dtype  \n",
      "--------------  -----  \n",
      "2674 non-null   float64\n",
      "dtypes: float64(1)\n",
      "memory usage: 32.9 KB\n"
     ]
    }
   ],
   "execution_count": 179
  },
  {
   "cell_type": "markdown",
   "id": "692a7c9f",
   "metadata": {},
   "source": [
    "### Dodatkowy atrybut - średnia ocena pozostałych ogłoszeń hosta \n"
   ]
  },
  {
   "cell_type": "code",
   "id": "ad5a6764",
   "metadata": {
    "ExecuteTime": {
     "end_time": "2025-04-24T09:17:10.291785Z",
     "start_time": "2025-04-24T09:17:10.122130Z"
    }
   },
   "source": [
    "def add_average_rating_by_host(df):\n",
    "    \"\"\"Add average rating by host\"\"\"\n",
    "    df[\"avg_rating_by_host\"] = df.groupby(\"host_id\")[\"avg_rating\"].transform(\"mean\")\n",
    "    return df\n",
    "\n",
    "\n",
    "df = get_listings()\n",
    "df = aggregate_rating_columns(df)\n",
    "df = add_average_rating_by_host(df)\n",
    "print(df[\"avg_rating_by_host\"].info())\n",
    "\n",
    "print(len(df[(df[\"avg_rating_by_host\"].isna()) & (df[\"avg_rating\"].isna())]))\n",
    "print(len(df[(df[\"avg_rating_by_host\"].notna()) & (df[\"avg_rating\"].isna())]))\n",
    "# Helps with about 20% of missing values\n"
   ],
   "outputs": [
    {
     "name": "stdout",
     "output_type": "stream",
     "text": [
      "<class 'pandas.core.series.Series'>\n",
      "RangeIndex: 4195 entries, 0 to 4194\n",
      "Series name: avg_rating_by_host\n",
      "Non-Null Count  Dtype  \n",
      "--------------  -----  \n",
      "3440 non-null   float64\n",
      "dtypes: float64(1)\n",
      "memory usage: 32.9 KB\n",
      "None\n",
      "755\n",
      "217\n"
     ]
    }
   ],
   "execution_count": 180
  },
  {
   "cell_type": "markdown",
   "id": "3ea1970d",
   "metadata": {},
   "source": [
    "## Normalizacja atrybutów liczbowych"
   ]
  },
  {
   "metadata": {
    "ExecuteTime": {
     "end_time": "2025-04-24T09:17:10.585965Z",
     "start_time": "2025-04-24T09:17:10.300445Z"
    }
   },
   "cell_type": "code",
   "source": [
    "df = get_listings()\n",
    "df = drop_useless_columns(df)\n",
    "df = drop_fulltext_columns(df)\n",
    "df = transform_binary_columns(df)\n",
    "df = aggregate_rating_columns(df)\n",
    "df = transform_price(df)\n",
    "df = transform_host_response_time(df)\n",
    "df = extract_is_shared_from_bathrooms_text(df)\n",
    "df = group_property_types(df)\n",
    "df = categorical_columns_one_hot_encoding(df)\n",
    "df = transform_host_since(df)\n",
    "df = transform_percentage_to_number(df)\n",
    "df = one_hot_encode_list_column(df, \"host_verifications\")\n",
    "df = add_average_rating_by_host(df)\n",
    "df = df.drop(columns=[\"host_id\"])  # after adding avg_rating_by_host\n",
    "\n",
    "# Not all should be normalized!\n",
    "print(f\"Numerical columns: {df.select_dtypes(include=[\"number\"]).columns}\")\n",
    "\n",
    "print(f\"Mean before normalization: {df[\"avg_rating_by_host\"].mean()}\")\n",
    "print(f\"Stdev before normalization: {df[\"avg_rating_by_host\"].std()}\")\n",
    "\n",
    "\n",
    "def normalize_numerical_columns(df):\n",
    "    \"\"\"Standardize numerical columns to have mean 0 and std 1\"\"\"\n",
    "\n",
    "    numerical_columns = [\n",
    "        \"maximum_nights\",\n",
    "        \"minimum_minimum_nights\",\n",
    "        \"maximum_minimum_nights\",\n",
    "        \"minimum_maximum_nights\",\n",
    "        \"maximum_maximum_nights\",\n",
    "        \"minimum_nights_avg_ntm\",\n",
    "        \"maximum_nights_avg_ntm\",\n",
    "        \"availability_30\",\n",
    "        \"availability_60\",\n",
    "        \"availability_90\",\n",
    "        \"availability_365\",\n",
    "        \"calculated_host_listings_count\",\n",
    "        \"calculated_host_listings_count_entire_homes\",\n",
    "        \"calculated_host_listings_count_private_rooms\",\n",
    "        \"calculated_host_listings_count_shared_rooms\",\n",
    "        \"price\",\n",
    "        \"avg_rating\",\n",
    "        \"avg_rating_by_host\",\n",
    "    ]\n",
    "    scaler = StandardScaler()\n",
    "\n",
    "    for c in numerical_columns:\n",
    "        df[c] = scaler.fit_transform(df[[c]])\n",
    "\n",
    "    return df\n",
    "\n",
    "\n",
    "df = normalize_numerical_columns(df)\n",
    "\n",
    "print(f\"Mean after normalization: {df[\"avg_rating_by_host\"].mean()}\")\n",
    "print(f\"Stdev after normalization: {df[\"avg_rating_by_host\"].std()}\")\n"
   ],
   "id": "9e909a92f39ebebf",
   "outputs": [
    {
     "name": "stdout",
     "output_type": "stream",
     "text": [
      "Numerical columns: Index(['host_since', 'host_response_time', 'host_response_rate',\n",
      "       'host_acceptance_rate', 'host_is_superhost', 'host_listings_count',\n",
      "       'host_total_listings_count', 'host_has_profile_pic',\n",
      "       'host_identity_verified', 'accommodates', 'bathrooms', 'bedrooms',\n",
      "       'beds', 'price', 'minimum_nights', 'maximum_nights',\n",
      "       'minimum_minimum_nights', 'maximum_minimum_nights',\n",
      "       'minimum_maximum_nights', 'maximum_maximum_nights',\n",
      "       'minimum_nights_avg_ntm', 'maximum_nights_avg_ntm', 'has_availability',\n",
      "       'availability_30', 'availability_60', 'availability_90',\n",
      "       'availability_365', 'instant_bookable',\n",
      "       'calculated_host_listings_count',\n",
      "       'calculated_host_listings_count_entire_homes',\n",
      "       'calculated_host_listings_count_private_rooms',\n",
      "       'calculated_host_listings_count_shared_rooms', 'avg_rating',\n",
      "       'avg_rating_by_host'],\n",
      "      dtype='object')\n",
      "Mean before normalization: 4.74832178477062\n",
      "Stdev before normalization: 0.2580729320932266\n",
      "Mean after normalization: -1.1566974768187677e-16\n",
      "Stdev after normalization: 1.0001453805343148\n"
     ]
    }
   ],
   "execution_count": 181
  },
  {
   "cell_type": "markdown",
   "id": "e56e62d4c8a78aec",
   "metadata": {},
   "source": [
    "## Final transformations"
   ]
  },
  {
   "cell_type": "code",
   "id": "abf8b0e810dec956",
   "metadata": {
    "ExecuteTime": {
     "end_time": "2025-04-24T09:17:10.595425Z",
     "start_time": "2025-04-24T09:17:10.591683Z"
    }
   },
   "source": [
    "def transform_listings(df):\n",
    "    df = drop_useless_columns(df)\n",
    "    df = drop_fulltext_columns(df)\n",
    "    df = transform_binary_columns(df)\n",
    "    df = aggregate_rating_columns(df)\n",
    "    df = transform_price(df)\n",
    "    df = transform_host_response_time(df)\n",
    "    df = extract_is_shared_from_bathrooms_text(df)\n",
    "    df = group_property_types(df)\n",
    "    df = categorical_columns_one_hot_encoding(\n",
    "        df\n",
    "    )  # after extracting is_shared_bathroom and grouping property types!\n",
    "    df = transform_host_since(df)\n",
    "    df = transform_percentage_to_number(df)\n",
    "    df = one_hot_encode_list_column(df, \"host_verifications\")\n",
    "    df = add_average_rating_by_host(df)\n",
    "    df = df.drop(columns=[\"host_id\"])  # after adding avg_rating_by_host\n",
    "    df = normalize_numerical_columns(df)\n",
    "    return df\n"
   ],
   "outputs": [],
   "execution_count": 182
  },
  {
   "cell_type": "code",
   "id": "81181b1a42361987",
   "metadata": {
    "ExecuteTime": {
     "end_time": "2025-04-24T09:17:10.884350Z",
     "start_time": "2025-04-24T09:17:10.635277Z"
    }
   },
   "source": [
    "listings = get_listings()\n",
    "listings = transform_listings(listings)"
   ],
   "outputs": [],
   "execution_count": 183
  },
  {
   "cell_type": "code",
   "id": "d70e16f09190df47",
   "metadata": {
    "ExecuteTime": {
     "end_time": "2025-04-24T09:17:10.903060Z",
     "start_time": "2025-04-24T09:17:10.890854Z"
    }
   },
   "source": [
    "listings.info()"
   ],
   "outputs": [
    {
     "name": "stdout",
     "output_type": "stream",
     "text": [
      "<class 'pandas.core.frame.DataFrame'>\n",
      "RangeIndex: 4195 entries, 0 to 4194\n",
      "Data columns (total 58 columns):\n",
      " #   Column                                                 Non-Null Count  Dtype  \n",
      "---  ------                                                 --------------  -----  \n",
      " 0   host_since                                             4192 non-null   float64\n",
      " 1   host_response_time                                     2566 non-null   float64\n",
      " 2   host_response_rate                                     2566 non-null   float64\n",
      " 3   host_acceptance_rate                                   2831 non-null   float64\n",
      " 4   host_is_superhost                                      4195 non-null   int64  \n",
      " 5   host_listings_count                                    4192 non-null   float64\n",
      " 6   host_total_listings_count                              4192 non-null   float64\n",
      " 7   host_has_profile_pic                                   4195 non-null   int64  \n",
      " 8   host_identity_verified                                 4195 non-null   int64  \n",
      " 9   accommodates                                           4195 non-null   int64  \n",
      " 10  bathrooms                                              2676 non-null   float64\n",
      " 11  bedrooms                                               3574 non-null   float64\n",
      " 12  beds                                                   2666 non-null   float64\n",
      " 13  price                                                  2674 non-null   float64\n",
      " 14  minimum_nights                                         4195 non-null   int64  \n",
      " 15  maximum_nights                                         4195 non-null   float64\n",
      " 16  minimum_minimum_nights                                 4195 non-null   float64\n",
      " 17  maximum_minimum_nights                                 4195 non-null   float64\n",
      " 18  minimum_maximum_nights                                 4195 non-null   float64\n",
      " 19  maximum_maximum_nights                                 4195 non-null   float64\n",
      " 20  minimum_nights_avg_ntm                                 4195 non-null   float64\n",
      " 21  maximum_nights_avg_ntm                                 4195 non-null   float64\n",
      " 22  has_availability                                       4195 non-null   int64  \n",
      " 23  availability_30                                        4195 non-null   float64\n",
      " 24  availability_60                                        4195 non-null   float64\n",
      " 25  availability_90                                        4195 non-null   float64\n",
      " 26  availability_365                                       4195 non-null   float64\n",
      " 27  instant_bookable                                       4195 non-null   int64  \n",
      " 28  calculated_host_listings_count                         4195 non-null   float64\n",
      " 29  calculated_host_listings_count_entire_homes            4195 non-null   float64\n",
      " 30  calculated_host_listings_count_private_rooms           4195 non-null   float64\n",
      " 31  calculated_host_listings_count_shared_rooms            4195 non-null   float64\n",
      " 32  avg_rating                                             3223 non-null   float64\n",
      " 33  neighbourhood_group_cleansed_Friedrichshain-Kreuzberg  4195 non-null   bool   \n",
      " 34  neighbourhood_group_cleansed_Lichtenberg               4195 non-null   bool   \n",
      " 35  neighbourhood_group_cleansed_Marzahn - Hellersdorf     4195 non-null   bool   \n",
      " 36  neighbourhood_group_cleansed_Mitte                     4195 non-null   bool   \n",
      " 37  neighbourhood_group_cleansed_Neukölln                  4195 non-null   bool   \n",
      " 38  neighbourhood_group_cleansed_Pankow                    4195 non-null   bool   \n",
      " 39  neighbourhood_group_cleansed_Reinickendorf             4195 non-null   bool   \n",
      " 40  neighbourhood_group_cleansed_Spandau                   4195 non-null   bool   \n",
      " 41  neighbourhood_group_cleansed_Steglitz - Zehlendorf     4195 non-null   bool   \n",
      " 42  neighbourhood_group_cleansed_Tempelhof - Schöneberg    4195 non-null   bool   \n",
      " 43  neighbourhood_group_cleansed_Treptow - Köpenick        4195 non-null   bool   \n",
      " 44  property_type_condo                                    4195 non-null   bool   \n",
      " 45  property_type_entire rental unit                       4195 non-null   bool   \n",
      " 46  property_type_home                                     4195 non-null   bool   \n",
      " 47  property_type_other                                    4195 non-null   bool   \n",
      " 48  property_type_room                                     4195 non-null   bool   \n",
      " 49  room_type_Hotel room                                   4195 non-null   bool   \n",
      " 50  room_type_Private room                                 4195 non-null   bool   \n",
      " 51  room_type_Shared room                                  4195 non-null   bool   \n",
      " 52  is_shared_bathroom_1.0                                 4195 non-null   bool   \n",
      " 53  host_verifications_                                    4195 non-null   bool   \n",
      " 54  host_verifications_email                               4195 non-null   bool   \n",
      " 55  host_verifications_work_email                          4195 non-null   bool   \n",
      " 56  host_verifications_phone                               4195 non-null   bool   \n",
      " 57  avg_rating_by_host                                     3440 non-null   float64\n",
      "dtypes: bool(24), float64(27), int64(7)\n",
      "memory usage: 1.2 MB\n"
     ]
    }
   ],
   "execution_count": 184
  },
  {
   "cell_type": "code",
   "id": "98f828ea07561d4e",
   "metadata": {
    "ExecuteTime": {
     "end_time": "2025-04-24T09:17:10.965989Z",
     "start_time": "2025-04-24T09:17:10.943408Z"
    }
   },
   "source": [
    "listings"
   ],
   "outputs": [
    {
     "data": {
      "text/plain": [
       "      host_since  host_response_time  host_response_rate  \\\n",
       "0            2.0                 1.0                 1.0   \n",
       "1            9.0                 NaN                 NaN   \n",
       "2           11.0                 NaN                 NaN   \n",
       "3           14.0                 NaN                 NaN   \n",
       "4            7.0                 NaN                 NaN   \n",
       "...          ...                 ...                 ...   \n",
       "4190        10.0                 NaN                 NaN   \n",
       "4191         9.0                 3.0                 0.7   \n",
       "4192         8.0                 4.0                 0.0   \n",
       "4193         2.0                 1.0                 1.0   \n",
       "4194        13.0                 NaN                 NaN   \n",
       "\n",
       "      host_acceptance_rate  host_is_superhost  host_listings_count  \\\n",
       "0                     1.00                  1                  1.0   \n",
       "1                      NaN                  0                  1.0   \n",
       "2                      NaN                  0                  1.0   \n",
       "3                     0.00                  0                  1.0   \n",
       "4                      NaN                  0                  1.0   \n",
       "...                    ...                ...                  ...   \n",
       "4190                   NaN                  0                  1.0   \n",
       "4191                  0.63                  0                  1.0   \n",
       "4192                  0.00                  0                  1.0   \n",
       "4193                  0.92                  1                  5.0   \n",
       "4194                   NaN                  0                  2.0   \n",
       "\n",
       "      host_total_listings_count  host_has_profile_pic  host_identity_verified  \\\n",
       "0                           1.0                     1                       1   \n",
       "1                           2.0                     1                       1   \n",
       "2                           4.0                     1                       1   \n",
       "3                           3.0                     1                       1   \n",
       "4                           1.0                     1                       1   \n",
       "...                         ...                   ...                     ...   \n",
       "4190                        1.0                     1                       1   \n",
       "4191                        1.0                     1                       1   \n",
       "4192                        1.0                     1                       1   \n",
       "4193                        5.0                     1                       1   \n",
       "4194                        3.0                     1                       1   \n",
       "\n",
       "      accommodates  ...  property_type_room  room_type_Hotel room  \\\n",
       "0                2  ...                True                 False   \n",
       "1                3  ...               False                 False   \n",
       "2                4  ...               False                 False   \n",
       "3                3  ...               False                 False   \n",
       "4                2  ...               False                 False   \n",
       "...            ...  ...                 ...                   ...   \n",
       "4190             1  ...                True                 False   \n",
       "4191             5  ...               False                 False   \n",
       "4192             1  ...                True                 False   \n",
       "4193             2  ...               False                 False   \n",
       "4194             3  ...               False                 False   \n",
       "\n",
       "      room_type_Private room  room_type_Shared room  is_shared_bathroom_1.0  \\\n",
       "0                       True                  False                    True   \n",
       "1                      False                  False                   False   \n",
       "2                      False                  False                   False   \n",
       "3                      False                  False                   False   \n",
       "4                      False                  False                   False   \n",
       "...                      ...                    ...                     ...   \n",
       "4190                    True                  False                    True   \n",
       "4191                   False                  False                   False   \n",
       "4192                    True                  False                    True   \n",
       "4193                   False                  False                   False   \n",
       "4194                   False                  False                   False   \n",
       "\n",
       "      host_verifications_  host_verifications_email  \\\n",
       "0                   False                      True   \n",
       "1                   False                      True   \n",
       "2                   False                      True   \n",
       "3                   False                      True   \n",
       "4                   False                      True   \n",
       "...                   ...                       ...   \n",
       "4190                False                      True   \n",
       "4191                False                      True   \n",
       "4192                False                      True   \n",
       "4193                False                      True   \n",
       "4194                False                      True   \n",
       "\n",
       "      host_verifications_work_email  host_verifications_phone  \\\n",
       "0                             False                      True   \n",
       "1                             False                      True   \n",
       "2                              True                      True   \n",
       "3                             False                      True   \n",
       "4                             False                      True   \n",
       "...                             ...                       ...   \n",
       "4190                          False                      True   \n",
       "4191                          False                      True   \n",
       "4192                          False                      True   \n",
       "4193                          False                      True   \n",
       "4194                           True                      True   \n",
       "\n",
       "      avg_rating_by_host  \n",
       "0               0.510311  \n",
       "1               0.144912  \n",
       "2               0.587819  \n",
       "3                    NaN  \n",
       "4              -0.353358  \n",
       "...                  ...  \n",
       "4190            0.427266  \n",
       "4191            0.377438  \n",
       "4192           -1.128446  \n",
       "4193            0.975363  \n",
       "4194            0.117231  \n",
       "\n",
       "[4195 rows x 58 columns]"
      ],
      "text/html": [
       "<div>\n",
       "<style scoped>\n",
       "    .dataframe tbody tr th:only-of-type {\n",
       "        vertical-align: middle;\n",
       "    }\n",
       "\n",
       "    .dataframe tbody tr th {\n",
       "        vertical-align: top;\n",
       "    }\n",
       "\n",
       "    .dataframe thead th {\n",
       "        text-align: right;\n",
       "    }\n",
       "</style>\n",
       "<table border=\"1\" class=\"dataframe\">\n",
       "  <thead>\n",
       "    <tr style=\"text-align: right;\">\n",
       "      <th></th>\n",
       "      <th>host_since</th>\n",
       "      <th>host_response_time</th>\n",
       "      <th>host_response_rate</th>\n",
       "      <th>host_acceptance_rate</th>\n",
       "      <th>host_is_superhost</th>\n",
       "      <th>host_listings_count</th>\n",
       "      <th>host_total_listings_count</th>\n",
       "      <th>host_has_profile_pic</th>\n",
       "      <th>host_identity_verified</th>\n",
       "      <th>accommodates</th>\n",
       "      <th>...</th>\n",
       "      <th>property_type_room</th>\n",
       "      <th>room_type_Hotel room</th>\n",
       "      <th>room_type_Private room</th>\n",
       "      <th>room_type_Shared room</th>\n",
       "      <th>is_shared_bathroom_1.0</th>\n",
       "      <th>host_verifications_</th>\n",
       "      <th>host_verifications_email</th>\n",
       "      <th>host_verifications_work_email</th>\n",
       "      <th>host_verifications_phone</th>\n",
       "      <th>avg_rating_by_host</th>\n",
       "    </tr>\n",
       "  </thead>\n",
       "  <tbody>\n",
       "    <tr>\n",
       "      <th>0</th>\n",
       "      <td>2.0</td>\n",
       "      <td>1.0</td>\n",
       "      <td>1.0</td>\n",
       "      <td>1.00</td>\n",
       "      <td>1</td>\n",
       "      <td>1.0</td>\n",
       "      <td>1.0</td>\n",
       "      <td>1</td>\n",
       "      <td>1</td>\n",
       "      <td>2</td>\n",
       "      <td>...</td>\n",
       "      <td>True</td>\n",
       "      <td>False</td>\n",
       "      <td>True</td>\n",
       "      <td>False</td>\n",
       "      <td>True</td>\n",
       "      <td>False</td>\n",
       "      <td>True</td>\n",
       "      <td>False</td>\n",
       "      <td>True</td>\n",
       "      <td>0.510311</td>\n",
       "    </tr>\n",
       "    <tr>\n",
       "      <th>1</th>\n",
       "      <td>9.0</td>\n",
       "      <td>NaN</td>\n",
       "      <td>NaN</td>\n",
       "      <td>NaN</td>\n",
       "      <td>0</td>\n",
       "      <td>1.0</td>\n",
       "      <td>2.0</td>\n",
       "      <td>1</td>\n",
       "      <td>1</td>\n",
       "      <td>3</td>\n",
       "      <td>...</td>\n",
       "      <td>False</td>\n",
       "      <td>False</td>\n",
       "      <td>False</td>\n",
       "      <td>False</td>\n",
       "      <td>False</td>\n",
       "      <td>False</td>\n",
       "      <td>True</td>\n",
       "      <td>False</td>\n",
       "      <td>True</td>\n",
       "      <td>0.144912</td>\n",
       "    </tr>\n",
       "    <tr>\n",
       "      <th>2</th>\n",
       "      <td>11.0</td>\n",
       "      <td>NaN</td>\n",
       "      <td>NaN</td>\n",
       "      <td>NaN</td>\n",
       "      <td>0</td>\n",
       "      <td>1.0</td>\n",
       "      <td>4.0</td>\n",
       "      <td>1</td>\n",
       "      <td>1</td>\n",
       "      <td>4</td>\n",
       "      <td>...</td>\n",
       "      <td>False</td>\n",
       "      <td>False</td>\n",
       "      <td>False</td>\n",
       "      <td>False</td>\n",
       "      <td>False</td>\n",
       "      <td>False</td>\n",
       "      <td>True</td>\n",
       "      <td>True</td>\n",
       "      <td>True</td>\n",
       "      <td>0.587819</td>\n",
       "    </tr>\n",
       "    <tr>\n",
       "      <th>3</th>\n",
       "      <td>14.0</td>\n",
       "      <td>NaN</td>\n",
       "      <td>NaN</td>\n",
       "      <td>0.00</td>\n",
       "      <td>0</td>\n",
       "      <td>1.0</td>\n",
       "      <td>3.0</td>\n",
       "      <td>1</td>\n",
       "      <td>1</td>\n",
       "      <td>3</td>\n",
       "      <td>...</td>\n",
       "      <td>False</td>\n",
       "      <td>False</td>\n",
       "      <td>False</td>\n",
       "      <td>False</td>\n",
       "      <td>False</td>\n",
       "      <td>False</td>\n",
       "      <td>True</td>\n",
       "      <td>False</td>\n",
       "      <td>True</td>\n",
       "      <td>NaN</td>\n",
       "    </tr>\n",
       "    <tr>\n",
       "      <th>4</th>\n",
       "      <td>7.0</td>\n",
       "      <td>NaN</td>\n",
       "      <td>NaN</td>\n",
       "      <td>NaN</td>\n",
       "      <td>0</td>\n",
       "      <td>1.0</td>\n",
       "      <td>1.0</td>\n",
       "      <td>1</td>\n",
       "      <td>1</td>\n",
       "      <td>2</td>\n",
       "      <td>...</td>\n",
       "      <td>False</td>\n",
       "      <td>False</td>\n",
       "      <td>False</td>\n",
       "      <td>False</td>\n",
       "      <td>False</td>\n",
       "      <td>False</td>\n",
       "      <td>True</td>\n",
       "      <td>False</td>\n",
       "      <td>True</td>\n",
       "      <td>-0.353358</td>\n",
       "    </tr>\n",
       "    <tr>\n",
       "      <th>...</th>\n",
       "      <td>...</td>\n",
       "      <td>...</td>\n",
       "      <td>...</td>\n",
       "      <td>...</td>\n",
       "      <td>...</td>\n",
       "      <td>...</td>\n",
       "      <td>...</td>\n",
       "      <td>...</td>\n",
       "      <td>...</td>\n",
       "      <td>...</td>\n",
       "      <td>...</td>\n",
       "      <td>...</td>\n",
       "      <td>...</td>\n",
       "      <td>...</td>\n",
       "      <td>...</td>\n",
       "      <td>...</td>\n",
       "      <td>...</td>\n",
       "      <td>...</td>\n",
       "      <td>...</td>\n",
       "      <td>...</td>\n",
       "      <td>...</td>\n",
       "    </tr>\n",
       "    <tr>\n",
       "      <th>4190</th>\n",
       "      <td>10.0</td>\n",
       "      <td>NaN</td>\n",
       "      <td>NaN</td>\n",
       "      <td>NaN</td>\n",
       "      <td>0</td>\n",
       "      <td>1.0</td>\n",
       "      <td>1.0</td>\n",
       "      <td>1</td>\n",
       "      <td>1</td>\n",
       "      <td>1</td>\n",
       "      <td>...</td>\n",
       "      <td>True</td>\n",
       "      <td>False</td>\n",
       "      <td>True</td>\n",
       "      <td>False</td>\n",
       "      <td>True</td>\n",
       "      <td>False</td>\n",
       "      <td>True</td>\n",
       "      <td>False</td>\n",
       "      <td>True</td>\n",
       "      <td>0.427266</td>\n",
       "    </tr>\n",
       "    <tr>\n",
       "      <th>4191</th>\n",
       "      <td>9.0</td>\n",
       "      <td>3.0</td>\n",
       "      <td>0.7</td>\n",
       "      <td>0.63</td>\n",
       "      <td>0</td>\n",
       "      <td>1.0</td>\n",
       "      <td>1.0</td>\n",
       "      <td>1</td>\n",
       "      <td>1</td>\n",
       "      <td>5</td>\n",
       "      <td>...</td>\n",
       "      <td>False</td>\n",
       "      <td>False</td>\n",
       "      <td>False</td>\n",
       "      <td>False</td>\n",
       "      <td>False</td>\n",
       "      <td>False</td>\n",
       "      <td>True</td>\n",
       "      <td>False</td>\n",
       "      <td>True</td>\n",
       "      <td>0.377438</td>\n",
       "    </tr>\n",
       "    <tr>\n",
       "      <th>4192</th>\n",
       "      <td>8.0</td>\n",
       "      <td>4.0</td>\n",
       "      <td>0.0</td>\n",
       "      <td>0.00</td>\n",
       "      <td>0</td>\n",
       "      <td>1.0</td>\n",
       "      <td>1.0</td>\n",
       "      <td>1</td>\n",
       "      <td>1</td>\n",
       "      <td>1</td>\n",
       "      <td>...</td>\n",
       "      <td>True</td>\n",
       "      <td>False</td>\n",
       "      <td>True</td>\n",
       "      <td>False</td>\n",
       "      <td>True</td>\n",
       "      <td>False</td>\n",
       "      <td>True</td>\n",
       "      <td>False</td>\n",
       "      <td>True</td>\n",
       "      <td>-1.128446</td>\n",
       "    </tr>\n",
       "    <tr>\n",
       "      <th>4193</th>\n",
       "      <td>2.0</td>\n",
       "      <td>1.0</td>\n",
       "      <td>1.0</td>\n",
       "      <td>0.92</td>\n",
       "      <td>1</td>\n",
       "      <td>5.0</td>\n",
       "      <td>5.0</td>\n",
       "      <td>1</td>\n",
       "      <td>1</td>\n",
       "      <td>2</td>\n",
       "      <td>...</td>\n",
       "      <td>False</td>\n",
       "      <td>False</td>\n",
       "      <td>False</td>\n",
       "      <td>False</td>\n",
       "      <td>False</td>\n",
       "      <td>False</td>\n",
       "      <td>True</td>\n",
       "      <td>False</td>\n",
       "      <td>True</td>\n",
       "      <td>0.975363</td>\n",
       "    </tr>\n",
       "    <tr>\n",
       "      <th>4194</th>\n",
       "      <td>13.0</td>\n",
       "      <td>NaN</td>\n",
       "      <td>NaN</td>\n",
       "      <td>NaN</td>\n",
       "      <td>0</td>\n",
       "      <td>2.0</td>\n",
       "      <td>3.0</td>\n",
       "      <td>1</td>\n",
       "      <td>1</td>\n",
       "      <td>3</td>\n",
       "      <td>...</td>\n",
       "      <td>False</td>\n",
       "      <td>False</td>\n",
       "      <td>False</td>\n",
       "      <td>False</td>\n",
       "      <td>False</td>\n",
       "      <td>False</td>\n",
       "      <td>True</td>\n",
       "      <td>True</td>\n",
       "      <td>True</td>\n",
       "      <td>0.117231</td>\n",
       "    </tr>\n",
       "  </tbody>\n",
       "</table>\n",
       "<p>4195 rows × 58 columns</p>\n",
       "</div>"
      ]
     },
     "execution_count": 185,
     "metadata": {},
     "output_type": "execute_result"
    }
   ],
   "execution_count": 185
  },
  {
   "cell_type": "markdown",
   "id": "6751d7c08c172b91",
   "metadata": {},
   "source": [
    "## Brakujące wartości atrybutów\n",
    "\n",
    "* Patrzymy na podzbiór gdzie brakuje oceny - to będzie nasz zbiór treningowy\n",
    "* Brak price, beds, bathrooms występuje jednocześnie\n",
    "* Jest mocno skorelowany z brakami w reszcie atrybutów"
   ]
  },
  {
   "cell_type": "code",
   "id": "ac112c9a1c2c348",
   "metadata": {
    "ExecuteTime": {
     "end_time": "2025-04-24T09:17:11.058932Z",
     "start_time": "2025-04-24T09:17:11.049397Z"
    }
   },
   "source": [
    "listings = listings[listings[\"avg_rating\"].notna()]\n",
    "missing_ratio = round(listings.isna().sum() / len(listings), 2)\n",
    "missing_ratio[missing_ratio > 0].sort_values(ascending=False)"
   ],
   "outputs": [
    {
     "data": {
      "text/plain": [
       "price                   0.36\n",
       "beds                    0.36\n",
       "bathrooms               0.36\n",
       "host_response_time      0.35\n",
       "host_response_rate      0.35\n",
       "host_acceptance_rate    0.27\n",
       "bedrooms                0.14\n",
       "dtype: float64"
      ]
     },
     "execution_count": 186,
     "metadata": {},
     "output_type": "execute_result"
    }
   ],
   "execution_count": 186
  },
  {
   "cell_type": "code",
   "id": "4d37bb8668a8e90e",
   "metadata": {
    "ExecuteTime": {
     "end_time": "2025-04-24T09:17:11.159885Z",
     "start_time": "2025-04-24T09:17:11.150019Z"
    }
   },
   "source": [
    "listings_no_price = listings[listings[\"price\"].isna()]\n",
    "print(len(listings_no_price))\n",
    "missing_ratio = round(listings_no_price.isna().sum() / len(listings_no_price), 2)\n",
    "missing_ratio[missing_ratio > 0].sort_values(ascending=False)"
   ],
   "outputs": [
    {
     "name": "stdout",
     "output_type": "stream",
     "text": [
      "1161\n"
     ]
    },
    {
     "data": {
      "text/plain": [
       "price                   1.00\n",
       "beds                    1.00\n",
       "bathrooms               1.00\n",
       "host_response_time      0.79\n",
       "host_response_rate      0.79\n",
       "host_acceptance_rate    0.68\n",
       "bedrooms                0.38\n",
       "dtype: float64"
      ]
     },
     "execution_count": 187,
     "metadata": {},
     "output_type": "execute_result"
    }
   ],
   "execution_count": 187
  },
  {
   "cell_type": "code",
   "id": "dae7fa54c1011e58",
   "metadata": {
    "ExecuteTime": {
     "end_time": "2025-04-24T09:17:11.421240Z",
     "start_time": "2025-04-24T09:17:11.413210Z"
    }
   },
   "source": [
    "listings_no_beds = listings[listings[\"beds\"].isna()]\n",
    "missing_ratio = round(listings_no_beds.isna().sum() / len(listings_no_beds), 2)\n",
    "missing_ratio[missing_ratio > 0].sort_values(ascending=False)"
   ],
   "outputs": [
    {
     "data": {
      "text/plain": [
       "beds                    1.00\n",
       "bathrooms               0.99\n",
       "price                   0.99\n",
       "host_response_time      0.79\n",
       "host_response_rate      0.79\n",
       "host_acceptance_rate    0.67\n",
       "bedrooms                0.38\n",
       "dtype: float64"
      ]
     },
     "execution_count": 188,
     "metadata": {},
     "output_type": "execute_result"
    }
   ],
   "execution_count": 188
  },
  {
   "cell_type": "code",
   "id": "7fb17153a815d44d",
   "metadata": {
    "ExecuteTime": {
     "end_time": "2025-04-24T09:17:11.763808Z",
     "start_time": "2025-04-24T09:17:11.596905Z"
    }
   },
   "source": [
    "listings = get_listings()\n",
    "len(listings)"
   ],
   "outputs": [
    {
     "data": {
      "text/plain": [
       "4195"
      ]
     },
     "execution_count": 189,
     "metadata": {},
     "output_type": "execute_result"
    }
   ],
   "execution_count": 189
  },
  {
   "cell_type": "code",
   "id": "700cb325",
   "metadata": {
    "ExecuteTime": {
     "end_time": "2025-04-24T09:17:12.135334Z",
     "start_time": "2025-04-24T09:17:11.853802Z"
    }
   },
   "source": [
    "listings = transform_listings(get_listings())\n",
    "listings.select_dtypes(include=[\"number\"]).columns"
   ],
   "outputs": [
    {
     "data": {
      "text/plain": [
       "Index(['host_since', 'host_response_time', 'host_response_rate',\n",
       "       'host_acceptance_rate', 'host_is_superhost', 'host_listings_count',\n",
       "       'host_total_listings_count', 'host_has_profile_pic',\n",
       "       'host_identity_verified', 'accommodates', 'bathrooms', 'bedrooms',\n",
       "       'beds', 'price', 'minimum_nights', 'maximum_nights',\n",
       "       'minimum_minimum_nights', 'maximum_minimum_nights',\n",
       "       'minimum_maximum_nights', 'maximum_maximum_nights',\n",
       "       'minimum_nights_avg_ntm', 'maximum_nights_avg_ntm', 'has_availability',\n",
       "       'availability_30', 'availability_60', 'availability_90',\n",
       "       'availability_365', 'instant_bookable',\n",
       "       'calculated_host_listings_count',\n",
       "       'calculated_host_listings_count_entire_homes',\n",
       "       'calculated_host_listings_count_private_rooms',\n",
       "       'calculated_host_listings_count_shared_rooms', 'avg_rating',\n",
       "       'avg_rating_by_host'],\n",
       "      dtype='object')"
      ]
     },
     "execution_count": 190,
     "metadata": {},
     "output_type": "execute_result"
    }
   ],
   "execution_count": 190
  },
  {
   "cell_type": "markdown",
   "id": "782f6e6c",
   "metadata": {},
   "source": [
    "\n",
    "## Analiza korelacji atrybutów liczbowych i średniej oceny"
   ]
  },
  {
   "metadata": {
    "ExecuteTime": {
     "end_time": "2025-04-24T09:17:12.686294Z",
     "start_time": "2025-04-24T09:17:12.201342Z"
    }
   },
   "cell_type": "code",
   "source": [
    "numerical_columns = [\n",
    "    \"maximum_nights\",\n",
    "    \"minimum_minimum_nights\",\n",
    "    \"maximum_minimum_nights\",\n",
    "    \"minimum_maximum_nights\",\n",
    "    \"maximum_maximum_nights\",\n",
    "    \"minimum_nights_avg_ntm\",\n",
    "    \"maximum_nights_avg_ntm\",\n",
    "    \"availability_30\",\n",
    "    \"availability_60\",\n",
    "    \"availability_90\",\n",
    "    \"availability_365\",\n",
    "    \"calculated_host_listings_count\",\n",
    "    \"calculated_host_listings_count_entire_homes\",\n",
    "    \"calculated_host_listings_count_private_rooms\",\n",
    "    \"calculated_host_listings_count_shared_rooms\",\n",
    "    \"price\",\n",
    "    \"avg_rating_by_host\",\n",
    "]\n",
    "target = \"avg_rating\"\n",
    "df = transform_listings(get_listings())\n",
    "\n",
    "non_empty = df[[target] + numerical_columns].dropna()\n",
    "corr_matrix = non_empty.corr()\n",
    "correlations_with_target = corr_matrix[target].drop(target).sort_values(key=abs, ascending=False)\n",
    "print(correlations_with_target)\n",
    "\n",
    "plt.figure(figsize=(10, 6))\n",
    "sns.barplot(x=correlations_with_target.values, y=correlations_with_target.index)\n",
    "plt.title('Correlation with review_scores_rating')\n",
    "plt.xlabel('Correlation Coefficient')\n",
    "plt.tight_layout()\n",
    "plt.show()\n",
    "\n",
    "\n"
   ],
   "id": "8d6e2b5c826e946d",
   "outputs": [
    {
     "name": "stdout",
     "output_type": "stream",
     "text": [
      "avg_rating_by_host                              0.812079\n",
      "calculated_host_listings_count                 -0.254694\n",
      "calculated_host_listings_count_entire_homes    -0.242170\n",
      "maximum_minimum_nights                         -0.164190\n",
      "calculated_host_listings_count_private_rooms   -0.143124\n",
      "availability_365                               -0.139259\n",
      "availability_30                                -0.114143\n",
      "availability_60                                -0.110936\n",
      "availability_90                                -0.108025\n",
      "minimum_minimum_nights                         -0.087439\n",
      "maximum_nights                                 -0.086410\n",
      "maximum_maximum_nights                         -0.083740\n",
      "minimum_nights_avg_ntm                         -0.080875\n",
      "maximum_nights_avg_ntm                         -0.075058\n",
      "minimum_maximum_nights                         -0.061483\n",
      "price                                           0.036055\n",
      "calculated_host_listings_count_shared_rooms    -0.034583\n",
      "Name: avg_rating, dtype: float64\n"
     ]
    },
    {
     "data": {
      "text/plain": [
       "<Figure size 1000x600 with 1 Axes>"
      ],
      "image/png": "[encoded data removed]"
     },
     "metadata": {},
     "output_type": "display_data"
    }
   ],
   "execution_count": 191
  },
  {
   "metadata": {
    "ExecuteTime": {
     "end_time": "2025-04-24T09:17:13.105132Z",
     "start_time": "2025-04-24T09:17:12.691343Z"
    }
   },
   "cell_type": "code",
   "source": [
    "X = non_empty[numerical_columns]\n",
    "y = non_empty[target]\n",
    "mi = mutual_info_regression(X, y)\n",
    "mi = pd.Series(mi, index=X.columns).sort_values(ascending=False)\n",
    "\n",
    "plt.figure(figsize=(10, 6))\n",
    "sns.barplot(x=mi.values, y=mi.index)\n",
    "plt.title('Mutual Information with avg_rating')\n",
    "plt.xlabel('Mutual Information')\n",
    "plt.xlabel('Feature')\n",
    "plt.tight_layout()\n",
    "plt.show()\n",
    "print(mi)"
   ],
   "id": "2d35dfb49c0984e3",
   "outputs": [
    {
     "data": {
      "text/plain": [
       "<Figure size 1000x600 with 1 Axes>"
      ],
      "image/png": "[encoded data removed]"
     },
     "metadata": {},
     "output_type": "display_data"
    },
    {
     "name": "stdout",
     "output_type": "stream",
     "text": [
      "avg_rating_by_host                              3.238376\n",
      "maximum_nights                                  0.069923\n",
      "availability_365                                0.067809\n",
      "calculated_host_listings_count                  0.067190\n",
      "minimum_nights_avg_ntm                          0.062900\n",
      "maximum_nights_avg_ntm                          0.056727\n",
      "calculated_host_listings_count_entire_homes     0.051806\n",
      "availability_30                                 0.051194\n",
      "calculated_host_listings_count_private_rooms    0.048886\n",
      "minimum_minimum_nights                          0.048104\n",
      "availability_60                                 0.046185\n",
      "maximum_maximum_nights                          0.046070\n",
      "minimum_maximum_nights                          0.037460\n",
      "availability_90                                 0.022022\n",
      "price                                           0.013329\n",
      "maximum_minimum_nights                          0.004651\n",
      "calculated_host_listings_count_shared_rooms     0.000000\n",
      "dtype: float64\n"
     ]
    }
   ],
   "execution_count": 192
  }
 ],
 "metadata": {
  "kernelspec": {
   "display_name": ".venv",
   "language": "python",
   "name": "python3"
  },
  "language_info": {
   "codemirror_mode": {
    "name": "ipython",
    "version": 3
   },
   "file_extension": ".py",
   "mimetype": "text/x-python",
   "name": "python",
   "nbconvert_exporter": "python",
   "pygments_lexer": "ipython3",
   "version": "3.12.9"
  }
 },
 "nbformat": 4,
 "nbformat_minor": 5
}
