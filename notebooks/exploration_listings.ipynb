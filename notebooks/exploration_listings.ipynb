{
 "cells": [
  {
   "cell_type": "markdown",
   "id": "b20ed5d9df7c4130",
   "metadata": {},
   "source": [
    "# Eksploracja danych - zbiór `listings.csv`\n",
    "\n",
    "Wstępny przegląd danych z pierwszej paczki"
   ]
  },
  {
   "cell_type": "markdown",
   "id": "28d8f79b554c80df",
   "metadata": {},
   "source": [
    "## Wnioski\n",
    "\n",
    "* Ponad 80% ocen zawiera się między 4.5 a 5.0"
   ]
  },
  {
   "cell_type": "code",
   "execution_count": 3,
   "id": "de3f8c8acc704282",
   "metadata": {
    "ExecuteTime": {
     "end_time": "2025-04-24T09:17:02.462127Z",
     "start_time": "2025-04-24T09:17:02.456635Z"
    }
   },
   "outputs": [],
   "source": [
    "from datetime import datetime\n",
    "\n",
    "import numpy as np\n",
    "import pandas as pd\n",
    "import re\n",
    "import matplotlib.pyplot as plt\n",
    "import seaborn as sns\n",
    "from sklearn.preprocessing import StandardScaler\n",
    "from sklearn.feature_selection import mutual_info_regression\n"
   ]
  },
  {
   "cell_type": "code",
   "execution_count": 4,
   "id": "f985173e",
   "metadata": {},
   "outputs": [],
   "source": [
    "DATA_DIR = \"data\""
   ]
  },
  {
   "cell_type": "code",
   "execution_count": 5,
   "id": "53c186648546e7d8",
   "metadata": {
    "ExecuteTime": {
     "end_time": "2025-04-24T09:17:02.544254Z",
     "start_time": "2025-04-24T09:17:02.541635Z"
    }
   },
   "outputs": [],
   "source": [
    "def get_listings():\n",
    "    return pd.read_csv(f'../{ DATA_DIR }/raw/listings.csv')"
   ]
  },
  {
   "cell_type": "markdown",
   "id": "27c5e8b0022620e4",
   "metadata": {},
   "source": [
    "## Wielkość zbioru danych"
   ]
  },
  {
   "cell_type": "code",
   "execution_count": 6,
   "id": "5ecc851be60da72e",
   "metadata": {
    "ExecuteTime": {
     "end_time": "2025-04-24T09:17:02.714042Z",
     "start_time": "2025-04-24T09:17:02.584114Z"
    }
   },
   "outputs": [
    {
     "name": "stdout",
     "output_type": "stream",
     "text": [
      "Liczba przykładów w całym zbiorze 13984\n",
      "Liczba przykładów z oceną 10706\n"
     ]
    }
   ],
   "source": [
    "listings = get_listings()\n",
    "total_len = len(listings)\n",
    "\n",
    "review_columns = [\n",
    "    \"review_scores_rating\",\n",
    "    \"review_scores_accuracy\",\n",
    "    \"review_scores_cleanliness\",\n",
    "    \"review_scores_checkin\",\n",
    "    \"review_scores_communication\",\n",
    "    \"review_scores_location\",\n",
    "    \"review_scores_value\",\n",
    "]\n",
    "listings_with_reviews = listings[listings[review_columns].notna().any(axis=1)]\n",
    "len_with_reviews = len(listings_with_reviews)\n",
    "\n",
    "print(f\"Liczba przykładów w całym zbiorze {total_len}\")\n",
    "print(f\"Liczba przykładów z oceną {len_with_reviews}\")"
   ]
  },
  {
   "cell_type": "markdown",
   "id": "ef840d22cf7cf5b1",
   "metadata": {},
   "source": [
    "## Atrybuty"
   ]
  },
  {
   "cell_type": "code",
   "execution_count": 7,
   "id": "b7e0c036dc52774",
   "metadata": {
    "ExecuteTime": {
     "end_time": "2025-04-24T09:17:02.909615Z",
     "start_time": "2025-04-24T09:17:02.758607Z"
    }
   },
   "outputs": [
    {
     "data": {
      "text/html": [
       "<div>\n",
       "<style scoped>\n",
       "    .dataframe tbody tr th:only-of-type {\n",
       "        vertical-align: middle;\n",
       "    }\n",
       "\n",
       "    .dataframe tbody tr th {\n",
       "        vertical-align: top;\n",
       "    }\n",
       "\n",
       "    .dataframe thead th {\n",
       "        text-align: right;\n",
       "    }\n",
       "</style>\n",
       "<table border=\"1\" class=\"dataframe\">\n",
       "  <thead>\n",
       "    <tr style=\"text-align: right;\">\n",
       "      <th></th>\n",
       "      <th>id</th>\n",
       "      <th>listing_url</th>\n",
       "      <th>scrape_id</th>\n",
       "      <th>last_scraped</th>\n",
       "      <th>source</th>\n",
       "      <th>name</th>\n",
       "      <th>description</th>\n",
       "      <th>neighborhood_overview</th>\n",
       "      <th>picture_url</th>\n",
       "      <th>host_id</th>\n",
       "      <th>...</th>\n",
       "      <th>review_scores_communication</th>\n",
       "      <th>review_scores_location</th>\n",
       "      <th>review_scores_value</th>\n",
       "      <th>license</th>\n",
       "      <th>instant_bookable</th>\n",
       "      <th>calculated_host_listings_count</th>\n",
       "      <th>calculated_host_listings_count_entire_homes</th>\n",
       "      <th>calculated_host_listings_count_private_rooms</th>\n",
       "      <th>calculated_host_listings_count_shared_rooms</th>\n",
       "      <th>reviews_per_month</th>\n",
       "    </tr>\n",
       "  </thead>\n",
       "  <tbody>\n",
       "    <tr>\n",
       "      <th>0</th>\n",
       "      <td>2084992</td>\n",
       "      <td>https://www.nocarz.pl/rooms/2084992</td>\n",
       "      <td>20241221052002</td>\n",
       "      <td>2024-12-21</td>\n",
       "      <td>previous scrape</td>\n",
       "      <td>Nice and cozy apartment in Kreuzberg, Graefekiez</td>\n",
       "      <td>Our cosy two room Apartment (70qm) in a vibrat...</td>\n",
       "      <td>The apartment is situated on Fichtestrasse, wh...</td>\n",
       "      <td>https://a0.muscache.com/pictures/c4f2a8a8-34fa...</td>\n",
       "      <td>6302373</td>\n",
       "      <td>...</td>\n",
       "      <td>5.00</td>\n",
       "      <td>4.64</td>\n",
       "      <td>4.82</td>\n",
       "      <td>NaN</td>\n",
       "      <td>f</td>\n",
       "      <td>1</td>\n",
       "      <td>1</td>\n",
       "      <td>0</td>\n",
       "      <td>0</td>\n",
       "      <td>0.09</td>\n",
       "    </tr>\n",
       "    <tr>\n",
       "      <th>1</th>\n",
       "      <td>1123383729460847373</td>\n",
       "      <td>https://www.nocarz.pl/rooms/1123383729460847373</td>\n",
       "      <td>20241221052002</td>\n",
       "      <td>2024-12-21</td>\n",
       "      <td>city scrape</td>\n",
       "      <td>Furnished room in well equipped serviced apart...</td>\n",
       "      <td>Room in an apartment available. Apartment has ...</td>\n",
       "      <td>NaN</td>\n",
       "      <td>https://a0.muscache.com/pictures/hosting/Hosti...</td>\n",
       "      <td>206488801</td>\n",
       "      <td>...</td>\n",
       "      <td>NaN</td>\n",
       "      <td>NaN</td>\n",
       "      <td>NaN</td>\n",
       "      <td>NaN</td>\n",
       "      <td>f</td>\n",
       "      <td>3</td>\n",
       "      <td>1</td>\n",
       "      <td>2</td>\n",
       "      <td>0</td>\n",
       "      <td>NaN</td>\n",
       "    </tr>\n",
       "    <tr>\n",
       "      <th>2</th>\n",
       "      <td>1205255838613758737</td>\n",
       "      <td>https://www.nocarz.pl/rooms/1205255838613758737</td>\n",
       "      <td>20241221052002</td>\n",
       "      <td>2024-12-21</td>\n",
       "      <td>city scrape</td>\n",
       "      <td>Luxurous game room with private bath in X-Berg</td>\n",
       "      <td>Cozy private room in Berlin Mitte with private...</td>\n",
       "      <td>NaN</td>\n",
       "      <td>https://a0.muscache.com/pictures/hosting/Hosti...</td>\n",
       "      <td>50009901</td>\n",
       "      <td>...</td>\n",
       "      <td>4.97</td>\n",
       "      <td>4.94</td>\n",
       "      <td>4.94</td>\n",
       "      <td>01/Z/AZ/017416-24</td>\n",
       "      <td>f</td>\n",
       "      <td>1</td>\n",
       "      <td>0</td>\n",
       "      <td>1</td>\n",
       "      <td>0</td>\n",
       "      <td>9.53</td>\n",
       "    </tr>\n",
       "    <tr>\n",
       "      <th>3</th>\n",
       "      <td>8164759</td>\n",
       "      <td>https://www.nocarz.pl/rooms/8164759</td>\n",
       "      <td>20241221052002</td>\n",
       "      <td>2024-12-21</td>\n",
       "      <td>previous scrape</td>\n",
       "      <td>Beautiful single-room studio</td>\n",
       "      <td>Experience the “real Berlin” in our small and ...</td>\n",
       "      <td>In the area you can find lots of affordable ba...</td>\n",
       "      <td>https://a0.muscache.com/pictures/103988560/a5d...</td>\n",
       "      <td>42115726</td>\n",
       "      <td>...</td>\n",
       "      <td>5.00</td>\n",
       "      <td>3.00</td>\n",
       "      <td>3.00</td>\n",
       "      <td>NaN</td>\n",
       "      <td>f</td>\n",
       "      <td>1</td>\n",
       "      <td>1</td>\n",
       "      <td>0</td>\n",
       "      <td>0</td>\n",
       "      <td>0.01</td>\n",
       "    </tr>\n",
       "    <tr>\n",
       "      <th>4</th>\n",
       "      <td>18836877</td>\n",
       "      <td>https://www.nocarz.pl/rooms/18836877</td>\n",
       "      <td>20241221052002</td>\n",
       "      <td>2024-12-21</td>\n",
       "      <td>previous scrape</td>\n",
       "      <td>Unterkunft zentral in Berlin</td>\n",
       "      <td>The accommodation has 3 rooms, however, is onl...</td>\n",
       "      <td>NaN</td>\n",
       "      <td>https://a0.muscache.com/pictures/452bf022-c9a9...</td>\n",
       "      <td>131184702</td>\n",
       "      <td>...</td>\n",
       "      <td>NaN</td>\n",
       "      <td>NaN</td>\n",
       "      <td>NaN</td>\n",
       "      <td>NaN</td>\n",
       "      <td>f</td>\n",
       "      <td>1</td>\n",
       "      <td>1</td>\n",
       "      <td>0</td>\n",
       "      <td>0</td>\n",
       "      <td>NaN</td>\n",
       "    </tr>\n",
       "  </tbody>\n",
       "</table>\n",
       "<p>5 rows × 75 columns</p>\n",
       "</div>"
      ],
      "text/plain": [
       "                    id                                      listing_url  \\\n",
       "0              2084992              https://www.nocarz.pl/rooms/2084992   \n",
       "1  1123383729460847373  https://www.nocarz.pl/rooms/1123383729460847373   \n",
       "2  1205255838613758737  https://www.nocarz.pl/rooms/1205255838613758737   \n",
       "3              8164759              https://www.nocarz.pl/rooms/8164759   \n",
       "4             18836877             https://www.nocarz.pl/rooms/18836877   \n",
       "\n",
       "        scrape_id last_scraped           source  \\\n",
       "0  20241221052002   2024-12-21  previous scrape   \n",
       "1  20241221052002   2024-12-21      city scrape   \n",
       "2  20241221052002   2024-12-21      city scrape   \n",
       "3  20241221052002   2024-12-21  previous scrape   \n",
       "4  20241221052002   2024-12-21  previous scrape   \n",
       "\n",
       "                                                name  \\\n",
       "0   Nice and cozy apartment in Kreuzberg, Graefekiez   \n",
       "1  Furnished room in well equipped serviced apart...   \n",
       "2     Luxurous game room with private bath in X-Berg   \n",
       "3                       Beautiful single-room studio   \n",
       "4                       Unterkunft zentral in Berlin   \n",
       "\n",
       "                                         description  \\\n",
       "0  Our cosy two room Apartment (70qm) in a vibrat...   \n",
       "1  Room in an apartment available. Apartment has ...   \n",
       "2  Cozy private room in Berlin Mitte with private...   \n",
       "3  Experience the “real Berlin” in our small and ...   \n",
       "4  The accommodation has 3 rooms, however, is onl...   \n",
       "\n",
       "                               neighborhood_overview  \\\n",
       "0  The apartment is situated on Fichtestrasse, wh...   \n",
       "1                                                NaN   \n",
       "2                                                NaN   \n",
       "3  In the area you can find lots of affordable ba...   \n",
       "4                                                NaN   \n",
       "\n",
       "                                         picture_url    host_id  ...  \\\n",
       "0  https://a0.muscache.com/pictures/c4f2a8a8-34fa...    6302373  ...   \n",
       "1  https://a0.muscache.com/pictures/hosting/Hosti...  206488801  ...   \n",
       "2  https://a0.muscache.com/pictures/hosting/Hosti...   50009901  ...   \n",
       "3  https://a0.muscache.com/pictures/103988560/a5d...   42115726  ...   \n",
       "4  https://a0.muscache.com/pictures/452bf022-c9a9...  131184702  ...   \n",
       "\n",
       "  review_scores_communication review_scores_location review_scores_value  \\\n",
       "0                        5.00                   4.64                4.82   \n",
       "1                         NaN                    NaN                 NaN   \n",
       "2                        4.97                   4.94                4.94   \n",
       "3                        5.00                   3.00                3.00   \n",
       "4                         NaN                    NaN                 NaN   \n",
       "\n",
       "             license instant_bookable calculated_host_listings_count  \\\n",
       "0                NaN                f                              1   \n",
       "1                NaN                f                              3   \n",
       "2  01/Z/AZ/017416-24                f                              1   \n",
       "3                NaN                f                              1   \n",
       "4                NaN                f                              1   \n",
       "\n",
       "  calculated_host_listings_count_entire_homes  \\\n",
       "0                                           1   \n",
       "1                                           1   \n",
       "2                                           0   \n",
       "3                                           1   \n",
       "4                                           1   \n",
       "\n",
       "  calculated_host_listings_count_private_rooms  \\\n",
       "0                                            0   \n",
       "1                                            2   \n",
       "2                                            1   \n",
       "3                                            0   \n",
       "4                                            0   \n",
       "\n",
       "  calculated_host_listings_count_shared_rooms reviews_per_month  \n",
       "0                                           0              0.09  \n",
       "1                                           0               NaN  \n",
       "2                                           0              9.53  \n",
       "3                                           0              0.01  \n",
       "4                                           0               NaN  \n",
       "\n",
       "[5 rows x 75 columns]"
      ]
     },
     "execution_count": 7,
     "metadata": {},
     "output_type": "execute_result"
    }
   ],
   "source": [
    "listings = get_listings()\n",
    "listings.head()"
   ]
  },
  {
   "cell_type": "code",
   "execution_count": 8,
   "id": "5c9587aa393da4ed",
   "metadata": {
    "ExecuteTime": {
     "end_time": "2025-04-24T09:17:02.995627Z",
     "start_time": "2025-04-24T09:17:02.991071Z"
    }
   },
   "outputs": [
    {
     "name": "stdout",
     "output_type": "stream",
     "text": [
      "id\n",
      "listing_url\n",
      "scrape_id\n",
      "last_scraped\n",
      "source\n",
      "name\n",
      "description\n",
      "neighborhood_overview\n",
      "picture_url\n",
      "host_id\n",
      "host_url\n",
      "host_name\n",
      "host_since\n",
      "host_location\n",
      "host_about\n",
      "host_response_time\n",
      "host_response_rate\n",
      "host_acceptance_rate\n",
      "host_is_superhost\n",
      "host_thumbnail_url\n",
      "host_picture_url\n",
      "host_neighbourhood\n",
      "host_listings_count\n",
      "host_total_listings_count\n",
      "host_verifications\n",
      "host_has_profile_pic\n",
      "host_identity_verified\n",
      "neighbourhood\n",
      "neighbourhood_cleansed\n",
      "neighbourhood_group_cleansed\n",
      "latitude\n",
      "longitude\n",
      "property_type\n",
      "room_type\n",
      "accommodates\n",
      "bathrooms\n",
      "bathrooms_text\n",
      "bedrooms\n",
      "beds\n",
      "amenities\n",
      "price\n",
      "minimum_nights\n",
      "maximum_nights\n",
      "minimum_minimum_nights\n",
      "maximum_minimum_nights\n",
      "minimum_maximum_nights\n",
      "maximum_maximum_nights\n",
      "minimum_nights_avg_ntm\n",
      "maximum_nights_avg_ntm\n",
      "calendar_updated\n",
      "has_availability\n",
      "availability_30\n",
      "availability_60\n",
      "availability_90\n",
      "availability_365\n",
      "calendar_last_scraped\n",
      "number_of_reviews\n",
      "number_of_reviews_ltm\n",
      "number_of_reviews_l30d\n",
      "first_review\n",
      "last_review\n",
      "review_scores_rating\n",
      "review_scores_accuracy\n",
      "review_scores_cleanliness\n",
      "review_scores_checkin\n",
      "review_scores_communication\n",
      "review_scores_location\n",
      "review_scores_value\n",
      "license\n",
      "instant_bookable\n",
      "calculated_host_listings_count\n",
      "calculated_host_listings_count_entire_homes\n",
      "calculated_host_listings_count_private_rooms\n",
      "calculated_host_listings_count_shared_rooms\n",
      "reviews_per_month\n"
     ]
    }
   ],
   "source": [
    "for c in listings.columns: print(c)"
   ]
  },
  {
   "cell_type": "markdown",
   "id": "dfb42cd6127be7c7",
   "metadata": {},
   "source": [
    "## Nieprzydatne atrybuty"
   ]
  },
  {
   "cell_type": "code",
   "execution_count": 9,
   "id": "ecc44ab69f82b574",
   "metadata": {
    "ExecuteTime": {
     "end_time": "2025-04-24T09:17:03.075636Z",
     "start_time": "2025-04-24T09:17:03.072365Z"
    }
   },
   "outputs": [],
   "source": [
    "def drop_useless_columns(df):\n",
    "    cols_to_drop = [\n",
    "        \"id\",\n",
    "        \"listing_url\",\n",
    "        \"scrape_id\",\n",
    "        \"last_scraped\",\n",
    "        \"source\",\n",
    "        \"picture_url\",\n",
    "        \"host_name\",\n",
    "        \"host_url\",\n",
    "        \"host_thumbnail_url\",\n",
    "        \"host_picture_url\",\n",
    "        \"calendar_last_scraped\",\n",
    "        \"calendar_updated\",  # only missing values\n",
    "        \"neighbourhood\",\n",
    "        \"host_location\",\n",
    "        \"host_neighbourhood\",\n",
    "        \"neighbourhood_cleansed\",\n",
    "        \"number_of_reviews\",\n",
    "        \"number_of_reviews_ltm\",\n",
    "        \"number_of_reviews_l30d\",\n",
    "        \"first_review\",  # will not be present in new offers\n",
    "        \"last_review\",  # will not be present in new offers\n",
    "        \"latitude\",  # neighbourhood category should be more informative\n",
    "        \"longitude\",  # neighbourhood category should be more informative\n",
    "        \"amenities\",\n",
    "        # this could be useful but has too many categories (1000+), maybe use one-hot encoding + embeddings?\n",
    "        \"reviews_per_month\",  # will be missing for new offers\n",
    "    ]\n",
    "\n",
    "    return df.drop(columns=cols_to_drop)"
   ]
  },
  {
   "cell_type": "code",
   "execution_count": 10,
   "id": "47f30847d62dddc4",
   "metadata": {
    "ExecuteTime": {
     "end_time": "2025-04-24T09:17:03.306558Z",
     "start_time": "2025-04-24T09:17:03.157279Z"
    }
   },
   "outputs": [
    {
     "name": "stdout",
     "output_type": "stream",
     "text": [
      "description missing: 619 (4.0%)\n",
      "neighborhood_overview missing: 7193 (51.0%)\n",
      "host_name missing: 9 (0.0%)\n",
      "host_since missing: 9 (0.0%)\n",
      "host_location missing: 2659 (19.0%)\n",
      "host_about missing: 6791 (49.0%)\n",
      "host_response_time missing: 5328 (38.0%)\n",
      "host_response_rate missing: 5328 (38.0%)\n",
      "host_acceptance_rate missing: 4537 (32.0%)\n",
      "host_is_superhost missing: 137 (1.0%)\n",
      "host_thumbnail_url missing: 9 (0.0%)\n",
      "host_picture_url missing: 9 (0.0%)\n",
      "host_neighbourhood missing: 7887 (56.00000000000001%)\n",
      "host_listings_count missing: 9 (0.0%)\n",
      "host_total_listings_count missing: 9 (0.0%)\n",
      "host_verifications missing: 9 (0.0%)\n",
      "host_has_profile_pic missing: 9 (0.0%)\n",
      "host_identity_verified missing: 9 (0.0%)\n",
      "neighbourhood missing: 7193 (51.0%)\n",
      "bathrooms missing: 4982 (36.0%)\n",
      "bathrooms_text missing: 7 (0.0%)\n",
      "bedrooms missing: 2060 (15.0%)\n",
      "beds missing: 5013 (36.0%)\n",
      "price missing: 4994 (36.0%)\n",
      "calendar_updated missing: 13984 (100.0%)\n",
      "has_availability missing: 844 (6.0%)\n",
      "first_review missing: 3278 (23.0%)\n",
      "last_review missing: 3278 (23.0%)\n",
      "review_scores_rating missing: 3278 (23.0%)\n",
      "review_scores_accuracy missing: 3280 (23.0%)\n",
      "review_scores_cleanliness missing: 3278 (23.0%)\n",
      "review_scores_checkin missing: 3281 (23.0%)\n",
      "review_scores_communication missing: 3279 (23.0%)\n",
      "review_scores_location missing: 3281 (23.0%)\n",
      "review_scores_value missing: 3283 (23.0%)\n",
      "license missing: 5157 (37.0%)\n",
      "reviews_per_month missing: 3278 (23.0%)\n"
     ]
    }
   ],
   "source": [
    "# Count missing values\n",
    "# listings = get_listings()\n",
    "# cols = [\n",
    "#     \"picture_url\",\n",
    "#     \"host_url\",\n",
    "#     \"host_thumbnail_url\",\n",
    "#     \"host_picture_url\",\n",
    "#     \"calendar_updated\"\n",
    "# ]\n",
    "for col in listings.columns:\n",
    "    null_count = listings[col].isna().sum()\n",
    "    if null_count > 0:\n",
    "        print(f\"{col} missing: {null_count} ({round(null_count / len(listings), 2) * 100}%)\")\n"
   ]
  },
  {
   "cell_type": "markdown",
   "id": "cb3080cd0b35d67a",
   "metadata": {},
   "source": [
    "## Atrybuty tekstowe\n",
    "\n",
    "Takie, z których może da się wyciągnąć jakieś informacje, przetwarzając je w LLM, ale w tej formie nieprzydatne"
   ]
  },
  {
   "cell_type": "code",
   "execution_count": 11,
   "id": "9c86b2d784f9fbd9",
   "metadata": {
    "ExecuteTime": {
     "end_time": "2025-04-24T09:17:03.325095Z",
     "start_time": "2025-04-24T09:17:03.322289Z"
    }
   },
   "outputs": [],
   "source": [
    "def drop_fulltext_columns(df):\n",
    "    \"\"\"Text columns that are useless but could be processed with an LLM(?)\"\"\"\n",
    "    text_columns = [\n",
    "        \"name\",\n",
    "        \"description\",\n",
    "        \"neighborhood_overview\",\n",
    "        \"host_about\",\n",
    "        \"license\",\n",
    "    ]\n",
    "\n",
    "    return df.drop(columns=text_columns)"
   ]
  },
  {
   "cell_type": "code",
   "execution_count": 12,
   "id": "22ac94016b3d1c27",
   "metadata": {
    "ExecuteTime": {
     "end_time": "2025-04-24T09:17:03.575354Z",
     "start_time": "2025-04-24T09:17:03.418738Z"
    }
   },
   "outputs": [
    {
     "data": {
      "text/html": [
       "<div>\n",
       "<style scoped>\n",
       "    .dataframe tbody tr th:only-of-type {\n",
       "        vertical-align: middle;\n",
       "    }\n",
       "\n",
       "    .dataframe tbody tr th {\n",
       "        vertical-align: top;\n",
       "    }\n",
       "\n",
       "    .dataframe thead th {\n",
       "        text-align: right;\n",
       "    }\n",
       "</style>\n",
       "<table border=\"1\" class=\"dataframe\">\n",
       "  <thead>\n",
       "    <tr style=\"text-align: right;\">\n",
       "      <th></th>\n",
       "      <th>name</th>\n",
       "      <th>description</th>\n",
       "      <th>neighborhood_overview</th>\n",
       "      <th>host_about</th>\n",
       "      <th>license</th>\n",
       "    </tr>\n",
       "  </thead>\n",
       "  <tbody>\n",
       "    <tr>\n",
       "      <th>0</th>\n",
       "      <td>Nice and cozy apartment in Kreuzberg, Graefekiez</td>\n",
       "      <td>Our cosy two room Apartment (70qm) in a vibrat...</td>\n",
       "      <td>The apartment is situated on Fichtestrasse, wh...</td>\n",
       "      <td>Filmmaker from Berlin</td>\n",
       "      <td>NaN</td>\n",
       "    </tr>\n",
       "    <tr>\n",
       "      <th>1</th>\n",
       "      <td>Furnished room in well equipped serviced apart...</td>\n",
       "      <td>Room in an apartment available. Apartment has ...</td>\n",
       "      <td>NaN</td>\n",
       "      <td>NaN</td>\n",
       "      <td>NaN</td>\n",
       "    </tr>\n",
       "    <tr>\n",
       "      <th>2</th>\n",
       "      <td>Luxurous game room with private bath in X-Berg</td>\n",
       "      <td>Cozy private room in Berlin Mitte with private...</td>\n",
       "      <td>NaN</td>\n",
       "      <td>Ich bin großer Fan von alten Videospielen. Spi...</td>\n",
       "      <td>01/Z/AZ/017416-24</td>\n",
       "    </tr>\n",
       "    <tr>\n",
       "      <th>3</th>\n",
       "      <td>Beautiful single-room studio</td>\n",
       "      <td>Experience the “real Berlin” in our small and ...</td>\n",
       "      <td>In the area you can find lots of affordable ba...</td>\n",
       "      <td>NaN</td>\n",
       "      <td>NaN</td>\n",
       "    </tr>\n",
       "    <tr>\n",
       "      <th>4</th>\n",
       "      <td>Unterkunft zentral in Berlin</td>\n",
       "      <td>The accommodation has 3 rooms, however, is onl...</td>\n",
       "      <td>NaN</td>\n",
       "      <td>NaN</td>\n",
       "      <td>NaN</td>\n",
       "    </tr>\n",
       "    <tr>\n",
       "      <th>...</th>\n",
       "      <td>...</td>\n",
       "      <td>...</td>\n",
       "      <td>...</td>\n",
       "      <td>...</td>\n",
       "      <td>...</td>\n",
       "    </tr>\n",
       "    <tr>\n",
       "      <th>13979</th>\n",
       "      <td>Cozy bedroom in a stylish house</td>\n",
       "      <td>NaN</td>\n",
       "      <td>NaN</td>\n",
       "      <td>As a Belgian musician, I've made Berlin my hom...</td>\n",
       "      <td>03/Z/AZ/007577-22</td>\n",
       "    </tr>\n",
       "    <tr>\n",
       "      <th>13980</th>\n",
       "      <td>hornos - 1 bedroom apartment in kreuzberg</td>\n",
       "      <td>Spectacular apartment in Eylauerstrasse, with ...</td>\n",
       "      <td>NaN</td>\n",
       "      <td>At Ukio, we've redefined the concept of living...</td>\n",
       "      <td>NaN</td>\n",
       "    </tr>\n",
       "    <tr>\n",
       "      <th>13981</th>\n",
       "      <td>Deluxe Superior Accessible</td>\n",
       "      <td>This wheelchair accessible double room feature...</td>\n",
       "      <td>NaN</td>\n",
       "      <td>NaN</td>\n",
       "      <td>Legal entity name and Legal form: Bellman Hote...</td>\n",
       "    </tr>\n",
       "    <tr>\n",
       "      <th>13982</th>\n",
       "      <td>Prenzlauerberg Berlin</td>\n",
       "      <td>Fully equipped apartment with large balcony in...</td>\n",
       "      <td>NaN</td>\n",
       "      <td>Wir sind eine Familie aus Berlin Prenzlauerber...</td>\n",
       "      <td>NaN</td>\n",
       "    </tr>\n",
       "    <tr>\n",
       "      <th>13983</th>\n",
       "      <td>Charmant appart berlinois</td>\n",
       "      <td>Enjoy with your family this great place to sta...</td>\n",
       "      <td>NaN</td>\n",
       "      <td>Hello !\\r\\n\\r\\nJe voyage très souvent avec mon...</td>\n",
       "      <td>First name and Last name: Ines Chebli &lt;br/&gt; Co...</td>\n",
       "    </tr>\n",
       "  </tbody>\n",
       "</table>\n",
       "<p>13984 rows × 5 columns</p>\n",
       "</div>"
      ],
      "text/plain": [
       "                                                    name  \\\n",
       "0       Nice and cozy apartment in Kreuzberg, Graefekiez   \n",
       "1      Furnished room in well equipped serviced apart...   \n",
       "2         Luxurous game room with private bath in X-Berg   \n",
       "3                           Beautiful single-room studio   \n",
       "4                           Unterkunft zentral in Berlin   \n",
       "...                                                  ...   \n",
       "13979                    Cozy bedroom in a stylish house   \n",
       "13980          hornos - 1 bedroom apartment in kreuzberg   \n",
       "13981                         Deluxe Superior Accessible   \n",
       "13982                              Prenzlauerberg Berlin   \n",
       "13983                          Charmant appart berlinois   \n",
       "\n",
       "                                             description  \\\n",
       "0      Our cosy two room Apartment (70qm) in a vibrat...   \n",
       "1      Room in an apartment available. Apartment has ...   \n",
       "2      Cozy private room in Berlin Mitte with private...   \n",
       "3      Experience the “real Berlin” in our small and ...   \n",
       "4      The accommodation has 3 rooms, however, is onl...   \n",
       "...                                                  ...   \n",
       "13979                                                NaN   \n",
       "13980  Spectacular apartment in Eylauerstrasse, with ...   \n",
       "13981  This wheelchair accessible double room feature...   \n",
       "13982  Fully equipped apartment with large balcony in...   \n",
       "13983  Enjoy with your family this great place to sta...   \n",
       "\n",
       "                                   neighborhood_overview  \\\n",
       "0      The apartment is situated on Fichtestrasse, wh...   \n",
       "1                                                    NaN   \n",
       "2                                                    NaN   \n",
       "3      In the area you can find lots of affordable ba...   \n",
       "4                                                    NaN   \n",
       "...                                                  ...   \n",
       "13979                                                NaN   \n",
       "13980                                                NaN   \n",
       "13981                                                NaN   \n",
       "13982                                                NaN   \n",
       "13983                                                NaN   \n",
       "\n",
       "                                              host_about  \\\n",
       "0                                  Filmmaker from Berlin   \n",
       "1                                                    NaN   \n",
       "2      Ich bin großer Fan von alten Videospielen. Spi...   \n",
       "3                                                    NaN   \n",
       "4                                                    NaN   \n",
       "...                                                  ...   \n",
       "13979  As a Belgian musician, I've made Berlin my hom...   \n",
       "13980  At Ukio, we've redefined the concept of living...   \n",
       "13981                                                NaN   \n",
       "13982  Wir sind eine Familie aus Berlin Prenzlauerber...   \n",
       "13983  Hello !\\r\\n\\r\\nJe voyage très souvent avec mon...   \n",
       "\n",
       "                                                 license  \n",
       "0                                                    NaN  \n",
       "1                                                    NaN  \n",
       "2                                      01/Z/AZ/017416-24  \n",
       "3                                                    NaN  \n",
       "4                                                    NaN  \n",
       "...                                                  ...  \n",
       "13979                                  03/Z/AZ/007577-22  \n",
       "13980                                                NaN  \n",
       "13981  Legal entity name and Legal form: Bellman Hote...  \n",
       "13982                                                NaN  \n",
       "13983  First name and Last name: Ines Chebli <br/> Co...  \n",
       "\n",
       "[13984 rows x 5 columns]"
      ]
     },
     "execution_count": 12,
     "metadata": {},
     "output_type": "execute_result"
    }
   ],
   "source": [
    "listings = get_listings()\n",
    "text_columns = [\n",
    "    \"name\",\n",
    "    \"description\",\n",
    "    \"neighborhood_overview\",\n",
    "    \"host_about\",\n",
    "    \"license\",\n",
    "]\n",
    "listings[text_columns]"
   ]
  },
  {
   "cell_type": "code",
   "execution_count": 13,
   "id": "a934b3c1a246f8dd",
   "metadata": {
    "ExecuteTime": {
     "end_time": "2025-04-24T09:17:03.619810Z",
     "start_time": "2025-04-24T09:17:03.612629Z"
    }
   },
   "outputs": [
    {
     "name": "stdout",
     "output_type": "stream",
     "text": [
      "name missing: 0\n",
      "description missing: 619\n",
      "neighborhood_overview missing: 7193\n",
      "host_about missing: 6791\n",
      "license missing: 5157\n"
     ]
    }
   ],
   "source": [
    "for col in text_columns:\n",
    "    null_count = listings[col].isna().sum()\n",
    "    print(f\"{col} missing: {null_count}\")"
   ]
  },
  {
   "cell_type": "code",
   "execution_count": 14,
   "id": "a5b822f245052600",
   "metadata": {
    "ExecuteTime": {
     "end_time": "2025-04-24T09:17:04.342584Z",
     "start_time": "2025-04-24T09:17:03.657504Z"
    }
   },
   "outputs": [],
   "source": [
    "listings = drop_useless_columns(listings)"
   ]
  },
  {
   "cell_type": "code",
   "execution_count": 15,
   "id": "9e679e215a15440a",
   "metadata": {
    "ExecuteTime": {
     "end_time": "2025-04-24T09:17:04.399729Z",
     "start_time": "2025-04-24T09:17:04.383752Z"
    }
   },
   "outputs": [
    {
     "data": {
      "text/html": [
       "<div>\n",
       "<style scoped>\n",
       "    .dataframe tbody tr th:only-of-type {\n",
       "        vertical-align: middle;\n",
       "    }\n",
       "\n",
       "    .dataframe tbody tr th {\n",
       "        vertical-align: top;\n",
       "    }\n",
       "\n",
       "    .dataframe thead th {\n",
       "        text-align: right;\n",
       "    }\n",
       "</style>\n",
       "<table border=\"1\" class=\"dataframe\">\n",
       "  <thead>\n",
       "    <tr style=\"text-align: right;\">\n",
       "      <th></th>\n",
       "      <th>name</th>\n",
       "      <th>description</th>\n",
       "      <th>neighborhood_overview</th>\n",
       "      <th>host_id</th>\n",
       "      <th>host_since</th>\n",
       "      <th>host_about</th>\n",
       "      <th>host_response_time</th>\n",
       "      <th>host_response_rate</th>\n",
       "      <th>host_acceptance_rate</th>\n",
       "      <th>host_is_superhost</th>\n",
       "      <th>...</th>\n",
       "      <th>review_scores_checkin</th>\n",
       "      <th>review_scores_communication</th>\n",
       "      <th>review_scores_location</th>\n",
       "      <th>review_scores_value</th>\n",
       "      <th>license</th>\n",
       "      <th>instant_bookable</th>\n",
       "      <th>calculated_host_listings_count</th>\n",
       "      <th>calculated_host_listings_count_entire_homes</th>\n",
       "      <th>calculated_host_listings_count_private_rooms</th>\n",
       "      <th>calculated_host_listings_count_shared_rooms</th>\n",
       "    </tr>\n",
       "  </thead>\n",
       "  <tbody>\n",
       "    <tr>\n",
       "      <th>0</th>\n",
       "      <td>Nice and cozy apartment in Kreuzberg, Graefekiez</td>\n",
       "      <td>Our cosy two room Apartment (70qm) in a vibrat...</td>\n",
       "      <td>The apartment is situated on Fichtestrasse, wh...</td>\n",
       "      <td>6302373</td>\n",
       "      <td>2013-05-09</td>\n",
       "      <td>Filmmaker from Berlin</td>\n",
       "      <td>NaN</td>\n",
       "      <td>NaN</td>\n",
       "      <td>NaN</td>\n",
       "      <td>f</td>\n",
       "      <td>...</td>\n",
       "      <td>4.91</td>\n",
       "      <td>5.00</td>\n",
       "      <td>4.64</td>\n",
       "      <td>4.82</td>\n",
       "      <td>NaN</td>\n",
       "      <td>f</td>\n",
       "      <td>1</td>\n",
       "      <td>1</td>\n",
       "      <td>0</td>\n",
       "      <td>0</td>\n",
       "    </tr>\n",
       "    <tr>\n",
       "      <th>1</th>\n",
       "      <td>Furnished room in well equipped serviced apart...</td>\n",
       "      <td>Room in an apartment available. Apartment has ...</td>\n",
       "      <td>NaN</td>\n",
       "      <td>206488801</td>\n",
       "      <td>2018-07-31</td>\n",
       "      <td>NaN</td>\n",
       "      <td>within an hour</td>\n",
       "      <td>100%</td>\n",
       "      <td>58%</td>\n",
       "      <td>f</td>\n",
       "      <td>...</td>\n",
       "      <td>NaN</td>\n",
       "      <td>NaN</td>\n",
       "      <td>NaN</td>\n",
       "      <td>NaN</td>\n",
       "      <td>NaN</td>\n",
       "      <td>f</td>\n",
       "      <td>3</td>\n",
       "      <td>1</td>\n",
       "      <td>2</td>\n",
       "      <td>0</td>\n",
       "    </tr>\n",
       "    <tr>\n",
       "      <th>2</th>\n",
       "      <td>Luxurous game room with private bath in X-Berg</td>\n",
       "      <td>Cozy private room in Berlin Mitte with private...</td>\n",
       "      <td>NaN</td>\n",
       "      <td>50009901</td>\n",
       "      <td>2015-11-27</td>\n",
       "      <td>Ich bin großer Fan von alten Videospielen. Spi...</td>\n",
       "      <td>within an hour</td>\n",
       "      <td>100%</td>\n",
       "      <td>100%</td>\n",
       "      <td>t</td>\n",
       "      <td>...</td>\n",
       "      <td>4.97</td>\n",
       "      <td>4.97</td>\n",
       "      <td>4.94</td>\n",
       "      <td>4.94</td>\n",
       "      <td>01/Z/AZ/017416-24</td>\n",
       "      <td>f</td>\n",
       "      <td>1</td>\n",
       "      <td>0</td>\n",
       "      <td>1</td>\n",
       "      <td>0</td>\n",
       "    </tr>\n",
       "    <tr>\n",
       "      <th>3</th>\n",
       "      <td>Beautiful single-room studio</td>\n",
       "      <td>Experience the “real Berlin” in our small and ...</td>\n",
       "      <td>In the area you can find lots of affordable ba...</td>\n",
       "      <td>42115726</td>\n",
       "      <td>2015-08-21</td>\n",
       "      <td>NaN</td>\n",
       "      <td>NaN</td>\n",
       "      <td>NaN</td>\n",
       "      <td>NaN</td>\n",
       "      <td>f</td>\n",
       "      <td>...</td>\n",
       "      <td>5.00</td>\n",
       "      <td>5.00</td>\n",
       "      <td>3.00</td>\n",
       "      <td>3.00</td>\n",
       "      <td>NaN</td>\n",
       "      <td>f</td>\n",
       "      <td>1</td>\n",
       "      <td>1</td>\n",
       "      <td>0</td>\n",
       "      <td>0</td>\n",
       "    </tr>\n",
       "    <tr>\n",
       "      <th>4</th>\n",
       "      <td>Unterkunft zentral in Berlin</td>\n",
       "      <td>The accommodation has 3 rooms, however, is onl...</td>\n",
       "      <td>NaN</td>\n",
       "      <td>131184702</td>\n",
       "      <td>2017-05-20</td>\n",
       "      <td>NaN</td>\n",
       "      <td>NaN</td>\n",
       "      <td>NaN</td>\n",
       "      <td>NaN</td>\n",
       "      <td>f</td>\n",
       "      <td>...</td>\n",
       "      <td>NaN</td>\n",
       "      <td>NaN</td>\n",
       "      <td>NaN</td>\n",
       "      <td>NaN</td>\n",
       "      <td>NaN</td>\n",
       "      <td>f</td>\n",
       "      <td>1</td>\n",
       "      <td>1</td>\n",
       "      <td>0</td>\n",
       "      <td>0</td>\n",
       "    </tr>\n",
       "  </tbody>\n",
       "</table>\n",
       "<p>5 rows × 50 columns</p>\n",
       "</div>"
      ],
      "text/plain": [
       "                                                name  \\\n",
       "0   Nice and cozy apartment in Kreuzberg, Graefekiez   \n",
       "1  Furnished room in well equipped serviced apart...   \n",
       "2     Luxurous game room with private bath in X-Berg   \n",
       "3                       Beautiful single-room studio   \n",
       "4                       Unterkunft zentral in Berlin   \n",
       "\n",
       "                                         description  \\\n",
       "0  Our cosy two room Apartment (70qm) in a vibrat...   \n",
       "1  Room in an apartment available. Apartment has ...   \n",
       "2  Cozy private room in Berlin Mitte with private...   \n",
       "3  Experience the “real Berlin” in our small and ...   \n",
       "4  The accommodation has 3 rooms, however, is onl...   \n",
       "\n",
       "                               neighborhood_overview    host_id  host_since  \\\n",
       "0  The apartment is situated on Fichtestrasse, wh...    6302373  2013-05-09   \n",
       "1                                                NaN  206488801  2018-07-31   \n",
       "2                                                NaN   50009901  2015-11-27   \n",
       "3  In the area you can find lots of affordable ba...   42115726  2015-08-21   \n",
       "4                                                NaN  131184702  2017-05-20   \n",
       "\n",
       "                                          host_about host_response_time  \\\n",
       "0                              Filmmaker from Berlin                NaN   \n",
       "1                                                NaN     within an hour   \n",
       "2  Ich bin großer Fan von alten Videospielen. Spi...     within an hour   \n",
       "3                                                NaN                NaN   \n",
       "4                                                NaN                NaN   \n",
       "\n",
       "  host_response_rate host_acceptance_rate host_is_superhost  ...  \\\n",
       "0                NaN                  NaN                 f  ...   \n",
       "1               100%                  58%                 f  ...   \n",
       "2               100%                 100%                 t  ...   \n",
       "3                NaN                  NaN                 f  ...   \n",
       "4                NaN                  NaN                 f  ...   \n",
       "\n",
       "   review_scores_checkin  review_scores_communication review_scores_location  \\\n",
       "0                   4.91                         5.00                   4.64   \n",
       "1                    NaN                          NaN                    NaN   \n",
       "2                   4.97                         4.97                   4.94   \n",
       "3                   5.00                         5.00                   3.00   \n",
       "4                    NaN                          NaN                    NaN   \n",
       "\n",
       "  review_scores_value            license instant_bookable  \\\n",
       "0                4.82                NaN                f   \n",
       "1                 NaN                NaN                f   \n",
       "2                4.94  01/Z/AZ/017416-24                f   \n",
       "3                3.00                NaN                f   \n",
       "4                 NaN                NaN                f   \n",
       "\n",
       "  calculated_host_listings_count calculated_host_listings_count_entire_homes  \\\n",
       "0                              1                                           1   \n",
       "1                              3                                           1   \n",
       "2                              1                                           0   \n",
       "3                              1                                           1   \n",
       "4                              1                                           1   \n",
       "\n",
       "   calculated_host_listings_count_private_rooms  \\\n",
       "0                                             0   \n",
       "1                                             2   \n",
       "2                                             1   \n",
       "3                                             0   \n",
       "4                                             0   \n",
       "\n",
       "   calculated_host_listings_count_shared_rooms  \n",
       "0                                            0  \n",
       "1                                            0  \n",
       "2                                            0  \n",
       "3                                            0  \n",
       "4                                            0  \n",
       "\n",
       "[5 rows x 50 columns]"
      ]
     },
     "execution_count": 15,
     "metadata": {},
     "output_type": "execute_result"
    }
   ],
   "source": [
    "listings.head()"
   ]
  },
  {
   "cell_type": "code",
   "execution_count": 16,
   "id": "e85e6e2f95f5b5d6",
   "metadata": {
    "ExecuteTime": {
     "end_time": "2025-04-24T09:17:04.696912Z",
     "start_time": "2025-04-24T09:17:04.682571Z"
    }
   },
   "outputs": [
    {
     "name": "stdout",
     "output_type": "stream",
     "text": [
      "<class 'pandas.core.frame.DataFrame'>\n",
      "RangeIndex: 13984 entries, 0 to 13983\n",
      "Data columns (total 50 columns):\n",
      " #   Column                                        Non-Null Count  Dtype  \n",
      "---  ------                                        --------------  -----  \n",
      " 0   name                                          13984 non-null  object \n",
      " 1   description                                   13365 non-null  object \n",
      " 2   neighborhood_overview                         6791 non-null   object \n",
      " 3   host_id                                       13984 non-null  int64  \n",
      " 4   host_since                                    13975 non-null  object \n",
      " 5   host_about                                    7193 non-null   object \n",
      " 6   host_response_time                            8656 non-null   object \n",
      " 7   host_response_rate                            8656 non-null   object \n",
      " 8   host_acceptance_rate                          9447 non-null   object \n",
      " 9   host_is_superhost                             13847 non-null  object \n",
      " 10  host_listings_count                           13975 non-null  float64\n",
      " 11  host_total_listings_count                     13975 non-null  float64\n",
      " 12  host_verifications                            13975 non-null  object \n",
      " 13  host_has_profile_pic                          13975 non-null  object \n",
      " 14  host_identity_verified                        13975 non-null  object \n",
      " 15  neighbourhood_group_cleansed                  13984 non-null  object \n",
      " 16  property_type                                 13984 non-null  object \n",
      " 17  room_type                                     13984 non-null  object \n",
      " 18  accommodates                                  13984 non-null  int64  \n",
      " 19  bathrooms                                     9002 non-null   float64\n",
      " 20  bathrooms_text                                13977 non-null  object \n",
      " 21  bedrooms                                      11924 non-null  float64\n",
      " 22  beds                                          8971 non-null   float64\n",
      " 23  price                                         8990 non-null   object \n",
      " 24  minimum_nights                                13984 non-null  int64  \n",
      " 25  maximum_nights                                13984 non-null  int64  \n",
      " 26  minimum_minimum_nights                        13984 non-null  int64  \n",
      " 27  maximum_minimum_nights                        13984 non-null  int64  \n",
      " 28  minimum_maximum_nights                        13984 non-null  int64  \n",
      " 29  maximum_maximum_nights                        13984 non-null  int64  \n",
      " 30  minimum_nights_avg_ntm                        13984 non-null  float64\n",
      " 31  maximum_nights_avg_ntm                        13984 non-null  float64\n",
      " 32  has_availability                              13140 non-null  object \n",
      " 33  availability_30                               13984 non-null  int64  \n",
      " 34  availability_60                               13984 non-null  int64  \n",
      " 35  availability_90                               13984 non-null  int64  \n",
      " 36  availability_365                              13984 non-null  int64  \n",
      " 37  review_scores_rating                          10706 non-null  float64\n",
      " 38  review_scores_accuracy                        10704 non-null  float64\n",
      " 39  review_scores_cleanliness                     10706 non-null  float64\n",
      " 40  review_scores_checkin                         10703 non-null  float64\n",
      " 41  review_scores_communication                   10705 non-null  float64\n",
      " 42  review_scores_location                        10703 non-null  float64\n",
      " 43  review_scores_value                           10701 non-null  float64\n",
      " 44  license                                       8827 non-null   object \n",
      " 45  instant_bookable                              13984 non-null  object \n",
      " 46  calculated_host_listings_count                13984 non-null  int64  \n",
      " 47  calculated_host_listings_count_entire_homes   13984 non-null  int64  \n",
      " 48  calculated_host_listings_count_private_rooms  13984 non-null  int64  \n",
      " 49  calculated_host_listings_count_shared_rooms   13984 non-null  int64  \n",
      "dtypes: float64(14), int64(16), object(20)\n",
      "memory usage: 5.3+ MB\n"
     ]
    }
   ],
   "source": [
    "listings.info()"
   ]
  },
  {
   "cell_type": "markdown",
   "id": "e0a0e26a04b4e9f6",
   "metadata": {},
   "source": [
    "## Atrybuty nominalne binarne\n",
    "\n",
    "Wartości `t`/`f` zamieniamy na 0/1"
   ]
  },
  {
   "cell_type": "code",
   "execution_count": 17,
   "id": "6266e1254abcf359",
   "metadata": {
    "ExecuteTime": {
     "end_time": "2025-04-24T09:17:04.733837Z",
     "start_time": "2025-04-24T09:17:04.729890Z"
    }
   },
   "outputs": [],
   "source": [
    "def transform_binary_columns(df):\n",
    "    \"\"\"To standard 0/1\"\"\"\n",
    "    binary_columns = [\n",
    "        \"host_is_superhost\",\n",
    "        \"host_has_profile_pic\",\n",
    "        \"host_identity_verified\",\n",
    "        \"has_availability\",\n",
    "        \"instant_bookable\"\n",
    "    ]\n",
    "\n",
    "    for c in binary_columns:\n",
    "        unique_vals = df[c].unique()\n",
    "        assert len(unique_vals) == 2 or len(unique_vals) == 3\n",
    "        assert \"t\" in unique_vals and \"f\" in unique_vals\n",
    "\n",
    "        df[c] = df[c].apply(lambda x: 1 if x == \"t\" else 0)\n",
    "\n",
    "    return df"
   ]
  },
  {
   "cell_type": "code",
   "execution_count": 18,
   "id": "792ff488bfe72a0a",
   "metadata": {
    "ExecuteTime": {
     "end_time": "2025-04-24T09:17:04.833933Z",
     "start_time": "2025-04-24T09:17:04.812241Z"
    }
   },
   "outputs": [],
   "source": [
    "listings = transform_binary_columns(listings)"
   ]
  },
  {
   "cell_type": "code",
   "execution_count": 19,
   "id": "3ca18aa3df078bc7",
   "metadata": {
    "ExecuteTime": {
     "end_time": "2025-04-24T09:17:04.957288Z",
     "start_time": "2025-04-24T09:17:04.946010Z"
    }
   },
   "outputs": [
    {
     "data": {
      "text/html": [
       "<div>\n",
       "<style scoped>\n",
       "    .dataframe tbody tr th:only-of-type {\n",
       "        vertical-align: middle;\n",
       "    }\n",
       "\n",
       "    .dataframe tbody tr th {\n",
       "        vertical-align: top;\n",
       "    }\n",
       "\n",
       "    .dataframe thead th {\n",
       "        text-align: right;\n",
       "    }\n",
       "</style>\n",
       "<table border=\"1\" class=\"dataframe\">\n",
       "  <thead>\n",
       "    <tr style=\"text-align: right;\">\n",
       "      <th></th>\n",
       "      <th>host_is_superhost</th>\n",
       "      <th>host_has_profile_pic</th>\n",
       "      <th>host_identity_verified</th>\n",
       "      <th>has_availability</th>\n",
       "      <th>instant_bookable</th>\n",
       "    </tr>\n",
       "  </thead>\n",
       "  <tbody>\n",
       "    <tr>\n",
       "      <th>0</th>\n",
       "      <td>0</td>\n",
       "      <td>1</td>\n",
       "      <td>1</td>\n",
       "      <td>1</td>\n",
       "      <td>0</td>\n",
       "    </tr>\n",
       "    <tr>\n",
       "      <th>1</th>\n",
       "      <td>0</td>\n",
       "      <td>1</td>\n",
       "      <td>1</td>\n",
       "      <td>1</td>\n",
       "      <td>0</td>\n",
       "    </tr>\n",
       "    <tr>\n",
       "      <th>2</th>\n",
       "      <td>1</td>\n",
       "      <td>1</td>\n",
       "      <td>1</td>\n",
       "      <td>1</td>\n",
       "      <td>0</td>\n",
       "    </tr>\n",
       "    <tr>\n",
       "      <th>3</th>\n",
       "      <td>0</td>\n",
       "      <td>1</td>\n",
       "      <td>1</td>\n",
       "      <td>1</td>\n",
       "      <td>0</td>\n",
       "    </tr>\n",
       "    <tr>\n",
       "      <th>4</th>\n",
       "      <td>0</td>\n",
       "      <td>1</td>\n",
       "      <td>1</td>\n",
       "      <td>1</td>\n",
       "      <td>0</td>\n",
       "    </tr>\n",
       "    <tr>\n",
       "      <th>5</th>\n",
       "      <td>1</td>\n",
       "      <td>1</td>\n",
       "      <td>1</td>\n",
       "      <td>1</td>\n",
       "      <td>0</td>\n",
       "    </tr>\n",
       "    <tr>\n",
       "      <th>6</th>\n",
       "      <td>1</td>\n",
       "      <td>1</td>\n",
       "      <td>1</td>\n",
       "      <td>1</td>\n",
       "      <td>0</td>\n",
       "    </tr>\n",
       "    <tr>\n",
       "      <th>7</th>\n",
       "      <td>0</td>\n",
       "      <td>1</td>\n",
       "      <td>1</td>\n",
       "      <td>1</td>\n",
       "      <td>0</td>\n",
       "    </tr>\n",
       "    <tr>\n",
       "      <th>8</th>\n",
       "      <td>0</td>\n",
       "      <td>1</td>\n",
       "      <td>1</td>\n",
       "      <td>1</td>\n",
       "      <td>0</td>\n",
       "    </tr>\n",
       "    <tr>\n",
       "      <th>9</th>\n",
       "      <td>0</td>\n",
       "      <td>1</td>\n",
       "      <td>1</td>\n",
       "      <td>1</td>\n",
       "      <td>0</td>\n",
       "    </tr>\n",
       "  </tbody>\n",
       "</table>\n",
       "</div>"
      ],
      "text/plain": [
       "   host_is_superhost  host_has_profile_pic  host_identity_verified  \\\n",
       "0                  0                     1                       1   \n",
       "1                  0                     1                       1   \n",
       "2                  1                     1                       1   \n",
       "3                  0                     1                       1   \n",
       "4                  0                     1                       1   \n",
       "5                  1                     1                       1   \n",
       "6                  1                     1                       1   \n",
       "7                  0                     1                       1   \n",
       "8                  0                     1                       1   \n",
       "9                  0                     1                       1   \n",
       "\n",
       "   has_availability  instant_bookable  \n",
       "0                 1                 0  \n",
       "1                 1                 0  \n",
       "2                 1                 0  \n",
       "3                 1                 0  \n",
       "4                 1                 0  \n",
       "5                 1                 0  \n",
       "6                 1                 0  \n",
       "7                 1                 0  \n",
       "8                 1                 0  \n",
       "9                 1                 0  "
      ]
     },
     "execution_count": 19,
     "metadata": {},
     "output_type": "execute_result"
    }
   ],
   "source": [
    "listings[[\"host_is_superhost\", \"host_has_profile_pic\", \"host_identity_verified\", \"has_availability\",\n",
    "          \"instant_bookable\"]].head(10)"
   ]
  },
  {
   "cell_type": "code",
   "execution_count": 20,
   "id": "4d80983f5a050de9",
   "metadata": {
    "ExecuteTime": {
     "end_time": "2025-04-24T09:17:05.071809Z",
     "start_time": "2025-04-24T09:17:05.059626Z"
    }
   },
   "outputs": [
    {
     "name": "stdout",
     "output_type": "stream",
     "text": [
      "<class 'pandas.core.frame.DataFrame'>\n",
      "RangeIndex: 13984 entries, 0 to 13983\n",
      "Data columns (total 50 columns):\n",
      " #   Column                                        Non-Null Count  Dtype  \n",
      "---  ------                                        --------------  -----  \n",
      " 0   name                                          13984 non-null  object \n",
      " 1   description                                   13365 non-null  object \n",
      " 2   neighborhood_overview                         6791 non-null   object \n",
      " 3   host_id                                       13984 non-null  int64  \n",
      " 4   host_since                                    13975 non-null  object \n",
      " 5   host_about                                    7193 non-null   object \n",
      " 6   host_response_time                            8656 non-null   object \n",
      " 7   host_response_rate                            8656 non-null   object \n",
      " 8   host_acceptance_rate                          9447 non-null   object \n",
      " 9   host_is_superhost                             13984 non-null  int64  \n",
      " 10  host_listings_count                           13975 non-null  float64\n",
      " 11  host_total_listings_count                     13975 non-null  float64\n",
      " 12  host_verifications                            13975 non-null  object \n",
      " 13  host_has_profile_pic                          13984 non-null  int64  \n",
      " 14  host_identity_verified                        13984 non-null  int64  \n",
      " 15  neighbourhood_group_cleansed                  13984 non-null  object \n",
      " 16  property_type                                 13984 non-null  object \n",
      " 17  room_type                                     13984 non-null  object \n",
      " 18  accommodates                                  13984 non-null  int64  \n",
      " 19  bathrooms                                     9002 non-null   float64\n",
      " 20  bathrooms_text                                13977 non-null  object \n",
      " 21  bedrooms                                      11924 non-null  float64\n",
      " 22  beds                                          8971 non-null   float64\n",
      " 23  price                                         8990 non-null   object \n",
      " 24  minimum_nights                                13984 non-null  int64  \n",
      " 25  maximum_nights                                13984 non-null  int64  \n",
      " 26  minimum_minimum_nights                        13984 non-null  int64  \n",
      " 27  maximum_minimum_nights                        13984 non-null  int64  \n",
      " 28  minimum_maximum_nights                        13984 non-null  int64  \n",
      " 29  maximum_maximum_nights                        13984 non-null  int64  \n",
      " 30  minimum_nights_avg_ntm                        13984 non-null  float64\n",
      " 31  maximum_nights_avg_ntm                        13984 non-null  float64\n",
      " 32  has_availability                              13984 non-null  int64  \n",
      " 33  availability_30                               13984 non-null  int64  \n",
      " 34  availability_60                               13984 non-null  int64  \n",
      " 35  availability_90                               13984 non-null  int64  \n",
      " 36  availability_365                              13984 non-null  int64  \n",
      " 37  review_scores_rating                          10706 non-null  float64\n",
      " 38  review_scores_accuracy                        10704 non-null  float64\n",
      " 39  review_scores_cleanliness                     10706 non-null  float64\n",
      " 40  review_scores_checkin                         10703 non-null  float64\n",
      " 41  review_scores_communication                   10705 non-null  float64\n",
      " 42  review_scores_location                        10703 non-null  float64\n",
      " 43  review_scores_value                           10701 non-null  float64\n",
      " 44  license                                       8827 non-null   object \n",
      " 45  instant_bookable                              13984 non-null  int64  \n",
      " 46  calculated_host_listings_count                13984 non-null  int64  \n",
      " 47  calculated_host_listings_count_entire_homes   13984 non-null  int64  \n",
      " 48  calculated_host_listings_count_private_rooms  13984 non-null  int64  \n",
      " 49  calculated_host_listings_count_shared_rooms   13984 non-null  int64  \n",
      "dtypes: float64(14), int64(21), object(15)\n",
      "memory usage: 5.3+ MB\n"
     ]
    }
   ],
   "source": [
    "listings.info()"
   ]
  },
  {
   "cell_type": "markdown",
   "id": "be30e90b94387a5",
   "metadata": {},
   "source": [
    "## Oceny"
   ]
  },
  {
   "cell_type": "code",
   "execution_count": 21,
   "id": "b1fdacbb513782f4",
   "metadata": {
    "ExecuteTime": {
     "end_time": "2025-04-24T09:17:05.151529Z",
     "start_time": "2025-04-24T09:17:05.147281Z"
    }
   },
   "outputs": [],
   "source": [
    "def aggregate_rating_columns(df):\n",
    "    \"\"\"Replace all review scores columns with a single average rating column\"\"\"\n",
    "    rating_columns = [\n",
    "        \"review_scores_rating\",\n",
    "        \"review_scores_accuracy\",\n",
    "        \"review_scores_cleanliness\",\n",
    "        \"review_scores_checkin\",\n",
    "        \"review_scores_communication\",\n",
    "        \"review_scores_location\",\n",
    "        \"review_scores_value\",\n",
    "    ]\n",
    "    df[\"avg_rating\"] = df[rating_columns].mean(axis=1)\n",
    "    df = df.drop(columns=rating_columns)\n",
    "    return df"
   ]
  },
  {
   "cell_type": "code",
   "execution_count": 22,
   "id": "4e03375bd165c0a0",
   "metadata": {
    "ExecuteTime": {
     "end_time": "2025-04-24T09:17:05.396978Z",
     "start_time": "2025-04-24T09:17:05.229125Z"
    }
   },
   "outputs": [
    {
     "data": {
      "text/plain": [
       "count    10706.000000\n",
       "mean         4.763579\n",
       "std          0.294126\n",
       "min          0.571429\n",
       "25%          4.704286\n",
       "50%          4.837143\n",
       "75%          4.920000\n",
       "max          5.000000\n",
       "Name: avg_rating, dtype: float64"
      ]
     },
     "execution_count": 22,
     "metadata": {},
     "output_type": "execute_result"
    }
   ],
   "source": [
    "listings = get_listings()\n",
    "listings = aggregate_rating_columns(listings)\n",
    "listings[\"avg_rating\"].describe()"
   ]
  },
  {
   "cell_type": "code",
   "execution_count": 23,
   "id": "fb3ab8c60af55692",
   "metadata": {
    "ExecuteTime": {
     "end_time": "2025-04-24T09:17:05.457087Z",
     "start_time": "2025-04-24T09:17:05.452351Z"
    }
   },
   "outputs": [
    {
     "name": "stdout",
     "output_type": "stream",
     "text": [
      "Missing ratings 23.44%\n"
     ]
    }
   ],
   "source": [
    "missing_ratings = listings[\"avg_rating\"].isna().sum()\n",
    "total_len = len(listings)\n",
    "missing_percent = missing_ratings / total_len * 100\n",
    "print(f\"Missing ratings {missing_percent:.2f}%\")"
   ]
  },
  {
   "cell_type": "code",
   "execution_count": 24,
   "id": "613c11a08a2d866f",
   "metadata": {
    "ExecuteTime": {
     "end_time": "2025-04-24T09:17:05.533406Z",
     "start_time": "2025-04-24T09:17:05.524494Z"
    }
   },
   "outputs": [
    {
     "name": "stdout",
     "output_type": "stream",
     "text": [
      "Q01 3.645\n",
      "Q10 4.5128571428571425\n",
      "Q25 4.704285714285715\n",
      "Q75 4.92\n",
      "Q90 4.982857142857143\n",
      "Q99 5.0\n"
     ]
    }
   ],
   "source": [
    "print(\"Q01\", listings[\"avg_rating\"].quantile(0.01))\n",
    "print(\"Q10\", listings[\"avg_rating\"].quantile(0.10))\n",
    "print(\"Q25\", listings[\"avg_rating\"].quantile(0.25))\n",
    "print(\"Q75\", listings[\"avg_rating\"].quantile(0.75))\n",
    "print(\"Q90\", listings[\"avg_rating\"].quantile(0.90))\n",
    "print(\"Q99\", listings[\"avg_rating\"].quantile(0.99))"
   ]
  },
  {
   "cell_type": "code",
   "execution_count": 25,
   "id": "6c24b197c600781",
   "metadata": {
    "ExecuteTime": {
     "end_time": "2025-04-24T09:17:05.861246Z",
     "start_time": "2025-04-24T09:17:05.601990Z"
    }
   },
   "outputs": [
    {
     "name": "stdout",
     "output_type": "stream",
     "text": [
      "Mean: 4.76\n",
      "Std: 0.29\n"
     ]
    },
    {
     "data": {
      "text/plain": [
       "[]"
      ]
     },
     "execution_count": 25,
     "metadata": {},
     "output_type": "execute_result"
    },
    {
     "data": {
      "image/png": "[encoded data removed]",
      "text/plain": [
       "<Figure size 640x480 with 1 Axes>"
      ]
     },
     "metadata": {},
     "output_type": "display_data"
    }
   ],
   "source": [
    "avg_rating = listings[\"avg_rating\"]\n",
    "print(f\"Mean: {avg_rating.mean():.2f}\")\n",
    "print(f\"Std: {avg_rating.std():.2f}\")\n",
    "\n",
    "plt.title(\"Rozkład średniej oceny oferty\")\n",
    "plt.xlabel(\"Średnia ocena\")\n",
    "plt.ylabel(\"Liczba ofert\")\n",
    "plt.hist(avg_rating, bins=100)\n",
    "plt.plot()"
   ]
  },
  {
   "cell_type": "markdown",
   "id": "6fe5024ad9e2eb6",
   "metadata": {},
   "source": [
    "### Atrybuty - listy\n"
   ]
  },
  {
   "cell_type": "code",
   "execution_count": 26,
   "id": "7b230f9378e9a991",
   "metadata": {
    "ExecuteTime": {
     "end_time": "2025-04-24T09:17:05.880590Z",
     "start_time": "2025-04-24T09:17:05.877246Z"
    }
   },
   "outputs": [],
   "source": [
    "list_columns = [\n",
    "    \"host_verifications\",\n",
    "    \"amenities\",\n",
    "]"
   ]
  },
  {
   "cell_type": "code",
   "execution_count": 27,
   "id": "57488bdf5c06b7e",
   "metadata": {
    "ExecuteTime": {
     "end_time": "2025-04-24T09:17:06.083839Z",
     "start_time": "2025-04-24T09:17:05.929983Z"
    }
   },
   "outputs": [
    {
     "data": {
      "text/plain": [
       "amenities\n",
       "[\"Kitchen\", \"Heating\", \"Essentials\", \"Washer\", \"Wifi\"]                                                                                                                                                                                                                                                                                                                                                        71\n",
       "[\"Wine glasses\", \"Kitchen\", \"Dishes and silverware\", \"Clothing storage\", \"Stove\", \"Refrigerator\", \"Hot water\", \"Central heating\", \"Drying rack for clothing\", \"Cleaning products\", \"Dining table\", \"Shower gel\", \"Hangers\", \"Dedicated workspace\", \"Lock on bedroom door\", \"Essentials\", \"Washer\", \"Oven\", \"Bathtub\", \"Cooking basics\", \"Wifi\", \"Iron\"]                                                       38\n",
       "[\"Heating\", \"Washer\", \"Kitchen\", \"Wifi\"]                                                                                                                                                                                                                                                                                                                                                                      38\n",
       "[]                                                                                                                                                                                                                                                                                                                                                                                                            35\n",
       "[\"Kitchen\", \"Smoke alarm\", \"TV\", \"Dedicated workspace\", \"Washer\", \"Wifi\"]                                                                                                                                                                                                                                                                                                                                     35\n",
       "                                                                                                                                                                                                                                                                                                                                                                                                              ..\n",
       "[\"Essentials\", \"Washer\", \"Kitchen\", \"Hangers\"]                                                                                                                                                                                                                                                                                                                                                                 1\n",
       "[\"TV with standard cable\", \"Free parking on premises\", \"Fire extinguisher\", \"Hair dryer\", \"Kitchen\", \"Hangers\", \"Heating\", \"Lock on bedroom door\", \"Essentials\", \"Washer\", \"Iron\", \"Wifi\"]                                                                                                                                                                                                                     1\n",
       "[\"Room-darkening shades\", \"Bed linens\", \"Smoke alarm\", \"Exterior security cameras on property\", \"Safe\", \"Central air conditioning\", \"Hair dryer\", \"Hot water\", \"Central heating\", \"Private entrance\", \"Clothing storage: wardrobe\", \"Luggage dropoff allowed\", \"Shower gel\", \"Hangers\", \"Body soap\", \"Host greets you\", \"Essentials\", \"40 inch TV\", \"Paid parking garage on premises\", \"Elevator\", \"Wifi\"]     1\n",
       "[\"Books and reading material\", \"Hair dryer\", \"Patio or balcony\", \"Room-darkening shades\", \"Smoke alarm\", \"Lockbox\", \"City skyline view\", \"Self check-in\", \"Essentials\", \"Wifi\", \"Board games\", \"Iron\"]                                                                                                                                                                                                         1\n",
       "[\"Kitchen\", \"Smoke alarm\", \"Paid parking on premises\", \"Pets allowed\", \"Lock on bedroom door\", \"Washer\", \"Wifi\"]                                                                                                                                                                                                                                                                                               1\n",
       "Name: count, Length: 12273, dtype: int64"
      ]
     },
     "execution_count": 27,
     "metadata": {},
     "output_type": "execute_result"
    }
   ],
   "source": [
    "listings = get_listings()\n",
    "listings[\"amenities\"].value_counts()"
   ]
  },
  {
   "cell_type": "code",
   "execution_count": 28,
   "id": "60de47ccd36a254b",
   "metadata": {
    "ExecuteTime": {
     "end_time": "2025-04-24T09:17:06.226302Z",
     "start_time": "2025-04-24T09:17:06.162591Z"
    }
   },
   "outputs": [
    {
     "name": "stdout",
     "output_type": "stream",
     "text": [
      "4\n",
      "2454\n"
     ]
    }
   ],
   "source": [
    "def get_unique_values_in_list_column(df, column_name):\n",
    "    all_values = set()\n",
    "    for row in df[column_name]:\n",
    "        if not isinstance(row, str):\n",
    "            continue\n",
    "        row_values = attribute_value_to_list(row)\n",
    "        row_values = [a.strip() for a in row_values]\n",
    "        all_values.update(row_values)\n",
    "\n",
    "    return all_values\n",
    "\n",
    "\n",
    "def attribute_value_to_list(value):\n",
    "    if not isinstance(value, str):\n",
    "        return []\n",
    "    values = value.replace(\"[\", \"\").replace(\"]\", \"\").replace('\"', \"\").replace(\"'\", \"\").split(\",\")\n",
    "    values = [a.strip() for a in values]\n",
    "    return values\n",
    "\n",
    "\n",
    "print(len(get_unique_values_in_list_column(listings, \"host_verifications\")))\n",
    "print(len(get_unique_values_in_list_column(listings, \"amenities\")))"
   ]
  },
  {
   "cell_type": "code",
   "execution_count": 29,
   "id": "f0933dda04f38fd0",
   "metadata": {
    "ExecuteTime": {
     "end_time": "2025-04-24T09:17:06.323038Z",
     "start_time": "2025-04-24T09:17:06.318631Z"
    }
   },
   "outputs": [],
   "source": [
    "def one_hot_encode_list_column(df, column_name):\n",
    "    \"\"\"One-hot encode list column\"\"\"\n",
    "    all_values = get_unique_values_in_list_column(df, column_name)\n",
    "    for value in all_values:\n",
    "        df[f\"{column_name}_{value}\"] = df[column_name].apply(\n",
    "            lambda x: True if value in attribute_value_to_list(x) else False)\n",
    "    df.drop(columns=[column_name], inplace=True)\n",
    "    return df"
   ]
  },
  {
   "cell_type": "code",
   "execution_count": 30,
   "id": "7895d88908ab33e2",
   "metadata": {
    "ExecuteTime": {
     "end_time": "2025-04-24T09:17:06.491928Z",
     "start_time": "2025-04-24T09:17:06.426323Z"
    }
   },
   "outputs": [
    {
     "data": {
      "text/html": [
       "<div>\n",
       "<style scoped>\n",
       "    .dataframe tbody tr th:only-of-type {\n",
       "        vertical-align: middle;\n",
       "    }\n",
       "\n",
       "    .dataframe tbody tr th {\n",
       "        vertical-align: top;\n",
       "    }\n",
       "\n",
       "    .dataframe thead th {\n",
       "        text-align: right;\n",
       "    }\n",
       "</style>\n",
       "<table border=\"1\" class=\"dataframe\">\n",
       "  <thead>\n",
       "    <tr style=\"text-align: right;\">\n",
       "      <th></th>\n",
       "      <th>id</th>\n",
       "      <th>listing_url</th>\n",
       "      <th>scrape_id</th>\n",
       "      <th>last_scraped</th>\n",
       "      <th>source</th>\n",
       "      <th>name</th>\n",
       "      <th>description</th>\n",
       "      <th>neighborhood_overview</th>\n",
       "      <th>picture_url</th>\n",
       "      <th>host_id</th>\n",
       "      <th>...</th>\n",
       "      <th>instant_bookable</th>\n",
       "      <th>calculated_host_listings_count</th>\n",
       "      <th>calculated_host_listings_count_entire_homes</th>\n",
       "      <th>calculated_host_listings_count_private_rooms</th>\n",
       "      <th>calculated_host_listings_count_shared_rooms</th>\n",
       "      <th>reviews_per_month</th>\n",
       "      <th>host_verifications_</th>\n",
       "      <th>host_verifications_email</th>\n",
       "      <th>host_verifications_phone</th>\n",
       "      <th>host_verifications_work_email</th>\n",
       "    </tr>\n",
       "  </thead>\n",
       "  <tbody>\n",
       "    <tr>\n",
       "      <th>0</th>\n",
       "      <td>2084992</td>\n",
       "      <td>https://www.nocarz.pl/rooms/2084992</td>\n",
       "      <td>20241221052002</td>\n",
       "      <td>2024-12-21</td>\n",
       "      <td>previous scrape</td>\n",
       "      <td>Nice and cozy apartment in Kreuzberg, Graefekiez</td>\n",
       "      <td>Our cosy two room Apartment (70qm) in a vibrat...</td>\n",
       "      <td>The apartment is situated on Fichtestrasse, wh...</td>\n",
       "      <td>https://a0.muscache.com/pictures/c4f2a8a8-34fa...</td>\n",
       "      <td>6302373</td>\n",
       "      <td>...</td>\n",
       "      <td>f</td>\n",
       "      <td>1</td>\n",
       "      <td>1</td>\n",
       "      <td>0</td>\n",
       "      <td>0</td>\n",
       "      <td>0.09</td>\n",
       "      <td>False</td>\n",
       "      <td>True</td>\n",
       "      <td>True</td>\n",
       "      <td>False</td>\n",
       "    </tr>\n",
       "    <tr>\n",
       "      <th>1</th>\n",
       "      <td>1123383729460847373</td>\n",
       "      <td>https://www.nocarz.pl/rooms/1123383729460847373</td>\n",
       "      <td>20241221052002</td>\n",
       "      <td>2024-12-21</td>\n",
       "      <td>city scrape</td>\n",
       "      <td>Furnished room in well equipped serviced apart...</td>\n",
       "      <td>Room in an apartment available. Apartment has ...</td>\n",
       "      <td>NaN</td>\n",
       "      <td>https://a0.muscache.com/pictures/hosting/Hosti...</td>\n",
       "      <td>206488801</td>\n",
       "      <td>...</td>\n",
       "      <td>f</td>\n",
       "      <td>3</td>\n",
       "      <td>1</td>\n",
       "      <td>2</td>\n",
       "      <td>0</td>\n",
       "      <td>NaN</td>\n",
       "      <td>False</td>\n",
       "      <td>True</td>\n",
       "      <td>True</td>\n",
       "      <td>False</td>\n",
       "    </tr>\n",
       "    <tr>\n",
       "      <th>2</th>\n",
       "      <td>1205255838613758737</td>\n",
       "      <td>https://www.nocarz.pl/rooms/1205255838613758737</td>\n",
       "      <td>20241221052002</td>\n",
       "      <td>2024-12-21</td>\n",
       "      <td>city scrape</td>\n",
       "      <td>Luxurous game room with private bath in X-Berg</td>\n",
       "      <td>Cozy private room in Berlin Mitte with private...</td>\n",
       "      <td>NaN</td>\n",
       "      <td>https://a0.muscache.com/pictures/hosting/Hosti...</td>\n",
       "      <td>50009901</td>\n",
       "      <td>...</td>\n",
       "      <td>f</td>\n",
       "      <td>1</td>\n",
       "      <td>0</td>\n",
       "      <td>1</td>\n",
       "      <td>0</td>\n",
       "      <td>9.53</td>\n",
       "      <td>False</td>\n",
       "      <td>True</td>\n",
       "      <td>True</td>\n",
       "      <td>False</td>\n",
       "    </tr>\n",
       "    <tr>\n",
       "      <th>3</th>\n",
       "      <td>8164759</td>\n",
       "      <td>https://www.nocarz.pl/rooms/8164759</td>\n",
       "      <td>20241221052002</td>\n",
       "      <td>2024-12-21</td>\n",
       "      <td>previous scrape</td>\n",
       "      <td>Beautiful single-room studio</td>\n",
       "      <td>Experience the “real Berlin” in our small and ...</td>\n",
       "      <td>In the area you can find lots of affordable ba...</td>\n",
       "      <td>https://a0.muscache.com/pictures/103988560/a5d...</td>\n",
       "      <td>42115726</td>\n",
       "      <td>...</td>\n",
       "      <td>f</td>\n",
       "      <td>1</td>\n",
       "      <td>1</td>\n",
       "      <td>0</td>\n",
       "      <td>0</td>\n",
       "      <td>0.01</td>\n",
       "      <td>False</td>\n",
       "      <td>True</td>\n",
       "      <td>True</td>\n",
       "      <td>False</td>\n",
       "    </tr>\n",
       "    <tr>\n",
       "      <th>4</th>\n",
       "      <td>18836877</td>\n",
       "      <td>https://www.nocarz.pl/rooms/18836877</td>\n",
       "      <td>20241221052002</td>\n",
       "      <td>2024-12-21</td>\n",
       "      <td>previous scrape</td>\n",
       "      <td>Unterkunft zentral in Berlin</td>\n",
       "      <td>The accommodation has 3 rooms, however, is onl...</td>\n",
       "      <td>NaN</td>\n",
       "      <td>https://a0.muscache.com/pictures/452bf022-c9a9...</td>\n",
       "      <td>131184702</td>\n",
       "      <td>...</td>\n",
       "      <td>f</td>\n",
       "      <td>1</td>\n",
       "      <td>1</td>\n",
       "      <td>0</td>\n",
       "      <td>0</td>\n",
       "      <td>NaN</td>\n",
       "      <td>False</td>\n",
       "      <td>True</td>\n",
       "      <td>True</td>\n",
       "      <td>False</td>\n",
       "    </tr>\n",
       "    <tr>\n",
       "      <th>...</th>\n",
       "      <td>...</td>\n",
       "      <td>...</td>\n",
       "      <td>...</td>\n",
       "      <td>...</td>\n",
       "      <td>...</td>\n",
       "      <td>...</td>\n",
       "      <td>...</td>\n",
       "      <td>...</td>\n",
       "      <td>...</td>\n",
       "      <td>...</td>\n",
       "      <td>...</td>\n",
       "      <td>...</td>\n",
       "      <td>...</td>\n",
       "      <td>...</td>\n",
       "      <td>...</td>\n",
       "      <td>...</td>\n",
       "      <td>...</td>\n",
       "      <td>...</td>\n",
       "      <td>...</td>\n",
       "      <td>...</td>\n",
       "      <td>...</td>\n",
       "    </tr>\n",
       "    <tr>\n",
       "      <th>13979</th>\n",
       "      <td>1066742710842868324</td>\n",
       "      <td>https://www.nocarz.pl/rooms/1066742710842868324</td>\n",
       "      <td>20241221052002</td>\n",
       "      <td>2024-12-21</td>\n",
       "      <td>previous scrape</td>\n",
       "      <td>Cozy bedroom in a stylish house</td>\n",
       "      <td>NaN</td>\n",
       "      <td>NaN</td>\n",
       "      <td>https://a0.muscache.com/pictures/hosting/Hosti...</td>\n",
       "      <td>125006999</td>\n",
       "      <td>...</td>\n",
       "      <td>f</td>\n",
       "      <td>3</td>\n",
       "      <td>0</td>\n",
       "      <td>3</td>\n",
       "      <td>0</td>\n",
       "      <td>0.82</td>\n",
       "      <td>False</td>\n",
       "      <td>True</td>\n",
       "      <td>True</td>\n",
       "      <td>False</td>\n",
       "    </tr>\n",
       "    <tr>\n",
       "      <th>13980</th>\n",
       "      <td>882524735229064604</td>\n",
       "      <td>https://www.nocarz.pl/rooms/882524735229064604</td>\n",
       "      <td>20241221052002</td>\n",
       "      <td>2024-12-21</td>\n",
       "      <td>city scrape</td>\n",
       "      <td>hornos - 1 bedroom apartment in kreuzberg</td>\n",
       "      <td>Spectacular apartment in Eylauerstrasse, with ...</td>\n",
       "      <td>NaN</td>\n",
       "      <td>https://a0.muscache.com/pictures/prohost-api/H...</td>\n",
       "      <td>449692327</td>\n",
       "      <td>...</td>\n",
       "      <td>t</td>\n",
       "      <td>58</td>\n",
       "      <td>58</td>\n",
       "      <td>0</td>\n",
       "      <td>0</td>\n",
       "      <td>NaN</td>\n",
       "      <td>False</td>\n",
       "      <td>True</td>\n",
       "      <td>True</td>\n",
       "      <td>False</td>\n",
       "    </tr>\n",
       "    <tr>\n",
       "      <th>13981</th>\n",
       "      <td>1172288594718636022</td>\n",
       "      <td>https://www.nocarz.pl/rooms/1172288594718636022</td>\n",
       "      <td>20241221052002</td>\n",
       "      <td>2024-12-21</td>\n",
       "      <td>previous scrape</td>\n",
       "      <td>Deluxe Superior Accessible</td>\n",
       "      <td>This wheelchair accessible double room feature...</td>\n",
       "      <td>NaN</td>\n",
       "      <td>https://a0.muscache.com/pictures/miso/Hosting-...</td>\n",
       "      <td>570785536</td>\n",
       "      <td>...</td>\n",
       "      <td>t</td>\n",
       "      <td>6</td>\n",
       "      <td>0</td>\n",
       "      <td>6</td>\n",
       "      <td>0</td>\n",
       "      <td>NaN</td>\n",
       "      <td>False</td>\n",
       "      <td>True</td>\n",
       "      <td>True</td>\n",
       "      <td>False</td>\n",
       "    </tr>\n",
       "    <tr>\n",
       "      <th>13982</th>\n",
       "      <td>1233927040956879330</td>\n",
       "      <td>https://www.nocarz.pl/rooms/1233927040956879330</td>\n",
       "      <td>20241221052002</td>\n",
       "      <td>2024-12-21</td>\n",
       "      <td>previous scrape</td>\n",
       "      <td>Prenzlauerberg Berlin</td>\n",
       "      <td>Fully equipped apartment with large balcony in...</td>\n",
       "      <td>NaN</td>\n",
       "      <td>https://a0.muscache.com/pictures/miso/Hosting-...</td>\n",
       "      <td>3893392</td>\n",
       "      <td>...</td>\n",
       "      <td>f</td>\n",
       "      <td>2</td>\n",
       "      <td>2</td>\n",
       "      <td>0</td>\n",
       "      <td>0</td>\n",
       "      <td>NaN</td>\n",
       "      <td>False</td>\n",
       "      <td>True</td>\n",
       "      <td>True</td>\n",
       "      <td>False</td>\n",
       "    </tr>\n",
       "    <tr>\n",
       "      <th>13983</th>\n",
       "      <td>1285513092900098347</td>\n",
       "      <td>https://www.nocarz.pl/rooms/1285513092900098347</td>\n",
       "      <td>20241221052002</td>\n",
       "      <td>2024-12-21</td>\n",
       "      <td>city scrape</td>\n",
       "      <td>Charmant appart berlinois</td>\n",
       "      <td>Enjoy with your family this great place to sta...</td>\n",
       "      <td>NaN</td>\n",
       "      <td>https://a0.muscache.com/pictures/hosting/Hosti...</td>\n",
       "      <td>21907458</td>\n",
       "      <td>...</td>\n",
       "      <td>f</td>\n",
       "      <td>1</td>\n",
       "      <td>1</td>\n",
       "      <td>0</td>\n",
       "      <td>0</td>\n",
       "      <td>NaN</td>\n",
       "      <td>False</td>\n",
       "      <td>True</td>\n",
       "      <td>True</td>\n",
       "      <td>False</td>\n",
       "    </tr>\n",
       "  </tbody>\n",
       "</table>\n",
       "<p>13984 rows × 78 columns</p>\n",
       "</div>"
      ],
      "text/plain": [
       "                        id                                      listing_url  \\\n",
       "0                  2084992              https://www.nocarz.pl/rooms/2084992   \n",
       "1      1123383729460847373  https://www.nocarz.pl/rooms/1123383729460847373   \n",
       "2      1205255838613758737  https://www.nocarz.pl/rooms/1205255838613758737   \n",
       "3                  8164759              https://www.nocarz.pl/rooms/8164759   \n",
       "4                 18836877             https://www.nocarz.pl/rooms/18836877   \n",
       "...                    ...                                              ...   \n",
       "13979  1066742710842868324  https://www.nocarz.pl/rooms/1066742710842868324   \n",
       "13980   882524735229064604   https://www.nocarz.pl/rooms/882524735229064604   \n",
       "13981  1172288594718636022  https://www.nocarz.pl/rooms/1172288594718636022   \n",
       "13982  1233927040956879330  https://www.nocarz.pl/rooms/1233927040956879330   \n",
       "13983  1285513092900098347  https://www.nocarz.pl/rooms/1285513092900098347   \n",
       "\n",
       "            scrape_id last_scraped           source  \\\n",
       "0      20241221052002   2024-12-21  previous scrape   \n",
       "1      20241221052002   2024-12-21      city scrape   \n",
       "2      20241221052002   2024-12-21      city scrape   \n",
       "3      20241221052002   2024-12-21  previous scrape   \n",
       "4      20241221052002   2024-12-21  previous scrape   \n",
       "...               ...          ...              ...   \n",
       "13979  20241221052002   2024-12-21  previous scrape   \n",
       "13980  20241221052002   2024-12-21      city scrape   \n",
       "13981  20241221052002   2024-12-21  previous scrape   \n",
       "13982  20241221052002   2024-12-21  previous scrape   \n",
       "13983  20241221052002   2024-12-21      city scrape   \n",
       "\n",
       "                                                    name  \\\n",
       "0       Nice and cozy apartment in Kreuzberg, Graefekiez   \n",
       "1      Furnished room in well equipped serviced apart...   \n",
       "2         Luxurous game room with private bath in X-Berg   \n",
       "3                           Beautiful single-room studio   \n",
       "4                           Unterkunft zentral in Berlin   \n",
       "...                                                  ...   \n",
       "13979                    Cozy bedroom in a stylish house   \n",
       "13980          hornos - 1 bedroom apartment in kreuzberg   \n",
       "13981                         Deluxe Superior Accessible   \n",
       "13982                              Prenzlauerberg Berlin   \n",
       "13983                          Charmant appart berlinois   \n",
       "\n",
       "                                             description  \\\n",
       "0      Our cosy two room Apartment (70qm) in a vibrat...   \n",
       "1      Room in an apartment available. Apartment has ...   \n",
       "2      Cozy private room in Berlin Mitte with private...   \n",
       "3      Experience the “real Berlin” in our small and ...   \n",
       "4      The accommodation has 3 rooms, however, is onl...   \n",
       "...                                                  ...   \n",
       "13979                                                NaN   \n",
       "13980  Spectacular apartment in Eylauerstrasse, with ...   \n",
       "13981  This wheelchair accessible double room feature...   \n",
       "13982  Fully equipped apartment with large balcony in...   \n",
       "13983  Enjoy with your family this great place to sta...   \n",
       "\n",
       "                                   neighborhood_overview  \\\n",
       "0      The apartment is situated on Fichtestrasse, wh...   \n",
       "1                                                    NaN   \n",
       "2                                                    NaN   \n",
       "3      In the area you can find lots of affordable ba...   \n",
       "4                                                    NaN   \n",
       "...                                                  ...   \n",
       "13979                                                NaN   \n",
       "13980                                                NaN   \n",
       "13981                                                NaN   \n",
       "13982                                                NaN   \n",
       "13983                                                NaN   \n",
       "\n",
       "                                             picture_url    host_id  ...  \\\n",
       "0      https://a0.muscache.com/pictures/c4f2a8a8-34fa...    6302373  ...   \n",
       "1      https://a0.muscache.com/pictures/hosting/Hosti...  206488801  ...   \n",
       "2      https://a0.muscache.com/pictures/hosting/Hosti...   50009901  ...   \n",
       "3      https://a0.muscache.com/pictures/103988560/a5d...   42115726  ...   \n",
       "4      https://a0.muscache.com/pictures/452bf022-c9a9...  131184702  ...   \n",
       "...                                                  ...        ...  ...   \n",
       "13979  https://a0.muscache.com/pictures/hosting/Hosti...  125006999  ...   \n",
       "13980  https://a0.muscache.com/pictures/prohost-api/H...  449692327  ...   \n",
       "13981  https://a0.muscache.com/pictures/miso/Hosting-...  570785536  ...   \n",
       "13982  https://a0.muscache.com/pictures/miso/Hosting-...    3893392  ...   \n",
       "13983  https://a0.muscache.com/pictures/hosting/Hosti...   21907458  ...   \n",
       "\n",
       "      instant_bookable calculated_host_listings_count  \\\n",
       "0                    f                              1   \n",
       "1                    f                              3   \n",
       "2                    f                              1   \n",
       "3                    f                              1   \n",
       "4                    f                              1   \n",
       "...                ...                            ...   \n",
       "13979                f                              3   \n",
       "13980                t                             58   \n",
       "13981                t                              6   \n",
       "13982                f                              2   \n",
       "13983                f                              1   \n",
       "\n",
       "      calculated_host_listings_count_entire_homes  \\\n",
       "0                                               1   \n",
       "1                                               1   \n",
       "2                                               0   \n",
       "3                                               1   \n",
       "4                                               1   \n",
       "...                                           ...   \n",
       "13979                                           0   \n",
       "13980                                          58   \n",
       "13981                                           0   \n",
       "13982                                           2   \n",
       "13983                                           1   \n",
       "\n",
       "      calculated_host_listings_count_private_rooms  \\\n",
       "0                                                0   \n",
       "1                                                2   \n",
       "2                                                1   \n",
       "3                                                0   \n",
       "4                                                0   \n",
       "...                                            ...   \n",
       "13979                                            3   \n",
       "13980                                            0   \n",
       "13981                                            6   \n",
       "13982                                            0   \n",
       "13983                                            0   \n",
       "\n",
       "      calculated_host_listings_count_shared_rooms reviews_per_month  \\\n",
       "0                                               0              0.09   \n",
       "1                                               0               NaN   \n",
       "2                                               0              9.53   \n",
       "3                                               0              0.01   \n",
       "4                                               0               NaN   \n",
       "...                                           ...               ...   \n",
       "13979                                           0              0.82   \n",
       "13980                                           0               NaN   \n",
       "13981                                           0               NaN   \n",
       "13982                                           0               NaN   \n",
       "13983                                           0               NaN   \n",
       "\n",
       "      host_verifications_ host_verifications_email host_verifications_phone  \\\n",
       "0                   False                     True                     True   \n",
       "1                   False                     True                     True   \n",
       "2                   False                     True                     True   \n",
       "3                   False                     True                     True   \n",
       "4                   False                     True                     True   \n",
       "...                   ...                      ...                      ...   \n",
       "13979               False                     True                     True   \n",
       "13980               False                     True                     True   \n",
       "13981               False                     True                     True   \n",
       "13982               False                     True                     True   \n",
       "13983               False                     True                     True   \n",
       "\n",
       "      host_verifications_work_email  \n",
       "0                             False  \n",
       "1                             False  \n",
       "2                             False  \n",
       "3                             False  \n",
       "4                             False  \n",
       "...                             ...  \n",
       "13979                         False  \n",
       "13980                         False  \n",
       "13981                         False  \n",
       "13982                         False  \n",
       "13983                         False  \n",
       "\n",
       "[13984 rows x 78 columns]"
      ]
     },
     "execution_count": 30,
     "metadata": {},
     "output_type": "execute_result"
    }
   ],
   "source": [
    "listings = one_hot_encode_list_column(listings, \"host_verifications\")\n",
    "listings"
   ]
  },
  {
   "cell_type": "markdown",
   "id": "91f3d50f1da23cba",
   "metadata": {},
   "source": [
    "### Atrybuty kategoryczne"
   ]
  },
  {
   "cell_type": "code",
   "execution_count": 31,
   "id": "2a2f589a88b5353c",
   "metadata": {
    "ExecuteTime": {
     "end_time": "2025-04-24T09:17:06.593356Z",
     "start_time": "2025-04-24T09:17:06.566660Z"
    }
   },
   "outputs": [
    {
     "data": {
      "text/html": [
       "<div>\n",
       "<style scoped>\n",
       "    .dataframe tbody tr th:only-of-type {\n",
       "        vertical-align: middle;\n",
       "    }\n",
       "\n",
       "    .dataframe tbody tr th {\n",
       "        vertical-align: top;\n",
       "    }\n",
       "\n",
       "    .dataframe thead th {\n",
       "        text-align: right;\n",
       "    }\n",
       "</style>\n",
       "<table border=\"1\" class=\"dataframe\">\n",
       "  <thead>\n",
       "    <tr style=\"text-align: right;\">\n",
       "      <th></th>\n",
       "      <th>id</th>\n",
       "      <th>listing_url</th>\n",
       "      <th>scrape_id</th>\n",
       "      <th>last_scraped</th>\n",
       "      <th>source</th>\n",
       "      <th>name</th>\n",
       "      <th>description</th>\n",
       "      <th>neighborhood_overview</th>\n",
       "      <th>picture_url</th>\n",
       "      <th>host_id</th>\n",
       "      <th>...</th>\n",
       "      <th>instant_bookable</th>\n",
       "      <th>calculated_host_listings_count</th>\n",
       "      <th>calculated_host_listings_count_entire_homes</th>\n",
       "      <th>calculated_host_listings_count_private_rooms</th>\n",
       "      <th>calculated_host_listings_count_shared_rooms</th>\n",
       "      <th>reviews_per_month</th>\n",
       "      <th>host_verifications_</th>\n",
       "      <th>host_verifications_email</th>\n",
       "      <th>host_verifications_phone</th>\n",
       "      <th>host_verifications_work_email</th>\n",
       "    </tr>\n",
       "  </thead>\n",
       "  <tbody>\n",
       "    <tr>\n",
       "      <th>0</th>\n",
       "      <td>2084992</td>\n",
       "      <td>https://www.nocarz.pl/rooms/2084992</td>\n",
       "      <td>20241221052002</td>\n",
       "      <td>2024-12-21</td>\n",
       "      <td>previous scrape</td>\n",
       "      <td>Nice and cozy apartment in Kreuzberg, Graefekiez</td>\n",
       "      <td>Our cosy two room Apartment (70qm) in a vibrat...</td>\n",
       "      <td>The apartment is situated on Fichtestrasse, wh...</td>\n",
       "      <td>https://a0.muscache.com/pictures/c4f2a8a8-34fa...</td>\n",
       "      <td>6302373</td>\n",
       "      <td>...</td>\n",
       "      <td>f</td>\n",
       "      <td>1</td>\n",
       "      <td>1</td>\n",
       "      <td>0</td>\n",
       "      <td>0</td>\n",
       "      <td>0.09</td>\n",
       "      <td>False</td>\n",
       "      <td>True</td>\n",
       "      <td>True</td>\n",
       "      <td>False</td>\n",
       "    </tr>\n",
       "    <tr>\n",
       "      <th>1</th>\n",
       "      <td>1123383729460847373</td>\n",
       "      <td>https://www.nocarz.pl/rooms/1123383729460847373</td>\n",
       "      <td>20241221052002</td>\n",
       "      <td>2024-12-21</td>\n",
       "      <td>city scrape</td>\n",
       "      <td>Furnished room in well equipped serviced apart...</td>\n",
       "      <td>Room in an apartment available. Apartment has ...</td>\n",
       "      <td>NaN</td>\n",
       "      <td>https://a0.muscache.com/pictures/hosting/Hosti...</td>\n",
       "      <td>206488801</td>\n",
       "      <td>...</td>\n",
       "      <td>f</td>\n",
       "      <td>3</td>\n",
       "      <td>1</td>\n",
       "      <td>2</td>\n",
       "      <td>0</td>\n",
       "      <td>NaN</td>\n",
       "      <td>False</td>\n",
       "      <td>True</td>\n",
       "      <td>True</td>\n",
       "      <td>False</td>\n",
       "    </tr>\n",
       "    <tr>\n",
       "      <th>2</th>\n",
       "      <td>1205255838613758737</td>\n",
       "      <td>https://www.nocarz.pl/rooms/1205255838613758737</td>\n",
       "      <td>20241221052002</td>\n",
       "      <td>2024-12-21</td>\n",
       "      <td>city scrape</td>\n",
       "      <td>Luxurous game room with private bath in X-Berg</td>\n",
       "      <td>Cozy private room in Berlin Mitte with private...</td>\n",
       "      <td>NaN</td>\n",
       "      <td>https://a0.muscache.com/pictures/hosting/Hosti...</td>\n",
       "      <td>50009901</td>\n",
       "      <td>...</td>\n",
       "      <td>f</td>\n",
       "      <td>1</td>\n",
       "      <td>0</td>\n",
       "      <td>1</td>\n",
       "      <td>0</td>\n",
       "      <td>9.53</td>\n",
       "      <td>False</td>\n",
       "      <td>True</td>\n",
       "      <td>True</td>\n",
       "      <td>False</td>\n",
       "    </tr>\n",
       "    <tr>\n",
       "      <th>3</th>\n",
       "      <td>8164759</td>\n",
       "      <td>https://www.nocarz.pl/rooms/8164759</td>\n",
       "      <td>20241221052002</td>\n",
       "      <td>2024-12-21</td>\n",
       "      <td>previous scrape</td>\n",
       "      <td>Beautiful single-room studio</td>\n",
       "      <td>Experience the “real Berlin” in our small and ...</td>\n",
       "      <td>In the area you can find lots of affordable ba...</td>\n",
       "      <td>https://a0.muscache.com/pictures/103988560/a5d...</td>\n",
       "      <td>42115726</td>\n",
       "      <td>...</td>\n",
       "      <td>f</td>\n",
       "      <td>1</td>\n",
       "      <td>1</td>\n",
       "      <td>0</td>\n",
       "      <td>0</td>\n",
       "      <td>0.01</td>\n",
       "      <td>False</td>\n",
       "      <td>True</td>\n",
       "      <td>True</td>\n",
       "      <td>False</td>\n",
       "    </tr>\n",
       "    <tr>\n",
       "      <th>4</th>\n",
       "      <td>18836877</td>\n",
       "      <td>https://www.nocarz.pl/rooms/18836877</td>\n",
       "      <td>20241221052002</td>\n",
       "      <td>2024-12-21</td>\n",
       "      <td>previous scrape</td>\n",
       "      <td>Unterkunft zentral in Berlin</td>\n",
       "      <td>The accommodation has 3 rooms, however, is onl...</td>\n",
       "      <td>NaN</td>\n",
       "      <td>https://a0.muscache.com/pictures/452bf022-c9a9...</td>\n",
       "      <td>131184702</td>\n",
       "      <td>...</td>\n",
       "      <td>f</td>\n",
       "      <td>1</td>\n",
       "      <td>1</td>\n",
       "      <td>0</td>\n",
       "      <td>0</td>\n",
       "      <td>NaN</td>\n",
       "      <td>False</td>\n",
       "      <td>True</td>\n",
       "      <td>True</td>\n",
       "      <td>False</td>\n",
       "    </tr>\n",
       "  </tbody>\n",
       "</table>\n",
       "<p>5 rows × 78 columns</p>\n",
       "</div>"
      ],
      "text/plain": [
       "                    id                                      listing_url  \\\n",
       "0              2084992              https://www.nocarz.pl/rooms/2084992   \n",
       "1  1123383729460847373  https://www.nocarz.pl/rooms/1123383729460847373   \n",
       "2  1205255838613758737  https://www.nocarz.pl/rooms/1205255838613758737   \n",
       "3              8164759              https://www.nocarz.pl/rooms/8164759   \n",
       "4             18836877             https://www.nocarz.pl/rooms/18836877   \n",
       "\n",
       "        scrape_id last_scraped           source  \\\n",
       "0  20241221052002   2024-12-21  previous scrape   \n",
       "1  20241221052002   2024-12-21      city scrape   \n",
       "2  20241221052002   2024-12-21      city scrape   \n",
       "3  20241221052002   2024-12-21  previous scrape   \n",
       "4  20241221052002   2024-12-21  previous scrape   \n",
       "\n",
       "                                                name  \\\n",
       "0   Nice and cozy apartment in Kreuzberg, Graefekiez   \n",
       "1  Furnished room in well equipped serviced apart...   \n",
       "2     Luxurous game room with private bath in X-Berg   \n",
       "3                       Beautiful single-room studio   \n",
       "4                       Unterkunft zentral in Berlin   \n",
       "\n",
       "                                         description  \\\n",
       "0  Our cosy two room Apartment (70qm) in a vibrat...   \n",
       "1  Room in an apartment available. Apartment has ...   \n",
       "2  Cozy private room in Berlin Mitte with private...   \n",
       "3  Experience the “real Berlin” in our small and ...   \n",
       "4  The accommodation has 3 rooms, however, is onl...   \n",
       "\n",
       "                               neighborhood_overview  \\\n",
       "0  The apartment is situated on Fichtestrasse, wh...   \n",
       "1                                                NaN   \n",
       "2                                                NaN   \n",
       "3  In the area you can find lots of affordable ba...   \n",
       "4                                                NaN   \n",
       "\n",
       "                                         picture_url    host_id  ...  \\\n",
       "0  https://a0.muscache.com/pictures/c4f2a8a8-34fa...    6302373  ...   \n",
       "1  https://a0.muscache.com/pictures/hosting/Hosti...  206488801  ...   \n",
       "2  https://a0.muscache.com/pictures/hosting/Hosti...   50009901  ...   \n",
       "3  https://a0.muscache.com/pictures/103988560/a5d...   42115726  ...   \n",
       "4  https://a0.muscache.com/pictures/452bf022-c9a9...  131184702  ...   \n",
       "\n",
       "  instant_bookable calculated_host_listings_count  \\\n",
       "0                f                              1   \n",
       "1                f                              3   \n",
       "2                f                              1   \n",
       "3                f                              1   \n",
       "4                f                              1   \n",
       "\n",
       "  calculated_host_listings_count_entire_homes  \\\n",
       "0                                           1   \n",
       "1                                           1   \n",
       "2                                           0   \n",
       "3                                           1   \n",
       "4                                           1   \n",
       "\n",
       "  calculated_host_listings_count_private_rooms  \\\n",
       "0                                            0   \n",
       "1                                            2   \n",
       "2                                            1   \n",
       "3                                            0   \n",
       "4                                            0   \n",
       "\n",
       "  calculated_host_listings_count_shared_rooms reviews_per_month  \\\n",
       "0                                           0              0.09   \n",
       "1                                           0               NaN   \n",
       "2                                           0              9.53   \n",
       "3                                           0              0.01   \n",
       "4                                           0               NaN   \n",
       "\n",
       "  host_verifications_ host_verifications_email host_verifications_phone  \\\n",
       "0               False                     True                     True   \n",
       "1               False                     True                     True   \n",
       "2               False                     True                     True   \n",
       "3               False                     True                     True   \n",
       "4               False                     True                     True   \n",
       "\n",
       "  host_verifications_work_email  \n",
       "0                         False  \n",
       "1                         False  \n",
       "2                         False  \n",
       "3                         False  \n",
       "4                         False  \n",
       "\n",
       "[5 rows x 78 columns]"
      ]
     },
     "execution_count": 31,
     "metadata": {},
     "output_type": "execute_result"
    }
   ],
   "source": [
    "listings.head()"
   ]
  },
  {
   "cell_type": "code",
   "execution_count": 32,
   "id": "cb9d628decaff33b",
   "metadata": {
    "ExecuteTime": {
     "end_time": "2025-04-24T09:17:06.678862Z",
     "start_time": "2025-04-24T09:17:06.676145Z"
    }
   },
   "outputs": [],
   "source": [
    "# candidates ?\n",
    "categorical_columns = [\n",
    "    \"neighbourhood_group_cleansed\",\n",
    "    \"property_type\",\n",
    "    \"room_type\",\n",
    "]"
   ]
  },
  {
   "cell_type": "code",
   "execution_count": 33,
   "id": "dbf94c5d661b6558",
   "metadata": {
    "ExecuteTime": {
     "end_time": "2025-04-24T09:17:06.835170Z",
     "start_time": "2025-04-24T09:17:06.827686Z"
    }
   },
   "outputs": [
    {
     "name": "stdout",
     "output_type": "stream",
     "text": [
      "478\n"
     ]
    },
    {
     "data": {
      "text/plain": [
       "host_location\n",
       "Berlin, Germany           9891\n",
       "Germany                    159\n",
       "Munich, Germany             80\n",
       "Hamburg, Germany            59\n",
       "Cologne, Germany            54\n",
       "                          ... \n",
       "Chania, Greece               1\n",
       "Aubervilliers, France        1\n",
       "Forchtenberg, Germany        1\n",
       "Eindhoven, Netherlands       1\n",
       "Grambow, Germany             1\n",
       "Name: count, Length: 477, dtype: int64"
      ]
     },
     "execution_count": 33,
     "metadata": {},
     "output_type": "execute_result"
    }
   ],
   "source": [
    "print(len(listings[\"host_location\"].unique()))\n",
    "listings[\"host_location\"].value_counts()"
   ]
  },
  {
   "cell_type": "code",
   "execution_count": 34,
   "id": "de15a6a5f45be578",
   "metadata": {
    "ExecuteTime": {
     "end_time": "2025-04-24T09:17:07.065869Z",
     "start_time": "2025-04-24T09:17:07.062413Z"
    }
   },
   "outputs": [],
   "source": [
    "def extract_host_country(df):\n",
    "    \"\"\"Extract host country from host_location\"\"\"\n",
    "\n",
    "    def extract_country_from_location(location: str):\n",
    "        if not \",\" in location:\n",
    "            return location\n",
    "\n",
    "        state = location.split(\",\")[-1].strip()\n",
    "\n",
    "        if len(state) == 2:\n",
    "            return \"United States\"\n",
    "\n",
    "        return state\n",
    "\n",
    "    df[\"host_country\"] = df[\"host_location\"].apply(\n",
    "        lambda x: extract_country_from_location(x) if isinstance(x, str) else x)\n",
    "    return df"
   ]
  },
  {
   "cell_type": "code",
   "execution_count": 35,
   "id": "63a8afef7d1c6955",
   "metadata": {
    "ExecuteTime": {
     "end_time": "2025-04-24T09:17:07.258490Z",
     "start_time": "2025-04-24T09:17:07.241422Z"
    }
   },
   "outputs": [
    {
     "data": {
      "text/plain": [
       "host_country\n",
       "Germany           10657\n",
       "United States        93\n",
       "United Kingdom       75\n",
       "Spain                64\n",
       "France               60\n",
       "                  ...  \n",
       "Albania               1\n",
       "Czechia               1\n",
       "Tunisia               1\n",
       "Morocco               1\n",
       "Puerto Rico           1\n",
       "Name: count, Length: 62, dtype: int64"
      ]
     },
     "execution_count": 35,
     "metadata": {},
     "output_type": "execute_result"
    }
   ],
   "source": [
    "# Prawie tylko Niemcy, chyba nie warto\n",
    "listings = extract_host_country(listings)\n",
    "listings[\"host_country\"].value_counts()"
   ]
  },
  {
   "cell_type": "code",
   "execution_count": 36,
   "id": "d74171f19f5c234a",
   "metadata": {
    "ExecuteTime": {
     "end_time": "2025-04-24T09:17:07.440855Z",
     "start_time": "2025-04-24T09:17:07.434037Z"
    }
   },
   "outputs": [
    {
     "name": "stdout",
     "output_type": "stream",
     "text": [
      "host_response_time\n",
      "within an hour        5374\n",
      "within a few hours    1751\n",
      "within a day          1131\n",
      "a few days or more     400\n",
      "Name: count, dtype: int64\n",
      "[nan 'within an hour' 'within a few hours' 'within a day'\n",
      " 'a few days or more']\n"
     ]
    }
   ],
   "source": [
    "print(listings[\"host_response_time\"].value_counts())\n",
    "print(listings[\"host_response_time\"].unique())"
   ]
  },
  {
   "cell_type": "code",
   "execution_count": 37,
   "id": "e9d6e9156e2091f0",
   "metadata": {
    "ExecuteTime": {
     "end_time": "2025-04-24T09:17:07.576544Z",
     "start_time": "2025-04-24T09:17:07.573494Z"
    }
   },
   "outputs": [],
   "source": [
    "def transform_host_response_time(df):\n",
    "    \"\"\"Transform host response time to a number\"\"\"\n",
    "    #TODO adjust scale\n",
    "    scale = {\n",
    "        \"within an hour\": 1,\n",
    "        \"within a few hours\": 2,\n",
    "        \"within a day\": 3,\n",
    "        \"a few days or more\": 4,\n",
    "    }\n",
    "\n",
    "    df[\"host_response_time\"] = df[\"host_response_time\"].apply(lambda x: scale.get(x, np.nan))\n",
    "    return df"
   ]
  },
  {
   "cell_type": "code",
   "execution_count": 38,
   "id": "6d852c00fc87e4da",
   "metadata": {
    "ExecuteTime": {
     "end_time": "2025-04-24T09:17:07.877818Z",
     "start_time": "2025-04-24T09:17:07.691247Z"
    }
   },
   "outputs": [
    {
     "name": "stdout",
     "output_type": "stream",
     "text": [
      "host_response_time\n",
      "1.0    5374\n",
      "2.0    1751\n",
      "3.0    1131\n",
      "4.0     400\n",
      "Name: count, dtype: int64\n",
      "5328\n"
     ]
    }
   ],
   "source": [
    "listings = get_listings()\n",
    "listings = transform_host_response_time(listings)\n",
    "print(listings[\"host_response_time\"].value_counts())\n",
    "print(listings[\"host_response_time\"].isna().sum())"
   ]
  },
  {
   "cell_type": "code",
   "execution_count": 39,
   "id": "d0910875cc01701d",
   "metadata": {
    "ExecuteTime": {
     "end_time": "2025-04-24T09:17:07.906878Z",
     "start_time": "2025-04-24T09:17:07.900686Z"
    }
   },
   "outputs": [
    {
     "name": "stdout",
     "output_type": "stream",
     "text": [
      "162\n",
      "138\n",
      "32\n",
      "12\n"
     ]
    }
   ],
   "source": [
    "print(len(listings[\"host_neighbourhood\"].unique()))  # Too many categories\n",
    "print(len(listings[\"neighbourhood_cleansed\"].unique()))  # Too many categories\n",
    "print(len(listings[\"neighbourhood\"].unique()))\n",
    "print(len(listings[\"neighbourhood_group_cleansed\"].unique()))"
   ]
  },
  {
   "cell_type": "code",
   "execution_count": 40,
   "id": "54823332dd6caa7b",
   "metadata": {
    "ExecuteTime": {
     "end_time": "2025-04-24T09:17:07.961544Z",
     "start_time": "2025-04-24T09:17:07.956583Z"
    }
   },
   "outputs": [
    {
     "data": {
      "text/plain": [
       "neighbourhood\n",
       "Berlin, Germany                                6753\n",
       "Berlin - Mitte, Germany                           3\n",
       "Berlin, Be, Germany                               3\n",
       "Berlin Charlottenburg, Berlin, Germany            3\n",
       "Berlin, Prenzlauer Berg, Germany                  2\n",
       "Friedrichshain, Berlin, Germany                   2\n",
       "Berlin, BE, Germany                               1\n",
       "Berlin, Deutschland, Germany                      1\n",
       "Weissensee, Berlin, Germany                       1\n",
       "Hoppegarten, Brandenburg, Germany                 1\n",
       "Berlin, Zehlendorf, Germany                       1\n",
       "Weissenhoher Strasse 14, Berlin, Germany          1\n",
       "Berlin-Bohnsdorf, Germany                         1\n",
       "Köpenick, Berlin, Germany                         1\n",
       "Mitte, Berlin, Germany                            1\n",
       "berlin, Berlin, Germany                           1\n",
       "Berlin, Spandau, Germany                          1\n",
       "Berlin Prenzlauer Berg , Berlin, Germany          1\n",
       "Mitte/Tiergarten, Berlin, Germany                 1\n",
       "Berlin, Mitte, Germany                            1\n",
       "Berlin Friedrichshain, Berlin, Germany            1\n",
       "Berlin, DE, Germany                               1\n",
       "Berlin, SN, Germany                               1\n",
       "Berlin-Kreuzberg, Berlin, Germany                 1\n",
       "Berlin, Mitte, Berlin, Germany                    1\n",
       "Berlin- Charlottenburg, Berlin, Germany           1\n",
       "Schöneiche bei Berlin, Brandenburg, Germany       1\n",
       "Berlin-Wilmersdorf, Berlin, Germany               1\n",
       "Berlin-Mitte, Berlin, Germany                     1\n",
       "Alt Treptow, Berlin, Germany                      1\n",
       "Berlin, Kreuzberg, Berlin, Germany                1\n",
       "Name: count, dtype: int64"
      ]
     },
     "execution_count": 40,
     "metadata": {},
     "output_type": "execute_result"
    }
   ],
   "source": [
    "listings[\"neighbourhood\"].value_counts()  # Useless"
   ]
  },
  {
   "cell_type": "code",
   "execution_count": 41,
   "id": "85d231f37d9a9b61",
   "metadata": {
    "ExecuteTime": {
     "end_time": "2025-04-24T09:17:08.053566Z",
     "start_time": "2025-04-24T09:17:08.047892Z"
    }
   },
   "outputs": [
    {
     "data": {
      "text/plain": [
       "neighbourhood_group_cleansed\n",
       "Friedrichshain-Kreuzberg    3052\n",
       "Mitte                       2967\n",
       "Pankow                      2161\n",
       "Neukölln                    1595\n",
       "Charlottenburg-Wilm.        1415\n",
       "Tempelhof - Schöneberg       969\n",
       "Treptow - Köpenick           600\n",
       "Lichtenberg                  396\n",
       "Steglitz - Zehlendorf        380\n",
       "Reinickendorf                200\n",
       "Spandau                      137\n",
       "Marzahn - Hellersdorf        112\n",
       "Name: count, dtype: int64"
      ]
     },
     "execution_count": 41,
     "metadata": {},
     "output_type": "execute_result"
    }
   ],
   "source": [
    "listings[\"neighbourhood_group_cleansed\"].value_counts()  # Maybe useful"
   ]
  },
  {
   "cell_type": "code",
   "execution_count": 42,
   "id": "e772f076a9653afc",
   "metadata": {
    "ExecuteTime": {
     "end_time": "2025-04-24T09:17:08.135892Z",
     "start_time": "2025-04-24T09:17:08.130584Z"
    }
   },
   "outputs": [
    {
     "data": {
      "text/plain": [
       "property_type\n",
       "Entire rental unit                    7585\n",
       "Private room in rental unit           3148\n",
       "Entire condo                           761\n",
       "Entire serviced apartment              399\n",
       "Room in hotel                          340\n",
       "Private room in condo                  289\n",
       "Entire loft                            261\n",
       "Private room in home                   197\n",
       "Entire home                            183\n",
       "Entire guesthouse                       69\n",
       "Room in boutique hotel                  64\n",
       "Private room in hostel                  56\n",
       "Private room in bed and breakfast       51\n",
       "Private room in loft                    50\n",
       "Room in aparthotel                      42\n",
       "Entire vacation home                    42\n",
       "Houseboat                               39\n",
       "Room in serviced apartment              39\n",
       "Private room in townhouse               34\n",
       "Private room                            33\n",
       "Private room in serviced apartment      31\n",
       "Entire townhouse                        31\n",
       "Shared room in hostel                   23\n",
       "Entire guest suite                      22\n",
       "Tiny home                               21\n",
       "Private room in guesthouse              20\n",
       "Entire bungalow                         19\n",
       "Entire place                            15\n",
       "Boat                                    14\n",
       "Private room in casa particular         10\n",
       "Shared room in rental unit              10\n",
       "Shared room in hotel                     9\n",
       "Private room in villa                    8\n",
       "Entire cottage                           6\n",
       "Private room in bungalow                 6\n",
       "Room in hostel                           6\n",
       "Private room in guest suite              5\n",
       "Camper/RV                                5\n",
       "Private room in houseboat                5\n",
       "Entire villa                             5\n",
       "Private room in vacation home            4\n",
       "Private room in pension                  3\n",
       "Entire cabin                             2\n",
       "Private room in castle                   2\n",
       "Private room in cave                     2\n",
       "Shared room in bed and breakfast         2\n",
       "Entire chalet                            2\n",
       "Private room in boat                     2\n",
       "Farm stay                                1\n",
       "Dome                                     1\n",
       "Treehouse                                1\n",
       "Cave                                     1\n",
       "Private room in treehouse                1\n",
       "Shared room in loft                      1\n",
       "Campsite                                 1\n",
       "Private room in tipi                     1\n",
       "Casa particular                          1\n",
       "Private room in shipping container       1\n",
       "Private room in chalet                   1\n",
       "Shared room in serviced apartment        1\n",
       "Name: count, dtype: int64"
      ]
     },
     "execution_count": 42,
     "metadata": {},
     "output_type": "execute_result"
    }
   ],
   "source": [
    "listings[\"property_type\"].value_counts()"
   ]
  },
  {
   "cell_type": "code",
   "execution_count": 43,
   "id": "b653b481d22aea51",
   "metadata": {
    "ExecuteTime": {
     "end_time": "2025-04-24T09:17:08.267774Z",
     "start_time": "2025-04-24T09:17:08.264184Z"
    }
   },
   "outputs": [],
   "source": [
    "def group_property_types(df):\n",
    "    \"\"\"Group together similar property types\"\"\"\n",
    "\n",
    "    def transform(property_type: str):\n",
    "        if \"entire rental unit\" in property_type.lower():\n",
    "            return \"entire rental unit\"\n",
    "        elif \"room\" in property_type.lower():\n",
    "            return \"room\"\n",
    "        elif \"apartment\" in property_type.lower():\n",
    "            return \"apartment\"\n",
    "        elif \"home\" in property_type.lower():\n",
    "            return \"home\"\n",
    "        elif \"condo\" in property_type.lower():\n",
    "            return \"condo\"\n",
    "        else:\n",
    "            return \"other\"\n",
    "\n",
    "    df[\"property_type\"] = df[\"property_type\"].apply(lambda x: transform(x) if isinstance(x, str) else x)\n",
    "    return df"
   ]
  },
  {
   "cell_type": "code",
   "execution_count": 44,
   "id": "15ffce63bf8d8c25",
   "metadata": {
    "ExecuteTime": {
     "end_time": "2025-04-24T09:17:08.543793Z",
     "start_time": "2025-04-24T09:17:08.380444Z"
    }
   },
   "outputs": [
    {
     "data": {
      "text/plain": [
       "property_type\n",
       "entire rental unit    7585\n",
       "room                  4497\n",
       "condo                  761\n",
       "other                  496\n",
       "apartment              399\n",
       "home                   246\n",
       "Name: count, dtype: int64"
      ]
     },
     "execution_count": 44,
     "metadata": {},
     "output_type": "execute_result"
    }
   ],
   "source": [
    "listings = get_listings()\n",
    "listings = group_property_types(listings)\n",
    "listings[\"property_type\"].value_counts()"
   ]
  },
  {
   "cell_type": "code",
   "execution_count": 45,
   "id": "2e06b8dc08fa9d2",
   "metadata": {
    "ExecuteTime": {
     "end_time": "2025-04-24T09:17:08.618210Z",
     "start_time": "2025-04-24T09:17:08.612426Z"
    }
   },
   "outputs": [
    {
     "data": {
      "text/plain": [
       "room_type\n",
       "Entire home/apt    9515\n",
       "Private room       4306\n",
       "Hotel room          117\n",
       "Shared room          46\n",
       "Name: count, dtype: int64"
      ]
     },
     "execution_count": 45,
     "metadata": {},
     "output_type": "execute_result"
    }
   ],
   "source": [
    "listings[\"room_type\"].value_counts()"
   ]
  },
  {
   "cell_type": "code",
   "execution_count": 46,
   "id": "e01d47ba13c828d1",
   "metadata": {
    "ExecuteTime": {
     "end_time": "2025-04-24T09:17:08.685345Z",
     "start_time": "2025-04-24T09:17:08.679701Z"
    }
   },
   "outputs": [
    {
     "data": {
      "text/plain": [
       "bathrooms_text\n",
       "1 bath               8665\n",
       "1 shared bath        2024\n",
       "2 baths               944\n",
       "1 private bath        921\n",
       "1.5 baths             699\n",
       "1.5 shared baths      200\n",
       "2 shared baths        136\n",
       "2.5 baths              98\n",
       "3 baths                62\n",
       "Half-bath              40\n",
       "0 baths                37\n",
       "Shared half-bath       32\n",
       "0 shared baths         24\n",
       "3 shared baths         16\n",
       "Private half-bath      14\n",
       "3.5 baths              13\n",
       "4 shared baths         13\n",
       "2.5 shared baths       13\n",
       "4 baths                11\n",
       "6 baths                 4\n",
       "8.5 shared baths        3\n",
       "4.5 baths               2\n",
       "27 baths                1\n",
       "15 baths                1\n",
       "8 baths                 1\n",
       "5 baths                 1\n",
       "8.5 baths               1\n",
       "8 shared baths          1\n",
       "Name: count, dtype: int64"
      ]
     },
     "execution_count": 46,
     "metadata": {},
     "output_type": "execute_result"
    }
   ],
   "source": [
    "listings[\"bathrooms_text\"].value_counts()"
   ]
  },
  {
   "cell_type": "code",
   "execution_count": 47,
   "id": "1413ec2f",
   "metadata": {},
   "outputs": [],
   "source": [
    "def extract_num_bathrooms(df):\n",
    "    def parse_bathroom(text):\n",
    "        text = str(text).lower()\n",
    "        match = re.search(r'(\\d+\\.?\\d*)', text)\n",
    "        if match:\n",
    "            return float(match.group(1))\n",
    "        elif 'half' in text:\n",
    "            return 0.5\n",
    "        else:\n",
    "            return None  \n",
    "\n",
    "    df['num_bathrooms'] = df['bathrooms_text'].apply(parse_bathroom)\n",
    "    return df"
   ]
  },
  {
   "cell_type": "code",
   "execution_count": 48,
   "id": "6878e1d913cce237",
   "metadata": {
    "ExecuteTime": {
     "end_time": "2025-04-24T09:17:08.794042Z",
     "start_time": "2025-04-24T09:17:08.790618Z"
    }
   },
   "outputs": [],
   "source": [
    "def extract_is_shared_from_bathrooms_text(df):\n",
    "    \"\"\"Extract is_shared from bathrooms_text column\"\"\"\n",
    "    extract_is_shared = lambda txt: 1 if \"shared\" in txt.lower() else 0\n",
    "    df[\"is_shared_bathroom\"] = df[\"bathrooms_text\"].apply(lambda x: extract_is_shared(x) if isinstance(x, str) else x)\n",
    "    df = df.drop(columns=[\"bathrooms_text\"])\n",
    "    return df"
   ]
  },
  {
   "cell_type": "code",
   "execution_count": 49,
   "id": "ab11a53f0b5a4146",
   "metadata": {
    "ExecuteTime": {
     "end_time": "2025-04-24T09:17:08.915213Z",
     "start_time": "2025-04-24T09:17:08.911502Z"
    }
   },
   "outputs": [],
   "source": [
    "def categorical_columns_one_hot_encoding(df):\n",
    "    \"\"\"One-hot encode categorical columns\"\"\"\n",
    "    categorical_columns = [\n",
    "        \"neighbourhood_group_cleansed\",\n",
    "        \"property_type\",\n",
    "        \"room_type\",\n",
    "        \"is_shared_bathroom\",\n",
    "    ]\n",
    "\n",
    "    df = pd.get_dummies(df, columns=categorical_columns, drop_first=True)\n",
    "    return df"
   ]
  },
  {
   "cell_type": "markdown",
   "id": "56769aeb3e62aeff",
   "metadata": {},
   "source": [
    "## Inne atrybuty do przekształcenia"
   ]
  },
  {
   "cell_type": "code",
   "execution_count": 50,
   "id": "3cbe206c4e64f9dc",
   "metadata": {
    "ExecuteTime": {
     "end_time": "2025-04-24T09:17:09.016868Z",
     "start_time": "2025-04-24T09:17:09.012326Z"
    }
   },
   "outputs": [],
   "source": [
    "def transform_host_since(df):\n",
    "    \"\"\"Transform timestamp to number of years since\"\"\"\n",
    "    current_year = datetime.now().year\n",
    "\n",
    "    extract_years_since = lambda timestamp: current_year - int(timestamp.split(\"-\")[0])\n",
    "\n",
    "    df[\"host_since\"] = df[\"host_since\"].apply(lambda x: extract_years_since(x) if isinstance(x, str) else x)\n",
    "    return df"
   ]
  },
  {
   "cell_type": "code",
   "execution_count": 51,
   "id": "b86b6c95b17b13be",
   "metadata": {
    "ExecuteTime": {
     "end_time": "2025-04-24T09:17:09.440872Z",
     "start_time": "2025-04-24T09:17:09.125831Z"
    }
   },
   "outputs": [
    {
     "data": {
      "text/plain": [
       "<Axes: xlabel='host_since'>"
      ]
     },
     "execution_count": 51,
     "metadata": {},
     "output_type": "execute_result"
    },
    {
     "data": {
      "image/png": "[encoded data removed]",
      "text/plain": [
       "<Figure size 640x480 with 1 Axes>"
      ]
     },
     "metadata": {},
     "output_type": "display_data"
    }
   ],
   "source": [
    "listings = get_listings()\n",
    "listings = transform_host_since(listings)\n",
    "listings[\"host_since\"].value_counts().sort_index().plot(kind=\"bar\")"
   ]
  },
  {
   "cell_type": "code",
   "execution_count": 52,
   "id": "4f5d339ad1912cae",
   "metadata": {
    "ExecuteTime": {
     "end_time": "2025-04-24T09:17:09.464339Z",
     "start_time": "2025-04-24T09:17:09.459521Z"
    }
   },
   "outputs": [
    {
     "data": {
      "text/plain": [
       "host_response_rate\n",
       "100%    6464\n",
       "70%      396\n",
       "0%       266\n",
       "90%      237\n",
       "99%      137\n",
       "50%       98\n",
       "86%       93\n",
       "80%       89\n",
       "95%       85\n",
       "98%       84\n",
       "94%       77\n",
       "67%       66\n",
       "96%       65\n",
       "97%       56\n",
       "60%       50\n",
       "75%       40\n",
       "93%       37\n",
       "33%       26\n",
       "89%       21\n",
       "40%       20\n",
       "91%       20\n",
       "71%       17\n",
       "83%       15\n",
       "88%       14\n",
       "10%       14\n",
       "92%       14\n",
       "20%       11\n",
       "25%       11\n",
       "30%       11\n",
       "82%       10\n",
       "78%       10\n",
       "85%        9\n",
       "29%        9\n",
       "48%        9\n",
       "57%        8\n",
       "84%        8\n",
       "63%        7\n",
       "72%        7\n",
       "87%        6\n",
       "76%        5\n",
       "56%        4\n",
       "46%        3\n",
       "14%        3\n",
       "43%        2\n",
       "68%        2\n",
       "17%        2\n",
       "38%        2\n",
       "55%        2\n",
       "62%        2\n",
       "13%        2\n",
       "9%         1\n",
       "8%         1\n",
       "22%        1\n",
       "15%        1\n",
       "53%        1\n",
       "18%        1\n",
       "12%        1\n",
       "11%        1\n",
       "64%        1\n",
       "27%        1\n",
       "Name: count, dtype: int64"
      ]
     },
     "execution_count": 52,
     "metadata": {},
     "output_type": "execute_result"
    }
   ],
   "source": [
    "listings[\"host_response_rate\"].value_counts()"
   ]
  },
  {
   "cell_type": "code",
   "execution_count": 53,
   "id": "76e64015bf5ccf98",
   "metadata": {
    "ExecuteTime": {
     "end_time": "2025-04-24T09:17:09.543343Z",
     "start_time": "2025-04-24T09:17:09.538799Z"
    }
   },
   "outputs": [
    {
     "data": {
      "text/plain": [
       "host_acceptance_rate\n",
       "100%    2987\n",
       "99%     1056\n",
       "0%       505\n",
       "98%      351\n",
       "96%      280\n",
       "        ... \n",
       "16%        4\n",
       "3%         3\n",
       "5%         1\n",
       "2%         1\n",
       "1%         1\n",
       "Name: count, Length: 101, dtype: int64"
      ]
     },
     "execution_count": 53,
     "metadata": {},
     "output_type": "execute_result"
    }
   ],
   "source": [
    "listings[\"host_acceptance_rate\"].value_counts()"
   ]
  },
  {
   "cell_type": "code",
   "execution_count": 54,
   "id": "bf5fd835be389627",
   "metadata": {
    "ExecuteTime": {
     "end_time": "2025-04-24T09:17:09.617148Z",
     "start_time": "2025-04-24T09:17:09.614129Z"
    }
   },
   "outputs": [],
   "source": [
    "def transform_percentage_to_number(df):\n",
    "    \"\"\"Transform percentage to number from range [0, 1]\"\"\"\n",
    "    percentage_columns = [\n",
    "        \"host_response_rate\",\n",
    "        \"host_acceptance_rate\",\n",
    "    ]\n",
    "    transform_percentage = lambda x: float(x.replace(\"%\", \"\")) / 100\n",
    "\n",
    "    for c in percentage_columns:\n",
    "        df[c] = df[c].apply(lambda x: transform_percentage(x) if isinstance(x, str) else x)\n",
    "    return df"
   ]
  },
  {
   "cell_type": "code",
   "execution_count": 55,
   "id": "97fb1f9293369ca3",
   "metadata": {
    "ExecuteTime": {
     "end_time": "2025-04-24T09:17:09.830361Z",
     "start_time": "2025-04-24T09:17:09.676038Z"
    }
   },
   "outputs": [
    {
     "name": "stdout",
     "output_type": "stream",
     "text": [
      "13984\n"
     ]
    },
    {
     "data": {
      "text/plain": [
       "price\n",
       "<class 'str'>      8990\n",
       "<class 'float'>    4994\n",
       "Name: count, dtype: int64"
      ]
     },
     "execution_count": 55,
     "metadata": {},
     "output_type": "execute_result"
    }
   ],
   "source": [
    "listings = get_listings()\n",
    "price = listings[\"price\"]\n",
    "print(len(price))\n",
    "price.map(lambda p: str(type(p))).value_counts()"
   ]
  },
  {
   "cell_type": "code",
   "execution_count": 56,
   "id": "3bd2e21a8b578eea",
   "metadata": {
    "ExecuteTime": {
     "end_time": "2025-04-24T09:17:09.900637Z",
     "start_time": "2025-04-24T09:17:09.896557Z"
    }
   },
   "outputs": [],
   "source": [
    "def transform_price(df):\n",
    "    \"\"\"Transform price column to float\"\"\"\n",
    "    transform_string_price = lambda p: float(p.replace(\"$\", \"\").replace(\",\", \"\"))\n",
    "\n",
    "    df[\"price\"] = df[\"price\"].apply(lambda p: transform_string_price(p) if isinstance(p, str) else p)\n",
    "    return df"
   ]
  },
  {
   "cell_type": "code",
   "execution_count": 57,
   "id": "4ffddfbbd0e8174c",
   "metadata": {
    "ExecuteTime": {
     "end_time": "2025-04-24T09:17:10.073488Z",
     "start_time": "2025-04-24T09:17:09.920405Z"
    }
   },
   "outputs": [
    {
     "name": "stdout",
     "output_type": "stream",
     "text": [
      "<class 'pandas.core.series.Series'>\n",
      "RangeIndex: 13984 entries, 0 to 13983\n",
      "Series name: price\n",
      "Non-Null Count  Dtype  \n",
      "--------------  -----  \n",
      "8990 non-null   float64\n",
      "dtypes: float64(1)\n",
      "memory usage: 109.4 KB\n"
     ]
    }
   ],
   "source": [
    "df = get_listings()\n",
    "df = transform_price(df)\n",
    "df[\"price\"].info()"
   ]
  },
  {
   "cell_type": "markdown",
   "id": "692a7c9f",
   "metadata": {},
   "source": [
    "### Dodatkowy atrybut - średnia ocena pozostałych ogłoszeń hosta \n"
   ]
  },
  {
   "cell_type": "code",
   "execution_count": 58,
   "id": "ad5a6764",
   "metadata": {
    "ExecuteTime": {
     "end_time": "2025-04-24T09:17:10.291785Z",
     "start_time": "2025-04-24T09:17:10.122130Z"
    }
   },
   "outputs": [
    {
     "name": "stdout",
     "output_type": "stream",
     "text": [
      "<class 'pandas.core.series.Series'>\n",
      "RangeIndex: 13984 entries, 0 to 13983\n",
      "Series name: avg_rating_by_host\n",
      "Non-Null Count  Dtype  \n",
      "--------------  -----  \n",
      "11820 non-null  float64\n",
      "dtypes: float64(1)\n",
      "memory usage: 109.4 KB\n",
      "None\n",
      "2164\n",
      "1114\n"
     ]
    }
   ],
   "source": [
    "def add_average_rating_by_host(df):\n",
    "    \"\"\"Add average rating by host\"\"\"\n",
    "    df[\"avg_rating_by_host\"] = df.groupby(\"host_id\")[\"avg_rating\"].transform(\"mean\")\n",
    "    return df\n",
    "\n",
    "\n",
    "df = get_listings()\n",
    "df = aggregate_rating_columns(df)\n",
    "df = add_average_rating_by_host(df)\n",
    "print(df[\"avg_rating_by_host\"].info())\n",
    "\n",
    "print(len(df[(df[\"avg_rating_by_host\"].isna()) & (df[\"avg_rating\"].isna())]))\n",
    "print(len(df[(df[\"avg_rating_by_host\"].notna()) & (df[\"avg_rating\"].isna())]))\n",
    "# Helps with about 20% of missing values\n"
   ]
  },
  {
   "cell_type": "markdown",
   "id": "3ea1970d",
   "metadata": {},
   "source": [
    "## Normalizacja atrybutów liczbowych"
   ]
  },
  {
   "cell_type": "code",
   "execution_count": 59,
   "id": "9e909a92f39ebebf",
   "metadata": {
    "ExecuteTime": {
     "end_time": "2025-04-24T09:17:10.585965Z",
     "start_time": "2025-04-24T09:17:10.300445Z"
    }
   },
   "outputs": [
    {
     "name": "stdout",
     "output_type": "stream",
     "text": [
      "Numerical columns: Index(['host_since', 'host_response_time', 'host_response_rate',\n",
      "       'host_acceptance_rate', 'host_is_superhost', 'host_listings_count',\n",
      "       'host_total_listings_count', 'host_has_profile_pic',\n",
      "       'host_identity_verified', 'accommodates', 'bathrooms', 'bedrooms',\n",
      "       'beds', 'price', 'minimum_nights', 'maximum_nights',\n",
      "       'minimum_minimum_nights', 'maximum_minimum_nights',\n",
      "       'minimum_maximum_nights', 'maximum_maximum_nights',\n",
      "       'minimum_nights_avg_ntm', 'maximum_nights_avg_ntm', 'has_availability',\n",
      "       'availability_30', 'availability_60', 'availability_90',\n",
      "       'availability_365', 'instant_bookable',\n",
      "       'calculated_host_listings_count',\n",
      "       'calculated_host_listings_count_entire_homes',\n",
      "       'calculated_host_listings_count_private_rooms',\n",
      "       'calculated_host_listings_count_shared_rooms', 'avg_rating',\n",
      "       'avg_rating_by_host'],\n",
      "      dtype='object')\n",
      "Mean before normalization: 4.727575791770125\n",
      "Stdev before normalization: 0.30233865196953147\n",
      "Mean after normalization: 1.4884127019813943e-15\n",
      "Stdev after normalization: 1.0000423038687078\n"
     ]
    }
   ],
   "source": [
    "df = get_listings()\n",
    "df = drop_useless_columns(df)\n",
    "df = drop_fulltext_columns(df)\n",
    "df = transform_binary_columns(df)\n",
    "df = aggregate_rating_columns(df)\n",
    "df = transform_price(df)\n",
    "df = transform_host_response_time(df)\n",
    "df = extract_is_shared_from_bathrooms_text(df)\n",
    "df = group_property_types(df)\n",
    "df = categorical_columns_one_hot_encoding(df)\n",
    "df = transform_host_since(df)\n",
    "df = transform_percentage_to_number(df)\n",
    "df = one_hot_encode_list_column(df, \"host_verifications\")\n",
    "df = add_average_rating_by_host(df)\n",
    "df = df.drop(columns=[\"host_id\"])  # after adding avg_rating_by_host\n",
    "\n",
    "# Not all should be normalized!\n",
    "print(f\"Numerical columns: {df.select_dtypes(include=[\"number\"]).columns}\")\n",
    "\n",
    "print(f\"Mean before normalization: {df[\"avg_rating_by_host\"].mean()}\")\n",
    "print(f\"Stdev before normalization: {df[\"avg_rating_by_host\"].std()}\")\n",
    "\n",
    "\n",
    "def normalize_numerical_columns(df):\n",
    "    \"\"\"Standardize numerical columns to have mean 0 and std 1\"\"\"\n",
    "\n",
    "    numerical_columns = [\n",
    "        \"maximum_nights\",\n",
    "        \"minimum_minimum_nights\",\n",
    "        \"maximum_minimum_nights\",\n",
    "        \"minimum_maximum_nights\",\n",
    "        \"maximum_maximum_nights\",\n",
    "        \"minimum_nights_avg_ntm\",\n",
    "        \"maximum_nights_avg_ntm\",\n",
    "        \"availability_30\",\n",
    "        \"availability_60\",\n",
    "        \"availability_90\",\n",
    "        \"availability_365\",\n",
    "        \"calculated_host_listings_count\",\n",
    "        \"calculated_host_listings_count_entire_homes\",\n",
    "        \"calculated_host_listings_count_private_rooms\",\n",
    "        \"calculated_host_listings_count_shared_rooms\",\n",
    "        \"price\",\n",
    "        \"avg_rating\",\n",
    "        \"avg_rating_by_host\",\n",
    "    ]\n",
    "    scaler = StandardScaler()\n",
    "\n",
    "    for c in numerical_columns:\n",
    "        df[c] = scaler.fit_transform(df[[c]])\n",
    "\n",
    "    return df\n",
    "\n",
    "\n",
    "df = normalize_numerical_columns(df)\n",
    "\n",
    "print(f\"Mean after normalization: {df[\"avg_rating_by_host\"].mean()}\")\n",
    "print(f\"Stdev after normalization: {df[\"avg_rating_by_host\"].std()}\")\n"
   ]
  },
  {
   "cell_type": "markdown",
   "id": "e56e62d4c8a78aec",
   "metadata": {},
   "source": [
    "## Final transformations"
   ]
  },
  {
   "cell_type": "code",
   "execution_count": 83,
   "id": "abf8b0e810dec956",
   "metadata": {
    "ExecuteTime": {
     "end_time": "2025-04-24T09:17:10.595425Z",
     "start_time": "2025-04-24T09:17:10.591683Z"
    }
   },
   "outputs": [],
   "source": [
    "def transform_listings(df, normalize_numerical: bool = True):\n",
    "    df = drop_useless_columns(df)\n",
    "    df = drop_fulltext_columns(df)\n",
    "    df = transform_binary_columns(df)\n",
    "    df = aggregate_rating_columns(df)\n",
    "    df = transform_price(df)\n",
    "    df = transform_host_response_time(df)\n",
    "    df = extract_num_bathrooms(df)\n",
    "    df = extract_is_shared_from_bathrooms_text(df)\n",
    "    df = group_property_types(df)\n",
    "    df = categorical_columns_one_hot_encoding(\n",
    "        df\n",
    "    )  # after extracting is_shared_bathroom and grouping property types!\n",
    "    df = transform_host_since(df)\n",
    "    df = transform_percentage_to_number(df)\n",
    "    df = one_hot_encode_list_column(df, \"host_verifications\")\n",
    "    df = add_average_rating_by_host(df)\n",
    "    df = df.drop(columns=[\"host_id\"])  # after adding avg_rating_by_host\n",
    "\n",
    "    if normalize_numerical:\n",
    "        df = normalize_numerical_columns(df)\n",
    "    return df\n"
   ]
  },
  {
   "cell_type": "code",
   "execution_count": 61,
   "id": "81181b1a42361987",
   "metadata": {
    "ExecuteTime": {
     "end_time": "2025-04-24T09:17:10.884350Z",
     "start_time": "2025-04-24T09:17:10.635277Z"
    }
   },
   "outputs": [],
   "source": [
    "listings = get_listings()\n",
    "listings = transform_listings(listings)"
   ]
  },
  {
   "cell_type": "code",
   "execution_count": 62,
   "id": "d70e16f09190df47",
   "metadata": {
    "ExecuteTime": {
     "end_time": "2025-04-24T09:17:10.903060Z",
     "start_time": "2025-04-24T09:17:10.890854Z"
    }
   },
   "outputs": [
    {
     "name": "stdout",
     "output_type": "stream",
     "text": [
      "<class 'pandas.core.frame.DataFrame'>\n",
      "RangeIndex: 13984 entries, 0 to 13983\n",
      "Data columns (total 59 columns):\n",
      " #   Column                                                 Non-Null Count  Dtype  \n",
      "---  ------                                                 --------------  -----  \n",
      " 0   host_since                                             13975 non-null  float64\n",
      " 1   host_response_time                                     8656 non-null   float64\n",
      " 2   host_response_rate                                     8656 non-null   float64\n",
      " 3   host_acceptance_rate                                   9447 non-null   float64\n",
      " 4   host_is_superhost                                      13984 non-null  int64  \n",
      " 5   host_listings_count                                    13975 non-null  float64\n",
      " 6   host_total_listings_count                              13975 non-null  float64\n",
      " 7   host_has_profile_pic                                   13984 non-null  int64  \n",
      " 8   host_identity_verified                                 13984 non-null  int64  \n",
      " 9   accommodates                                           13984 non-null  int64  \n",
      " 10  bathrooms                                              9002 non-null   float64\n",
      " 11  bedrooms                                               11924 non-null  float64\n",
      " 12  beds                                                   8971 non-null   float64\n",
      " 13  price                                                  8990 non-null   float64\n",
      " 14  minimum_nights                                         13984 non-null  int64  \n",
      " 15  maximum_nights                                         13984 non-null  float64\n",
      " 16  minimum_minimum_nights                                 13984 non-null  float64\n",
      " 17  maximum_minimum_nights                                 13984 non-null  float64\n",
      " 18  minimum_maximum_nights                                 13984 non-null  float64\n",
      " 19  maximum_maximum_nights                                 13984 non-null  float64\n",
      " 20  minimum_nights_avg_ntm                                 13984 non-null  float64\n",
      " 21  maximum_nights_avg_ntm                                 13984 non-null  float64\n",
      " 22  has_availability                                       13984 non-null  int64  \n",
      " 23  availability_30                                        13984 non-null  float64\n",
      " 24  availability_60                                        13984 non-null  float64\n",
      " 25  availability_90                                        13984 non-null  float64\n",
      " 26  availability_365                                       13984 non-null  float64\n",
      " 27  instant_bookable                                       13984 non-null  int64  \n",
      " 28  calculated_host_listings_count                         13984 non-null  float64\n",
      " 29  calculated_host_listings_count_entire_homes            13984 non-null  float64\n",
      " 30  calculated_host_listings_count_private_rooms           13984 non-null  float64\n",
      " 31  calculated_host_listings_count_shared_rooms            13984 non-null  float64\n",
      " 32  avg_rating                                             10706 non-null  float64\n",
      " 33  num_bathrooms                                          13977 non-null  float64\n",
      " 34  neighbourhood_group_cleansed_Friedrichshain-Kreuzberg  13984 non-null  bool   \n",
      " 35  neighbourhood_group_cleansed_Lichtenberg               13984 non-null  bool   \n",
      " 36  neighbourhood_group_cleansed_Marzahn - Hellersdorf     13984 non-null  bool   \n",
      " 37  neighbourhood_group_cleansed_Mitte                     13984 non-null  bool   \n",
      " 38  neighbourhood_group_cleansed_Neukölln                  13984 non-null  bool   \n",
      " 39  neighbourhood_group_cleansed_Pankow                    13984 non-null  bool   \n",
      " 40  neighbourhood_group_cleansed_Reinickendorf             13984 non-null  bool   \n",
      " 41  neighbourhood_group_cleansed_Spandau                   13984 non-null  bool   \n",
      " 42  neighbourhood_group_cleansed_Steglitz - Zehlendorf     13984 non-null  bool   \n",
      " 43  neighbourhood_group_cleansed_Tempelhof - Schöneberg    13984 non-null  bool   \n",
      " 44  neighbourhood_group_cleansed_Treptow - Köpenick        13984 non-null  bool   \n",
      " 45  property_type_condo                                    13984 non-null  bool   \n",
      " 46  property_type_entire rental unit                       13984 non-null  bool   \n",
      " 47  property_type_home                                     13984 non-null  bool   \n",
      " 48  property_type_other                                    13984 non-null  bool   \n",
      " 49  property_type_room                                     13984 non-null  bool   \n",
      " 50  room_type_Hotel room                                   13984 non-null  bool   \n",
      " 51  room_type_Private room                                 13984 non-null  bool   \n",
      " 52  room_type_Shared room                                  13984 non-null  bool   \n",
      " 53  is_shared_bathroom_1.0                                 13984 non-null  bool   \n",
      " 54  host_verifications_                                    13984 non-null  bool   \n",
      " 55  host_verifications_email                               13984 non-null  bool   \n",
      " 56  host_verifications_phone                               13984 non-null  bool   \n",
      " 57  host_verifications_work_email                          13984 non-null  bool   \n",
      " 58  avg_rating_by_host                                     11820 non-null  float64\n",
      "dtypes: bool(24), float64(28), int64(7)\n",
      "memory usage: 4.1 MB\n"
     ]
    }
   ],
   "source": [
    "listings.info()"
   ]
  },
  {
   "cell_type": "code",
   "execution_count": 63,
   "id": "98f828ea07561d4e",
   "metadata": {
    "ExecuteTime": {
     "end_time": "2025-04-24T09:17:10.965989Z",
     "start_time": "2025-04-24T09:17:10.943408Z"
    }
   },
   "outputs": [
    {
     "data": {
      "text/html": [
       "<div>\n",
       "<style scoped>\n",
       "    .dataframe tbody tr th:only-of-type {\n",
       "        vertical-align: middle;\n",
       "    }\n",
       "\n",
       "    .dataframe tbody tr th {\n",
       "        vertical-align: top;\n",
       "    }\n",
       "\n",
       "    .dataframe thead th {\n",
       "        text-align: right;\n",
       "    }\n",
       "</style>\n",
       "<table border=\"1\" class=\"dataframe\">\n",
       "  <thead>\n",
       "    <tr style=\"text-align: right;\">\n",
       "      <th></th>\n",
       "      <th>host_since</th>\n",
       "      <th>host_response_time</th>\n",
       "      <th>host_response_rate</th>\n",
       "      <th>host_acceptance_rate</th>\n",
       "      <th>host_is_superhost</th>\n",
       "      <th>host_listings_count</th>\n",
       "      <th>host_total_listings_count</th>\n",
       "      <th>host_has_profile_pic</th>\n",
       "      <th>host_identity_verified</th>\n",
       "      <th>accommodates</th>\n",
       "      <th>...</th>\n",
       "      <th>property_type_room</th>\n",
       "      <th>room_type_Hotel room</th>\n",
       "      <th>room_type_Private room</th>\n",
       "      <th>room_type_Shared room</th>\n",
       "      <th>is_shared_bathroom_1.0</th>\n",
       "      <th>host_verifications_</th>\n",
       "      <th>host_verifications_email</th>\n",
       "      <th>host_verifications_phone</th>\n",
       "      <th>host_verifications_work_email</th>\n",
       "      <th>avg_rating_by_host</th>\n",
       "    </tr>\n",
       "  </thead>\n",
       "  <tbody>\n",
       "    <tr>\n",
       "      <th>0</th>\n",
       "      <td>12.0</td>\n",
       "      <td>NaN</td>\n",
       "      <td>NaN</td>\n",
       "      <td>NaN</td>\n",
       "      <td>0</td>\n",
       "      <td>1.0</td>\n",
       "      <td>1.0</td>\n",
       "      <td>1</td>\n",
       "      <td>1</td>\n",
       "      <td>2</td>\n",
       "      <td>...</td>\n",
       "      <td>False</td>\n",
       "      <td>False</td>\n",
       "      <td>False</td>\n",
       "      <td>False</td>\n",
       "      <td>False</td>\n",
       "      <td>False</td>\n",
       "      <td>True</td>\n",
       "      <td>True</td>\n",
       "      <td>False</td>\n",
       "      <td>0.560875</td>\n",
       "    </tr>\n",
       "    <tr>\n",
       "      <th>1</th>\n",
       "      <td>7.0</td>\n",
       "      <td>1.0</td>\n",
       "      <td>1.0</td>\n",
       "      <td>0.58</td>\n",
       "      <td>0</td>\n",
       "      <td>7.0</td>\n",
       "      <td>7.0</td>\n",
       "      <td>1</td>\n",
       "      <td>1</td>\n",
       "      <td>2</td>\n",
       "      <td>...</td>\n",
       "      <td>True</td>\n",
       "      <td>False</td>\n",
       "      <td>True</td>\n",
       "      <td>False</td>\n",
       "      <td>True</td>\n",
       "      <td>False</td>\n",
       "      <td>True</td>\n",
       "      <td>True</td>\n",
       "      <td>False</td>\n",
       "      <td>NaN</td>\n",
       "    </tr>\n",
       "    <tr>\n",
       "      <th>2</th>\n",
       "      <td>10.0</td>\n",
       "      <td>1.0</td>\n",
       "      <td>1.0</td>\n",
       "      <td>1.00</td>\n",
       "      <td>1</td>\n",
       "      <td>1.0</td>\n",
       "      <td>1.0</td>\n",
       "      <td>1</td>\n",
       "      <td>1</td>\n",
       "      <td>2</td>\n",
       "      <td>...</td>\n",
       "      <td>True</td>\n",
       "      <td>False</td>\n",
       "      <td>True</td>\n",
       "      <td>False</td>\n",
       "      <td>False</td>\n",
       "      <td>False</td>\n",
       "      <td>True</td>\n",
       "      <td>True</td>\n",
       "      <td>False</td>\n",
       "      <td>0.787688</td>\n",
       "    </tr>\n",
       "    <tr>\n",
       "      <th>3</th>\n",
       "      <td>10.0</td>\n",
       "      <td>NaN</td>\n",
       "      <td>NaN</td>\n",
       "      <td>NaN</td>\n",
       "      <td>0</td>\n",
       "      <td>1.0</td>\n",
       "      <td>3.0</td>\n",
       "      <td>1</td>\n",
       "      <td>1</td>\n",
       "      <td>2</td>\n",
       "      <td>...</td>\n",
       "      <td>False</td>\n",
       "      <td>False</td>\n",
       "      <td>False</td>\n",
       "      <td>False</td>\n",
       "      <td>False</td>\n",
       "      <td>False</td>\n",
       "      <td>True</td>\n",
       "      <td>True</td>\n",
       "      <td>False</td>\n",
       "      <td>-1.461541</td>\n",
       "    </tr>\n",
       "    <tr>\n",
       "      <th>4</th>\n",
       "      <td>8.0</td>\n",
       "      <td>NaN</td>\n",
       "      <td>NaN</td>\n",
       "      <td>NaN</td>\n",
       "      <td>0</td>\n",
       "      <td>1.0</td>\n",
       "      <td>1.0</td>\n",
       "      <td>1</td>\n",
       "      <td>1</td>\n",
       "      <td>3</td>\n",
       "      <td>...</td>\n",
       "      <td>False</td>\n",
       "      <td>False</td>\n",
       "      <td>False</td>\n",
       "      <td>False</td>\n",
       "      <td>False</td>\n",
       "      <td>False</td>\n",
       "      <td>True</td>\n",
       "      <td>True</td>\n",
       "      <td>False</td>\n",
       "      <td>NaN</td>\n",
       "    </tr>\n",
       "    <tr>\n",
       "      <th>...</th>\n",
       "      <td>...</td>\n",
       "      <td>...</td>\n",
       "      <td>...</td>\n",
       "      <td>...</td>\n",
       "      <td>...</td>\n",
       "      <td>...</td>\n",
       "      <td>...</td>\n",
       "      <td>...</td>\n",
       "      <td>...</td>\n",
       "      <td>...</td>\n",
       "      <td>...</td>\n",
       "      <td>...</td>\n",
       "      <td>...</td>\n",
       "      <td>...</td>\n",
       "      <td>...</td>\n",
       "      <td>...</td>\n",
       "      <td>...</td>\n",
       "      <td>...</td>\n",
       "      <td>...</td>\n",
       "      <td>...</td>\n",
       "      <td>...</td>\n",
       "    </tr>\n",
       "    <tr>\n",
       "      <th>13979</th>\n",
       "      <td>8.0</td>\n",
       "      <td>1.0</td>\n",
       "      <td>1.0</td>\n",
       "      <td>0.97</td>\n",
       "      <td>1</td>\n",
       "      <td>3.0</td>\n",
       "      <td>3.0</td>\n",
       "      <td>1</td>\n",
       "      <td>1</td>\n",
       "      <td>1</td>\n",
       "      <td>...</td>\n",
       "      <td>True</td>\n",
       "      <td>False</td>\n",
       "      <td>True</td>\n",
       "      <td>False</td>\n",
       "      <td>False</td>\n",
       "      <td>False</td>\n",
       "      <td>True</td>\n",
       "      <td>True</td>\n",
       "      <td>False</td>\n",
       "      <td>0.633329</td>\n",
       "    </tr>\n",
       "    <tr>\n",
       "      <th>13980</th>\n",
       "      <td>3.0</td>\n",
       "      <td>1.0</td>\n",
       "      <td>1.0</td>\n",
       "      <td>1.00</td>\n",
       "      <td>0</td>\n",
       "      <td>58.0</td>\n",
       "      <td>59.0</td>\n",
       "      <td>1</td>\n",
       "      <td>1</td>\n",
       "      <td>2</td>\n",
       "      <td>...</td>\n",
       "      <td>False</td>\n",
       "      <td>False</td>\n",
       "      <td>False</td>\n",
       "      <td>False</td>\n",
       "      <td>False</td>\n",
       "      <td>False</td>\n",
       "      <td>True</td>\n",
       "      <td>True</td>\n",
       "      <td>False</td>\n",
       "      <td>-5.478020</td>\n",
       "    </tr>\n",
       "    <tr>\n",
       "      <th>13981</th>\n",
       "      <td>1.0</td>\n",
       "      <td>NaN</td>\n",
       "      <td>NaN</td>\n",
       "      <td>NaN</td>\n",
       "      <td>0</td>\n",
       "      <td>6.0</td>\n",
       "      <td>6.0</td>\n",
       "      <td>1</td>\n",
       "      <td>1</td>\n",
       "      <td>2</td>\n",
       "      <td>...</td>\n",
       "      <td>True</td>\n",
       "      <td>False</td>\n",
       "      <td>True</td>\n",
       "      <td>False</td>\n",
       "      <td>False</td>\n",
       "      <td>False</td>\n",
       "      <td>True</td>\n",
       "      <td>True</td>\n",
       "      <td>False</td>\n",
       "      <td>NaN</td>\n",
       "    </tr>\n",
       "    <tr>\n",
       "      <th>13982</th>\n",
       "      <td>13.0</td>\n",
       "      <td>NaN</td>\n",
       "      <td>NaN</td>\n",
       "      <td>NaN</td>\n",
       "      <td>0</td>\n",
       "      <td>2.0</td>\n",
       "      <td>2.0</td>\n",
       "      <td>1</td>\n",
       "      <td>1</td>\n",
       "      <td>2</td>\n",
       "      <td>...</td>\n",
       "      <td>False</td>\n",
       "      <td>False</td>\n",
       "      <td>False</td>\n",
       "      <td>False</td>\n",
       "      <td>False</td>\n",
       "      <td>False</td>\n",
       "      <td>True</td>\n",
       "      <td>True</td>\n",
       "      <td>False</td>\n",
       "      <td>-0.407805</td>\n",
       "    </tr>\n",
       "    <tr>\n",
       "      <th>13983</th>\n",
       "      <td>11.0</td>\n",
       "      <td>3.0</td>\n",
       "      <td>1.0</td>\n",
       "      <td>NaN</td>\n",
       "      <td>0</td>\n",
       "      <td>1.0</td>\n",
       "      <td>1.0</td>\n",
       "      <td>1</td>\n",
       "      <td>1</td>\n",
       "      <td>4</td>\n",
       "      <td>...</td>\n",
       "      <td>False</td>\n",
       "      <td>False</td>\n",
       "      <td>False</td>\n",
       "      <td>False</td>\n",
       "      <td>False</td>\n",
       "      <td>False</td>\n",
       "      <td>True</td>\n",
       "      <td>True</td>\n",
       "      <td>False</td>\n",
       "      <td>NaN</td>\n",
       "    </tr>\n",
       "  </tbody>\n",
       "</table>\n",
       "<p>13984 rows × 59 columns</p>\n",
       "</div>"
      ],
      "text/plain": [
       "       host_since  host_response_time  host_response_rate  \\\n",
       "0            12.0                 NaN                 NaN   \n",
       "1             7.0                 1.0                 1.0   \n",
       "2            10.0                 1.0                 1.0   \n",
       "3            10.0                 NaN                 NaN   \n",
       "4             8.0                 NaN                 NaN   \n",
       "...           ...                 ...                 ...   \n",
       "13979         8.0                 1.0                 1.0   \n",
       "13980         3.0                 1.0                 1.0   \n",
       "13981         1.0                 NaN                 NaN   \n",
       "13982        13.0                 NaN                 NaN   \n",
       "13983        11.0                 3.0                 1.0   \n",
       "\n",
       "       host_acceptance_rate  host_is_superhost  host_listings_count  \\\n",
       "0                       NaN                  0                  1.0   \n",
       "1                      0.58                  0                  7.0   \n",
       "2                      1.00                  1                  1.0   \n",
       "3                       NaN                  0                  1.0   \n",
       "4                       NaN                  0                  1.0   \n",
       "...                     ...                ...                  ...   \n",
       "13979                  0.97                  1                  3.0   \n",
       "13980                  1.00                  0                 58.0   \n",
       "13981                   NaN                  0                  6.0   \n",
       "13982                   NaN                  0                  2.0   \n",
       "13983                   NaN                  0                  1.0   \n",
       "\n",
       "       host_total_listings_count  host_has_profile_pic  \\\n",
       "0                            1.0                     1   \n",
       "1                            7.0                     1   \n",
       "2                            1.0                     1   \n",
       "3                            3.0                     1   \n",
       "4                            1.0                     1   \n",
       "...                          ...                   ...   \n",
       "13979                        3.0                     1   \n",
       "13980                       59.0                     1   \n",
       "13981                        6.0                     1   \n",
       "13982                        2.0                     1   \n",
       "13983                        1.0                     1   \n",
       "\n",
       "       host_identity_verified  accommodates  ...  property_type_room  \\\n",
       "0                           1             2  ...               False   \n",
       "1                           1             2  ...                True   \n",
       "2                           1             2  ...                True   \n",
       "3                           1             2  ...               False   \n",
       "4                           1             3  ...               False   \n",
       "...                       ...           ...  ...                 ...   \n",
       "13979                       1             1  ...                True   \n",
       "13980                       1             2  ...               False   \n",
       "13981                       1             2  ...                True   \n",
       "13982                       1             2  ...               False   \n",
       "13983                       1             4  ...               False   \n",
       "\n",
       "       room_type_Hotel room  room_type_Private room  room_type_Shared room  \\\n",
       "0                     False                   False                  False   \n",
       "1                     False                    True                  False   \n",
       "2                     False                    True                  False   \n",
       "3                     False                   False                  False   \n",
       "4                     False                   False                  False   \n",
       "...                     ...                     ...                    ...   \n",
       "13979                 False                    True                  False   \n",
       "13980                 False                   False                  False   \n",
       "13981                 False                    True                  False   \n",
       "13982                 False                   False                  False   \n",
       "13983                 False                   False                  False   \n",
       "\n",
       "       is_shared_bathroom_1.0  host_verifications_  host_verifications_email  \\\n",
       "0                       False                False                      True   \n",
       "1                        True                False                      True   \n",
       "2                       False                False                      True   \n",
       "3                       False                False                      True   \n",
       "4                       False                False                      True   \n",
       "...                       ...                  ...                       ...   \n",
       "13979                   False                False                      True   \n",
       "13980                   False                False                      True   \n",
       "13981                   False                False                      True   \n",
       "13982                   False                False                      True   \n",
       "13983                   False                False                      True   \n",
       "\n",
       "       host_verifications_phone  host_verifications_work_email  \\\n",
       "0                          True                          False   \n",
       "1                          True                          False   \n",
       "2                          True                          False   \n",
       "3                          True                          False   \n",
       "4                          True                          False   \n",
       "...                         ...                            ...   \n",
       "13979                      True                          False   \n",
       "13980                      True                          False   \n",
       "13981                      True                          False   \n",
       "13982                      True                          False   \n",
       "13983                      True                          False   \n",
       "\n",
       "       avg_rating_by_host  \n",
       "0                0.560875  \n",
       "1                     NaN  \n",
       "2                0.787688  \n",
       "3               -1.461541  \n",
       "4                     NaN  \n",
       "...                   ...  \n",
       "13979            0.633329  \n",
       "13980           -5.478020  \n",
       "13981                 NaN  \n",
       "13982           -0.407805  \n",
       "13983                 NaN  \n",
       "\n",
       "[13984 rows x 59 columns]"
      ]
     },
     "execution_count": 63,
     "metadata": {},
     "output_type": "execute_result"
    }
   ],
   "source": [
    "listings"
   ]
  },
  {
   "cell_type": "markdown",
   "id": "6751d7c08c172b91",
   "metadata": {},
   "source": [
    "## Brakujące wartości atrybutów\n",
    "\n",
    "* Patrzymy na podzbiór gdzie brakuje oceny - to będzie nasz zbiór treningowy\n",
    "* Brak price, beds, bathrooms występuje jednocześnie\n",
    "* Jest mocno skorelowany z brakami w reszcie atrybutów"
   ]
  },
  {
   "cell_type": "code",
   "execution_count": 64,
   "id": "ac112c9a1c2c348",
   "metadata": {
    "ExecuteTime": {
     "end_time": "2025-04-24T09:17:11.058932Z",
     "start_time": "2025-04-24T09:17:11.049397Z"
    }
   },
   "outputs": [
    {
     "data": {
      "text/plain": [
       "price                   0.36\n",
       "beds                    0.36\n",
       "bathrooms               0.36\n",
       "host_response_time      0.34\n",
       "host_response_rate      0.34\n",
       "host_acceptance_rate    0.27\n",
       "bedrooms                0.15\n",
       "dtype: float64"
      ]
     },
     "execution_count": 64,
     "metadata": {},
     "output_type": "execute_result"
    }
   ],
   "source": [
    "listings = listings[listings[\"avg_rating\"].notna()]\n",
    "missing_ratio = round(listings.isna().sum() / len(listings), 2)\n",
    "missing_ratio[missing_ratio > 0].sort_values(ascending=False)"
   ]
  },
  {
   "cell_type": "code",
   "execution_count": 65,
   "id": "4d37bb8668a8e90e",
   "metadata": {
    "ExecuteTime": {
     "end_time": "2025-04-24T09:17:11.159885Z",
     "start_time": "2025-04-24T09:17:11.150019Z"
    }
   },
   "outputs": [
    {
     "name": "stdout",
     "output_type": "stream",
     "text": [
      "3809\n"
     ]
    },
    {
     "data": {
      "text/plain": [
       "price                   1.00\n",
       "beds                    1.00\n",
       "bathrooms               1.00\n",
       "host_response_time      0.78\n",
       "host_response_rate      0.78\n",
       "host_acceptance_rate    0.68\n",
       "bedrooms                0.41\n",
       "dtype: float64"
      ]
     },
     "execution_count": 65,
     "metadata": {},
     "output_type": "execute_result"
    }
   ],
   "source": [
    "listings_no_price = listings[listings[\"price\"].isna()]\n",
    "print(len(listings_no_price))\n",
    "missing_ratio = round(listings_no_price.isna().sum() / len(listings_no_price), 2)\n",
    "missing_ratio[missing_ratio > 0].sort_values(ascending=False)"
   ]
  },
  {
   "cell_type": "code",
   "execution_count": 66,
   "id": "dae7fa54c1011e58",
   "metadata": {
    "ExecuteTime": {
     "end_time": "2025-04-24T09:17:11.421240Z",
     "start_time": "2025-04-24T09:17:11.413210Z"
    }
   },
   "outputs": [
    {
     "data": {
      "text/plain": [
       "beds                    1.00\n",
       "bathrooms               0.99\n",
       "price                   0.99\n",
       "host_response_time      0.78\n",
       "host_response_rate      0.78\n",
       "host_acceptance_rate    0.67\n",
       "bedrooms                0.41\n",
       "dtype: float64"
      ]
     },
     "execution_count": 66,
     "metadata": {},
     "output_type": "execute_result"
    }
   ],
   "source": [
    "listings_no_beds = listings[listings[\"beds\"].isna()]\n",
    "missing_ratio = round(listings_no_beds.isna().sum() / len(listings_no_beds), 2)\n",
    "missing_ratio[missing_ratio > 0].sort_values(ascending=False)"
   ]
  },
  {
   "cell_type": "code",
   "execution_count": 67,
   "id": "7fb17153a815d44d",
   "metadata": {
    "ExecuteTime": {
     "end_time": "2025-04-24T09:17:11.763808Z",
     "start_time": "2025-04-24T09:17:11.596905Z"
    }
   },
   "outputs": [
    {
     "data": {
      "text/plain": [
       "13984"
      ]
     },
     "execution_count": 67,
     "metadata": {},
     "output_type": "execute_result"
    }
   ],
   "source": [
    "listings = get_listings()\n",
    "len(listings)"
   ]
  },
  {
   "cell_type": "code",
   "execution_count": 68,
   "id": "700cb325",
   "metadata": {
    "ExecuteTime": {
     "end_time": "2025-04-24T09:17:12.135334Z",
     "start_time": "2025-04-24T09:17:11.853802Z"
    }
   },
   "outputs": [
    {
     "data": {
      "text/plain": [
       "Index(['host_since', 'host_response_time', 'host_response_rate',\n",
       "       'host_acceptance_rate', 'host_is_superhost', 'host_listings_count',\n",
       "       'host_total_listings_count', 'host_has_profile_pic',\n",
       "       'host_identity_verified', 'accommodates', 'bathrooms', 'bedrooms',\n",
       "       'beds', 'price', 'minimum_nights', 'maximum_nights',\n",
       "       'minimum_minimum_nights', 'maximum_minimum_nights',\n",
       "       'minimum_maximum_nights', 'maximum_maximum_nights',\n",
       "       'minimum_nights_avg_ntm', 'maximum_nights_avg_ntm', 'has_availability',\n",
       "       'availability_30', 'availability_60', 'availability_90',\n",
       "       'availability_365', 'instant_bookable',\n",
       "       'calculated_host_listings_count',\n",
       "       'calculated_host_listings_count_entire_homes',\n",
       "       'calculated_host_listings_count_private_rooms',\n",
       "       'calculated_host_listings_count_shared_rooms', 'avg_rating',\n",
       "       'num_bathrooms', 'avg_rating_by_host'],\n",
       "      dtype='object')"
      ]
     },
     "execution_count": 68,
     "metadata": {},
     "output_type": "execute_result"
    }
   ],
   "source": [
    "listings = transform_listings(get_listings())\n",
    "listings.select_dtypes(include=[\"number\"]).columns"
   ]
  },
  {
   "cell_type": "markdown",
   "id": "782f6e6c",
   "metadata": {},
   "source": [
    "\n",
    "## Analiza korelacji atrybutów liczbowych i średniej oceny"
   ]
  },
  {
   "cell_type": "code",
   "execution_count": 69,
   "id": "8d6e2b5c826e946d",
   "metadata": {
    "ExecuteTime": {
     "end_time": "2025-04-24T09:17:12.686294Z",
     "start_time": "2025-04-24T09:17:12.201342Z"
    }
   },
   "outputs": [
    {
     "name": "stdout",
     "output_type": "stream",
     "text": [
      "avg_rating_by_host                              0.802230\n",
      "calculated_host_listings_count                 -0.209784\n",
      "calculated_host_listings_count_entire_homes    -0.197717\n",
      "availability_365                               -0.164865\n",
      "availability_30                                -0.127890\n",
      "availability_60                                -0.120489\n",
      "availability_90                                -0.115203\n",
      "calculated_host_listings_count_private_rooms   -0.115010\n",
      "maximum_minimum_nights                         -0.106261\n",
      "maximum_nights                                 -0.067692\n",
      "minimum_minimum_nights                         -0.045542\n",
      "minimum_nights_avg_ntm                         -0.041758\n",
      "price                                          -0.039740\n",
      "calculated_host_listings_count_shared_rooms    -0.023817\n",
      "num_bathrooms                                   0.023650\n",
      "minimum_maximum_nights                          0.000220\n",
      "maximum_nights_avg_ntm                          0.000220\n",
      "maximum_maximum_nights                          0.000220\n",
      "Name: avg_rating, dtype: float64\n"
     ]
    },
    {
     "data": {
      "image/png": "[encoded data removed]",
      "text/plain": [
       "<Figure size 1000x600 with 1 Axes>"
      ]
     },
     "metadata": {},
     "output_type": "display_data"
    }
   ],
   "source": [
    "numerical_columns = [\n",
    "    \"maximum_nights\",\n",
    "    \"minimum_minimum_nights\",\n",
    "    \"maximum_minimum_nights\",\n",
    "    \"minimum_maximum_nights\",\n",
    "    \"maximum_maximum_nights\",\n",
    "    \"minimum_nights_avg_ntm\",\n",
    "    \"maximum_nights_avg_ntm\",\n",
    "    \"availability_30\",\n",
    "    \"availability_60\",\n",
    "    \"availability_90\",\n",
    "    \"availability_365\",\n",
    "    \"calculated_host_listings_count\",\n",
    "    \"calculated_host_listings_count_entire_homes\",\n",
    "    \"calculated_host_listings_count_private_rooms\",\n",
    "    \"calculated_host_listings_count_shared_rooms\",\n",
    "    \"price\",\n",
    "    \"avg_rating_by_host\",\n",
    "    \"num_bathrooms\"\n",
    "]\n",
    "target = \"avg_rating\"\n",
    "df = transform_listings(get_listings())\n",
    "\n",
    "non_empty = df[[target] + numerical_columns].dropna()\n",
    "corr_matrix = non_empty.corr()\n",
    "correlations_with_target = corr_matrix[target].drop(target).sort_values(key=abs, ascending=False)\n",
    "print(correlations_with_target)\n",
    "\n",
    "plt.figure(figsize=(10, 6))\n",
    "sns.barplot(x=correlations_with_target.values, y=correlations_with_target.index)\n",
    "plt.title('Correlation with review_scores_rating')\n",
    "plt.xlabel('Correlation Coefficient')\n",
    "plt.tight_layout()\n",
    "plt.show()\n",
    "\n",
    "\n"
   ]
  },
  {
   "cell_type": "code",
   "execution_count": 70,
   "id": "2d35dfb49c0984e3",
   "metadata": {
    "ExecuteTime": {
     "end_time": "2025-04-24T09:17:13.105132Z",
     "start_time": "2025-04-24T09:17:12.691343Z"
    }
   },
   "outputs": [
    {
     "data": {
      "image/png": "[encoded data removed]",
      "text/plain": [
       "<Figure size 1000x600 with 1 Axes>"
      ]
     },
     "metadata": {},
     "output_type": "display_data"
    },
    {
     "name": "stdout",
     "output_type": "stream",
     "text": [
      "avg_rating_by_host                              2.709162\n",
      "calculated_host_listings_count                  0.144839\n",
      "calculated_host_listings_count_entire_homes     0.102992\n",
      "calculated_host_listings_count_private_rooms    0.062053\n",
      "availability_30                                 0.053629\n",
      "minimum_nights_avg_ntm                          0.051913\n",
      "availability_90                                 0.051599\n",
      "maximum_minimum_nights                          0.046617\n",
      "availability_60                                 0.043887\n",
      "availability_365                                0.043633\n",
      "minimum_minimum_nights                          0.043626\n",
      "maximum_nights                                  0.041204\n",
      "minimum_maximum_nights                          0.035078\n",
      "maximum_nights_avg_ntm                          0.022076\n",
      "maximum_maximum_nights                          0.020467\n",
      "price                                           0.001069\n",
      "calculated_host_listings_count_shared_rooms     0.000000\n",
      "num_bathrooms                                   0.000000\n",
      "dtype: float64\n"
     ]
    }
   ],
   "source": [
    "X = non_empty[numerical_columns]\n",
    "y = non_empty[target]\n",
    "mi = mutual_info_regression(X, y)\n",
    "mi = pd.Series(mi, index=X.columns).sort_values(ascending=False)\n",
    "\n",
    "plt.figure(figsize=(10, 6))\n",
    "sns.barplot(x=mi.values, y=mi.index)\n",
    "plt.title('Mutual Information with avg_rating')\n",
    "plt.xlabel('Mutual Information')\n",
    "plt.xlabel('Feature')\n",
    "plt.tight_layout()\n",
    "plt.show()\n",
    "print(mi)"
   ]
  },
  {
   "cell_type": "markdown",
   "id": "d09abad7",
   "metadata": {},
   "source": [
    "## Analiza rozkładów interesujących atrybutów\n",
    "Za interesujące uważamy atrybuty o najwyższym współczynniku korelacji i wzajemnej informacji"
   ]
  },
  {
   "cell_type": "code",
   "execution_count": 92,
   "id": "7a0bb2f0",
   "metadata": {},
   "outputs": [
    {
     "data": {
      "image/png": "[encoded data removed]",
      "text/plain": [
       "<Figure size 640x480 with 1 Axes>"
      ]
     },
     "metadata": {},
     "output_type": "display_data"
    },
    {
     "data": {
      "image/png": "[encoded data removed]",
      "text/plain": [
       "<Figure size 640x480 with 1 Axes>"
      ]
     },
     "metadata": {},
     "output_type": "display_data"
    },
    {
     "data": {
      "image/png": "[encoded data removed]",
      "text/plain": [
       "<Figure size 640x480 with 1 Axes>"
      ]
     },
     "metadata": {},
     "output_type": "display_data"
    },
    {
     "data": {
      "image/png": "[encoded data removed]",
      "text/plain": [
       "<Figure size 640x480 with 1 Axes>"
      ]
     },
     "metadata": {},
     "output_type": "display_data"
    },
    {
     "data": {
      "image/png": "[encoded data removed]",
      "text/plain": [
       "<Figure size 640x480 with 1 Axes>"
      ]
     },
     "metadata": {},
     "output_type": "display_data"
    },
    {
     "data": {
      "image/png": "[encoded data removed]",
      "text/plain": [
       "<Figure size 640x480 with 1 Axes>"
      ]
     },
     "metadata": {},
     "output_type": "display_data"
    },
    {
     "data": {
      "text/plain": [
       "0        4.897143\n",
       "1             NaN\n",
       "2        4.965714\n",
       "3        4.285714\n",
       "4             NaN\n",
       "           ...   \n",
       "13979    4.919048\n",
       "13980    3.071429\n",
       "13981         NaN\n",
       "13982    4.604286\n",
       "13983         NaN\n",
       "Name: avg_rating_by_host, Length: 13984, dtype: float64"
      ]
     },
     "execution_count": 92,
     "metadata": {},
     "output_type": "execute_result"
    }
   ],
   "source": [
    "interesting_cols = [\"avg_rating_by_host\", \"calculated_host_listings_count\", \"calculated_host_listings_count_entire_homes\", \"calculated_host_listings_count_private_rooms\", \"availability_365\", \"availability_90\"]\n",
    "\n",
    "def is_categorical(series, threshold=10):\n",
    "    # Explicitly check for object, bool, or category types\n",
    "    if series.dtype == \"object\" or series.dtype.name == \"category\" or series.dtype == \"bool\":\n",
    "        return True\n",
    "    # Optionally treat numerics with low cardinality as categorical\n",
    "    elif pd.api.types.is_numeric_dtype(series):\n",
    "        return series.nunique() < threshold\n",
    "    return False\n",
    "\n",
    "\n",
    "for col in interesting_cols:\n",
    "    if is_categorical(listings[col]):\n",
    "        kind = \"bar\"\n",
    "    else:\n",
    "        kind = \"line\"\n",
    "\n",
    "    kind = \"bar\"\n",
    "    \n",
    "    plt.figure()\n",
    "    listings[col].value_counts().sort_index().plot(kind=kind)\n",
    "    plt.title(col)  \n",
    "    plt.xlabel(col)\n",
    "    plt.ylabel(\"Count\")\n",
    "    plt.tight_layout()\n",
    "    plt.show()\n",
    "\n",
    "\n",
    "listings = transform_listings(get_listings(), normalize_numerical=False)\n",
    "listings[\"calculated_host_listings_count_private_rooms\"]\n",
    "listings[\"avg_rating_by_host\"]\n",
    "\n"
   ]
  },
  {
   "cell_type": "code",
   "execution_count": 89,
   "id": "880340c2",
   "metadata": {},
   "outputs": [
    {
     "name": "stdout",
     "output_type": "stream",
     "text": [
      "Mean: 4.727575791770125\n",
      "Std: 0.30233865196953147\n"
     ]
    }
   ],
   "source": [
    "print(f\"Mean: {listings[\"avg_rating_by_host\"].mean()}\")\n",
    "print(f\"Std: {listings[\"avg_rating_by_host\"].std()}\")"
   ]
  },
  {
   "cell_type": "markdown",
   "id": "d43921a5",
   "metadata": {},
   "source": [
    "\n",
    "### Obserwacje\n",
    "* `avg_rating_by_host` - rozkład bardzo podobny do kolumny docelowej\n",
    "* znacząca większość ogłaszających ma jedno ogłoszenie"
   ]
  },
  {
   "cell_type": "markdown",
   "id": "8be2fd3e",
   "metadata": {},
   "source": [
    "## Wstępny format danych wejściowych do modelu"
   ]
  },
  {
   "cell_type": "code",
   "execution_count": null,
   "id": "1f4bf98e",
   "metadata": {},
   "outputs": [
    {
     "name": "stdout",
     "output_type": "stream",
     "text": [
      "Index(['host_since', 'host_response_time', 'host_response_rate',\n",
      "       'host_acceptance_rate', 'host_is_superhost', 'host_listings_count',\n",
      "       'host_total_listings_count', 'host_has_profile_pic',\n",
      "       'host_identity_verified', 'accommodates', 'bathrooms', 'bedrooms',\n",
      "       'beds', 'price', 'minimum_nights', 'maximum_nights',\n",
      "       'minimum_minimum_nights', 'maximum_minimum_nights',\n",
      "       'minimum_maximum_nights', 'maximum_maximum_nights',\n",
      "       'minimum_nights_avg_ntm', 'maximum_nights_avg_ntm', 'has_availability',\n",
      "       'availability_30', 'availability_60', 'availability_90',\n",
      "       'availability_365', 'instant_bookable',\n",
      "       'calculated_host_listings_count',\n",
      "       'calculated_host_listings_count_entire_homes',\n",
      "       'calculated_host_listings_count_private_rooms',\n",
      "       'calculated_host_listings_count_shared_rooms', 'avg_rating',\n",
      "       'num_bathrooms',\n",
      "       'neighbourhood_group_cleansed_Friedrichshain-Kreuzberg',\n",
      "       'neighbourhood_group_cleansed_Lichtenberg',\n",
      "       'neighbourhood_group_cleansed_Marzahn - Hellersdorf',\n",
      "       'neighbourhood_group_cleansed_Mitte',\n",
      "       'neighbourhood_group_cleansed_Neukölln',\n",
      "       'neighbourhood_group_cleansed_Pankow',\n",
      "       'neighbourhood_group_cleansed_Reinickendorf',\n",
      "       'neighbourhood_group_cleansed_Spandau',\n",
      "       'neighbourhood_group_cleansed_Steglitz - Zehlendorf',\n",
      "       'neighbourhood_group_cleansed_Tempelhof - Schöneberg',\n",
      "       'neighbourhood_group_cleansed_Treptow - Köpenick',\n",
      "       'property_type_condo', 'property_type_entire rental unit',\n",
      "       'property_type_home', 'property_type_other', 'property_type_room',\n",
      "       'room_type_Hotel room', 'room_type_Private room',\n",
      "       'room_type_Shared room', 'is_shared_bathroom_1.0',\n",
      "       'host_verifications_', 'host_verifications_email',\n",
      "       'host_verifications_phone', 'host_verifications_work_email',\n",
      "       'avg_rating_by_host'],\n",
      "      dtype='object')\n"
     ]
    },
    {
     "data": {
      "text/html": [
       "<div>\n",
       "<style scoped>\n",
       "    .dataframe tbody tr th:only-of-type {\n",
       "        vertical-align: middle;\n",
       "    }\n",
       "\n",
       "    .dataframe tbody tr th {\n",
       "        vertical-align: top;\n",
       "    }\n",
       "\n",
       "    .dataframe thead th {\n",
       "        text-align: right;\n",
       "    }\n",
       "</style>\n",
       "<table border=\"1\" class=\"dataframe\">\n",
       "  <thead>\n",
       "    <tr style=\"text-align: right;\">\n",
       "      <th></th>\n",
       "      <th>host_since</th>\n",
       "      <th>host_response_time</th>\n",
       "      <th>host_response_rate</th>\n",
       "      <th>host_acceptance_rate</th>\n",
       "      <th>host_is_superhost</th>\n",
       "      <th>host_listings_count</th>\n",
       "      <th>host_total_listings_count</th>\n",
       "      <th>host_has_profile_pic</th>\n",
       "      <th>host_identity_verified</th>\n",
       "      <th>accommodates</th>\n",
       "      <th>...</th>\n",
       "      <th>property_type_room</th>\n",
       "      <th>room_type_Hotel room</th>\n",
       "      <th>room_type_Private room</th>\n",
       "      <th>room_type_Shared room</th>\n",
       "      <th>is_shared_bathroom_1.0</th>\n",
       "      <th>host_verifications_</th>\n",
       "      <th>host_verifications_email</th>\n",
       "      <th>host_verifications_phone</th>\n",
       "      <th>host_verifications_work_email</th>\n",
       "      <th>avg_rating_by_host</th>\n",
       "    </tr>\n",
       "  </thead>\n",
       "  <tbody>\n",
       "    <tr>\n",
       "      <th>0</th>\n",
       "      <td>12.0</td>\n",
       "      <td>NaN</td>\n",
       "      <td>NaN</td>\n",
       "      <td>NaN</td>\n",
       "      <td>0</td>\n",
       "      <td>1.0</td>\n",
       "      <td>1.0</td>\n",
       "      <td>1</td>\n",
       "      <td>1</td>\n",
       "      <td>2</td>\n",
       "      <td>...</td>\n",
       "      <td>False</td>\n",
       "      <td>False</td>\n",
       "      <td>False</td>\n",
       "      <td>False</td>\n",
       "      <td>False</td>\n",
       "      <td>False</td>\n",
       "      <td>True</td>\n",
       "      <td>True</td>\n",
       "      <td>False</td>\n",
       "      <td>4.897143</td>\n",
       "    </tr>\n",
       "    <tr>\n",
       "      <th>1</th>\n",
       "      <td>7.0</td>\n",
       "      <td>1.0</td>\n",
       "      <td>1.0</td>\n",
       "      <td>0.58</td>\n",
       "      <td>0</td>\n",
       "      <td>7.0</td>\n",
       "      <td>7.0</td>\n",
       "      <td>1</td>\n",
       "      <td>1</td>\n",
       "      <td>2</td>\n",
       "      <td>...</td>\n",
       "      <td>True</td>\n",
       "      <td>False</td>\n",
       "      <td>True</td>\n",
       "      <td>False</td>\n",
       "      <td>True</td>\n",
       "      <td>False</td>\n",
       "      <td>True</td>\n",
       "      <td>True</td>\n",
       "      <td>False</td>\n",
       "      <td>NaN</td>\n",
       "    </tr>\n",
       "    <tr>\n",
       "      <th>2</th>\n",
       "      <td>10.0</td>\n",
       "      <td>1.0</td>\n",
       "      <td>1.0</td>\n",
       "      <td>1.00</td>\n",
       "      <td>1</td>\n",
       "      <td>1.0</td>\n",
       "      <td>1.0</td>\n",
       "      <td>1</td>\n",
       "      <td>1</td>\n",
       "      <td>2</td>\n",
       "      <td>...</td>\n",
       "      <td>True</td>\n",
       "      <td>False</td>\n",
       "      <td>True</td>\n",
       "      <td>False</td>\n",
       "      <td>False</td>\n",
       "      <td>False</td>\n",
       "      <td>True</td>\n",
       "      <td>True</td>\n",
       "      <td>False</td>\n",
       "      <td>4.965714</td>\n",
       "    </tr>\n",
       "    <tr>\n",
       "      <th>3</th>\n",
       "      <td>10.0</td>\n",
       "      <td>NaN</td>\n",
       "      <td>NaN</td>\n",
       "      <td>NaN</td>\n",
       "      <td>0</td>\n",
       "      <td>1.0</td>\n",
       "      <td>3.0</td>\n",
       "      <td>1</td>\n",
       "      <td>1</td>\n",
       "      <td>2</td>\n",
       "      <td>...</td>\n",
       "      <td>False</td>\n",
       "      <td>False</td>\n",
       "      <td>False</td>\n",
       "      <td>False</td>\n",
       "      <td>False</td>\n",
       "      <td>False</td>\n",
       "      <td>True</td>\n",
       "      <td>True</td>\n",
       "      <td>False</td>\n",
       "      <td>4.285714</td>\n",
       "    </tr>\n",
       "    <tr>\n",
       "      <th>4</th>\n",
       "      <td>8.0</td>\n",
       "      <td>NaN</td>\n",
       "      <td>NaN</td>\n",
       "      <td>NaN</td>\n",
       "      <td>0</td>\n",
       "      <td>1.0</td>\n",
       "      <td>1.0</td>\n",
       "      <td>1</td>\n",
       "      <td>1</td>\n",
       "      <td>3</td>\n",
       "      <td>...</td>\n",
       "      <td>False</td>\n",
       "      <td>False</td>\n",
       "      <td>False</td>\n",
       "      <td>False</td>\n",
       "      <td>False</td>\n",
       "      <td>False</td>\n",
       "      <td>True</td>\n",
       "      <td>True</td>\n",
       "      <td>False</td>\n",
       "      <td>NaN</td>\n",
       "    </tr>\n",
       "  </tbody>\n",
       "</table>\n",
       "<p>5 rows × 59 columns</p>\n",
       "</div>"
      ],
      "text/plain": [
       "   host_since  host_response_time  host_response_rate  host_acceptance_rate  \\\n",
       "0        12.0                 NaN                 NaN                   NaN   \n",
       "1         7.0                 1.0                 1.0                  0.58   \n",
       "2        10.0                 1.0                 1.0                  1.00   \n",
       "3        10.0                 NaN                 NaN                   NaN   \n",
       "4         8.0                 NaN                 NaN                   NaN   \n",
       "\n",
       "   host_is_superhost  host_listings_count  host_total_listings_count  \\\n",
       "0                  0                  1.0                        1.0   \n",
       "1                  0                  7.0                        7.0   \n",
       "2                  1                  1.0                        1.0   \n",
       "3                  0                  1.0                        3.0   \n",
       "4                  0                  1.0                        1.0   \n",
       "\n",
       "   host_has_profile_pic  host_identity_verified  accommodates  ...  \\\n",
       "0                     1                       1             2  ...   \n",
       "1                     1                       1             2  ...   \n",
       "2                     1                       1             2  ...   \n",
       "3                     1                       1             2  ...   \n",
       "4                     1                       1             3  ...   \n",
       "\n",
       "   property_type_room  room_type_Hotel room  room_type_Private room  \\\n",
       "0               False                 False                   False   \n",
       "1                True                 False                    True   \n",
       "2                True                 False                    True   \n",
       "3               False                 False                   False   \n",
       "4               False                 False                   False   \n",
       "\n",
       "   room_type_Shared room  is_shared_bathroom_1.0  host_verifications_  \\\n",
       "0                  False                   False                False   \n",
       "1                  False                    True                False   \n",
       "2                  False                   False                False   \n",
       "3                  False                   False                False   \n",
       "4                  False                   False                False   \n",
       "\n",
       "   host_verifications_email  host_verifications_phone  \\\n",
       "0                      True                      True   \n",
       "1                      True                      True   \n",
       "2                      True                      True   \n",
       "3                      True                      True   \n",
       "4                      True                      True   \n",
       "\n",
       "   host_verifications_work_email  avg_rating_by_host  \n",
       "0                          False            4.897143  \n",
       "1                          False                 NaN  \n",
       "2                          False            4.965714  \n",
       "3                          False            4.285714  \n",
       "4                          False                 NaN  \n",
       "\n",
       "[5 rows x 59 columns]"
      ]
     },
     "execution_count": 84,
     "metadata": {},
     "output_type": "execute_result"
    }
   ],
   "source": [
    "listings = transform_listings(get_listings())\n",
    "\n",
    "print(listings.columns)\n",
    "listings.head()\n"
   ]
  }
 ],
 "metadata": {
  "kernelspec": {
   "display_name": ".venv",
   "language": "python",
   "name": "python3"
  },
  "language_info": {
   "codemirror_mode": {
    "name": "ipython",
    "version": 3
   },
   "file_extension": ".py",
   "mimetype": "text/x-python",
   "name": "python",
   "nbconvert_exporter": "python",
   "pygments_lexer": "ipython3",
   "version": "3.12.9"
  }
 },
 "nbformat": 4,
 "nbformat_minor": 5
}
