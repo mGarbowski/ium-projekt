{
 "cells": [
  {
   "cell_type": "code",
   "id": "initial_id",
   "metadata": {
    "collapsed": true,
    "ExecuteTime": {
     "end_time": "2025-05-11T14:00:17.848472Z",
     "start_time": "2025-05-11T14:00:17.838340Z"
    }
   },
   "source": [
    "import json\n",
    "import os\n",
    "\n",
    "from listings_preprocessing import *\n",
    "\n",
    "os.getcwd()"
   ],
   "outputs": [
    {
     "data": {
      "text/plain": [
       "'/home/mgarbowski/repos/ium-projekt/notebooks'"
      ]
     },
     "execution_count": 9,
     "metadata": {},
     "output_type": "execute_result"
    }
   ],
   "execution_count": 9
  },
  {
   "metadata": {
    "ExecuteTime": {
     "end_time": "2025-05-11T14:00:17.952585Z",
     "start_time": "2025-05-11T14:00:17.904225Z"
    }
   },
   "cell_type": "code",
   "source": [
    "data_item = {\n",
    "    'id': '1047164111839138424',\n",
    "    'listing_url': 'https://www.nocarz.pl/rooms/1047164111839138424',\n",
    "    'scrape_id': '20241221052002',\n",
    "    'last_scraped': '2024-12-21',\n",
    "    'source': 'city scrape',\n",
    "    'name': 'Privatzimmer in Neukölln/Rixdorf (Erdgeschoß)',\n",
    "    'description': 'Hey dear guests, <br /><br />the room has a bed (160x200 cm) and everything else you need for a short stay.<br /><br />Subway (U7) Karl-Marx-Str. only 3 min walk.<br /><br />The apartment is hard of hearing and it could get noisy in the evening and morning. But at night it is quiet and good for sleeping.<br /><br />!!! NO kitchen for shared use !!! Kettle, coffee, tea, sugar, milk are available in the room.<br /><br />!!! NO SMOKING and NO VAPING !!! <br /><br />Smoking is only possible outside in the backyard.',\n",
    "    'neighborhood_overview': '',\n",
    "    'picture_url': 'https://a0.muscache.com/pictures/hosting/Hosting-U3RheVN1cHBseUxpc3Rpbmc6MTA0NzE2NDExMTgzOTEzODQyNA%3D%3D/original/47f64c5a-245a-4599-af76-b7ec9ed9ce4b.jpeg',\n",
    "    'host_id': '541377699',\n",
    "    'host_url': 'https://www.nocarz.pl/users/show/541377699',\n",
    "    'host_name': 'Annett',\n",
    "    'host_since': '2023-10-11',\n",
    "    'host_location': 'Berlin, Germany',\n",
    "    'host_about': '',\n",
    "    'host_response_time': 'within an hour',\n",
    "    'host_response_rate': '100%',\n",
    "    'host_acceptance_rate': '100%',\n",
    "    'host_is_superhost': 't',\n",
    "    'host_thumbnail_url': 'https://a0.muscache.com/im/pictures/user/User/original/0272bfe5-a18d-4a80-a203-7e0fc21cfeaa.jpeg?aki_policy=profile_small',\n",
    "    'host_picture_url': 'https://a0.muscache.com/im/pictures/user/User/original/0272bfe5-a18d-4a80-a203-7e0fc21cfeaa.jpeg?aki_policy=profile_x_medium',\n",
    "    'host_neighbourhood': '',\n",
    "    'host_listings_count': 1,\n",
    "    'host_total_listings_count': 1,\n",
    "    'host_verifications': \"['email', 'phone']\",\n",
    "    'host_has_profile_pic': 't',\n",
    "    'host_identity_verified': 't',\n",
    "    'neighbourhood': '',\n",
    "    'neighbourhood_cleansed': 'Rixdorf',\n",
    "    'neighbourhood_group_cleansed': 'Neukölln',\n",
    "    'latitude': '52.47817565281676',\n",
    "    'longitude': '13.439463980950931',\n",
    "    'property_type': 'Private room in rental unit',\n",
    "    'room_type': 'Private room',\n",
    "    'accommodates': 2,\n",
    "    'bathrooms': 1.0,\n",
    "    'bathrooms_text': '1 shared bath',\n",
    "    'bedrooms': 1,\n",
    "    'beds': 1,\n",
    "    'amenities': '[\"Coffee\", \"Room-darkening shades\", \"Shampoo\", \"Bed linens\", \"Smoke alarm\", \"Paid washer \\\\u2013 In unit\", \"Dishes and silverware\", \"Laser tag\", \"Outdoor playground\", \"Hot water kettle\", \"Long term stays allowed\", \"Hair dryer\", \"Laundromat nearby\", \"Portable heater\", \"Children\\\\u2019s books and toys for ages 0-2 years old, 2-5 years old, 5-10 years old, and 10+ years old\", \"Hot water\", \"Central heating\", \"Shared backyard \\\\u2013 Fully fenced\", \"Drying rack for clothing\", \"Clothing storage: wardrobe\", \"Books and reading material\", \"Dining table\", \"Luggage dropoff allowed\", \"Shower gel\", \"Hangers\", \"Body soap\", \"Dedicated workspace\", \"Host greets you\", \"Lock on bedroom door\", \"Essentials\", \"Bathtub\", \"Cleaning products\", \"Wifi\", \"Iron\", \"Free street parking\"]',\n",
    "    'price': '$40.00',\n",
    "    'minimum_nights': 1,\n",
    "    'maximum_nights': 30,\n",
    "    'minimum_minimum_nights': 1,\n",
    "    'maximum_minimum_nights': 1,\n",
    "    'minimum_maximum_nights': 1125,\n",
    "    'maximum_maximum_nights': 1125,\n",
    "    'minimum_nights_avg_ntm': 1.0,\n",
    "    'maximum_nights_avg_ntm': 1125.0,\n",
    "    'has_availability': 't',\n",
    "    'availability_30': 23,\n",
    "    'availability_60': 50,\n",
    "    'availability_90': 78,\n",
    "    'availability_365': 78,\n",
    "    'license': '08/Z/AZ/014226-24',\n",
    "    'instant_bookable': 't',\n",
    "    'calculated_host_listings_count': 1,\n",
    "    'calculated_host_listings_count_entire_homes': 0,\n",
    "    'calculated_host_listings_count_private_rooms': 1,\n",
    "    'calculated_host_listings_count_shared_rooms': 0,\n",
    "}\n",
    "print(json.dumps(data_item))\n",
    "item_df = pd.DataFrame([data_item])\n",
    "item_df"
   ],
   "id": "e974e88543cdd35a",
   "outputs": [
    {
     "name": "stdout",
     "output_type": "stream",
     "text": [
      "{\"id\": \"1047164111839138424\", \"listing_url\": \"https://www.nocarz.pl/rooms/1047164111839138424\", \"scrape_id\": \"20241221052002\", \"last_scraped\": \"2024-12-21\", \"source\": \"city scrape\", \"name\": \"Privatzimmer in Neuk\\u00f6lln/Rixdorf (Erdgescho\\u00df)\", \"description\": \"Hey dear guests, <br /><br />the room has a bed (160x200 cm) and everything else you need for a short stay.<br /><br />Subway (U7) Karl-Marx-Str. only 3 min walk.<br /><br />The apartment is hard of hearing and it could get noisy in the evening and morning. But at night it is quiet and good for sleeping.<br /><br />!!! NO kitchen for shared use !!! Kettle, coffee, tea, sugar, milk are available in the room.<br /><br />!!! NO SMOKING and NO VAPING !!! <br /><br />Smoking is only possible outside in the backyard.\", \"neighborhood_overview\": \"\", \"picture_url\": \"https://a0.muscache.com/pictures/hosting/Hosting-U3RheVN1cHBseUxpc3Rpbmc6MTA0NzE2NDExMTgzOTEzODQyNA%3D%3D/original/47f64c5a-245a-4599-af76-b7ec9ed9ce4b.jpeg\", \"host_id\": \"541377699\", \"host_url\": \"https://www.nocarz.pl/users/show/541377699\", \"host_name\": \"Annett\", \"host_since\": \"2023-10-11\", \"host_location\": \"Berlin, Germany\", \"host_about\": \"\", \"host_response_time\": \"within an hour\", \"host_response_rate\": \"100%\", \"host_acceptance_rate\": \"100%\", \"host_is_superhost\": \"t\", \"host_thumbnail_url\": \"https://a0.muscache.com/im/pictures/user/User/original/0272bfe5-a18d-4a80-a203-7e0fc21cfeaa.jpeg?aki_policy=profile_small\", \"host_picture_url\": \"https://a0.muscache.com/im/pictures/user/User/original/0272bfe5-a18d-4a80-a203-7e0fc21cfeaa.jpeg?aki_policy=profile_x_medium\", \"host_neighbourhood\": \"\", \"host_listings_count\": 1, \"host_total_listings_count\": 1, \"host_verifications\": \"['email', 'phone']\", \"host_has_profile_pic\": \"t\", \"host_identity_verified\": \"t\", \"neighbourhood\": \"\", \"neighbourhood_cleansed\": \"Rixdorf\", \"neighbourhood_group_cleansed\": \"Neuk\\u00f6lln\", \"latitude\": \"52.47817565281676\", \"longitude\": \"13.439463980950931\", \"property_type\": \"Private room in rental unit\", \"room_type\": \"Private room\", \"accommodates\": 2, \"bathrooms\": 1.0, \"bathrooms_text\": \"1 shared bath\", \"bedrooms\": 1, \"beds\": 1, \"amenities\": \"[\\\"Coffee\\\", \\\"Room-darkening shades\\\", \\\"Shampoo\\\", \\\"Bed linens\\\", \\\"Smoke alarm\\\", \\\"Paid washer \\\\u2013 In unit\\\", \\\"Dishes and silverware\\\", \\\"Laser tag\\\", \\\"Outdoor playground\\\", \\\"Hot water kettle\\\", \\\"Long term stays allowed\\\", \\\"Hair dryer\\\", \\\"Laundromat nearby\\\", \\\"Portable heater\\\", \\\"Children\\\\u2019s books and toys for ages 0-2 years old, 2-5 years old, 5-10 years old, and 10+ years old\\\", \\\"Hot water\\\", \\\"Central heating\\\", \\\"Shared backyard \\\\u2013 Fully fenced\\\", \\\"Drying rack for clothing\\\", \\\"Clothing storage: wardrobe\\\", \\\"Books and reading material\\\", \\\"Dining table\\\", \\\"Luggage dropoff allowed\\\", \\\"Shower gel\\\", \\\"Hangers\\\", \\\"Body soap\\\", \\\"Dedicated workspace\\\", \\\"Host greets you\\\", \\\"Lock on bedroom door\\\", \\\"Essentials\\\", \\\"Bathtub\\\", \\\"Cleaning products\\\", \\\"Wifi\\\", \\\"Iron\\\", \\\"Free street parking\\\"]\", \"price\": \"$40.00\", \"minimum_nights\": 1, \"maximum_nights\": 30, \"minimum_minimum_nights\": 1, \"maximum_minimum_nights\": 1, \"minimum_maximum_nights\": 1125, \"maximum_maximum_nights\": 1125, \"minimum_nights_avg_ntm\": 1.0, \"maximum_nights_avg_ntm\": 1125.0, \"has_availability\": \"t\", \"availability_30\": 23, \"availability_60\": 50, \"availability_90\": 78, \"availability_365\": 78, \"license\": \"08/Z/AZ/014226-24\", \"instant_bookable\": \"t\", \"calculated_host_listings_count\": 1, \"calculated_host_listings_count_entire_homes\": 0, \"calculated_host_listings_count_private_rooms\": 1, \"calculated_host_listings_count_shared_rooms\": 0}\n"
     ]
    },
    {
     "data": {
      "text/plain": [
       "                    id                                      listing_url  \\\n",
       "0  1047164111839138424  https://www.nocarz.pl/rooms/1047164111839138424   \n",
       "\n",
       "        scrape_id last_scraped       source  \\\n",
       "0  20241221052002   2024-12-21  city scrape   \n",
       "\n",
       "                                            name  \\\n",
       "0  Privatzimmer in Neukölln/Rixdorf (Erdgeschoß)   \n",
       "\n",
       "                                         description neighborhood_overview  \\\n",
       "0  Hey dear guests, <br /><br />the room has a be...                         \n",
       "\n",
       "                                         picture_url    host_id  ...  \\\n",
       "0  https://a0.muscache.com/pictures/hosting/Hosti...  541377699  ...   \n",
       "\n",
       "  availability_30 availability_60 availability_90 availability_365  \\\n",
       "0              23              50              78               78   \n",
       "\n",
       "             license instant_bookable calculated_host_listings_count  \\\n",
       "0  08/Z/AZ/014226-24                t                              1   \n",
       "\n",
       "  calculated_host_listings_count_entire_homes  \\\n",
       "0                                           0   \n",
       "\n",
       "  calculated_host_listings_count_private_rooms  \\\n",
       "0                                            1   \n",
       "\n",
       "  calculated_host_listings_count_shared_rooms  \n",
       "0                                           0  \n",
       "\n",
       "[1 rows x 60 columns]"
      ],
      "text/html": [
       "<div>\n",
       "<style scoped>\n",
       "    .dataframe tbody tr th:only-of-type {\n",
       "        vertical-align: middle;\n",
       "    }\n",
       "\n",
       "    .dataframe tbody tr th {\n",
       "        vertical-align: top;\n",
       "    }\n",
       "\n",
       "    .dataframe thead th {\n",
       "        text-align: right;\n",
       "    }\n",
       "</style>\n",
       "<table border=\"1\" class=\"dataframe\">\n",
       "  <thead>\n",
       "    <tr style=\"text-align: right;\">\n",
       "      <th></th>\n",
       "      <th>id</th>\n",
       "      <th>listing_url</th>\n",
       "      <th>scrape_id</th>\n",
       "      <th>last_scraped</th>\n",
       "      <th>source</th>\n",
       "      <th>name</th>\n",
       "      <th>description</th>\n",
       "      <th>neighborhood_overview</th>\n",
       "      <th>picture_url</th>\n",
       "      <th>host_id</th>\n",
       "      <th>...</th>\n",
       "      <th>availability_30</th>\n",
       "      <th>availability_60</th>\n",
       "      <th>availability_90</th>\n",
       "      <th>availability_365</th>\n",
       "      <th>license</th>\n",
       "      <th>instant_bookable</th>\n",
       "      <th>calculated_host_listings_count</th>\n",
       "      <th>calculated_host_listings_count_entire_homes</th>\n",
       "      <th>calculated_host_listings_count_private_rooms</th>\n",
       "      <th>calculated_host_listings_count_shared_rooms</th>\n",
       "    </tr>\n",
       "  </thead>\n",
       "  <tbody>\n",
       "    <tr>\n",
       "      <th>0</th>\n",
       "      <td>1047164111839138424</td>\n",
       "      <td>https://www.nocarz.pl/rooms/1047164111839138424</td>\n",
       "      <td>20241221052002</td>\n",
       "      <td>2024-12-21</td>\n",
       "      <td>city scrape</td>\n",
       "      <td>Privatzimmer in Neukölln/Rixdorf (Erdgeschoß)</td>\n",
       "      <td>Hey dear guests, &lt;br /&gt;&lt;br /&gt;the room has a be...</td>\n",
       "      <td></td>\n",
       "      <td>https://a0.muscache.com/pictures/hosting/Hosti...</td>\n",
       "      <td>541377699</td>\n",
       "      <td>...</td>\n",
       "      <td>23</td>\n",
       "      <td>50</td>\n",
       "      <td>78</td>\n",
       "      <td>78</td>\n",
       "      <td>08/Z/AZ/014226-24</td>\n",
       "      <td>t</td>\n",
       "      <td>1</td>\n",
       "      <td>0</td>\n",
       "      <td>1</td>\n",
       "      <td>0</td>\n",
       "    </tr>\n",
       "  </tbody>\n",
       "</table>\n",
       "<p>1 rows × 60 columns</p>\n",
       "</div>"
      ]
     },
     "execution_count": 10,
     "metadata": {},
     "output_type": "execute_result"
    }
   ],
   "execution_count": 10
  },
  {
   "metadata": {
    "ExecuteTime": {
     "end_time": "2025-05-11T14:00:18.667677Z",
     "start_time": "2025-05-11T14:00:18.110504Z"
    }
   },
   "cell_type": "code",
   "source": [
    "raw_data = pd.read_csv(\"../data/raw/listings.csv\")\n",
    "\n",
    "processed_data = pd.read_csv(\"../data/processed/listings.csv\")\n",
    "processed_data = processed_data.drop(columns=[\"avg_rating\"])  # will not be present\n",
    "processed_data.columns"
   ],
   "id": "a00925fc9f65eafa",
   "outputs": [
    {
     "data": {
      "text/plain": [
       "Index(['accommodates', 'availability_30', 'availability_365',\n",
       "       'availability_60', 'availability_90', 'bathrooms', 'bedrooms', 'beds',\n",
       "       'calculated_host_listings_count',\n",
       "       'calculated_host_listings_count_entire_homes',\n",
       "       'calculated_host_listings_count_private_rooms',\n",
       "       'calculated_host_listings_count_shared_rooms', 'has_availability',\n",
       "       'host_acceptance_rate', 'host_has_profile_pic',\n",
       "       'host_identity_verified', 'host_is_superhost', 'host_listings_count',\n",
       "       'host_response_rate', 'host_response_time', 'host_since',\n",
       "       'host_total_listings_count', 'host_verifications_',\n",
       "       'host_verifications_email', 'host_verifications_phone',\n",
       "       'host_verifications_work_email', 'instant_bookable',\n",
       "       'is_shared_bathroom_0.0', 'is_shared_bathroom_1.0',\n",
       "       'is_shared_bathroom_nan', 'maximum_maximum_nights',\n",
       "       'maximum_minimum_nights', 'maximum_nights', 'maximum_nights_avg_ntm',\n",
       "       'minimum_maximum_nights', 'minimum_minimum_nights', 'minimum_nights',\n",
       "       'minimum_nights_avg_ntm',\n",
       "       'neighbourhood_group_cleansed_Charlottenburg-Wilm.',\n",
       "       'neighbourhood_group_cleansed_Friedrichshain-Kreuzberg',\n",
       "       'neighbourhood_group_cleansed_Lichtenberg',\n",
       "       'neighbourhood_group_cleansed_Marzahn - Hellersdorf',\n",
       "       'neighbourhood_group_cleansed_Mitte',\n",
       "       'neighbourhood_group_cleansed_Neukölln',\n",
       "       'neighbourhood_group_cleansed_Pankow',\n",
       "       'neighbourhood_group_cleansed_Reinickendorf',\n",
       "       'neighbourhood_group_cleansed_Spandau',\n",
       "       'neighbourhood_group_cleansed_Steglitz - Zehlendorf',\n",
       "       'neighbourhood_group_cleansed_Tempelhof - Schöneberg',\n",
       "       'neighbourhood_group_cleansed_Treptow - Köpenick', 'price',\n",
       "       'property_type_apartment', 'property_type_condo',\n",
       "       'property_type_entire rental unit', 'property_type_home',\n",
       "       'property_type_other', 'property_type_room',\n",
       "       'room_type_Entire home/apt', 'room_type_Hotel room',\n",
       "       'room_type_Private room', 'room_type_Shared room'],\n",
       "      dtype='object')"
      ]
     },
     "execution_count": 11,
     "metadata": {},
     "output_type": "execute_result"
    }
   ],
   "execution_count": 11
  },
  {
   "metadata": {
    "ExecuteTime": {
     "end_time": "2025-05-11T14:00:18.838136Z",
     "start_time": "2025-05-11T14:00:18.785260Z"
    }
   },
   "cell_type": "code",
   "source": [
    "item_df = transform_item(item_df, scaler_file=\"../models/scaler.pkl\")\n",
    "item_df.columns"
   ],
   "id": "7d1b156caf3f3a58",
   "outputs": [
    {
     "data": {
      "text/plain": [
       "Index(['accommodates', 'availability_30', 'availability_365',\n",
       "       'availability_60', 'availability_90', 'bathrooms', 'bedrooms', 'beds',\n",
       "       'calculated_host_listings_count',\n",
       "       'calculated_host_listings_count_entire_homes',\n",
       "       'calculated_host_listings_count_private_rooms',\n",
       "       'calculated_host_listings_count_shared_rooms', 'has_availability',\n",
       "       'host_acceptance_rate', 'host_has_profile_pic',\n",
       "       'host_identity_verified', 'host_is_superhost', 'host_listings_count',\n",
       "       'host_response_rate', 'host_response_time', 'host_since',\n",
       "       'host_total_listings_count', 'host_verifications_',\n",
       "       'host_verifications_email', 'host_verifications_phone',\n",
       "       'host_verifications_work_email', 'instant_bookable',\n",
       "       'is_shared_bathroom_0.0', 'is_shared_bathroom_1.0',\n",
       "       'is_shared_bathroom_nan', 'maximum_maximum_nights',\n",
       "       'maximum_minimum_nights', 'maximum_nights', 'maximum_nights_avg_ntm',\n",
       "       'minimum_maximum_nights', 'minimum_minimum_nights', 'minimum_nights',\n",
       "       'minimum_nights_avg_ntm',\n",
       "       'neighbourhood_group_cleansed_Charlottenburg-Wilm.',\n",
       "       'neighbourhood_group_cleansed_Friedrichshain-Kreuzberg',\n",
       "       'neighbourhood_group_cleansed_Lichtenberg',\n",
       "       'neighbourhood_group_cleansed_Marzahn - Hellersdorf',\n",
       "       'neighbourhood_group_cleansed_Mitte',\n",
       "       'neighbourhood_group_cleansed_Neukölln',\n",
       "       'neighbourhood_group_cleansed_Pankow',\n",
       "       'neighbourhood_group_cleansed_Reinickendorf',\n",
       "       'neighbourhood_group_cleansed_Spandau',\n",
       "       'neighbourhood_group_cleansed_Steglitz - Zehlendorf',\n",
       "       'neighbourhood_group_cleansed_Tempelhof - Schöneberg',\n",
       "       'neighbourhood_group_cleansed_Treptow - Köpenick', 'price',\n",
       "       'property_type_apartment', 'property_type_condo',\n",
       "       'property_type_entire rental unit', 'property_type_home',\n",
       "       'property_type_other', 'property_type_room',\n",
       "       'room_type_Entire home/apt', 'room_type_Hotel room',\n",
       "       'room_type_Private room', 'room_type_Shared room'],\n",
       "      dtype='object')"
      ]
     },
     "execution_count": 12,
     "metadata": {},
     "output_type": "execute_result"
    }
   ],
   "execution_count": 12
  },
  {
   "metadata": {
    "ExecuteTime": {
     "end_time": "2025-05-11T14:00:19.155076Z",
     "start_time": "2025-05-11T14:00:19.149079Z"
    }
   },
   "cell_type": "code",
   "source": [
    "print(f\"Columns in item_df: {len(item_df.columns)}\")\n",
    "print(f\"Columns in processed_data: {len(processed_data.columns)}\")\n",
    "print(f\"Missing columns in item_df: {set(processed_data.columns) - set(item_df.columns)}\")\n",
    "assert list(item_df.columns) == list(processed_data.columns)"
   ],
   "id": "8621d2586c8acac0",
   "outputs": [
    {
     "name": "stdout",
     "output_type": "stream",
     "text": [
      "Columns in item_df: 61\n",
      "Columns in processed_data: 61\n",
      "Missing columns in item_df: set()\n"
     ]
    }
   ],
   "execution_count": 13
  },
  {
   "metadata": {
    "ExecuteTime": {
     "end_time": "2025-05-11T14:00:19.301681Z",
     "start_time": "2025-05-11T14:00:19.272206Z"
    }
   },
   "cell_type": "code",
   "source": "item_df",
   "id": "1ccfebc42f294075",
   "outputs": [
    {
     "data": {
      "text/plain": [
       "   accommodates  availability_30  availability_365  availability_60  \\\n",
       "0             2         1.077487         -0.427864         1.085584   \n",
       "\n",
       "   availability_90  bathrooms  bedrooms  beds  calculated_host_listings_count  \\\n",
       "0         1.100749        1.0         1     1                       -0.228586   \n",
       "\n",
       "   calculated_host_listings_count_entire_homes  ...  property_type_apartment  \\\n",
       "0                                    -0.227158  ...                        0   \n",
       "\n",
       "   property_type_condo  property_type_entire rental unit  property_type_home  \\\n",
       "0                    0                                 0                   0   \n",
       "\n",
       "   property_type_other  property_type_room  room_type_Entire home/apt  \\\n",
       "0                    0                   0                          0   \n",
       "\n",
       "   room_type_Hotel room  room_type_Private room  room_type_Shared room  \n",
       "0                     0                       0                      0  \n",
       "\n",
       "[1 rows x 61 columns]"
      ],
      "text/html": [
       "<div>\n",
       "<style scoped>\n",
       "    .dataframe tbody tr th:only-of-type {\n",
       "        vertical-align: middle;\n",
       "    }\n",
       "\n",
       "    .dataframe tbody tr th {\n",
       "        vertical-align: top;\n",
       "    }\n",
       "\n",
       "    .dataframe thead th {\n",
       "        text-align: right;\n",
       "    }\n",
       "</style>\n",
       "<table border=\"1\" class=\"dataframe\">\n",
       "  <thead>\n",
       "    <tr style=\"text-align: right;\">\n",
       "      <th></th>\n",
       "      <th>accommodates</th>\n",
       "      <th>availability_30</th>\n",
       "      <th>availability_365</th>\n",
       "      <th>availability_60</th>\n",
       "      <th>availability_90</th>\n",
       "      <th>bathrooms</th>\n",
       "      <th>bedrooms</th>\n",
       "      <th>beds</th>\n",
       "      <th>calculated_host_listings_count</th>\n",
       "      <th>calculated_host_listings_count_entire_homes</th>\n",
       "      <th>...</th>\n",
       "      <th>property_type_apartment</th>\n",
       "      <th>property_type_condo</th>\n",
       "      <th>property_type_entire rental unit</th>\n",
       "      <th>property_type_home</th>\n",
       "      <th>property_type_other</th>\n",
       "      <th>property_type_room</th>\n",
       "      <th>room_type_Entire home/apt</th>\n",
       "      <th>room_type_Hotel room</th>\n",
       "      <th>room_type_Private room</th>\n",
       "      <th>room_type_Shared room</th>\n",
       "    </tr>\n",
       "  </thead>\n",
       "  <tbody>\n",
       "    <tr>\n",
       "      <th>0</th>\n",
       "      <td>2</td>\n",
       "      <td>1.077487</td>\n",
       "      <td>-0.427864</td>\n",
       "      <td>1.085584</td>\n",
       "      <td>1.100749</td>\n",
       "      <td>1.0</td>\n",
       "      <td>1</td>\n",
       "      <td>1</td>\n",
       "      <td>-0.228586</td>\n",
       "      <td>-0.227158</td>\n",
       "      <td>...</td>\n",
       "      <td>0</td>\n",
       "      <td>0</td>\n",
       "      <td>0</td>\n",
       "      <td>0</td>\n",
       "      <td>0</td>\n",
       "      <td>0</td>\n",
       "      <td>0</td>\n",
       "      <td>0</td>\n",
       "      <td>0</td>\n",
       "      <td>0</td>\n",
       "    </tr>\n",
       "  </tbody>\n",
       "</table>\n",
       "<p>1 rows × 61 columns</p>\n",
       "</div>"
      ]
     },
     "execution_count": 14,
     "metadata": {},
     "output_type": "execute_result"
    }
   ],
   "execution_count": 14
  }
 ],
 "metadata": {
  "kernelspec": {
   "display_name": "Python 3",
   "language": "python",
   "name": "python3"
  },
  "language_info": {
   "codemirror_mode": {
    "name": "ipython",
    "version": 2
   },
   "file_extension": ".py",
   "mimetype": "text/x-python",
   "name": "python",
   "nbconvert_exporter": "python",
   "pygments_lexer": "ipython2",
   "version": "2.7.6"
  }
 },
 "nbformat": 4,
 "nbformat_minor": 5
}
