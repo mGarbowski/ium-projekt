{
 "cells": [
  {
   "cell_type": "markdown",
   "id": "267e4d3e21c8905d",
   "metadata": {},
   "source": [
    "# Trenowanie i porównanie modeli\n",
    "* Model neuronowy\n",
    "* Imputacja brakujących wartości\n",
    "* Selekcja atrybutów"
   ]
  },
  {
   "cell_type": "code",
   "execution_count": 1,
   "id": "806b60ff414b3e80",
   "metadata": {
    "ExecuteTime": {
     "end_time": "2025-05-11T14:09:38.065868Z",
     "start_time": "2025-05-11T14:09:37.591396Z"
    }
   },
   "outputs": [],
   "source": [
    "import matplotlib.pyplot as plt\n",
    "import numpy as np\n",
    "import pandas as pd\n",
    "import pickle\n",
    "from scipy.stats import truncnorm\n",
    "from sklearn.ensemble import GradientBoostingRegressor, RandomForestRegressor\n",
    "from sklearn.linear_model import LinearRegression, Ridge, Lasso\n",
    "from sklearn.metrics import mean_squared_error, r2_score\n",
    "from sklearn.model_selection import train_test_split\n",
    "from sklearn.svm import SVR"
   ]
  },
  {
   "cell_type": "markdown",
   "id": "67911b352630bb62",
   "metadata": {},
   "source": [
    "## Model bazowy\n",
    "\n",
    "* Za model bazowy przyjmujemy model losowy z rozkładem normalnym o parametrach takich jak rozkład w zbiorze treningowym\n",
    "  * Średnia:  4.77\n",
    "  * Odchylenie standardowe: 0.27\n",
    "  * Obcięty do [0, 5]"
   ]
  },
  {
   "cell_type": "code",
   "execution_count": 2,
   "id": "initial_id",
   "metadata": {
    "ExecuteTime": {
     "end_time": "2025-06-02T18:51:19.669969Z",
     "start_time": "2025-06-02T18:51:19.549176Z"
    },
    "collapsed": true
   },
   "outputs": [
    {
     "data": {
      "text/plain": [
       "(3.0, 5.1)"
      ]
     },
     "execution_count": 2,
     "metadata": {},
     "output_type": "execute_result"
    },
    {
     "data": {
      "image/png": "[encoded data removed]",
      "text/plain": [
       "<Figure size 640x480 with 1 Axes>"
      ]
     },
     "metadata": {},
     "output_type": "display_data"
    }
   ],
   "source": [
    "def base_model(size: int, mean, std, lower, upper) -> np.ndarray:\n",
    "    a = (lower - mean) / std\n",
    "    b = (upper - mean) / std\n",
    "    return truncnorm.rvs(a, b, loc=mean, scale=std, size=size, random_state=np.random.default_rng(42))\n",
    "\n",
    "\n",
    "sample = base_model(4200, 4.77, 0.27, 0, 5)\n",
    "plt.hist(sample)\n",
    "plt.xlim(3, 5.1)"
   ]
  },
  {
   "cell_type": "markdown",
   "id": "ab9f1b6320124b0b",
   "metadata": {},
   "source": [
    "## Dane\n",
    "Wczytanie przetworzonych danych"
   ]
  },
  {
   "cell_type": "code",
   "execution_count": 3,
   "id": "bcb9bdfa045e7d23",
   "metadata": {
    "ExecuteTime": {
     "end_time": "2025-05-11T14:09:38.615523Z",
     "start_time": "2025-05-11T14:09:38.546933Z"
    }
   },
   "outputs": [],
   "source": [
    "listings = pd.read_csv('../data/processed/listings.csv')\n",
    "listings = listings.dropna(subset=[\"avg_rating\"])"
   ]
  },
  {
   "cell_type": "code",
   "execution_count": 4,
   "id": "8144ff971a663884",
   "metadata": {
    "ExecuteTime": {
     "end_time": "2025-05-11T14:09:38.645245Z",
     "start_time": "2025-05-11T14:09:38.640287Z"
    }
   },
   "outputs": [
    {
     "data": {
      "text/plain": [
       "10706"
      ]
     },
     "execution_count": 4,
     "metadata": {},
     "output_type": "execute_result"
    }
   ],
   "source": [
    "len(listings)"
   ]
  },
  {
   "cell_type": "code",
   "execution_count": 5,
   "id": "b1d8b969305d44de",
   "metadata": {
    "ExecuteTime": {
     "end_time": "2025-05-11T14:09:38.694823Z",
     "start_time": "2025-05-11T14:09:38.683851Z"
    }
   },
   "outputs": [
    {
     "data": {
      "text/plain": [
       "count    10706.000000\n",
       "mean         4.763579\n",
       "std          0.294126\n",
       "min          0.571429\n",
       "25%          4.704286\n",
       "50%          4.837143\n",
       "75%          4.920000\n",
       "max          5.000000\n",
       "Name: avg_rating, dtype: float64"
      ]
     },
     "execution_count": 5,
     "metadata": {},
     "output_type": "execute_result"
    }
   ],
   "source": [
    "listings[\"avg_rating\"].describe()"
   ]
  },
  {
   "cell_type": "code",
   "execution_count": 6,
   "id": "95c81715174fbed1",
   "metadata": {
    "ExecuteTime": {
     "end_time": "2025-06-02T18:50:35.409237Z",
     "start_time": "2025-06-02T18:50:35.222794Z"
    }
   },
   "outputs": [
    {
     "data": {
      "text/plain": [
       "(3.0, 5.1)"
      ]
     },
     "execution_count": 6,
     "metadata": {},
     "output_type": "execute_result"
    },
    {
     "data": {
      "image/png": "[encoded data removed]",
      "text/plain": [
       "<Figure size 640x480 with 1 Axes>"
      ]
     },
     "metadata": {},
     "output_type": "display_data"
    }
   ],
   "source": [
    "plt.hist(listings[\"avg_rating\"], bins=50)\n",
    "plt.xlim(3, 5.1)"
   ]
  },
  {
   "cell_type": "markdown",
   "id": "d87be08153d4955d",
   "metadata": {},
   "source": [
    "## Porównanie modeli"
   ]
  },
  {
   "cell_type": "code",
   "execution_count": 7,
   "id": "950d380e439535e8",
   "metadata": {
    "ExecuteTime": {
     "end_time": "2025-05-11T14:09:39.180885Z",
     "start_time": "2025-05-11T14:09:39.171622Z"
    }
   },
   "outputs": [],
   "source": [
    "y = listings[\"avg_rating\"]\n",
    "X = listings.drop(columns=[\"avg_rating\"])\n",
    "X_train, X_test, y_train, y_test = train_test_split(X, y, test_size=0.2, random_state=42)"
   ]
  },
  {
   "cell_type": "code",
   "execution_count": 8,
   "id": "93e107bf7704ea8f",
   "metadata": {
    "ExecuteTime": {
     "end_time": "2025-05-11T14:09:39.221994Z",
     "start_time": "2025-05-11T14:09:39.216658Z"
    }
   },
   "outputs": [],
   "source": [
    "def display_summary(model_name, y_test, y_pred):\n",
    "    mse = mean_squared_error(y_test, y_pred)\n",
    "    r2 = r2_score(y_test, y_pred)\n",
    "\n",
    "    print(\"-\" * 30)\n",
    "    print(model_name)\n",
    "    print(f\"Mean Squared Error: {mse:.2f}\")\n",
    "    print(f\"R-squared: {r2:.2f}\")"
   ]
  },
  {
   "cell_type": "code",
   "execution_count": 9,
   "id": "affbd41706f7e9f4",
   "metadata": {
    "ExecuteTime": {
     "end_time": "2025-05-11T14:09:39.312817Z",
     "start_time": "2025-05-11T14:09:39.307451Z"
    }
   },
   "outputs": [],
   "source": [
    "def drop_missing_values(X_train, X_test, y_train, y_test):\n",
    "    # Drop missing values\n",
    "    X_train = X_train.dropna()\n",
    "    y_train = y_train[X_train.index]\n",
    "    X_test = X_test.dropna()\n",
    "    y_test = y_test[X_test.index]\n",
    "    return X_train, X_test, y_train, y_test"
   ]
  },
  {
   "cell_type": "code",
   "execution_count": 10,
   "id": "b9a093798f43f25d",
   "metadata": {
    "ExecuteTime": {
     "end_time": "2025-05-11T14:09:39.380490Z",
     "start_time": "2025-05-11T14:09:39.375853Z"
    }
   },
   "outputs": [],
   "source": [
    "def bench_linear_regression(X_train, X_test, y_train, y_test):\n",
    "    X_train, X_test, y_train, y_test = drop_missing_values(X_train, X_test, y_train, y_test)\n",
    "\n",
    "    model = LinearRegression()\n",
    "    model.fit(X_train, y_train)\n",
    "    y_pred = model.predict(X_test)\n",
    "\n",
    "    display_summary(\"Linear regression\", y_test, y_pred)\n"
   ]
  },
  {
   "cell_type": "code",
   "execution_count": 11,
   "id": "82de8ab71ef217c6",
   "metadata": {
    "ExecuteTime": {
     "end_time": "2025-05-11T14:09:39.506885Z",
     "start_time": "2025-05-11T14:09:39.501803Z"
    }
   },
   "outputs": [],
   "source": [
    "def bench_base_model(X_test):\n",
    "    y_pred = base_model(len(X_test), mean=4.77, std=0.27, lower=0, upper=5)\n",
    "    display_summary(\"Base model (Gauss)\", y_test, y_pred)"
   ]
  },
  {
   "cell_type": "code",
   "execution_count": 12,
   "id": "65718a56c224d59b",
   "metadata": {
    "ExecuteTime": {
     "end_time": "2025-05-11T14:09:39.594904Z",
     "start_time": "2025-05-11T14:09:39.589234Z"
    }
   },
   "outputs": [],
   "source": [
    "def bench_random_forest(X_train, X_test, y_train, y_test):\n",
    "    model = RandomForestRegressor()\n",
    "    model.fit(X_train, y_train)\n",
    "    y_pred = model.predict(X_test)\n",
    "    display_summary(\"Random forest\", y_test, y_pred)"
   ]
  },
  {
   "cell_type": "code",
   "execution_count": 13,
   "id": "dd4e53138126d9e5",
   "metadata": {
    "ExecuteTime": {
     "end_time": "2025-05-11T14:09:39.656537Z",
     "start_time": "2025-05-11T14:09:39.651874Z"
    }
   },
   "outputs": [],
   "source": [
    "def bench_svr(X_train, X_test, y_train, y_test):\n",
    "    X_train, X_test, y_train, y_test = drop_missing_values(X_train, X_test, y_train, y_test)\n",
    "\n",
    "    model = SVR(kernel=\"linear\")\n",
    "    model.fit(X_train, y_train)\n",
    "    y_pred = model.predict(X_test)\n",
    "    display_summary(\"SVR\", y_test, y_pred)"
   ]
  },
  {
   "cell_type": "code",
   "execution_count": 14,
   "id": "576bc3ea4e88e1e7",
   "metadata": {
    "ExecuteTime": {
     "end_time": "2025-05-11T14:09:39.774500Z",
     "start_time": "2025-05-11T14:09:39.770269Z"
    }
   },
   "outputs": [],
   "source": [
    "def bench_ridge(X_train, X_test, y_train, y_test):\n",
    "    X_train, X_test, y_train, y_test = drop_missing_values(X_train, X_test, y_train, y_test)\n",
    "\n",
    "    model = Ridge()\n",
    "    model.fit(X_train, y_train)\n",
    "    y_pred = model.predict(X_test)\n",
    "    display_summary(\"Ridge\", y_test, y_pred)"
   ]
  },
  {
   "cell_type": "code",
   "execution_count": 15,
   "id": "64d8ec45520b6ab6",
   "metadata": {
    "ExecuteTime": {
     "end_time": "2025-05-11T14:09:39.809194Z",
     "start_time": "2025-05-11T14:09:39.803462Z"
    }
   },
   "outputs": [],
   "source": [
    "def bench_lasso(X_train, X_test, y_train, y_test):\n",
    "    X_train, X_test, y_train, y_test = drop_missing_values(X_train, X_test, y_train, y_test)\n",
    "\n",
    "    model = Lasso(alpha=0.1)\n",
    "    model.fit(X_train, y_train)\n",
    "    y_pred = model.predict(X_test)\n",
    "    display_summary(\"Lasso\", y_test, y_pred)"
   ]
  },
  {
   "cell_type": "code",
   "execution_count": 16,
   "id": "70f25d3482485b04",
   "metadata": {
    "ExecuteTime": {
     "end_time": "2025-05-11T14:09:39.868849Z",
     "start_time": "2025-05-11T14:09:39.862547Z"
    }
   },
   "outputs": [],
   "source": [
    "def bench_gradient_boosting(X_train, X_test, y_train, y_test):\n",
    "    X_train, X_test, y_train, y_test = drop_missing_values(X_train, X_test, y_train, y_test)\n",
    "    model = GradientBoostingRegressor()\n",
    "    model.fit(X_train, y_train)\n",
    "    y_pred = model.predict(X_test)\n",
    "    display_summary(\"Gradient boosting\", y_test, y_pred)"
   ]
  },
  {
   "cell_type": "code",
   "execution_count": 17,
   "id": "b1e1f18c92bad7a5",
   "metadata": {
    "ExecuteTime": {
     "end_time": "2025-05-11T14:09:39.926874Z",
     "start_time": "2025-05-11T14:09:39.922494Z"
    }
   },
   "outputs": [],
   "source": [
    "def bench_svr_rbf(X_train, X_test, y_train, y_test):\n",
    "    X_train, X_test, y_train, y_test = drop_missing_values(X_train, X_test, y_train, y_test)\n",
    "\n",
    "    model = SVR(kernel=\"rbf\")\n",
    "    model.fit(X_train, y_train)\n",
    "    y_pred = model.predict(X_test)\n",
    "    display_summary(\"SVR (rhf)\", y_test, y_pred)"
   ]
  },
  {
   "cell_type": "code",
   "execution_count": 18,
   "id": "5973c0cb73a59e39",
   "metadata": {
    "ExecuteTime": {
     "end_time": "2025-05-11T14:09:51.479048Z",
     "start_time": "2025-05-11T14:09:39.979073Z"
    }
   },
   "outputs": [
    {
     "name": "stdout",
     "output_type": "stream",
     "text": [
      "------------------------------\n",
      "Base model (Gauss)\n",
      "Mean Squared Error: 0.13\n",
      "R-squared: -0.55\n",
      "------------------------------\n",
      "Linear regression\n",
      "Mean Squared Error: 0.08\n",
      "R-squared: 0.11\n",
      "------------------------------\n",
      "Random forest\n",
      "Mean Squared Error: 0.07\n",
      "R-squared: 0.17\n",
      "------------------------------\n",
      "Ridge\n",
      "Mean Squared Error: 0.08\n",
      "R-squared: 0.11\n",
      "------------------------------\n",
      "Lasso\n",
      "Mean Squared Error: 0.08\n",
      "R-squared: 0.03\n",
      "------------------------------\n",
      "Gradient boosting\n",
      "Mean Squared Error: 0.08\n",
      "R-squared: 0.10\n",
      "------------------------------\n",
      "SVR (rhf)\n",
      "Mean Squared Error: 0.08\n",
      "R-squared: 0.10\n"
     ]
    }
   ],
   "source": [
    "bench_base_model(X_test)\n",
    "bench_linear_regression(X_train, X_test, y_train, y_test)\n",
    "bench_random_forest(X_train, X_test, y_train, y_test)\n",
    "# bench_svr(X_train, X_test, y_train, y_test)\n",
    "bench_ridge(X_train, X_test, y_train, y_test)\n",
    "bench_lasso(X_train, X_test, y_train, y_test)\n",
    "bench_gradient_boosting(X_train, X_test, y_train, y_test)\n",
    "bench_svr_rbf(X_train, X_test, y_train, y_test)"
   ]
  },
  {
   "cell_type": "markdown",
   "id": "2a55fe9e8de61b21",
   "metadata": {},
   "source": [
    "## Zapis modelu do pliku"
   ]
  },
  {
   "cell_type": "code",
   "execution_count": 19,
   "id": "7bb8ab064e4d8a3c",
   "metadata": {
    "ExecuteTime": {
     "end_time": "2025-05-11T14:09:52.177596Z",
     "start_time": "2025-05-11T14:09:51.636271Z"
    }
   },
   "outputs": [],
   "source": [
    "model_file = \"../models/linear_regression.pkl\"\n",
    "\n",
    "listings = pd.read_csv('../data/processed/listings.csv')\n",
    "listings = listings.dropna(subset=[\"avg_rating\"])\n",
    "y = listings[\"avg_rating\"]\n",
    "X = listings.drop(columns=[\"avg_rating\"])\n",
    "X_train, X_test, y_train, y_test = train_test_split(X, y, test_size=0.2, random_state=42)\n",
    "X_train, X_test, y_train, y_test = drop_missing_values(X_train, X_test, y_train, y_test)\n",
    "\n",
    "model = LinearRegression()\n",
    "model.fit(X_train, y_train)\n",
    "\n",
    "with open(model_file, \"wb\") as f:\n",
    "    pickle.dump(model, f)"
   ]
  }
 ],
 "metadata": {
  "kernelspec": {
   "display_name": ".venv",
   "language": "python",
   "name": "python3"
  },
  "language_info": {
   "codemirror_mode": {
    "name": "ipython",
    "version": 3
   },
   "file_extension": ".py",
   "mimetype": "text/x-python",
   "name": "python",
   "nbconvert_exporter": "python",
   "pygments_lexer": "ipython3",
   "version": "3.12.9"
  }
 },
 "nbformat": 4,
 "nbformat_minor": 5
}
