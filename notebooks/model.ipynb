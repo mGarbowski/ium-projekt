{
 "cells": [
  {
   "metadata": {},
   "cell_type": "markdown",
   "source": [
    "# Trenowanie i porównanie modeli\n",
    "\n",
    "## TODO\n",
    "* Model neuronowy\n",
    "* Imputacja brakujących wartości\n",
    "* Selekcja atrybutów"
   ],
   "id": "267e4d3e21c8905d"
  },
  {
   "metadata": {
    "ExecuteTime": {
     "end_time": "2025-05-11T11:20:53.118617Z",
     "start_time": "2025-05-11T11:20:53.111930Z"
    }
   },
   "cell_type": "code",
   "source": [
    "import matplotlib.pyplot as plt\n",
    "import numpy as np\n",
    "import pandas as pd\n",
    "import pickle\n",
    "from scipy.stats import truncnorm\n",
    "from sklearn.ensemble import GradientBoostingRegressor, RandomForestRegressor\n",
    "from sklearn.linear_model import LinearRegression, Ridge, Lasso\n",
    "from sklearn.metrics import mean_squared_error, r2_score\n",
    "from sklearn.model_selection import train_test_split\n",
    "from sklearn.svm import SVR"
   ],
   "id": "806b60ff414b3e80",
   "outputs": [],
   "execution_count": 143
  },
  {
   "metadata": {},
   "cell_type": "markdown",
   "source": [
    "## Model bazowy\n",
    "\n",
    "* Za model bazowy przyjmujemy model losowy z rozkładem normalnym o parametrach takich jak rozkład w zbiorze treningowym\n",
    "  * Średnia:  4.77\n",
    "  * Odchylenie standardowe: 0.27\n",
    "  * Obcięty do [0, 5]"
   ],
   "id": "67911b352630bb62"
  },
  {
   "cell_type": "code",
   "id": "initial_id",
   "metadata": {
    "collapsed": true,
    "ExecuteTime": {
     "end_time": "2025-05-11T11:15:14.392282Z",
     "start_time": "2025-05-11T11:15:14.086098Z"
    }
   },
   "source": [
    "def base_model(size: int, mean, std, lower, upper) -> np.ndarray:\n",
    "    a = (lower - mean) / std\n",
    "    b = (upper - mean) / std\n",
    "    return truncnorm.rvs(a, b, loc=mean, scale=std, size=size)\n",
    "\n",
    "\n",
    "sample = base_model(4200, 4.77, 0.27, 0, 5)\n",
    "plt.hist(sample)\n",
    "plt.xlim(0, 5)"
   ],
   "outputs": [
    {
     "data": {
      "text/plain": [
       "(0.0, 5.0)"
      ]
     },
     "execution_count": 125,
     "metadata": {},
     "output_type": "execute_result"
    },
    {
     "data": {
      "text/plain": [
       "<Figure size 640x480 with 1 Axes>"
      ],
      "image/png": "[encoded data removed]"
     },
     "metadata": {},
     "output_type": "display_data"
    }
   ],
   "execution_count": 125
  },
  {
   "metadata": {},
   "cell_type": "markdown",
   "source": [
    "## Dane\n",
    "Wczytanie przetworzonych danych"
   ],
   "id": "ab9f1b6320124b0b"
  },
  {
   "metadata": {
    "ExecuteTime": {
     "end_time": "2025-05-11T11:15:14.620093Z",
     "start_time": "2025-05-11T11:15:14.541620Z"
    }
   },
   "cell_type": "code",
   "source": [
    "listings = pd.read_csv('../data/processed/listings.csv')\n",
    "listings = listings.dropna(subset=[\"avg_rating\"])"
   ],
   "id": "bcb9bdfa045e7d23",
   "outputs": [],
   "execution_count": 126
  },
  {
   "metadata": {
    "ExecuteTime": {
     "end_time": "2025-05-11T11:15:14.637665Z",
     "start_time": "2025-05-11T11:15:14.630383Z"
    }
   },
   "cell_type": "code",
   "source": "len(listings)",
   "id": "8144ff971a663884",
   "outputs": [
    {
     "data": {
      "text/plain": [
       "3223"
      ]
     },
     "execution_count": 127,
     "metadata": {},
     "output_type": "execute_result"
    }
   ],
   "execution_count": 127
  },
  {
   "metadata": {
    "ExecuteTime": {
     "end_time": "2025-05-11T11:15:14.723652Z",
     "start_time": "2025-05-11T11:15:14.710320Z"
    }
   },
   "cell_type": "code",
   "source": "listings[\"avg_rating\"].describe()",
   "id": "b1d8b969305d44de",
   "outputs": [
    {
     "data": {
      "text/plain": [
       "count    3223.000000\n",
       "mean        4.768786\n",
       "std         0.274342\n",
       "min         0.714286\n",
       "25%         4.705714\n",
       "50%         4.838571\n",
       "75%         4.920000\n",
       "max         5.000000\n",
       "Name: avg_rating, dtype: float64"
      ]
     },
     "execution_count": 128,
     "metadata": {},
     "output_type": "execute_result"
    }
   ],
   "execution_count": 128
  },
  {
   "metadata": {
    "ExecuteTime": {
     "end_time": "2025-05-11T11:15:15.293016Z",
     "start_time": "2025-05-11T11:15:14.873001Z"
    }
   },
   "cell_type": "code",
   "source": [
    "plt.hist(listings[\"avg_rating\"], bins=50)\n",
    "plt.xlim(0, 5)"
   ],
   "id": "95c81715174fbed1",
   "outputs": [
    {
     "data": {
      "text/plain": [
       "(0.0, 5.0)"
      ]
     },
     "execution_count": 129,
     "metadata": {},
     "output_type": "execute_result"
    },
    {
     "data": {
      "text/plain": [
       "<Figure size 640x480 with 1 Axes>"
      ],
      "image/png": "[encoded data removed]"
     },
     "metadata": {},
     "output_type": "display_data"
    }
   ],
   "execution_count": 129
  },
  {
   "metadata": {},
   "cell_type": "markdown",
   "source": "## Porównanie modeli",
   "id": "d87be08153d4955d"
  },
  {
   "metadata": {
    "ExecuteTime": {
     "end_time": "2025-05-11T11:15:15.451479Z",
     "start_time": "2025-05-11T11:15:15.433689Z"
    }
   },
   "cell_type": "code",
   "source": [
    "y = listings[\"avg_rating\"]\n",
    "X = listings.drop(columns=[\"avg_rating\"])\n",
    "X_train, X_test, y_train, y_test = train_test_split(X, y, test_size=0.2, random_state=42)"
   ],
   "id": "950d380e439535e8",
   "outputs": [],
   "execution_count": 130
  },
  {
   "metadata": {
    "ExecuteTime": {
     "end_time": "2025-05-11T11:15:15.609549Z",
     "start_time": "2025-05-11T11:15:15.602181Z"
    }
   },
   "cell_type": "code",
   "source": [
    "def display_summary(model_name, y_test, y_pred):\n",
    "    mse = mean_squared_error(y_test, y_pred)\n",
    "    r2 = r2_score(y_test, y_pred)\n",
    "\n",
    "    print(\"-\" * 30)\n",
    "    print(model_name)\n",
    "    print(f\"Mean Squared Error: {mse:.2f}\")\n",
    "    print(f\"R-squared: {r2:.2f}\")"
   ],
   "id": "93e107bf7704ea8f",
   "outputs": [],
   "execution_count": 131
  },
  {
   "metadata": {
    "ExecuteTime": {
     "end_time": "2025-05-11T11:15:15.726711Z",
     "start_time": "2025-05-11T11:15:15.719125Z"
    }
   },
   "cell_type": "code",
   "source": [
    "def drop_missing_values(X_train, X_test, y_train, y_test):\n",
    "    # Drop missing values\n",
    "    X_train = X_train.dropna()\n",
    "    y_train = y_train[X_train.index]\n",
    "    X_test = X_test.dropna()\n",
    "    y_test = y_test[X_test.index]\n",
    "    return X_train, X_test, y_train, y_test"
   ],
   "id": "affbd41706f7e9f4",
   "outputs": [],
   "execution_count": 132
  },
  {
   "metadata": {
    "ExecuteTime": {
     "end_time": "2025-05-11T11:15:15.941641Z",
     "start_time": "2025-05-11T11:15:15.929647Z"
    }
   },
   "cell_type": "code",
   "source": [
    "def bench_linear_regression(X_train, X_test, y_train, y_test):\n",
    "    X_train, X_test, y_train, y_test = drop_missing_values(X_train, X_test, y_train, y_test)\n",
    "\n",
    "    model = LinearRegression()\n",
    "    model.fit(X_train, y_train)\n",
    "    y_pred = model.predict(X_test)\n",
    "\n",
    "    display_summary(\"Linear regression\", y_test, y_pred)\n"
   ],
   "id": "b9a093798f43f25d",
   "outputs": [],
   "execution_count": 133
  },
  {
   "metadata": {
    "ExecuteTime": {
     "end_time": "2025-05-11T11:15:16.117210Z",
     "start_time": "2025-05-11T11:15:16.109817Z"
    }
   },
   "cell_type": "code",
   "source": [
    "def bench_base_model(X_test):\n",
    "    y_pred = base_model(len(X_test), mean=4.77, std=0.27, lower=0, upper=5)\n",
    "    display_summary(\"Base model (Gauss)\", y_test, y_pred)"
   ],
   "id": "82de8ab71ef217c6",
   "outputs": [],
   "execution_count": 134
  },
  {
   "metadata": {
    "ExecuteTime": {
     "end_time": "2025-05-11T11:15:16.138608Z",
     "start_time": "2025-05-11T11:15:16.128651Z"
    }
   },
   "cell_type": "code",
   "source": [
    "def bench_random_forest(X_train, X_test, y_train, y_test):\n",
    "    model = RandomForestRegressor()\n",
    "    model.fit(X_train, y_train)\n",
    "    y_pred = model.predict(X_test)\n",
    "    display_summary(\"Random forest\", y_test, y_pred)"
   ],
   "id": "65718a56c224d59b",
   "outputs": [],
   "execution_count": 135
  },
  {
   "metadata": {
    "ExecuteTime": {
     "end_time": "2025-05-11T11:15:16.286727Z",
     "start_time": "2025-05-11T11:15:16.280686Z"
    }
   },
   "cell_type": "code",
   "source": [
    "def bench_svr(X_train, X_test, y_train, y_test):\n",
    "    X_train, X_test, y_train, y_test = drop_missing_values(X_train, X_test, y_train, y_test)\n",
    "\n",
    "    model = SVR(kernel=\"linear\")\n",
    "    model.fit(X_train, y_train)\n",
    "    y_pred = model.predict(X_test)\n",
    "    display_summary(\"SVR\", y_test, y_pred)"
   ],
   "id": "dd4e53138126d9e5",
   "outputs": [],
   "execution_count": 136
  },
  {
   "metadata": {
    "ExecuteTime": {
     "end_time": "2025-05-11T11:15:16.376294Z",
     "start_time": "2025-05-11T11:15:16.371025Z"
    }
   },
   "cell_type": "code",
   "source": [
    "def bench_ridge(X_train, X_test, y_train, y_test):\n",
    "    X_train, X_test, y_train, y_test = drop_missing_values(X_train, X_test, y_train, y_test)\n",
    "\n",
    "    model = Ridge()\n",
    "    model.fit(X_train, y_train)\n",
    "    y_pred = model.predict(X_test)\n",
    "    display_summary(\"Ridge\", y_test, y_pred)"
   ],
   "id": "576bc3ea4e88e1e7",
   "outputs": [],
   "execution_count": 137
  },
  {
   "metadata": {
    "ExecuteTime": {
     "end_time": "2025-05-11T11:15:16.467290Z",
     "start_time": "2025-05-11T11:15:16.460820Z"
    }
   },
   "cell_type": "code",
   "source": [
    "def bench_lasso(X_train, X_test, y_train, y_test):\n",
    "    X_train, X_test, y_train, y_test = drop_missing_values(X_train, X_test, y_train, y_test)\n",
    "\n",
    "    model = Lasso(alpha=0.1)\n",
    "    model.fit(X_train, y_train)\n",
    "    y_pred = model.predict(X_test)\n",
    "    display_summary(\"Lasso\", y_test, y_pred)"
   ],
   "id": "64d8ec45520b6ab6",
   "outputs": [],
   "execution_count": 138
  },
  {
   "metadata": {
    "ExecuteTime": {
     "end_time": "2025-05-11T11:15:16.547377Z",
     "start_time": "2025-05-11T11:15:16.539950Z"
    }
   },
   "cell_type": "code",
   "source": [
    "def bench_gradient_boosting(X_train, X_test, y_train, y_test):\n",
    "    X_train, X_test, y_train, y_test = drop_missing_values(X_train, X_test, y_train, y_test)\n",
    "    model = GradientBoostingRegressor()\n",
    "    model.fit(X_train, y_train)\n",
    "    y_pred = model.predict(X_test)\n",
    "    display_summary(\"Gradient boosting\", y_test, y_pred)"
   ],
   "id": "70f25d3482485b04",
   "outputs": [],
   "execution_count": 139
  },
  {
   "metadata": {
    "ExecuteTime": {
     "end_time": "2025-05-11T11:15:16.616777Z",
     "start_time": "2025-05-11T11:15:16.608919Z"
    }
   },
   "cell_type": "code",
   "source": [
    "def bench_svr_rbf(X_train, X_test, y_train, y_test):\n",
    "    X_train, X_test, y_train, y_test = drop_missing_values(X_train, X_test, y_train, y_test)\n",
    "\n",
    "    model = SVR(kernel=\"rbf\")\n",
    "    model.fit(X_train, y_train)\n",
    "    y_pred = model.predict(X_test)\n",
    "    display_summary(\"SVR (rhf)\", y_test, y_pred)"
   ],
   "id": "b1e1f18c92bad7a5",
   "outputs": [],
   "execution_count": 140
  },
  {
   "metadata": {
    "ExecuteTime": {
     "end_time": "2025-05-11T11:17:21.123481Z",
     "start_time": "2025-05-11T11:15:16.685879Z"
    }
   },
   "cell_type": "code",
   "source": [
    "bench_base_model(X_test)\n",
    "bench_linear_regression(X_train, X_test, y_train, y_test)\n",
    "bench_random_forest(X_train, X_test, y_train, y_test)\n",
    "bench_svr(X_train, X_test, y_train, y_test)\n",
    "bench_ridge(X_train, X_test, y_train, y_test)\n",
    "bench_lasso(X_train, X_test, y_train, y_test)\n",
    "bench_gradient_boosting(X_train, X_test, y_train, y_test)\n",
    "bench_svr_rbf(X_train, X_test, y_train, y_test)"
   ],
   "id": "5973c0cb73a59e39",
   "outputs": [
    {
     "name": "stdout",
     "output_type": "stream",
     "text": [
      "------------------------------\n",
      "Base model (Gauss)\n",
      "Mean Squared Error: 0.12\n",
      "R-squared: -0.51\n",
      "------------------------------\n",
      "Linear regression\n",
      "Mean Squared Error: 0.04\n",
      "R-squared: 0.68\n",
      "------------------------------\n",
      "Random forest\n",
      "Mean Squared Error: 0.04\n",
      "R-squared: 0.46\n",
      "------------------------------\n",
      "SVR\n",
      "Mean Squared Error: 0.04\n",
      "R-squared: 0.65\n",
      "------------------------------\n",
      "Ridge\n",
      "Mean Squared Error: 0.04\n",
      "R-squared: 0.68\n",
      "------------------------------\n",
      "Lasso\n",
      "Mean Squared Error: 0.07\n",
      "R-squared: 0.41\n",
      "------------------------------\n",
      "Gradient boosting\n",
      "Mean Squared Error: 0.07\n",
      "R-squared: 0.36\n",
      "------------------------------\n",
      "SVR (rhf)\n",
      "Mean Squared Error: 0.10\n",
      "R-squared: 0.18\n"
     ]
    }
   ],
   "execution_count": 141
  },
  {
   "metadata": {},
   "cell_type": "markdown",
   "source": "## Zapis modelu do pliku",
   "id": "2a55fe9e8de61b21"
  },
  {
   "metadata": {
    "ExecuteTime": {
     "end_time": "2025-05-11T11:23:20.581107Z",
     "start_time": "2025-05-11T11:23:20.478485Z"
    }
   },
   "cell_type": "code",
   "source": [
    "model_file = \"../models/linear_regression.pkl\"\n",
    "\n",
    "listings = pd.read_csv('../data/processed/listings.csv')\n",
    "listings = listings.dropna(subset=[\"avg_rating\"])\n",
    "y = listings[\"avg_rating\"]\n",
    "X = listings.drop(columns=[\"avg_rating\"])\n",
    "X_train, X_test, y_train, y_test = train_test_split(X, y, test_size=0.2, random_state=42)\n",
    "X_train, X_test, y_train, y_test = drop_missing_values(X_train, X_test, y_train, y_test)\n",
    "\n",
    "model = LinearRegression()\n",
    "model.fit(X_train, y_train)\n",
    "\n",
    "with open(model_file, \"wb\") as f:\n",
    "    pickle.dump(model, f)"
   ],
   "id": "7bb8ab064e4d8a3c",
   "outputs": [],
   "execution_count": 144
  }
 ],
 "metadata": {
  "kernelspec": {
   "display_name": "Python 3",
   "language": "python",
   "name": "python3"
  },
  "language_info": {
   "codemirror_mode": {
    "name": "ipython",
    "version": 2
   },
   "file_extension": ".py",
   "mimetype": "text/x-python",
   "name": "python",
   "nbconvert_exporter": "python",
   "pygments_lexer": "ipython2",
   "version": "2.7.6"
  }
 },
 "nbformat": 4,
 "nbformat_minor": 5
}
