{
 "cells": [
  {
   "cell_type": "code",
   "id": "initial_id",
   "metadata": {
    "collapsed": true,
    "ExecuteTime": {
     "end_time": "2025-04-13T18:00:34.885531Z",
     "start_time": "2025-04-13T18:00:34.877538Z"
    }
   },
   "source": [
    "\n",
    "\n",
    "import matplotlib.pyplot as plt\n",
    "import numpy as np\n",
    "import pandas as pd\n",
    "from sklearn.ensemble import RandomForestRegressor\n",
    "from sklearn.linear_model import SGDRegressor\n",
    "from sklearn.metrics import mean_squared_error, r2_score\n",
    "from sklearn.model_selection import train_test_split\n",
    "from sklearn.svm import SVR\n",
    "\n",
    "\n",
    "def get_listings():\n",
    "    return pd.read_csv('../data/processed/listings.csv')"
   ],
   "outputs": [],
   "execution_count": 121
  },
  {
   "metadata": {
    "ExecuteTime": {
     "end_time": "2025-04-13T18:00:34.924755Z",
     "start_time": "2025-04-13T18:00:34.921104Z"
    }
   },
   "cell_type": "code",
   "source": [
    "def fill_missing_values_with_random_forest_regression_model(df, column, actual_target_column):\n",
    "    actual_target_copy = df[actual_target_column].copy()\n",
    "    df.drop(columns=[actual_target_column], inplace=True)\n",
    "\n",
    "    train_data = df[df[column].notna()]\n",
    "    test_data = df[df[column].isna()]\n",
    "\n",
    "    # Features (exclude the target column)\n",
    "    X_train = train_data.drop(columns=[column])\n",
    "    y_train = train_data[column]\n",
    "    X_test = test_data.drop(columns=[column])\n",
    "\n",
    "    # Train a regression model\n",
    "    model = RandomForestRegressor(random_state=42)\n",
    "    model.fit(X_train, y_train)\n",
    "\n",
    "    # Predict missing values\n",
    "    predicted_values = model.predict(X_test)\n",
    "\n",
    "    # Fill missing values in the original DataFrame\n",
    "    df.loc[df[column].isna(), column] = predicted_values\n",
    "    df[actual_target_column] = actual_target_copy\n",
    "    return df"
   ],
   "id": "f22d2a51f730e04b",
   "outputs": [],
   "execution_count": 122
  },
  {
   "metadata": {
    "ExecuteTime": {
     "end_time": "2025-04-13T18:00:34.967225Z",
     "start_time": "2025-04-13T18:00:34.963326Z"
    }
   },
   "cell_type": "code",
   "source": [
    "def fill_missing_values_with_sgd_regressor(df, column, actual_target_column):\n",
    "    columns_with_nan = df.columns[df.isna().any()].tolist()\n",
    "    columns_with_nan.remove(column)\n",
    "    columns_with_nan.remove(actual_target_column)\n",
    "\n",
    "    train_data = df[df[column].notna()]\n",
    "    test_data = df[df[column].isna()]\n",
    "\n",
    "    # Features (exclude the target column)\n",
    "    X_train = train_data.drop(columns=[column, actual_target_column, *columns_with_nan])\n",
    "    y_train = train_data[column]\n",
    "    X_test = test_data.drop(columns=[column, actual_target_column, *columns_with_nan])\n",
    "\n",
    "    # Train a regression model\n",
    "    model = SGDRegressor(random_state=42)\n",
    "    model.fit(X_train, y_train)\n",
    "\n",
    "    # Predict missing values\n",
    "    predicted_values = model.predict(X_test)\n",
    "\n",
    "    # Fill missing values in the original DataFrame\n",
    "    df.loc[df[column].isna(), column] = predicted_values\n",
    "    return df"
   ],
   "id": "9913a0cabfdda138",
   "outputs": [],
   "execution_count": 123
  },
  {
   "metadata": {
    "ExecuteTime": {
     "end_time": "2025-04-13T18:00:35.014796Z",
     "start_time": "2025-04-13T18:00:35.009812Z"
    }
   },
   "cell_type": "code",
   "source": [
    "def fill_missing_values_with_svr(df, column, actual_target_column):\n",
    "    columns_with_nan = df.columns[df.isna().any()].tolist()\n",
    "    columns_with_nan.remove(column)\n",
    "    columns_with_nan.remove(actual_target_column)\n",
    "\n",
    "    train_data = df[df[column].notna()]\n",
    "    test_data = df[df[column].isna()]\n",
    "\n",
    "    # Features (exclude the target column)\n",
    "    X_train = train_data.drop(columns=[column, actual_target_column, *columns_with_nan])\n",
    "    y_train = train_data[column]\n",
    "    X_test = test_data.drop(columns=[column, actual_target_column, *columns_with_nan])\n",
    "\n",
    "    # Train a regression model\n",
    "    model = SVR()\n",
    "    model.fit(X_train, y_train)\n",
    "\n",
    "    # Predict missing values\n",
    "    predicted_values = model.predict(X_test)\n",
    "\n",
    "    # Fill missing values in the original DataFrame\n",
    "    df.loc[df[column].isna(), column] = predicted_values\n",
    "    return df"
   ],
   "id": "de704764a08b5c6e",
   "outputs": [],
   "execution_count": 124
  },
  {
   "metadata": {
    "ExecuteTime": {
     "end_time": "2025-04-13T18:00:35.708812Z",
     "start_time": "2025-04-13T18:00:35.058165Z"
    }
   },
   "cell_type": "code",
   "source": [
    "listings = get_listings()\n",
    "listings_filled = fill_missing_values_with_svr(listings, \"price\", \"avg_rating\")"
   ],
   "id": "70678d343ed7278e",
   "outputs": [],
   "execution_count": 125
  },
  {
   "metadata": {
    "ExecuteTime": {
     "end_time": "2025-04-13T18:00:35.733183Z",
     "start_time": "2025-04-13T18:00:35.730108Z"
    }
   },
   "cell_type": "code",
   "source": "listings_filled[\"price\"].isna().sum()",
   "id": "386501db3d81a583",
   "outputs": [
    {
     "data": {
      "text/plain": [
       "np.int64(0)"
      ]
     },
     "execution_count": 126,
     "metadata": {},
     "output_type": "execute_result"
    }
   ],
   "execution_count": 126
  },
  {
   "metadata": {
    "ExecuteTime": {
     "end_time": "2025-04-13T18:00:35.802464Z",
     "start_time": "2025-04-13T18:00:35.775963Z"
    }
   },
   "cell_type": "code",
   "source": [
    "listings = get_listings()\n",
    "listings[\"price\"].isna().sum()"
   ],
   "id": "e8e7b2ab5b164c79",
   "outputs": [
    {
     "data": {
      "text/plain": [
       "np.int64(1521)"
      ]
     },
     "execution_count": 127,
     "metadata": {},
     "output_type": "execute_result"
    }
   ],
   "execution_count": 127
  },
  {
   "metadata": {
    "ExecuteTime": {
     "end_time": "2025-04-13T18:00:36.093022Z",
     "start_time": "2025-04-13T18:00:35.829675Z"
    }
   },
   "cell_type": "code",
   "source": [
    "listings[\"price\"].plot(kind=\"hist\", bins=50, alpha=0.5, label=\"Original\")\n",
    "plt.show()\n",
    "\n",
    "q95_original = listings[\"price\"].quantile(0.95)\n",
    "print(\"Q95\", q95_original)\n",
    "listings[listings[\"price\"] < q95_original][\"price\"].plot(kind=\"hist\", bins=50, alpha=0.5,\n",
    "                                                         label=\"Original (95% quantile)\")\n",
    "plt.show()"
   ],
   "id": "4b8578c1a4181dab",
   "outputs": [
    {
     "data": {
      "text/plain": [
       "<Figure size 640x480 with 1 Axes>"
      ],
      "image/png": "[encoded data removed]"
     },
     "metadata": {},
     "output_type": "display_data"
    },
    {
     "name": "stdout",
     "output_type": "stream",
     "text": [
      "Q95 300.0\n"
     ]
    },
    {
     "data": {
      "text/plain": [
       "<Figure size 640x480 with 1 Axes>"
      ],
      "image/png": "[encoded data removed]"
     },
     "metadata": {},
     "output_type": "display_data"
    }
   ],
   "execution_count": 128
  },
  {
   "metadata": {
    "ExecuteTime": {
     "end_time": "2025-04-13T18:00:36.516978Z",
     "start_time": "2025-04-13T18:00:36.121351Z"
    }
   },
   "cell_type": "code",
   "source": [
    "listings_filled[\"price\"].plot(kind=\"hist\", bins=50, alpha=0.5, label=\"Filled\")\n",
    "plt.show()\n",
    "\n",
    "q95 = listings_filled[\"price\"].quantile(0.95)\n",
    "print(\"Q95\", q95)\n",
    "listings_filled[listings_filled[\"price\"] < q95][\"price\"].plot(kind=\"hist\", bins=50, alpha=0.5,\n",
    "                                                              label=\"Filled (95% quantile)\")\n",
    "plt.show()\n",
    "\n",
    "listings_filled[listings_filled[\"price\"] < q95_original][\"price\"].plot(kind=\"hist\", bins=50, alpha=0.5,\n",
    "                                                                       label=\"Filled (95% of original quantile)\")"
   ],
   "id": "92f3ab31123572e8",
   "outputs": [
    {
     "data": {
      "text/plain": [
       "<Figure size 640x480 with 1 Axes>"
      ],
      "image/png": "[encoded data removed]"
     },
     "metadata": {},
     "output_type": "display_data"
    },
    {
     "name": "stdout",
     "output_type": "stream",
     "text": [
      "Q95 258.2999999999997\n"
     ]
    },
    {
     "data": {
      "text/plain": [
       "<Figure size 640x480 with 1 Axes>"
      ],
      "image/png": "[encoded data removed]"
     },
     "metadata": {},
     "output_type": "display_data"
    },
    {
     "data": {
      "text/plain": [
       "<Axes: ylabel='Frequency'>"
      ]
     },
     "execution_count": 129,
     "metadata": {},
     "output_type": "execute_result"
    },
    {
     "data": {
      "text/plain": [
       "<Figure size 640x480 with 1 Axes>"
      ],
      "image/png": "[encoded data removed]"
     },
     "metadata": {},
     "output_type": "display_data"
    }
   ],
   "execution_count": 129
  },
  {
   "metadata": {
    "ExecuteTime": {
     "end_time": "2025-04-13T18:00:36.542272Z",
     "start_time": "2025-04-13T18:00:36.537604Z"
    }
   },
   "cell_type": "code",
   "source": [
    "print(f\"Before Q95 was {q95_original}\")\n",
    "print(f\"After using regression model Q95 is {q95}\")\n",
    "\n",
    "quantile = (listings_filled[\"price\"] <= q95_original).sum() / len(listings_filled)\n",
    "print(f\"Now {q95_original} is {quantile:.2f} quantile\")"
   ],
   "id": "eacf6524944504d7",
   "outputs": [
    {
     "name": "stdout",
     "output_type": "stream",
     "text": [
      "Before Q95 was 300.0\n",
      "After using regression model Q95 is 258.2999999999997\n",
      "Now 300.0 is 0.97 quantile\n"
     ]
    }
   ],
   "execution_count": 130
  },
  {
   "metadata": {
    "ExecuteTime": {
     "end_time": "2025-04-13T18:00:36.587592Z",
     "start_time": "2025-04-13T18:00:36.582497Z"
    }
   },
   "cell_type": "code",
   "source": [
    "def regression_model_results(listings):\n",
    "    print(f\"Rows: {len(listings)}\")\n",
    "    listings = listings[listings[\"avg_rating\"].notna()]\n",
    "    Y = listings[\"avg_rating\"]\n",
    "    X = listings.drop(columns=[\"avg_rating\"])\n",
    "\n",
    "    X_train, X_test, y_train, y_test = train_test_split(X, Y, test_size=0.2, random_state=42)\n",
    "    model = SVR()\n",
    "    model.fit(X_train, y_train)\n",
    "\n",
    "    y_pred = model.predict(X_test)\n",
    "    mse = mean_squared_error(y_test, y_pred)\n",
    "    r2 = r2_score(y_test, y_pred)\n",
    "\n",
    "    print(\"Linear regression\")\n",
    "    print(f\"Mean Squared Error: {mse:.2f}\")\n",
    "    print(f\"R-squared: {r2:.2f}\")\n",
    "\n",
    "    print(\"-\" * 30)\n",
    "\n",
    "    print(\"Random model - U(0,5)\")\n",
    "    y_random_pred = np.random.rand(len(y_test)) * 5\n",
    "    mse_random = mean_squared_error(y_test, y_random_pred)\n",
    "    r2_random = r2_score(y_test, y_random_pred)\n",
    "    print(f\"Mean Squared Error: {mse_random:.2f}\")\n",
    "    print(f\"R-squared: {r2_random:.2f}\")\n",
    "\n",
    "    print(\"-\" * 30)\n",
    "\n",
    "    print(\"Random model - U(4,5)\")\n",
    "    y_random_pred = np.random.rand(len(y_test)) + 4\n",
    "    mse_random = mean_squared_error(y_test, y_random_pred)\n",
    "    r2_random = r2_score(y_test, y_random_pred)\n",
    "    print(f\"Mean Squared Error: {mse_random:.2f}\")\n",
    "    print(f\"R-squared: {r2_random:.2f}\")\n"
   ],
   "id": "a50f8c608337ffb6",
   "outputs": [],
   "execution_count": 131
  },
  {
   "metadata": {
    "ExecuteTime": {
     "end_time": "2025-04-13T18:02:19.131549Z",
     "start_time": "2025-04-13T18:01:40.220350Z"
    }
   },
   "cell_type": "code",
   "source": [
    "fill_strategies = [\n",
    "    # (\"No fill\", lambda df,col,target: df),\n",
    "    (\"Random forest\", fill_missing_values_with_random_forest_regression_model),\n",
    "    # (\"SGD\", fill_missing_values_with_sgd_regressor),\n",
    "    (\"SVR\", fill_missing_values_with_svr)\n",
    "]\n",
    "\n",
    "for name, fill_strategy in fill_strategies:\n",
    "    print(\"=\"*50)\n",
    "    print(name)\n",
    "    listings = get_listings()\n",
    "\n",
    "    target = \"avg_rating\"\n",
    "    columns_with_missing_values = listings.columns[listings.isna().any()].tolist()\n",
    "    columns_with_missing_values.remove(target)\n",
    "\n",
    "    for c in columns_with_missing_values:\n",
    "        fill_strategy(listings, c, target)\n",
    "\n",
    "    regression_model_results(listings)"
   ],
   "id": "4c40c1d09f692615",
   "outputs": [
    {
     "name": "stdout",
     "output_type": "stream",
     "text": [
      "==================================================\n",
      "Random forest\n",
      "Rows: 4195\n",
      "Linear regression\n",
      "Mean Squared Error: 0.08\n",
      "R-squared: 0.03\n",
      "------------------------------\n",
      "Random model - U(0,5)\n",
      "Mean Squared Error: 7.62\n",
      "R-squared: -94.31\n",
      "------------------------------\n",
      "Random model - U(4,5)\n",
      "Mean Squared Error: 0.23\n",
      "R-squared: -1.86\n",
      "==================================================\n",
      "SVR\n",
      "Rows: 4195\n",
      "Linear regression\n",
      "Mean Squared Error: 0.08\n",
      "R-squared: 0.03\n",
      "------------------------------\n",
      "Random model - U(0,5)\n",
      "Mean Squared Error: 7.20\n",
      "R-squared: -89.01\n",
      "------------------------------\n",
      "Random model - U(4,5)\n",
      "Mean Squared Error: 0.23\n",
      "R-squared: -1.91\n"
     ]
    }
   ],
   "execution_count": 133
  },
  {
   "metadata": {
    "ExecuteTime": {
     "end_time": "2025-04-13T18:05:33.131347Z",
     "start_time": "2025-04-13T18:05:32.811063Z"
    }
   },
   "cell_type": "code",
   "source": [
    "df = get_listings()\n",
    "target_col = df[\"avg_rating\"].copy()\n",
    "df = df.fillna(df.mean())\n",
    "df[\"avg_rating\"] = target_col\n",
    "regression_model_results(df)\n"
   ],
   "id": "6e318d8a02508297",
   "outputs": [
    {
     "name": "stdout",
     "output_type": "stream",
     "text": [
      "Rows: 4195\n",
      "Linear regression\n",
      "Mean Squared Error: 0.08\n",
      "R-squared: 0.03\n",
      "------------------------------\n",
      "Random model - U(0,5)\n",
      "Mean Squared Error: 7.15\n",
      "R-squared: -88.35\n",
      "------------------------------\n",
      "Random model - U(4,5)\n",
      "Mean Squared Error: 0.24\n",
      "R-squared: -1.96\n"
     ]
    }
   ],
   "execution_count": 137
  }
 ],
 "metadata": {
  "kernelspec": {
   "display_name": "Python 3",
   "language": "python",
   "name": "python3"
  },
  "language_info": {
   "codemirror_mode": {
    "name": "ipython",
    "version": 2
   },
   "file_extension": ".py",
   "mimetype": "text/x-python",
   "name": "python",
   "nbconvert_exporter": "python",
   "pygments_lexer": "ipython2",
   "version": "2.7.6"
  }
 },
 "nbformat": 4,
 "nbformat_minor": 5
}
